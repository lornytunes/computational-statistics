{
 "cells": [
  {
   "cell_type": "markdown",
   "metadata": {},
   "source": [
    "## Using Lowess to smooth noisy data"
   ]
  },
  {
   "cell_type": "code",
   "execution_count": null,
   "metadata": {},
   "outputs": [],
   "source": [
    "import itertools\n",
    "import numpy as np\n",
    "import pandas as pd\n",
    "\n",
    "import random\n",
    "\n",
    "from statsmodels.nonparametric.smoothers_lowess import lowess"
   ]
  },
  {
   "cell_type": "code",
   "execution_count": null,
   "metadata": {},
   "outputs": [],
   "source": [
    "import matplotlib.pyplot as plt\n",
    "from IPython.core.pylabtools import figsize\n",
    "import seaborn as sns"
   ]
  },
  {
   "cell_type": "code",
   "execution_count": null,
   "metadata": {},
   "outputs": [],
   "source": [
    "sns.set_theme()\n",
    "figsize(12, 6)"
   ]
  },
  {
   "cell_type": "markdown",
   "metadata": {},
   "source": [
    "[This article](https://medium.economist.com/mistakes-weve-drawn-a-few-8cdd8a42d368) suggests that a smooth curve is a better way to show noisy polling data over time.\n",
    "\n",
    "Here's their before and after:\n",
    "\n",
    "![](https://cdn-images-1.medium.com/max/800/1*9GzHVtm4y_LeVmFCjqV3Ww.png)\n",
    "\n",
    "And here's their data:"
   ]
  },
  {
   "cell_type": "code",
   "execution_count": null,
   "metadata": {},
   "outputs": [],
   "source": [
    "df = pd.read_csv('../data/economist_brexit.csv', header=3, parse_dates=[0])\n",
    "df.rename(columns={\n",
    "    '% responding right': 'right',\n",
    "    '% responding wrong': 'wrong'\n",
    "}, inplace=True)\n",
    "# df.index = df['Date']\n",
    "df.head()"
   ]
  },
  {
   "cell_type": "code",
   "execution_count": null,
   "metadata": {},
   "outputs": [],
   "source": [
    "df.tail()"
   ]
  },
  {
   "cell_type": "markdown",
   "metadata": {},
   "source": [
    "The following function uses StatsModels to put a smooth curve through a time series (and stuff the results back into a Pandas Series)"
   ]
  },
  {
   "cell_type": "code",
   "execution_count": null,
   "metadata": {},
   "outputs": [],
   "source": [
    "df_long = df.melt(\n",
    "    id_vars = 'Date',\n",
    "    value_vars = df.columns[1:],\n",
    "    value_name = 'Percentage',\n",
    "    var_name = 'Response'\n",
    ")\n",
    "df_long"
   ]
  },
  {
   "cell_type": "markdown",
   "metadata": {},
   "source": [
    "As you can see, its a very noisy dataset"
   ]
  },
  {
   "cell_type": "code",
   "execution_count": null,
   "metadata": {},
   "outputs": [],
   "source": [
    "title = 'In hindsight, do you think Britain was right or wrong to vote to leave the EU?'\n",
    "p = sns.lineplot(\n",
    "    data = df_long,\n",
    "    x = 'Date',\n",
    "    y = 'Percentage',\n",
    "    hue = 'Response'\n",
    ");\n",
    "p.set(\n",
    "    xlabel = None,\n",
    "    title = title\n",
    ");"
   ]
  },
  {
   "cell_type": "markdown",
   "metadata": {},
   "source": [
    "A scatter plot doesn't make things any clearer"
   ]
  },
  {
   "cell_type": "code",
   "execution_count": null,
   "metadata": {},
   "outputs": [],
   "source": [
    "p = sns.scatterplot(\n",
    "    data = df_long,\n",
    "    x = 'Date',\n",
    "    y = 'Percentage',\n",
    "    hue = 'Response'\n",
    ")\n",
    "p.set(\n",
    "    xlabel = None,\n",
    "    title = title\n",
    ");"
   ]
  },
  {
   "cell_type": "markdown",
   "metadata": {},
   "source": [
    "To fit a [lowess](https://www.statsmodels.org/stable/generated/statsmodels.nonparametric.smoothers_lowess.lowess.html) curve we needs the x values of the observed points (the date) and the y values (the % response)"
   ]
  },
  {
   "cell_type": "code",
   "execution_count": null,
   "metadata": {},
   "outputs": [],
   "source": [
    "right_smooth = lowess(df['right'], df.Date, return_sorted=False)\n",
    "wrong_smooth = lowess(df['wrong'], df.Date, return_sorted=False)"
   ]
  },
  {
   "cell_type": "code",
   "execution_count": null,
   "metadata": {},
   "outputs": [],
   "source": [
    "df_long['lowess'] = list(itertools.chain(right_smooth, wrong_smooth))"
   ]
  },
  {
   "cell_type": "code",
   "execution_count": null,
   "metadata": {},
   "outputs": [],
   "source": [
    "# or\n",
    "df_long['lowess'] = np.hstack((right_smooth, wrong_smooth,))"
   ]
  },
  {
   "cell_type": "code",
   "execution_count": null,
   "metadata": {},
   "outputs": [],
   "source": [
    "df_long.head()"
   ]
  },
  {
   "cell_type": "code",
   "execution_count": null,
   "metadata": {},
   "outputs": [],
   "source": [
    "df.Date.apply(lambda row: row.strftime('%b %Y'))"
   ]
  },
  {
   "cell_type": "code",
   "execution_count": null,
   "metadata": {},
   "outputs": [],
   "source": [
    "# relplot returns a FacetGrid instance\n",
    "p = sns.relplot(\n",
    "    kind='scatter',\n",
    "    x='Date',\n",
    "    y='Percentage',\n",
    "    hue = 'Response',\n",
    "    data=df_long,\n",
    "    height=5,\n",
    "    aspect=1.5\n",
    ")\n",
    "p.set_axis_labels('', 'Percentage');\n",
    "p.map_dataframe(sns.lineplot, 'Date', 'lowess', hue='Response');"
   ]
  },
  {
   "cell_type": "markdown",
   "metadata": {},
   "source": [
    "Not great. Its better to use subplots"
   ]
  },
  {
   "cell_type": "code",
   "execution_count": null,
   "metadata": {},
   "outputs": [],
   "source": [
    "fig, ax = plt.subplots()\n",
    "sns.scatterplot(\n",
    "    data=df_long,\n",
    "    x='Date',\n",
    "    y='Percentage',\n",
    "    hue='Response',\n",
    "    legend=False,\n",
    "    ax=ax,\n",
    "    alpha=0.5\n",
    ")\n",
    "sns.lineplot(\n",
    "    data=df_long,\n",
    "    x='Date',\n",
    "    y='lowess',\n",
    "    hue='Response',\n",
    "    ax=ax\n",
    ");\n",
    "ax.set_title(title);\n",
    "ax.set_xlabel('');"
   ]
  }
 ],
 "metadata": {
  "kernelspec": {
   "display_name": "Python 3 (ipykernel)",
   "language": "python",
   "name": "python3"
  },
  "language_info": {
   "codemirror_mode": {
    "name": "ipython",
    "version": 3
   },
   "file_extension": ".py",
   "mimetype": "text/x-python",
   "name": "python",
   "nbconvert_exporter": "python",
   "pygments_lexer": "ipython3",
   "version": "3.9.5"
  }
 },
 "nbformat": 4,
 "nbformat_minor": 4
}
