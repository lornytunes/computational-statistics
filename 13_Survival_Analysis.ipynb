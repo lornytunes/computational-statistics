{
 "cells": [
  {
   "cell_type": "markdown",
   "id": "71452e61-f672-4c9c-8649-dee0733ec647",
   "metadata": {},
   "source": [
    "# Survival analysis"
   ]
  },
  {
   "cell_type": "code",
   "execution_count": null,
   "id": "6d4fe12b-28a4-4aeb-8555-d685f7cb1660",
   "metadata": {},
   "outputs": [],
   "source": [
    "from typing import List, Iterable\n",
    "from functools import partial\n",
    "from collections import Counter"
   ]
  },
  {
   "cell_type": "code",
   "execution_count": null,
   "id": "392a53b9-db72-4185-b63f-45e38123acc0",
   "metadata": {},
   "outputs": [],
   "source": [
    "import sys\n",
    "sys.path.append('./lib')"
   ]
  },
  {
   "cell_type": "code",
   "execution_count": null,
   "id": "d369898e-9033-47e5-b8a9-4a5dde8c9968",
   "metadata": {},
   "outputs": [],
   "source": [
    "import numpy as np\n",
    "import pandas as pd"
   ]
  },
  {
   "cell_type": "code",
   "execution_count": null,
   "id": "6af99d7a-527f-4116-8a36-a48046b7f577",
   "metadata": {},
   "outputs": [],
   "source": [
    "import matplotlib.pyplot as plt\n",
    "from IPython.core.pylabtools import figsize\n",
    "import seaborn as sns"
   ]
  },
  {
   "cell_type": "code",
   "execution_count": null,
   "id": "1bca5d15-9a4f-4b88-b311-6f99b982158a",
   "metadata": {},
   "outputs": [],
   "source": [
    "sns.set_theme()\n",
    "figsize(11, 6)"
   ]
  },
  {
   "cell_type": "code",
   "execution_count": null,
   "id": "f2c2a608-55dd-4ee8-a5f2-b3ff016012d0",
   "metadata": {},
   "outputs": [],
   "source": [
    "import nsfg\n",
    "import compstats\n",
    "from cdf import Cdf, resample_rows_weighted"
   ]
  },
  {
   "cell_type": "code",
   "execution_count": null,
   "id": "9fe68f5b-058b-4a00-8fa0-6db15f5ae41b",
   "metadata": {},
   "outputs": [],
   "source": [
    "r3 = partial(np.round, decimals=3)\n",
    "r2 = partial(np.round, decimals=2)"
   ]
  },
  {
   "cell_type": "markdown",
   "id": "927cf6bc-dd91-45c8-94c7-777e3e8c4284",
   "metadata": {},
   "source": [
    "## Survival Curves\n",
    "\n",
    "The fundamental concept in survival analysis is the survival curve, S(t), which is a function that maps from a duration, t, to the probability of surviving longer than t. If you know the distribution of durations, or “lifetimes”, finding the survival curve is easy; it’s just the complement of the CDF:\n",
    "\n",
    "$$\n",
    "S(t) = 1 - CDF(t)\n",
    "$$\n",
    "\n",
    "where $CDF(t)$ is the probability of a lifetime less than or equal to t\n",
    "\n",
    "For example, in the NSFG dataset, we know the duration of 9038 complete pregnancies. We can read this data and compute the CDF:"
   ]
  },
  {
   "cell_type": "code",
   "execution_count": null,
   "id": "d453f86b-8f5b-42e2-88b2-cc790d8d8f4f",
   "metadata": {},
   "outputs": [],
   "source": [
    "preg = nsfg.read_fem_preg()\n",
    "complete = preg.query('outcome in [1,3, 4]').prglngth"
   ]
  },
  {
   "cell_type": "markdown",
   "id": "3926c2fd-2466-43ab-a413-8848d4acb964",
   "metadata": {},
   "source": [
    "The outcome codes 1, 3, 4 indicate live birth, stillbirth, and miscarriage.\n",
    "\n",
    "For this analysis I am excluding induced abortions, ectopic pregnancies, and pregnancies that were in progress when the respondent was interviewed."
   ]
  },
  {
   "cell_type": "markdown",
   "id": "cedc0e85-44c8-44b9-a649-a84b5172ebcb",
   "metadata": {},
   "source": [
    "To represent the survival curve, I define an object that wraps a Cdf and adapts the interface:"
   ]
  },
  {
   "cell_type": "code",
   "execution_count": null,
   "id": "8e350d30-c908-436d-baa2-f4770529d776",
   "metadata": {},
   "outputs": [],
   "source": [
    "class SurvivalFunction:\n",
    "    \n",
    "    def __init__(self, cdf: Cdf):\n",
    "        self.cdf = cdf\n",
    "        \n",
    "    @property\n",
    "    def ts(self):\n",
    "        '''\n",
    "        The durations\n",
    "        '''\n",
    "        return self.cdf.xs\n",
    "    \n",
    "    @property\n",
    "    def ss(self):\n",
    "        '''\n",
    "        The probabilities of surviving longer than t\n",
    "        '''\n",
    "        return 1 - self.cdf.ps\n",
    "    \n",
    "    def __getitem__(self, t):\n",
    "        return self.prob(t)\n",
    "    \n",
    "    def prob(self, t):\n",
    "        return 1 - self.cdf.prob(t)\n",
    "    \n",
    "    def probs(self, x: np.array):\n",
    "        return 1 - self.cdf.probs(x)\n",
    "    \n",
    "    def __call__(self, t):\n",
    "        if isinstance(t, Iterable):\n",
    "            return 1 - self.cdf.probs(t)\n",
    "        return 1 - self.cdf.prob(t)"
   ]
  },
  {
   "cell_type": "code",
   "execution_count": null,
   "id": "b67b70f0-80bb-43ce-b343-acaf4b4bc59b",
   "metadata": {},
   "outputs": [],
   "source": [
    "p = sns.histplot(\n",
    "    x = complete,\n",
    "    binwidth=1\n",
    ");\n",
    "p.set(\n",
    "    xlabel = 'Pregnancy length (weeks)'\n",
    ");"
   ]
  },
  {
   "cell_type": "code",
   "execution_count": null,
   "id": "5ab41df9-b0ed-4346-85ca-2027c9358308",
   "metadata": {},
   "outputs": [],
   "source": [
    "cdf = Cdf.from_series(complete)\n",
    "sf = SurvivalFunction(cdf)"
   ]
  },
  {
   "cell_type": "code",
   "execution_count": null,
   "id": "776131ba-c952-417f-8adf-ce0c13c0332e",
   "metadata": {},
   "outputs": [],
   "source": [
    "sns.ecdfplot(\n",
    "    x = complete,\n",
    "    label='CDF'\n",
    ");\n",
    "plt.plot(\n",
    "    sf.ts,\n",
    "    sf.ss,\n",
    "    label='Survival'\n",
    ");\n",
    "plt.xlabel('Pregnancy length (in weeks)')\n",
    "plt.ylabel('CDF')\n",
    "plt.legend(loc='center right');"
   ]
  },
  {
   "cell_type": "markdown",
   "id": "60caa572-f1a3-4321-8a7b-6ae971a1c57b",
   "metadata": {},
   "source": [
    "The curve is nearly flat between 13 and 26 weeks, which shows that few pregnancies end in the second trimester. And the curve is steepest around 39 weeks, which is the most common pregnancy length.\n",
    "\n",
    "For example, $sf(13)$ is the fraction of pregnancies that proceed past the first trimester:"
   ]
  },
  {
   "cell_type": "code",
   "execution_count": null,
   "id": "04b29d6e-fe5c-452a-92ce-584f115ddef0",
   "metadata": {},
   "outputs": [],
   "source": [
    "r3(sf(13))"
   ]
  },
  {
   "cell_type": "code",
   "execution_count": null,
   "id": "50af7c76-d7ae-4d07-b498-758e7492dd26",
   "metadata": {
    "tags": []
   },
   "outputs": [],
   "source": [
    "r3(cdf(13))"
   ]
  },
  {
   "cell_type": "markdown",
   "id": "5dce5088-e853-47b9-a6ec-8919213109ac",
   "metadata": {},
   "source": [
    "About 85% of pregancies proceed past the first trimester; about 14% do not"
   ]
  },
  {
   "cell_type": "markdown",
   "id": "6cc5f4cc-d6b7-4877-8fa8-375072909aac",
   "metadata": {},
   "source": [
    "### Hazard function\n",
    "\n",
    "From the survival curve we can derive the hazard function; for pregnancy lengths, the hazard function maps from a time, t, to the fraction of pregnancies that continue until t and then end at t, where t is a discrete unit of time like a week or a day. To be more precise:\n",
    "\n",
    "$$\n",
    "\\lambda(t) = \\frac{S(t) - S(t+1}{S(t)}\n",
    "$$\n",
    "\n",
    "The numerator is the fraction of lifetimes that end at t, which is also $PMF(t)$."
   ]
  },
  {
   "cell_type": "code",
   "execution_count": null,
   "id": "0ead13d1-cc8c-48f7-8673-de95205e4d24",
   "metadata": {},
   "outputs": [],
   "source": [
    "class HazardFunction:\n",
    "    \n",
    "    @classmethod\n",
    "    def from_dict(cls, data: dict, sort=False):\n",
    "        series = pd.Series(data)\n",
    "        if sort:\n",
    "            series.sort_index(inplace=True)\n",
    "        return cls(series)\n",
    "    \n",
    "    def __init__(self, series: pd.Series):\n",
    "        # series will be sorted by the keys\n",
    "        self.series = series\n",
    "        \n",
    "    def __call__(self, t):\n",
    "        return self.series[t]\n",
    "    \n",
    "    @property\n",
    "    def ts(self):\n",
    "        '''\n",
    "        Returns the time durations\n",
    "        '''\n",
    "        return self.series.index\n",
    "    \n",
    "    @property\n",
    "    def ss(self):\n",
    "        '''\n",
    "        Returns the proportion of items that end for each duration\n",
    "        '''\n",
    "        return self.series.values\n",
    "        \n",
    "def make_hazard(sf: SurvivalFunction) -> HazardFunction:\n",
    "    ss = sf.ss\n",
    "    lams = {}\n",
    "    for i, t in enumerate(sf.ts[:-1]):\n",
    "        # e.g (week 39 - week 40) / week 39\n",
    "        # where week 39 >= week 40\n",
    "        lams[t] = (ss[i] - ss[i+1]) / ss[i]\n",
    "    return HazardFunction.from_dict(lams)"
   ]
  },
  {
   "cell_type": "code",
   "execution_count": null,
   "id": "25059cac-d005-45ff-adc2-67611229f842",
   "metadata": {},
   "outputs": [],
   "source": [
    "hf = make_hazard(sf)"
   ]
  },
  {
   "cell_type": "code",
   "execution_count": null,
   "id": "3b7c14ba-ac05-430f-a870-be1da0f4fc64",
   "metadata": {},
   "outputs": [],
   "source": [
    "r3(hf(39))"
   ]
  },
  {
   "cell_type": "markdown",
   "id": "4ec10758-dcfe-47de-8e08-20e49a2e0df5",
   "metadata": {},
   "source": [
    "So of all pregnancies that proceed until week 39, about 50% end in week 39."
   ]
  },
  {
   "cell_type": "code",
   "execution_count": null,
   "id": "1d590a4a-3464-4004-9ddb-40a31f6274a1",
   "metadata": {},
   "outputs": [],
   "source": [
    "plt.plot(\n",
    "    hf.ts,\n",
    "    hf.ss,\n",
    "    label='hazard'\n",
    ");\n",
    "plt.xlabel('t(weeks)');\n",
    "plt.xticks(np.arange(0, 55, 5));\n",
    "plt.title('Hazard function for pregnancy lengths');"
   ]
  },
  {
   "cell_type": "markdown",
   "id": "4782838f-ff1b-4159-bec1-ef595ebe0227",
   "metadata": {},
   "source": [
    "A plot of the hazard function for pregnancy lengths. For times after week 42, the hazard function is erratic because it is based on a small number of cases. Other than that the shape of the curve is as expected: it is highest around 39 weeks, and a little higher in the first trimester than in the second.\n",
    "\n",
    "The hazard function is useful in its own right, but it is also an important tool for estimating survival curves"
   ]
  },
  {
   "cell_type": "markdown",
   "id": "9fb7af67-d7fe-475f-b99c-1786b655442b",
   "metadata": {},
   "source": [
    "### Inferring survival curves\n",
    "\n",
    "If someone gives you the CDF of lifetimes, it is easy to compute the survival and hazard functions. But in many real-world scenarios, we can’t measure the distribution of lifetimes directly. We have to infer it.\n",
    "\n",
    "For example, suppose you are following a group of patients to see how long they survive after diagnosis. Not all patients are diagnosed on the same day, so at any point in time, some patients have survived longer than others. If some patients have died, we know their survival times.\n",
    "\n",
    "For patients who are still alive, we don’t know survival times, but we have a lower bound. If we wait until all patients are dead, we can compute the survival curve, but if we are evaluating the effectiveness of a new treatment, we can’t wait that long! We need a way to estimate survival curves using incomplete information.\n"
   ]
  },
  {
   "cell_type": "code",
   "execution_count": null,
   "id": "72534766-15d9-437a-b61d-4e32e24f5398",
   "metadata": {},
   "outputs": [],
   "source": [
    "def estimate_hazard(complete: List[int], ongoing: List[int]) -> HazardFunction:\n",
    "    '''\n",
    "    Estimate a hazard function based on known and unknown outcomes\n",
    "    \n",
    "    complete: set of complete observations\n",
    "        (e.g the ages when respondents got married)\n",
    "    ongoing: set of incomplete observations\n",
    "        (e.g the ages of unmarried women when they were interviewed)\n",
    "    '''\n",
    "    \n",
    "    # frequencies, duration => frequency\n",
    "    # e.g age => number married at that age\n",
    "    hist_complete = Counter(complete)\n",
    "    # age => number unmarried at time of interview\n",
    "    hist_ongoing = Counter(ongoing)\n",
    "    # union of ages\n",
    "    ts = list(hist_complete | hist_ongoing)\n",
    "    # keeps track of the number of respondents considered at risk at each stage\n",
    "    # initially it is the total number of respondents\n",
    "    at_risk = len(complete) + len(ongoing)\n",
    "    # map of each age to te estimated hazard function at that age\n",
    "    lams = {}\n",
    "    # loop through ages in increasing order\n",
    "    for t in sorted(ts):\n",
    "        # consider one age t\n",
    "        # i.e the number of respondents married at that age\n",
    "        ended = hist_complete[t]\n",
    "        # the number of women whose future marriage dates are censored (unknown)\n",
    "        censored = hist_ongoing[t]\n",
    "        # estimate is the fraction of cases at risk that end at t\n",
    "        lams[t] = ended / at_risk\n",
    "        # subtract the number of cases that ended or were censored at t\n",
    "        at_risk -= ended + censored\n",
    "    return HazardFunction.from_dict(lams)"
   ]
  },
  {
   "cell_type": "markdown",
   "id": "9c457f76-49aa-4cb1-95df-7422469a640b",
   "metadata": {},
   "source": [
    "### The marriage curve"
   ]
  },
  {
   "cell_type": "code",
   "execution_count": null,
   "id": "5c19de85-3b56-4deb-9a14-145545b0ab69",
   "metadata": {},
   "outputs": [],
   "source": [
    "resp = nsfg.read_fem_resp().rename(columns={\n",
    "    'cmmarrhx': 'date_married',\n",
    "    'cmbirth': 'dob',\n",
    "    'cmintvw': 'interview_date',\n",
    "    'evrmarry': 'is_married'\n",
    "})"
   ]
  },
  {
   "cell_type": "code",
   "execution_count": null,
   "id": "af7f8780-5528-473a-afd6-da43a5960711",
   "metadata": {},
   "outputs": [],
   "source": [
    "resp = resp.assign(\n",
    "    # compute respondants age when married\n",
    "    agemarry = lambda df: (df.date_married - df.dob) / 12,\n",
    "    # age when interviewed\n",
    "    age = lambda df: (df.interview_date - df.dob) / 12\n",
    ")"
   ]
  },
  {
   "cell_type": "code",
   "execution_count": null,
   "id": "a6363ffa-0881-4cd7-be95-c1a57dd5426d",
   "metadata": {},
   "outputs": [],
   "source": [
    "cols_of_interest = [\n",
    "    'caseid',\n",
    "    'date_married',\n",
    "    'dob',\n",
    "    'interview_date',\n",
    "    'is_married',\n",
    "    'agemarry',\n",
    "    'age',\n",
    "    'finalwgt'\n",
    "]\n",
    "resp = resp.loc[:, cols_of_interest]"
   ]
  },
  {
   "cell_type": "code",
   "execution_count": null,
   "id": "941d21f2-6f56-4c58-9801-c257ad719299",
   "metadata": {},
   "outputs": [],
   "source": [
    "resp.apply(lambda col: col.isna().sum())"
   ]
  },
  {
   "cell_type": "markdown",
   "id": "e9ef5eb3-f33d-41c3-a7cf-0b4b276d3c0f",
   "metadata": {},
   "source": [
    "Next we extract complete, which is the age at marriage for women who have been married, and ongoing, which is the age at interview for women who have not:"
   ]
  },
  {
   "cell_type": "code",
   "execution_count": null,
   "id": "4c0f9fc7-11af-49ad-bd45-92e5d5a89b62",
   "metadata": {},
   "outputs": [],
   "source": [
    "complete = r2(resp[resp.is_married==1].agemarry.dropna())\n",
    "ongoing = r2(resp[resp.is_married==0].age.dropna())"
   ]
  },
  {
   "cell_type": "markdown",
   "id": "88be4574-9194-4424-97c0-7b1a2a907b49",
   "metadata": {},
   "source": [
    "Finally, we compute the hazard function"
   ]
  },
  {
   "cell_type": "code",
   "execution_count": null,
   "id": "835002e3-6f4a-4939-adb8-8cf9a883fb7c",
   "metadata": {},
   "outputs": [],
   "source": [
    "hf = estimate_hazard(complete, ongoing)"
   ]
  },
  {
   "cell_type": "code",
   "execution_count": null,
   "id": "4c89f9f8-e65d-4df4-b649-023c7b11ff8d",
   "metadata": {},
   "outputs": [],
   "source": [
    "plt.plot(\n",
    "    hf.ts,\n",
    "    hf.ss\n",
    ");\n",
    "plt.xlabel('age (years)');\n",
    "plt.ylabel('hazard');\n",
    "plt.title('Hazard function for age at first marriage');"
   ]
  },
  {
   "cell_type": "markdown",
   "id": "567bf89e-a289-4272-b42a-fb5d736b7369",
   "metadata": {},
   "source": [
    "### Estimating the survival curve"
   ]
  },
  {
   "cell_type": "markdown",
   "id": "48eed113-86c8-4c3f-8462-11746f433024",
   "metadata": {},
   "source": [
    "Once we have the hazard function, we can estimate the survival curve. The chance of surviving past time t is the chance of surviving all times up through t, which is the cumulative product of the complementary hazard function:\n",
    "\n",
    "$$\n",
    "[1-\\lambda(0)][1-\\lambda(1)]\\cdots[1-\\lambda(t)]\n",
    "$$"
   ]
  },
  {
   "cell_type": "code",
   "execution_count": null,
   "id": "d6a77c2d-7f28-4060-aaec-77aeafb29891",
   "metadata": {},
   "outputs": [],
   "source": [
    "def make_survival(hf: HazardFunction) -> SurvivalFunction:\n",
    "    ts = hf.series.index\n",
    "    # cumulative product of the complimentry hazard function\n",
    "    ss = (1 - hf.series.values).cumprod()\n",
    "    # compliment of this to make a cdf, and then instantiate a survival function\n",
    "    return SurvivalFunction(Cdf(ts, 1-ss))"
   ]
  },
  {
   "cell_type": "code",
   "execution_count": null,
   "id": "fe74bf84-36e9-4329-b030-9e689aa777b0",
   "metadata": {},
   "outputs": [],
   "source": [
    "sf = make_survival(hf)"
   ]
  },
  {
   "cell_type": "code",
   "execution_count": null,
   "id": "acb8c6cf-cfd2-484b-983d-06030f2dc073",
   "metadata": {},
   "outputs": [],
   "source": [
    "plt.plot(\n",
    "    sf.ts,\n",
    "    sf.ss\n",
    ");\n",
    "plt.xlabel('age (years)');\n",
    "plt.ylabel('prob unmarried');\n",
    "plt.yticks(np.linspace(0, 1, 11));\n",
    "plt.title('Survival curve for age at first marriage');"
   ]
  },
  {
   "cell_type": "markdown",
   "id": "a9cd8c06-5442-49ba-a46b-b0b2dd2c00a3",
   "metadata": {},
   "source": [
    "The survival curve is steepest between 25 and 35, when most women get married. Between 35 and 45, the curve is nearly flat, indicating that women who do not marry before age 35 are unlikely to get married."
   ]
  },
  {
   "cell_type": "markdown",
   "id": "c2db3f0e-9c0d-440a-943d-2b7b814f07e7",
   "metadata": {},
   "source": [
    "## Confidence intervals"
   ]
  },
  {
   "cell_type": "markdown",
   "id": "68a56ad8-88ce-4dcc-a669-379938285ca4",
   "metadata": {},
   "source": [
    "Kaplan-Meier analysis yields a single estimate of the survival curve, but it is also important to quantify the uncertainty of the estimate. As usual, there are three possible sources of error: measurement error, sampling error, and modeling error.\n",
    "\n",
    "In this example, measurement error is probably small. People generally know when they were born, whether they’ve been married, and when. And they can be expected to report this information accurately.\n",
    "\n",
    "We can quantify sampling error by resampling."
   ]
  },
  {
   "cell_type": "code",
   "execution_count": null,
   "id": "4d8ad46b-b877-4293-8f2a-5e245d617642",
   "metadata": {},
   "outputs": [],
   "source": [
    "def estimate_survival(resp: pd.DataFrame) -> SurvivalFunction:\n",
    "    \"\"\"Estimates the survival curve.\n",
    "    resp: DataFrame of respondents\n",
    "    returns: pair of HazardFunction, SurvivalFunction\n",
    "    \"\"\"\n",
    "    complete = resp[resp.is_married == 1].agemarry.dropna()\n",
    "    ongoing = resp[resp.is_married == 0].age\n",
    "\n",
    "    hf = estimate_hazard(complete, ongoing)\n",
    "    return make_survival(hf)"
   ]
  },
  {
   "cell_type": "code",
   "execution_count": null,
   "id": "ce102564-3db9-482d-96f2-5437f327aa7f",
   "metadata": {},
   "outputs": [],
   "source": [
    "def resample_survival(resp, iters=101):\n",
    "    low, high = resp.agemarry.min(), resp.agemarry.max()\n",
    "    ts = np.arange(low, high, 1/12)\n",
    "    # sequence of evaluated survival curves\n",
    "    ss_seq = []\n",
    "    for i in range(iters):\n",
    "        sample = resample_rows_weighted(resp, 'finalwgt')\n",
    "        sf = estimate_survival(sample)\n",
    "        ss_seq.append(sf(ts))\n",
    "    return ts, np.array(ss_seq)"
   ]
  },
  {
   "cell_type": "code",
   "execution_count": null,
   "id": "61e45e9a-2011-49fd-816f-d1638b0d21a6",
   "metadata": {},
   "outputs": [],
   "source": [
    "# estimated survival curves\n",
    "ts, s_curves = resample_survival(resp)"
   ]
  },
  {
   "cell_type": "code",
   "execution_count": null,
   "id": "3dea2f71-069c-4a2d-9f9f-403290d242fa",
   "metadata": {},
   "outputs": [],
   "source": [
    "# actual survival curve\n",
    "sf = estimate_survival(resp)"
   ]
  },
  {
   "cell_type": "code",
   "execution_count": null,
   "id": "e9330087-86f6-485a-8aaa-569a392da2a0",
   "metadata": {},
   "outputs": [],
   "source": [
    "s_curves.shape"
   ]
  },
  {
   "cell_type": "code",
   "execution_count": null,
   "id": "cf7b1a34-a04f-4d08-a0ad-b7dd5acc4986",
   "metadata": {},
   "outputs": [],
   "source": [
    "lows, highs = np.percentile(s_curves, [5, 95], axis=0)"
   ]
  },
  {
   "cell_type": "code",
   "execution_count": null,
   "id": "151ed1b7-f84f-47e8-b081-08beef5ea0ae",
   "metadata": {},
   "outputs": [],
   "source": [
    "plt.plot(\n",
    "    sf.ts,\n",
    "    sf.ss,\n",
    "    color='darkred'\n",
    ");\n",
    "plt.fill_between(\n",
    "    ts,\n",
    "    lows,\n",
    "    highs,\n",
    "    color='gray'\n",
    ")\n",
    "  \n",
    "plt.xlabel('age (years)');\n",
    "plt.ylabel('prob unmarried');\n",
    "plt.yticks(np.linspace(0, 1, 11));"
   ]
  }
 ],
 "metadata": {
  "kernelspec": {
   "display_name": "Python 3 (ipykernel)",
   "language": "python",
   "name": "python3"
  },
  "language_info": {
   "codemirror_mode": {
    "name": "ipython",
    "version": 3
   },
   "file_extension": ".py",
   "mimetype": "text/x-python",
   "name": "python",
   "nbconvert_exporter": "python",
   "pygments_lexer": "ipython3",
   "version": "3.9.5"
  }
 },
 "nbformat": 4,
 "nbformat_minor": 5
}
