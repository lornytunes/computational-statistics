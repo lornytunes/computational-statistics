{
 "cells": [
  {
   "cell_type": "markdown",
   "id": "d1e325ff-4bdf-4bb6-b951-cf789e67be87",
   "metadata": {},
   "source": [
    "# Estimation"
   ]
  },
  {
   "cell_type": "code",
   "execution_count": null,
   "id": "72c8ea19-e65d-4617-8665-a7806ab707bf",
   "metadata": {},
   "outputs": [],
   "source": [
    "from typing import Callable, Tuple\n",
    "from functools import partial\n",
    "from dataclasses import dataclass, field"
   ]
  },
  {
   "cell_type": "code",
   "execution_count": null,
   "id": "e9ba8236-64d5-4b59-b82a-a022558e0107",
   "metadata": {},
   "outputs": [],
   "source": [
    "# for retro implementations\n",
    "import math\n",
    "import random"
   ]
  },
  {
   "cell_type": "code",
   "execution_count": null,
   "id": "3bd6e187-a106-400d-b5e5-5f7f31f18d31",
   "metadata": {},
   "outputs": [],
   "source": [
    "# for modern implementations\n",
    "import numpy as np\n",
    "import pandas as pd\n",
    "from scipy import stats"
   ]
  },
  {
   "cell_type": "code",
   "execution_count": null,
   "id": "7155e8b3-55f2-4e1e-88d2-64d1e457cfe8",
   "metadata": {},
   "outputs": [],
   "source": [
    "from matplotlib import pyplot as plt\n",
    "import seaborn as sns"
   ]
  },
  {
   "cell_type": "code",
   "execution_count": null,
   "id": "58c87e96-e573-4a9f-862c-4c2b5c2adc88",
   "metadata": {},
   "outputs": [],
   "source": [
    "sns.set_theme()"
   ]
  },
  {
   "cell_type": "code",
   "execution_count": null,
   "id": "325b40af-9e02-4aa0-aa1d-cbc576c7fa34",
   "metadata": {},
   "outputs": [],
   "source": [
    "import ipywidgets\n",
    "from IPython.core.pylabtools import figsize\n",
    "figsize(9, 6)"
   ]
  },
  {
   "cell_type": "markdown",
   "id": "051d966c-7bd9-4b4c-95a2-205bec05dc20",
   "metadata": {},
   "source": [
    "## The estimation game"
   ]
  },
  {
   "cell_type": "code",
   "execution_count": null,
   "id": "16291786-ecba-4d3a-b5db-adac77da5f59",
   "metadata": {},
   "outputs": [],
   "source": [
    "sample = np.array([-0.441, 1.774, -0.101, -1.138, 2.975, -2.138])"
   ]
  },
  {
   "cell_type": "markdown",
   "id": "3893b546-1d77-4a9e-951e-fd488e419d74",
   "metadata": {},
   "source": [
    "What do you think is the mean parameter, μ, of this distribution?\n",
    "\n",
    "One choice is to use the sample mean, $\\bar{x}$, as an estimate of $\\mu$.\n",
    "\n",
    "In this example, $\\bar{x}$ is 0.155, so it would be reasonable to guess $\\mu = 0.155$.\n",
    "\n",
    "This process is called *estimation*, and the statistic we used (the sample mean) is called an *estimator*.\n",
    "\n",
    "Using the sample mean to estimate $\\mu$ seems obvious, but what if there are outliers\n",
    "\n",
    "For example here is a another sample of a normal distribution collected by a surveyor who sometimes puts the dp in the wrong place\n"
   ]
  },
  {
   "cell_type": "code",
   "execution_count": null,
   "id": "30136bbe-9cc2-473a-a3a3-d79d95345cbd",
   "metadata": {},
   "outputs": [],
   "source": [
    "sample_with_outliers = np.array([[-0.441, 1.774, -0.101, -1.138, 2.975, -213.8]])"
   ]
  },
  {
   "cell_type": "markdown",
   "id": "0b23e105-7418-48ac-88aa-a57aede0824a",
   "metadata": {},
   "source": [
    "### RMSE"
   ]
  },
  {
   "cell_type": "code",
   "execution_count": null,
   "id": "126d1a10-44e9-4707-b559-b3dfb3cc197e",
   "metadata": {},
   "outputs": [],
   "source": [
    "# how can this code be improved?\n",
    "def RMSE(estimates, actual):\n",
    "    e2 = [(estimate-actual)**2 for estimate in estimates]\n",
    "    mse = np.mean(e2)\n",
    "    return math.sqrt(mse)\n"
   ]
  },
  {
   "cell_type": "code",
   "execution_count": null,
   "id": "9e16bec8-e870-432b-a7f2-c59b40eb547a",
   "metadata": {},
   "outputs": [],
   "source": [
    "def rmse(estimates: np.ndarray, actual: np.float64) -> np.float64:\n",
    "    '''\n",
    "    Returns the square root of the mean of the squares of the errors\n",
    "    '''\n",
    "    return np.sqrt(((estimates-actual)**2).mean())"
   ]
  },
  {
   "cell_type": "code",
   "execution_count": null,
   "id": "0988ecba-41af-48a2-b6b6-15c31d0c378e",
   "metadata": {},
   "outputs": [],
   "source": [
    "print(f'RMSE: {RMSE(sample, sample.mean())}')\n",
    "print(f'rmse: {rmse(sample, sample.mean())}')"
   ]
  },
  {
   "cell_type": "markdown",
   "id": "9c8f6822-3998-4f55-bc0b-d1bcb89b3053",
   "metadata": {},
   "source": [
    "Here is a function that simulates the estimation game and computes the root\n",
    "mean squared error (RMSE), which is the square root of MSE:"
   ]
  },
  {
   "cell_type": "markdown",
   "id": "25d37c5c-4714-4892-9654-3c69a58ba102",
   "metadata": {},
   "source": [
    "If there are no outliers, the sample mean minimizes the mean squared error (MSE). That is, if we play the game many times, and each time compute the error $\\bar{x}-\\mu$, the sample mean minimizes\n"
   ]
  },
  {
   "cell_type": "markdown",
   "id": "0ee019ff-ae9b-4228-a18e-dcef62c8c39a",
   "metadata": {},
   "source": [
    "$$\n",
    "    MSE = \\frac{1}{m} \\sum{(\\bar{x}-\\mu)^2}\n",
    "$$"
   ]
  },
  {
   "cell_type": "markdown",
   "id": "5ea562f4-aa91-4065-812a-d8bfc2da41ac",
   "metadata": {},
   "source": [
    "Here is a function that simulates the estimation game"
   ]
  },
  {
   "cell_type": "code",
   "execution_count": null,
   "id": "7d5b2a1f-f162-4f55-ae78-f1d8ec22fe31",
   "metadata": {},
   "outputs": [],
   "source": [
    "def Estimate1(n=7, m=1000):\n",
    "    mu = 0\n",
    "    sigma = 1\n",
    "    means = []\n",
    "    medians = []\n",
    "    # sample n values m times\n",
    "    for _ in range(m):\n",
    "        xs = [random.gauss(mu, sigma) for i in range(n)]\n",
    "        xbar = np.mean(xs)\n",
    "        median = np.median(xs)\n",
    "        means.append(xbar)\n",
    "        medians.append(median)\n",
    "    print('rmse xbar', RMSE(means, mu))\n",
    "    print('rmse median', RMSE(medians, mu))\n"
   ]
  },
  {
   "cell_type": "code",
   "execution_count": null,
   "id": "cd1bfd09-3107-449d-bdc8-f7499ac7dca2",
   "metadata": {},
   "outputs": [],
   "source": [
    "Estimate1()"
   ]
  },
  {
   "cell_type": "code",
   "execution_count": null,
   "id": "e6f10b2f-d752-460c-8a88-d5e3eace7fd2",
   "metadata": {},
   "outputs": [],
   "source": [
    "def norm_estimate(n: int = 7, m: int = 1000, estimator: Callable = np.mean) -> np.float64:\n",
    "    '''\n",
    "    computes the root mean square error\n",
    "    \n",
    "    :param n: the sample size used to compute mu\n",
    "    :param m: the number of estimates (means)\n",
    "    :param estimator: The function used as an estimator - e.g mean or median\n",
    "    \n",
    "    :returns the rmse of all sampled means from the true mean\n",
    "    '''\n",
    "    \n",
    "    std_norm = stats.norm(0, 1)\n",
    "    # generate a list of estimates\n",
    "    xs = np.array([estimator(std_norm.rvs(n)) for _ in range(m)])\n",
    "    return rmse(xs, 0)\n",
    "    "
   ]
  },
  {
   "cell_type": "code",
   "execution_count": null,
   "id": "f771b00a-0236-4881-a554-8433d929f040",
   "metadata": {},
   "outputs": [],
   "source": [
    "print(f'Mean: {norm_estimate():0.2f}')\n",
    "print(f'Median: {norm_estimate(estimator=np.median):0.2f}')"
   ]
  },
  {
   "cell_type": "markdown",
   "id": "88971dfe-c0a6-4a8c-93c7-b076abe871e3",
   "metadata": {},
   "source": [
    "When I ran this code, the RMSE of the sample mean was 0.39, which means that if we use $\\bar{x}$ to estimate the mean of this distribution, based on a sample with n = 7, we should expect to be off by 0.39 on average. Using the median to estimate the mean yields RMSE 0.46, which confirms that $\\bar{x}$ yields lower RMSE, at least for this example.\n",
    "\n",
    "Minimizing MSE is a nice property, but it’s not always the best strategy. For example, suppose we are estimating the distribution of wind speeds at a building site. If the estimate is too high, we might overbuild the structure, increasing its cost. But if it’s too low, the building might collapse. Because cost as a function of error is not symmetric, minimizing MSE is not the best strategy.\n",
    "\n",
    "\n",
    "As another example, suppose I roll three six-sided dice and ask you to predict the total. If you get it exactly right, you get a prize; otherwise you get nothing. In this case the value that minimizes MSE is 10.5, but that would be a bad guess, because the total of three dice is never 10.5. For this game, you want an estimator that has the highest chance of being right, which is a __maximum likelihood estimator__ (MLE). If you pick 10 or 11, your chance of winning is 1 in 8, and that’s the best you can do."
   ]
  },
  {
   "cell_type": "markdown",
   "id": "a700f928-d14b-4bef-b3be-4a450d1ffc87",
   "metadata": {},
   "source": [
    "## Guess the variance"
   ]
  },
  {
   "cell_type": "code",
   "execution_count": null,
   "id": "eddd63c2-5125-4ea4-9f39-2c6262529622",
   "metadata": {},
   "outputs": [],
   "source": [
    "def var(data:np.array) -> np.float64:\n",
    "    return ((data - data.mean())**2).sum() / len(data)\n",
    "\n",
    "def sample_var(data: np.array) -> np.float64:\n",
    "    return ((data-data.mean())**2).sum() / (len(data)-1)"
   ]
  },
  {
   "cell_type": "code",
   "execution_count": null,
   "id": "1e59e765-8b29-47f1-82c2-c7a332505aeb",
   "metadata": {},
   "outputs": [],
   "source": [
    "# test both sets of functions\n",
    "print(f'biased: {np.var(sample):0.2f}')\n",
    "print(f'unbiased: {np.var(sample, ddof=1):0.2f}')"
   ]
  },
  {
   "cell_type": "markdown",
   "id": "bfe80eb2-c269-4113-a129-737ffaad9376",
   "metadata": {},
   "source": [
    "Here is a function that simulates the estimation game and tests the performance of $S^2$ and $S_{n-1}^{2}$"
   ]
  },
  {
   "cell_type": "code",
   "execution_count": null,
   "id": "4a57bfc9-40a0-4abd-a9b3-9562a3e9c972",
   "metadata": {},
   "outputs": [],
   "source": [
    "def MeanError(estimates, actual):\n",
    "    # computes the mean difference between the estimates and the actual value:\n",
    "    errors = [estimate-actual for estimate in estimates]\n",
    "    return np.mean(errors)\n",
    "\n",
    "\n",
    "def Estimate2(n=7, m=1000):\n",
    "    mu = 0\n",
    "    sigma = 1\n",
    "    estimates1 = []\n",
    "    estimates2 = []\n",
    "    for _ in range(m):\n",
    "        xs = [random.gauss(mu, sigma) for i in range(n)]\n",
    "        biased = np.var(xs)\n",
    "        unbiased = np.var(xs, ddof=1)\n",
    "        estimates1.append(biased)\n",
    "        estimates2.append(unbiased)\n",
    "    print('mean error biased', MeanError(estimates1, sigma**2))\n",
    "    print('mean error unbiased', MeanError(estimates2, sigma**2))"
   ]
  },
  {
   "cell_type": "code",
   "execution_count": null,
   "id": "6652c353-bd3c-4877-ac0a-030ac1531395",
   "metadata": {},
   "outputs": [],
   "source": [
    "Estimate2()"
   ]
  },
  {
   "cell_type": "code",
   "execution_count": null,
   "id": "a91b1b04-cdef-4cf7-b2c3-937ad945e649",
   "metadata": {},
   "outputs": [],
   "source": [
    "def mean_error(estimates: np.array, actual: np.float64) -> np.float64:\n",
    "    return (estimates - actual).mean()\n",
    "\n",
    "def var_estimator(n: int = 7, m: int = 1000, estimator: Callable = np.var) -> np.float64:\n",
    "    std_norm = stats.norm(0, 1)\n",
    "    # list of estimated variances\n",
    "    estimates = np.array([estimator(std_norm.rvs(n)) for _ in range(m)])\n",
    "    # 1 squared is 1\n",
    "    return mean_error(estimates, 1)"
   ]
  },
  {
   "cell_type": "code",
   "execution_count": null,
   "id": "5bd365c5-05b9-4c93-96e5-e34ea155134b",
   "metadata": {},
   "outputs": [],
   "source": [
    "# change n and see what happens\n",
    "print(f'biased: {var_estimator(estimator=np.var):.2f}')\n",
    "print(f'unbiased: {var_estimator(estimator=partial(np.var, ddof=1)):.2f}')"
   ]
  },
  {
   "cell_type": "code",
   "execution_count": null,
   "id": "f9a60c1e-938b-494d-8c29-b64f61eb1eb8",
   "metadata": {},
   "outputs": [],
   "source": [
    "def test_estimator(num_samples: int):\n",
    "    print(f'Samples: {num_samples}')\n",
    "    print(f'Biased: {var_estimator(n=num_samples, estimator=np.var):.3f}')\n",
    "    print(f'Bnbiased: {var_estimator(n=num_samples, estimator=partial(np.var, ddof=1)):.3f}')"
   ]
  },
  {
   "cell_type": "code",
   "execution_count": null,
   "id": "492d34c1-3a48-471f-9d06-4f0491c529ab",
   "metadata": {},
   "outputs": [],
   "source": [
    "ipywidgets.interact(\n",
    "    test_estimator,\n",
    "    num_samples=ipywidgets.IntSlider(\n",
    "        value=5,\n",
    "        min=0,\n",
    "        max=100,\n",
    "        description='Sample size:'\n",
    "    )\n",
    ");"
   ]
  },
  {
   "cell_type": "code",
   "execution_count": null,
   "id": "18760041-0c97-4dc7-aa60-9e5cfe7c3762",
   "metadata": {},
   "outputs": [],
   "source": [
    "nvals = np.arange(2, 101)\n",
    "estimates = np.array([\n",
    "    var_estimator(n=n, estimator=partial(np.var, ddof=1)) for n in nvals\n",
    "])\n"
   ]
  },
  {
   "cell_type": "code",
   "execution_count": null,
   "id": "1db247c3-4a5f-49d4-9653-3fcf93d84e05",
   "metadata": {},
   "outputs": [],
   "source": [
    "p = sns.lineplot(\n",
    "    x=nvals,\n",
    "    y=estimates\n",
    ");\n",
    "p.set(\n",
    "    xlim=(0, 100),\n",
    "    ylim=(-0.05, 0.05),\n",
    "    xlabel = 'Number of samples used to compute $\\sigma^2$',\n",
    "    ylabel = 'Unbiased estimate'\n",
    ");"
   ]
  },
  {
   "cell_type": "code",
   "execution_count": null,
   "id": "d28ce84f-8a7d-4e8d-b59d-fa6ac34d06fd",
   "metadata": {},
   "outputs": [],
   "source": [
    "ipywidgets.interact(\n",
    "    test_estimator,\n",
    "    num_samples=ipywidgets.Dropdown(\n",
    "        options=[5, 10, 50, 100, 500, 1000, 10000],\n",
    "        value=5,\n",
    "        description='Sample size:'\n",
    "    )\n",
    ");"
   ]
  },
  {
   "cell_type": "markdown",
   "id": "5dfbbad7-5320-4430-aaa8-e73dc0604ca3",
   "metadata": {},
   "source": [
    "## Sampling distrbutions"
   ]
  },
  {
   "cell_type": "markdown",
   "id": "2369a3bf-f69e-4eb3-a134-81d54767e671",
   "metadata": {},
   "source": [
    "Suppose you are a scientist studying gorillas in a wildlife preserve. You want\n",
    "to know the average weight of the adult female gorillas in the preserve. To weigh them, you have to tranquilize them, which is dangerous, expensive,\n",
    "\n",
    "\n",
    "and possibly harmful to the gorillas. But if it is important to obtain this information, it might be acceptable to weigh a sample of 9 gorillas. Let’s assume that the population of the preserve is well known, so we can choose a representative sample of adult females. We could use the sample mean, $\\bar{x}$, to estimate the unknown population mean, μ.\n",
    "\n",
    "\n",
    "Having weighed 9 female gorillas, you might find $\\bar{x} = 90kg$ and sample standard deviation, S = 7.5 kg. The sample mean is an unbiased estimator of &mu;, and in the long run it minimizes MSE. So if you report a single estimate that summarizes the results, you would report 90 kg.\n",
    "\n",
    "\n",
    "But how confident should you be in this estimate? If you only weigh n = 9 gorillas out of a much larger population, you might be unlucky and choose the 9 heaviest gorillas (or the 9 lightest ones) just by chance. Variation in the estimate caused by random selection is called sampling error. To quantify sampling error, we can simulate the sampling process with hypothetical values of &mu; and &sigma;, and see how much $\\bar{x}$ varies.\n",
    "\n",
    "Since we don’t know the actual values of &mu; and &sigma; in the population, we’ll use the estimates $\\bar{x}$ and S. So the question we answer is: “If the actual values of &mu; and &sigma; were 90 kg and 7.5 kg, and we ran the same experiment many times, how much would the estimated mean, $\\bar{x}$, vary?” The following function answers that question:"
   ]
  },
  {
   "cell_type": "code",
   "execution_count": null,
   "id": "1142bf7a-abf4-459b-abfa-2c31cc38ae9d",
   "metadata": {},
   "outputs": [],
   "source": [
    "def SimulateSample(mu=90, sigma=7.5, n=9, m=1000):\n",
    "    means = []\n",
    "    for j in range(m):\n",
    "        xs = np.random.normal(mu, sigma, n)\n",
    "        xbar = np.mean(xs)\n",
    "        means.append(xbar)\n",
    "    means = np.array(means)\n",
    "    ci = np.percentile(means, (5, 95))\n",
    "    stderr = RMSE(means, mu)\n",
    "    print('standard error', stderr)\n",
    "    print('confidence interval', ci)"
   ]
  },
  {
   "cell_type": "code",
   "execution_count": null,
   "id": "d9b874ce-e789-4f7e-bb26-40fc6e9d6e47",
   "metadata": {},
   "outputs": [],
   "source": [
    "SimulateSample()"
   ]
  },
  {
   "cell_type": "code",
   "execution_count": null,
   "id": "48ed00d6-e902-4c00-aebd-b3585dbbbf78",
   "metadata": {},
   "outputs": [],
   "source": [
    "@dataclass\n",
    "class ConfidenceEstimate:\n",
    "    \n",
    "    mu: np.float64\n",
    "    sigma: np.float64\n",
    "    # the estimates\n",
    "    means: np.ndarray\n",
    "        \n",
    "    def __str__(self):\n",
    "        return f'mu: {self.mu}, sigma: {self.sigma}, estimates: {len(self.means)}, \\\n",
    "        stderr: {self.stderr:.2f}, ci: [{self.ci[0]:.2f}, {self.ci[1]:.2f}]'\n",
    "    \n",
    "    @property\n",
    "    def stderr(self) -> np.float64:\n",
    "        '''\n",
    "        Standard error (SE) is a measure of how far we expect the estimate to be off, on average\n",
    "        '''\n",
    "        return rmse(self.means, self.mu)\n",
    "    \n",
    "    @property\n",
    "    def ci(self) -> Tuple[np.float64, np.float64]:\n",
    "        '''\n",
    "        A confidence interval (CI) is a range that includes a given fraction of the sampling distribution\n",
    "        '''\n",
    "        return np.percentile(self.means, (5, 95))\n",
    "        \n",
    "        \n",
    "def simulate_sample(mu: np.float64, sigma: np.float64, n: int=9, m: int=1000) -> ConfidenceEstimate:\n",
    "    '''\n",
    "    Runs an experiment m times to see how much and estimated mean varies\n",
    "    \n",
    "    :param mu: the estimate mean\n",
    "    :param sigma: the estimated standard deviation\n",
    "    :param n: the size of each sample\n",
    "    :param m: the number of experiments\n",
    "    '''\n",
    "    norm_dist = stats.norm(mu, sigma)\n",
    "    # compute the means of m samples of n items\n",
    "    means = np.array([\n",
    "        norm_dist.rvs(n).mean() for _ in range(m)\n",
    "    ])\n",
    "    return ConfidenceEstimate(mu, sigma, means)\n"
   ]
  },
  {
   "cell_type": "code",
   "execution_count": null,
   "id": "97628a6e-50d2-42df-a3bc-7df22743221e",
   "metadata": {},
   "outputs": [],
   "source": [
    "estimate = simulate_sample(90, 7.5)\n",
    "print(estimate)"
   ]
  },
  {
   "cell_type": "markdown",
   "id": "1a856f50-8c12-4342-9200-9cfc7b803540",
   "metadata": {},
   "source": [
    "&mu; and &sigma; are the hypothetical values of the parameters. __n__ is the sample size, the number of gorillas we measured. __m__ is the number of times we run the simulation."
   ]
  },
  {
   "cell_type": "markdown",
   "id": "7143cf5e-f40d-4c5d-9b04-9f7f429372e7",
   "metadata": {},
   "source": [
    "Here is a plot of the empirical cdf for the esimates"
   ]
  },
  {
   "cell_type": "code",
   "execution_count": null,
   "id": "33bb4455-2631-4896-91c4-94ef1e053c04",
   "metadata": {},
   "outputs": [],
   "source": [
    "p = sns.ecdfplot(\n",
    "    x = estimate.means\n",
    ")\n",
    "p.fill_between(estimate.ci, (1, 1), facecolor='pink', alpha=0.3);\n",
    "p.axvline(x=estimate.mu, linestyle='--');\n",
    "p.set(\n",
    "    xlim=(80, 100),\n",
    "    xlabel = 'Sample means'\n",
    ");"
   ]
  },
  {
   "cell_type": "markdown",
   "id": "92fdc321-000c-40ea-9ee6-47923b57f562",
   "metadata": {},
   "source": [
    "This distribution is called the sampling distribution of the estimator. It shows how much the estimates would vary if we ran the experiment over and over."
   ]
  },
  {
   "cell_type": "markdown",
   "id": "9b36764d-705d-4b29-948f-8177a59339cf",
   "metadata": {},
   "source": [
    "## Exponential Distributions"
   ]
  },
  {
   "cell_type": "markdown",
   "id": "42c07b21-f44e-4fc6-ba05-68e01f472e8b",
   "metadata": {},
   "source": [
    "Let’s play one more round of the estimation game. I’m thinking of a distribution. It’s an exponential distribution, and here’s a sample:"
   ]
  },
  {
   "cell_type": "code",
   "execution_count": null,
   "id": "de474762-03e6-438d-9179-67c904705c7e",
   "metadata": {},
   "outputs": [],
   "source": [
    "sample = [5.384, 4.493, 19.198, 2.790, 6.122, 12.844]"
   ]
  },
  {
   "cell_type": "markdown",
   "id": "d12fe49d-94cf-4f73-8ac1-e5ab5e0f1e30",
   "metadata": {},
   "source": [
    "The mean of an exponential distribution is 1/&lambda;, so working backwards we might choose"
   ]
  },
  {
   "cell_type": "markdown",
   "id": "99955cb2-ac59-4ada-91fb-761325e7c4c7",
   "metadata": {},
   "source": [
    "$$\n",
    "L=1/\\bar{x}\n",
    "$$"
   ]
  },
  {
   "cell_type": "markdown",
   "id": "af46da54-f898-4dec-a995-0983dcf361ff",
   "metadata": {},
   "source": [
    "where L is an maximimum liklihood estimator of &lambda;\n",
    "\n",
    "But we know that $\\bar{x}$ is not robust in the presence of outliers, so we expect L to have the same problem.\n",
    "\n",
    "We can choose an alternative based on the sample median. The median of an exponential distribution is $ln(2)/\\lambda$, so working backwards again, we can define an estimator"
   ]
  },
  {
   "cell_type": "markdown",
   "id": "7fd56133-e3a5-4b70-a432-b682cc9654d5",
   "metadata": {},
   "source": [
    "$$\n",
    "L_{m} = ln(2)/m\n",
    "$$"
   ]
  },
  {
   "cell_type": "markdown",
   "id": "9da4642b-958d-44b2-ba13-ac9941f42aa0",
   "metadata": {},
   "source": [
    "where *m* is the sample median.\n",
    "\n",
    "To test the performance of these estimators, we can simulate the sampling process:\n"
   ]
  },
  {
   "cell_type": "code",
   "execution_count": null,
   "id": "99413d22-fead-4c55-863b-b643db6a52d3",
   "metadata": {},
   "outputs": [],
   "source": [
    "def Estimate3(n=7, m=1000):\n",
    "    lam = 2\n",
    "    means = []\n",
    "    medians = []\n",
    "    for _ in range(m):\n",
    "        xs = np.random.exponential(1.0/lam, n)\n",
    "        L = 1 / np.mean(xs)\n",
    "        Lm = math.log(2) / np.median(xs)\n",
    "    means.append(L)\n",
    "    medians.append(Lm)\n",
    "    print('rmse L', RMSE(means, lam))\n",
    "    print('rmse Lm', RMSE(medians, lam))\n",
    "    print('mean error L', MeanError(means, lam))\n",
    "    print('mean error Lm', MeanError(medians, lam))\n"
   ]
  },
  {
   "cell_type": "code",
   "execution_count": null,
   "id": "a4292607-6f71-4002-87c6-a2a6bebd0528",
   "metadata": {},
   "outputs": [],
   "source": [
    "Estimate3()"
   ]
  },
  {
   "cell_type": "code",
   "execution_count": null,
   "id": "a8fe53be-be78-4db9-adb7-5044023806bf",
   "metadata": {},
   "outputs": [],
   "source": [
    "def exp_mean(x: np.ndarray) -> np.float64:\n",
    "    return 1 / np.mean(x)\n",
    "\n",
    "\n",
    "def exp_median(x: np.ndarray) -> np.float64:\n",
    "    return np.log(2) / np.median(x)\n",
    "\n",
    "\n",
    "def exp_estimator(mu: np.float64, n=7, m=1000, estimator: Callable=exp_mean) -> np.float64:\n",
    "    exp_dist = stats.expon(1/mu)\n",
    "    estimates = np.array([\n",
    "        estimator(exp_dist.rvs(n)) for _ in range(m)\n",
    "    ])\n",
    "    return estimates"
   ]
  },
  {
   "cell_type": "code",
   "execution_count": null,
   "id": "026b7aac-e389-497f-833b-bcbfc16fc2cd",
   "metadata": {},
   "outputs": [],
   "source": [
    "lam = 2\n",
    "means = exp_estimator(lam, n=100, estimator=exp_mean)\n",
    "medians = exp_estimator(lam, n=100, estimator=exp_median)"
   ]
  },
  {
   "cell_type": "code",
   "execution_count": null,
   "id": "1e27eae4-7079-4e54-a4b1-27cbdfe33b3e",
   "metadata": {},
   "outputs": [],
   "source": [
    "print(f'rmse L {rmse(means, lam)}')\n",
    "print(f'rmse Lm: {rmse(medians, lam)}')\n",
    "print(f'mean error L {mean_error(means, lam)}')\n",
    "print(f'mean Lm: {mean_error(medians, lam)}')"
   ]
  },
  {
   "cell_type": "markdown",
   "id": "fe1480af-0333-444a-8bb6-bed6cd2d87b1",
   "metadata": {},
   "source": [
    "## Exercises"
   ]
  },
  {
   "cell_type": "markdown",
   "id": "03322976-8bb0-4f04-b155-d7d0df909b36",
   "metadata": {},
   "source": [
    "**Exercise:**  In this chapter we used $\\bar{x}$ and median to estimate µ, and found that $\\bar{x}$ yields lower MSE. Also, we used $S^2$ and $S_{n-1}^2$ to estimate σ, and found that $S^2$ is biased and $S_{n-1}^2$ unbiased.\n",
    "Run similar experiments to see if $\\bar{x}$ and median are biased estimates of µ. Also check whether $S^2$ or $S_{n-1}^2$ yields a lower MSE."
   ]
  },
  {
   "cell_type": "code",
   "execution_count": null,
   "id": "eb1a6ed8-4cee-4bb2-bcd7-1d17abef55e6",
   "metadata": {},
   "outputs": [],
   "source": [
    "# Solution\n",
    "\n",
    "def Estimate4(n=7, iters=100000):\n",
    "    \"\"\"Mean error for xbar and median as estimators of population mean.\n",
    "\n",
    "    n: sample size\n",
    "    iters: number of iterations\n",
    "    \"\"\"\n",
    "    mu = 0\n",
    "    sigma = 1\n",
    "\n",
    "    means = []\n",
    "    medians = []\n",
    "    for _ in range(iters):\n",
    "        xs = [random.gauss(mu, sigma) for i in range(n)]\n",
    "        xbar = np.mean(xs)\n",
    "        median = np.median(xs)\n",
    "        means.append(xbar)\n",
    "        medians.append(median)\n",
    "\n",
    "    print('Experiment 1')\n",
    "    print('mean error xbar', MeanError(means, mu))\n",
    "    print('mean error median', MeanError(medians, mu))\n",
    "    \n",
    "Estimate4()"
   ]
  },
  {
   "cell_type": "markdown",
   "id": "8213c311-cabe-4c16-bb73-672f4d488d8c",
   "metadata": {},
   "source": [
    "$\\bar{x}$ and median yield lower mean error as m increases, so neither one is obviously biased, as far as we can tell from the experiment."
   ]
  },
  {
   "cell_type": "code",
   "execution_count": null,
   "id": "3e298a4f-34c4-4c29-8469-c43c8465a5d7",
   "metadata": {},
   "outputs": [],
   "source": [
    "# Solution\n",
    "\n",
    "def Estimate5(n=7, iters=100000):\n",
    "    \"\"\"RMSE for biased and unbiased estimators of population variance.\n",
    "\n",
    "    n: sample size\n",
    "    iters: number of iterations\n",
    "    \"\"\"\n",
    "    mu = 0\n",
    "    sigma = 1\n",
    "\n",
    "    estimates1 = []\n",
    "    estimates2 = []\n",
    "    for _ in range(iters):\n",
    "        xs = [random.gauss(mu, sigma) for i in range(n)]\n",
    "        biased = np.var(xs)\n",
    "        unbiased = np.var(xs, ddof=1)\n",
    "        estimates1.append(biased)\n",
    "        estimates2.append(unbiased)\n",
    "\n",
    "    print('Experiment 2')\n",
    "    print('RMSE biased', RMSE(estimates1, sigma**2))\n",
    "    print('RMSE unbiased', RMSE(estimates2, sigma**2))\n",
    "\n",
    "Estimate5()"
   ]
  },
  {
   "cell_type": "markdown",
   "id": "0f5b49f3-e9d1-48c1-bbd3-fb59fd5950b1",
   "metadata": {},
   "source": [
    "The biased estimator of variance yields lower RMSE than the unbiased estimator, by about 10%.  And the difference holds up as m increases."
   ]
  },
  {
   "cell_type": "code",
   "execution_count": null,
   "id": "69580915-44f9-44b2-bbaa-4ea898b91062",
   "metadata": {},
   "outputs": [],
   "source": [
    "def generate_estimates(estimator: Callable, n = 10, iters = 10000):\n",
    "    \"\"\"\n",
    "    Generates a list estimates for a given statistic.\n",
    "\n",
    "    n: sample size\n",
    "    iters: number of iterations\n",
    "    \"\"\"\n",
    "    return np.array([estimator(stats.norm(0, 1).rvs(n)) for _ in range(iters)])"
   ]
  },
  {
   "cell_type": "code",
   "execution_count": null,
   "id": "168a0215-57f1-461a-8b23-19b454e8897b",
   "metadata": {},
   "outputs": [],
   "source": [
    "mean_err = mean_error(generate_estimates(np.mean), 0)\n",
    "# median_err = mse(generate_estimates(np.median), 0)\n",
    "median_err = 0.0\n",
    "var_biased_err = rmse(generate_estimates(np.var), 1)\n",
    "var_unbiased_err = rmse(generate_estimates(partial(np.var, ddof=1)), 1)\n",
    "print(f'Mean error: {mean_err:0.4}, Median error: {median_err:0.4}, Var biased: {var_biased_err:0.2f}, Var unbiased: {var_unbiased_err:0.2f}')"
   ]
  },
  {
   "cell_type": "code",
   "execution_count": null,
   "id": "ce213da6-7f2e-48c3-b277-ad7c8ac809bb",
   "metadata": {},
   "outputs": [],
   "source": [
    "def generate_estimates(n = 10, iters = 1000):\n",
    "    mu = 0\n",
    "    sigma = 1\n",
    "    means = []\n",
    "    medians = []\n",
    "    var_biased = []\n",
    "    var_unbiased = []\n",
    "    dist = stats.norm(loc=mu, scale=sigma)\n",
    "    for _ in range(iters):\n",
    "        xs = dist.rvs(n)\n",
    "        means.append(np.mean(xs))\n",
    "        medians.append(np.median(xs))\n",
    "        var_biased.append(np.var(xs))\n",
    "        var_unbiased.append(np.var(xs, ddof=1))\n",
    "    return (\n",
    "        mean_error(np.array(means), mu),\n",
    "        mean_error(np.array(medians), mu),\n",
    "        rmse(np.array(var_biased), sigma**2),\n",
    "        rmse(np.array(var_unbiased), sigma**2)\n",
    "    )"
   ]
  },
  {
   "cell_type": "code",
   "execution_count": null,
   "id": "04c2728d-473f-49f8-9a2b-29ba019aad21",
   "metadata": {},
   "outputs": [],
   "source": [
    "mean_err, med_err, var_biased_err, var_unbiased_err = generate_estimates(iters=100000)\n",
    "print(f'Mean error: {mean_err:0.4}, Median error: {median_err:0.4}, Var biased: {var_biased_err:0.2f}, Var unbiased: {var_unbiased_err:0.2f}')"
   ]
  },
  {
   "cell_type": "markdown",
   "id": "5278336b-375b-4a01-887f-cbd42f65f1d9",
   "metadata": {},
   "source": [
    "**Exercise:** Suppose you draw a sample with size n=10 from an exponential distribution with λ=2. Simulate this experiment 1000 times and plot the sampling distribution of the estimate L. Compute the standard error of the estimate and the 90% confidence interval.\n",
    "\n",
    "Repeat the experiment with a few different values of `n` and make a plot of standard error versus `n`.\n",
    "\n"
   ]
  },
  {
   "cell_type": "code",
   "execution_count": null,
   "id": "7990ced4-4dc0-4ba7-9193-59fa610d316c",
   "metadata": {},
   "outputs": [],
   "source": [
    "def exponential_estimates(lam=2, n=10, iters=1000):\n",
    "    dist = stats.expon(scale=1/lam)\n",
    "    return np.array([1/dist.rvs(n).mean() for _ in range(iters)])"
   ]
  },
  {
   "cell_type": "code",
   "execution_count": null,
   "id": "3e10a145-45ce-4a6a-ad11-7309b0138e53",
   "metadata": {},
   "outputs": [],
   "source": [
    "lam = 2\n",
    "estimates = exponential_estimates(lam, n=1000)\n",
    "stderr = rmse(estimates, lam)\n",
    "ci = np.percentile(estimates, (5, 95))\n",
    "print(f'Std err: {stderr}, ci: {np.round(ci, 3)}')"
   ]
  },
  {
   "cell_type": "code",
   "execution_count": null,
   "id": "173ab8bf-6186-427d-a144-a4b8a58d55e6",
   "metadata": {},
   "outputs": [],
   "source": [
    "p = sns.ecdfplot(\n",
    "    estimates,\n",
    "    label = 'CDF'\n",
    ")\n",
    "p.axvline(ci[0], label='0.05%', color='darkred', linestyle='--')\n",
    "p.axvline(ci[1], label='0.95%', color='darkgreen', linestyle='--')\n",
    "p.set(\n",
    "    xlabel = 'estimate',\n",
    "    ylabel = 'CDF'\n",
    ");\n",
    "plt.legend(loc='lower right');"
   ]
  },
  {
   "cell_type": "markdown",
   "id": "d3248317-d118-43c1-82e1-05abf55b89b5",
   "metadata": {},
   "source": [
    "\n",
    "\n",
    "### My conclusions:\n",
    "\n",
    "1. With sample size 10:\n",
    "    \n",
    "        standard error 0.762510819389\n",
    "        confidence interval (1.2674054394352277, 3.5377353792673705)\n",
    "\n",
    "2. As sample size increases, standard error and the width of the CI decrease:\n",
    "\n",
    "        10      0.90    (1.3, 3.9)\n",
    "        100     0.21    (1.7, 2.4)\n",
    "        1000    0.06    (1.9, 2.1)\n",
    "\n",
    "All three confidence intervals contain the actual value, 2."
   ]
  },
  {
   "cell_type": "markdown",
   "id": "822f467a-4e1d-4bf3-9c3f-2d067b35fce1",
   "metadata": {},
   "source": [
    "**Exercise:** In games like hockey and soccer, the time between goals is roughly exponential. So you could estimate a team’s goal-scoring rate by observing the number of goals they score in a game. This estimation process is a little different from sampling the time between goals, so let’s see how it works.\n",
    "\n",
    "Write a function that takes a goal-scoring rate, `lam`, in goals per game, and simulates a game by generating the time between goals until the total time exceeds 1 game, then returns the number of goals scored.\n",
    "\n",
    "Write another function that simulates many games, stores the estimates of `lam`, then computes their mean error and RMSE.\n",
    "\n",
    "Is this way of making an estimate biased?"
   ]
  },
  {
   "cell_type": "code",
   "execution_count": null,
   "id": "9ba96c23-6d14-4b37-a1fd-5b63539344a2",
   "metadata": {},
   "outputs": [],
   "source": [
    "def simulate_game(lam):\n",
    "    \"\"\"Simulates a game and returns the estimated goal-scoring rate.\n",
    "\n",
    "    lam: actual goal scoring rate in goals per game\n",
    "    \"\"\"\n",
    "    goals = 0\n",
    "    t = 0\n",
    "    while True:\n",
    "        time_between_goals = random.expovariate(lam)\n",
    "        t += time_between_goals\n",
    "        if t > 1:\n",
    "            break\n",
    "        goals += 1\n",
    "\n",
    "    # estimated goal-scoring rate is the actual number of goals scored\n",
    "    return goals"
   ]
  },
  {
   "cell_type": "code",
   "execution_count": null,
   "id": "0702eb10-1c8e-4258-8b3a-b7780c8df182",
   "metadata": {},
   "outputs": [],
   "source": [
    "lam = 2\n",
    "def estimate_game(lam, m = 10000):\n",
    "    return np.array([simulate_game(lam) for _ in range(m)])"
   ]
  },
  {
   "cell_type": "markdown",
   "id": "32dc5138-a4fb-4961-a639-32babf32788f",
   "metadata": {},
   "source": [
    "simulate many games and use the number of goals scored as an estimate of the true long-term goal-scoring rate."
   ]
  },
  {
   "cell_type": "code",
   "execution_count": null,
   "id": "653ed953-25e5-4200-b0b6-17a9144019b9",
   "metadata": {},
   "outputs": [],
   "source": [
    "estimates = estimate_game(lam, m = 100000)\n",
    "p = sns.histplot(\n",
    "    estimates,\n",
    "    binwidth=1,\n",
    "    stat = 'probability'\n",
    ")\n",
    "p.set(\n",
    "    xlabel = 'Goals scored',\n",
    "    ylabel = 'PMF',\n",
    "    title = f'L: {np.mean(estimates):.2f}, RMSE: {rmse(estimates, lam):.2f}, Err: {mean_error(estimates, lam):.4f}'\n",
    ");"
   ]
  },
  {
   "cell_type": "markdown",
   "id": "2f023e74-944e-4f4a-9ed4-0445c33f37bf",
   "metadata": {},
   "source": [
    "1. RMSE for this way of estimating lambda is 1.4\n",
    "2. The mean error is small and decreases with m, so this estimator appears to be unbiased.\n",
    "\n",
    "One note: If the time between goals is exponential, the distribution of goals scored in a game is Poisson."
   ]
  }
 ],
 "metadata": {
  "kernelspec": {
   "display_name": "Python 3 (ipykernel)",
   "language": "python",
   "name": "python3"
  },
  "language_info": {
   "codemirror_mode": {
    "name": "ipython",
    "version": 3
   },
   "file_extension": ".py",
   "mimetype": "text/x-python",
   "name": "python",
   "nbconvert_exporter": "python",
   "pygments_lexer": "ipython3",
   "version": "3.9.5"
  }
 },
 "nbformat": 4,
 "nbformat_minor": 5
}
