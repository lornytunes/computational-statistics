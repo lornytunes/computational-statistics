{
 "cells": [
  {
   "cell_type": "markdown",
   "metadata": {},
   "source": [
    "# Probability mass functions"
   ]
  },
  {
   "cell_type": "code",
   "execution_count": null,
   "metadata": {},
   "outputs": [],
   "source": [
    "import sys\n",
    "sys.path.append('lib')"
   ]
  },
  {
   "cell_type": "code",
   "execution_count": null,
   "metadata": {},
   "outputs": [],
   "source": [
    "from typing import Dict, List, Tuple\n",
    "import itertools"
   ]
  },
  {
   "cell_type": "code",
   "execution_count": null,
   "metadata": {},
   "outputs": [],
   "source": [
    "import numpy as np\n",
    "import pandas as pd"
   ]
  },
  {
   "cell_type": "code",
   "execution_count": null,
   "metadata": {},
   "outputs": [],
   "source": [
    "import nsfg"
   ]
  },
  {
   "cell_type": "code",
   "execution_count": null,
   "metadata": {},
   "outputs": [],
   "source": [
    "# graphics\n",
    "import seaborn as sns\n",
    "from IPython.core.pylabtools import figsize\n",
    "sns.set_theme()\n",
    "figsize(11, 5)"
   ]
  },
  {
   "cell_type": "markdown",
   "metadata": {},
   "source": [
    "Again, I'll load the NSFG pregnancy file and select live births:"
   ]
  },
  {
   "cell_type": "code",
   "execution_count": null,
   "metadata": {},
   "outputs": [],
   "source": [
    "live = nsfg.read_live_fem_preg()"
   ]
  },
  {
   "cell_type": "markdown",
   "metadata": {},
   "source": [
    "Here's the histogram of birth weights:"
   ]
  },
  {
   "cell_type": "code",
   "execution_count": null,
   "metadata": {},
   "outputs": [],
   "source": [
    "p = sns.histplot(live.birthwgt_lb, discrete=True)\n",
    "p.set(\n",
    "    xlabel = 'Birth weight (lbs)',\n",
    "    title = 'Histogram of birth weights'\n",
    ");"
   ]
  },
  {
   "cell_type": "code",
   "execution_count": null,
   "metadata": {},
   "outputs": [],
   "source": [
    "birth_weight_hist = live.birthwgt_lb.value_counts().sort_index()"
   ]
  },
  {
   "cell_type": "code",
   "execution_count": null,
   "metadata": {},
   "outputs": [],
   "source": [
    "birth_weight_hist"
   ]
  },
  {
   "cell_type": "markdown",
   "metadata": {},
   "source": [
    "To normalize the distribution, we could divide through by the total count:"
   ]
  },
  {
   "cell_type": "code",
   "execution_count": null,
   "metadata": {},
   "outputs": [],
   "source": [
    "n = np.sum(birth_weight_hist.values)\n",
    "n"
   ]
  },
  {
   "cell_type": "markdown",
   "metadata": {},
   "source": [
    "The result is a Probability Mass Function (PMF)."
   ]
  },
  {
   "cell_type": "code",
   "execution_count": null,
   "metadata": {},
   "outputs": [],
   "source": [
    "birth_weight_pmf = birth_weight_hist / n\n",
    "# this can also be done in place\n",
    "# birth_weight_hist /= n"
   ]
  },
  {
   "cell_type": "code",
   "execution_count": null,
   "metadata": {},
   "outputs": [],
   "source": [
    "np.round(birth_weight_pmf, 2)"
   ]
  },
  {
   "cell_type": "code",
   "execution_count": null,
   "metadata": {},
   "outputs": [],
   "source": [
    "np.sum(birth_weight_pmf)"
   ]
  },
  {
   "cell_type": "code",
   "execution_count": null,
   "metadata": {},
   "outputs": [],
   "source": [
    "p = sns.barplot(\n",
    "    x=birth_weight_pmf.index,\n",
    "    y=birth_weight_pmf.values,\n",
    "    color='royalblue'\n",
    ");\n",
    "p.set(\n",
    "    xlabel = 'Birth weight (lbs)',\n",
    "    ylabel = 'PMF',\n",
    "    title = 'PMF of birth weight'\n",
    ");"
   ]
  },
  {
   "cell_type": "markdown",
   "metadata": {},
   "source": [
    "Or plot a frequency histogram"
   ]
  },
  {
   "cell_type": "code",
   "execution_count": null,
   "metadata": {},
   "outputs": [],
   "source": [
    "p = sns.histplot(live.birthwgt_lb, discrete=True, stat='probability')\n",
    "p.set(\n",
    "    xlabel = 'Birth weight (lbs)',\n",
    "    title = 'PMF of birth weights'\n",
    ");"
   ]
  },
  {
   "cell_type": "markdown",
   "metadata": {},
   "source": [
    "More directly, we can create a Pmf object."
   ]
  },
  {
   "cell_type": "code",
   "execution_count": null,
   "metadata": {},
   "outputs": [],
   "source": [
    "birth_weight_hist.sum()"
   ]
  },
  {
   "cell_type": "code",
   "execution_count": null,
   "metadata": {},
   "outputs": [],
   "source": [
    "def make_pmf(values: List[int]) -> pd.Series:\n",
    "    series = pd.Series(values).value_counts().sort_index()\n",
    "    # normalize\n",
    "    series /= series.sum()\n",
    "    return series"
   ]
  },
  {
   "cell_type": "code",
   "execution_count": null,
   "metadata": {},
   "outputs": [],
   "source": [
    "pmf = make_pmf([1, 2, 2, 3, 5])\n",
    "pmf"
   ]
  },
  {
   "cell_type": "markdown",
   "metadata": {},
   "source": [
    "The index looks up a value and returns its probability:"
   ]
  },
  {
   "cell_type": "code",
   "execution_count": null,
   "metadata": {},
   "outputs": [],
   "source": [
    "pmf[2]"
   ]
  },
  {
   "cell_type": "markdown",
   "metadata": {},
   "source": [
    "The `Incr` method adds to the probability associated with a given values."
   ]
  },
  {
   "cell_type": "code",
   "execution_count": null,
   "metadata": {},
   "outputs": [],
   "source": [
    "2 in pmf"
   ]
  },
  {
   "cell_type": "code",
   "execution_count": null,
   "metadata": {},
   "outputs": [],
   "source": [
    "def incr(pmf: pd.Series, value: int, p: np.float):\n",
    "    if value in pmf:\n",
    "        # increment the probability\n",
    "        pmf[value] += 0.2"
   ]
  },
  {
   "cell_type": "code",
   "execution_count": null,
   "metadata": {},
   "outputs": [],
   "source": [
    "incr(pmf, 2, 0.2)\n",
    "pmf[2]"
   ]
  },
  {
   "cell_type": "markdown",
   "metadata": {},
   "source": [
    "The `Mult` method multiplies the probability associated with a value."
   ]
  },
  {
   "cell_type": "code",
   "execution_count": null,
   "metadata": {},
   "outputs": [],
   "source": [
    "def mult(pmf: pd.Series, value: int, amount: np.float):\n",
    "    if value in pmf:\n",
    "        pmf[value] *= amount"
   ]
  },
  {
   "cell_type": "code",
   "execution_count": null,
   "metadata": {},
   "outputs": [],
   "source": [
    "mult(pmf, 2, 0.5)\n",
    "pmf[2]"
   ]
  },
  {
   "cell_type": "markdown",
   "metadata": {},
   "source": [
    "`sum` returns the total probability (which is no longer 1, because we changed one of the probabilities)."
   ]
  },
  {
   "cell_type": "code",
   "execution_count": null,
   "metadata": {},
   "outputs": [],
   "source": [
    "pmf.sum()"
   ]
  },
  {
   "cell_type": "markdown",
   "metadata": {},
   "source": [
    "`Normalize` divides through by the total probability, making it 1 again."
   ]
  },
  {
   "cell_type": "code",
   "execution_count": null,
   "metadata": {},
   "outputs": [],
   "source": [
    "pmf /= pmf.sum()\n",
    "pmf.sum()"
   ]
  },
  {
   "cell_type": "markdown",
   "metadata": {},
   "source": [
    "Lets encapsulate this in a class"
   ]
  },
  {
   "cell_type": "code",
   "execution_count": null,
   "metadata": {},
   "outputs": [],
   "source": [
    "class PMF:\n",
    "    \n",
    "    @classmethod\n",
    "    def from_seq(cls, values: List[int]):\n",
    "        return cls(pd.Series(values).value_counts().sort_index())\n",
    "    \n",
    "    @classmethod\n",
    "    def from_dict(cls, data: Dict[int, int]):\n",
    "        return cls(pd.Series(data=data.values(), index=data.keys()))\n",
    "        \n",
    "    \n",
    "    def __init__(self, series: pd.Series, normalize=True):\n",
    "        # compute the frequencies\n",
    "        self._series = series\n",
    "        # compute the range of x values\n",
    "        self._min = self._series.index.min()\n",
    "        self._max = self._series.index.max()\n",
    "        # normalize the frequencies into probabilities\n",
    "        if normalize:\n",
    "            self.normalize()\n",
    "        \n",
    "    def normalize(self):\n",
    "        '''\n",
    "        Normalizes this PMF so the sum of all probabilities is 1\n",
    "        '''\n",
    "        # divide through by the sum of the values\n",
    "        self._series /= np.sum(self._series)\n",
    "        \n",
    "    def incr(self, x: int, term: np.float):\n",
    "        '''\n",
    "        Increments the freq/prob associated with the value x\n",
    "        '''\n",
    "        if x in self._series:\n",
    "            self._series[x] += term\n",
    "            \n",
    "    def mult(self, x: int, factor: np.float):\n",
    "        '''\n",
    "        Scales the freq/prob associated with the value x\n",
    "        '''\n",
    "        if x in self._series:\n",
    "            self._series[x] *= factor\n",
    "            \n",
    "    def prob(self, x: int):\n",
    "        '''\n",
    "        Gets the probability associated with the value x\n",
    "        '''\n",
    "        return self._series.get(x, 0)\n",
    "    \n",
    "    @property\n",
    "    def total(self) -> np.float:\n",
    "        return np.sum(self._series)\n",
    "            \n",
    "    def __getitem__(self, x):\n",
    "        '''\n",
    "        Implements the indexing operator\n",
    "        '''\n",
    "        return self.prob(x)\n",
    "    \n",
    "    def as_dataframe(self) -> pd.DataFrame:\n",
    "        return pd.DataFrame(dict(probs=self.series))\n",
    "        \n",
    "    @property\n",
    "    def series(self) -> pd.Series:\n",
    "        return self._series\n",
    "    \n",
    "    @property\n",
    "    def min(self) -> int:\n",
    "        # return the smallest value\n",
    "        return self._min\n",
    "    \n",
    "    @property\n",
    "    def max(self) -> int:\n",
    "        # return the largest value\n",
    "        return self._max\n",
    "\n",
    "    def mean(self) -> np.float64:\n",
    "        '''\n",
    "        Computes the mean of a PM\n",
    "        '''\n",
    "        return sum(p * x for x, p in self.items())\n",
    "    \n",
    "    def arange(self, increment=1) -> np.array:\n",
    "        # include missing\n",
    "        return np.arange(self._min, self._max+1, increment)\n",
    "\n",
    "    @property\n",
    "    def probs(self) -> np.array:\n",
    "        return np.array([self[x] for x in self.arange()])\n",
    "    \n",
    "    @property\n",
    "    def values(self) -> np.array:\n",
    "        return self._series.index.values\n",
    "    \n",
    "    @property\n",
    "    def probabilities(self) -> np.array:\n",
    "        return self._series.values\n",
    "\n",
    "    def items(self) -> List[Tuple[int, float]]:\n",
    "        return self._series.iteritems()\n",
    "    \n",
    "    def copy(self):\n",
    "        return self.__class__(self._series.copy(), normalize=False)\n",
    "    \n",
    "    def __str__(self):\n",
    "        return str(self._series)"
   ]
  },
  {
   "cell_type": "code",
   "execution_count": null,
   "metadata": {},
   "outputs": [],
   "source": [
    "values = [1, 2, 2, 3, 5]\n",
    "pmf = PMF.from_seq(values)\n",
    "pmf.series"
   ]
  },
  {
   "cell_type": "code",
   "execution_count": null,
   "metadata": {},
   "outputs": [],
   "source": [
    "# should sum to 1\n",
    "pmf.total"
   ]
  },
  {
   "cell_type": "code",
   "execution_count": null,
   "metadata": {},
   "outputs": [],
   "source": [
    "pmf.probs"
   ]
  },
  {
   "cell_type": "code",
   "execution_count": null,
   "metadata": {},
   "outputs": [],
   "source": [
    "print(f'P(2) = {pmf[2]}')"
   ]
  },
  {
   "cell_type": "code",
   "execution_count": null,
   "metadata": {},
   "outputs": [],
   "source": [
    "pmf.incr(2, 0.2)\n",
    "pmf.series"
   ]
  },
  {
   "cell_type": "code",
   "execution_count": null,
   "metadata": {},
   "outputs": [],
   "source": [
    "pmf.mult(2, 0.5)\n",
    "pmf.series"
   ]
  },
  {
   "cell_type": "code",
   "execution_count": null,
   "metadata": {},
   "outputs": [],
   "source": [
    "pmf.total"
   ]
  },
  {
   "cell_type": "code",
   "execution_count": null,
   "metadata": {},
   "outputs": [],
   "source": [
    "pmf.normalize()\n",
    "pmf.total"
   ]
  },
  {
   "cell_type": "code",
   "execution_count": null,
   "metadata": {},
   "outputs": [],
   "source": [
    "pmf.as_dataframe()"
   ]
  },
  {
   "cell_type": "markdown",
   "metadata": {},
   "source": [
    "Here's the PMF of pregnancy length for live births."
   ]
  },
  {
   "cell_type": "code",
   "execution_count": null,
   "metadata": {},
   "outputs": [],
   "source": [
    "pmf.arange()"
   ]
  },
  {
   "cell_type": "code",
   "execution_count": null,
   "metadata": {},
   "outputs": [],
   "source": [
    "pmf = PMF.from_seq(live.prglngth)"
   ]
  },
  {
   "cell_type": "code",
   "execution_count": null,
   "metadata": {},
   "outputs": [],
   "source": [
    "pmf.max"
   ]
  },
  {
   "cell_type": "code",
   "execution_count": null,
   "metadata": {},
   "outputs": [],
   "source": [
    "pmf.arange(5)"
   ]
  },
  {
   "cell_type": "code",
   "execution_count": null,
   "metadata": {},
   "outputs": [],
   "source": [
    "p = sns.barplot(\n",
    "    x = pmf.arange(),\n",
    "    y = pmf.probs,\n",
    "    color='darkred',\n",
    ")\n",
    "p.set(\n",
    "    xlabel = 'Pregnancy length (weeks)',\n",
    "    ylabel = 'Pmf',\n",
    "    xticks = pmf.arange(5)\n",
    ");"
   ]
  },
  {
   "cell_type": "markdown",
   "metadata": {},
   "source": [
    "Here is a more direct way of doing it"
   ]
  },
  {
   "cell_type": "code",
   "execution_count": null,
   "metadata": {},
   "outputs": [],
   "source": [
    "p = sns.histplot(\n",
    "    live.prglngth,\n",
    "    discrete=True,\n",
    "    stat = 'probability'\n",
    ")\n",
    "p.set(\n",
    "    xlabel = 'Pregnancy length (weeks)'\n",
    ");"
   ]
  },
  {
   "cell_type": "markdown",
   "metadata": {},
   "source": [
    "Lets create a birth category that distinguishes first births from the others"
   ]
  },
  {
   "cell_type": "code",
   "execution_count": null,
   "metadata": {},
   "outputs": [],
   "source": [
    "pd.Categorical(np.where(live.birthord == 1, 'Firsts', 'Others')).value_counts()"
   ]
  },
  {
   "cell_type": "code",
   "execution_count": null,
   "metadata": {},
   "outputs": [],
   "source": [
    "live['birthcat'] = pd.Categorical(np.where(live.birthord == 1, 'Firsts', 'Others'))"
   ]
  },
  {
   "cell_type": "markdown",
   "metadata": {},
   "source": [
    "Here are the distributions of pregnancy length."
   ]
  },
  {
   "cell_type": "code",
   "execution_count": null,
   "metadata": {},
   "outputs": [],
   "source": [
    "p = sns.histplot(\n",
    "    data=live.query('prglngth > 26'),\n",
    "    x='prglngth',\n",
    "    hue='birthcat',\n",
    "    multiple='dodge',\n",
    "    stat='probability'\n",
    ")\n",
    "p.set(\n",
    "    xlabel = 'Pregnancy length (weeks)',\n",
    "    title = 'Pregnancy length for first births and others'\n",
    ");"
   ]
  },
  {
   "cell_type": "code",
   "execution_count": null,
   "metadata": {},
   "outputs": [],
   "source": [
    "p = sns.histplot(\n",
    "    data=live.query('prglngth > 26'),\n",
    "    x='prglngth',\n",
    "    hue='birthcat',\n",
    "    stat='probability',\n",
    "    element='step',\n",
    "    fill=False\n",
    ")\n",
    "p.set(\n",
    "    xlabel = 'Pregnancy length (weeks)',\n",
    "    title = 'Pregnancy length for first births and others'\n",
    ");"
   ]
  },
  {
   "cell_type": "code",
   "execution_count": null,
   "metadata": {},
   "outputs": [],
   "source": [
    "first_pmf = PMF.from_seq(live.prglngth[live.birthcat=='Firsts'].values)\n",
    "other_pmf = PMF.from_seq(live.prglngth[live.birthcat=='Others'].values)"
   ]
  },
  {
   "cell_type": "markdown",
   "metadata": {},
   "source": [
    "Here's the code that generates a plot of the difference in probability (in percentage points) between first babies and others, for each week of pregnancy (showing only pregnancies considered \"full term\"). "
   ]
  },
  {
   "cell_type": "code",
   "execution_count": null,
   "metadata": {},
   "outputs": [],
   "source": [
    "weeks = range(35, 46)\n",
    "diffs = []\n",
    "for week in weeks:\n",
    "    p1 = first_pmf.prob(week)\n",
    "    p2 = other_pmf.prob(week)\n",
    "    diff = 100 * (p1 - p2)\n",
    "    diffs.append(diff)"
   ]
  },
  {
   "cell_type": "code",
   "execution_count": null,
   "metadata": {},
   "outputs": [],
   "source": [
    "p = sns.barplot(\n",
    "    x=list(weeks),\n",
    "    y=diffs,\n",
    "    color='darkred'\n",
    ")\n",
    "p.set(\n",
    "    xlabel='Pregnancy length (weeks)',\n",
    "    ylabel='Percentage difference',\n",
    "    title='Percentage difference between first and other completed births by week'\n",
    ");"
   ]
  },
  {
   "cell_type": "markdown",
   "metadata": {},
   "source": [
    "### Biasing and unbiasing PMFs\n",
    "\n",
    "Here's the example in the book showing operations we can perform with `Pmf` objects.\n",
    "\n",
    "Suppose we have the following distribution of class sizes."
   ]
  },
  {
   "cell_type": "code",
   "execution_count": null,
   "metadata": {},
   "outputs": [],
   "source": [
    "d = {\n",
    "    7: 8,\n",
    "    12: 8,\n",
    "    17: 14,\n",
    "    22: 4, \n",
    "    27: 6,\n",
    "    32: 12,\n",
    "    37: 8,\n",
    "    42: 3,\n",
    "    47: 2\n",
    "}"
   ]
  },
  {
   "cell_type": "code",
   "execution_count": null,
   "metadata": {},
   "outputs": [],
   "source": [
    "pmf = PMF.from_dict(d)\n",
    "pmf.as_dataframe()"
   ]
  },
  {
   "cell_type": "markdown",
   "metadata": {},
   "source": [
    "This function computes the biased PMF we would get if we surveyed students and asked about the size of the classes they are in."
   ]
  },
  {
   "cell_type": "code",
   "execution_count": null,
   "metadata": {},
   "outputs": [],
   "source": [
    "def bias_pmf(pmf: PMF) -> PMF:\n",
    "    new_pmf = pmf.copy()\n",
    "\n",
    "    for x, p in pmf.items():\n",
    "        # multiply the probability using the class size\n",
    "        new_pmf.mult(x, x)\n",
    "        \n",
    "    new_pmf.normalize()\n",
    "    return new_pmf"
   ]
  },
  {
   "cell_type": "code",
   "execution_count": null,
   "metadata": {},
   "outputs": [],
   "source": [
    "biased_pmf = bias_pmf(pmf)\n",
    "biased_pmf.as_dataframe()"
   ]
  },
  {
   "cell_type": "code",
   "execution_count": null,
   "metadata": {},
   "outputs": [],
   "source": [
    "distributions = pd.DataFrame(dict(\n",
    "    class_size=d.keys(),\n",
    "    actual=pmf.series.values,\n",
    "    observed=biased_pmf.series\n",
    "))\n",
    "distributions.head()"
   ]
  },
  {
   "cell_type": "code",
   "execution_count": null,
   "metadata": {},
   "outputs": [],
   "source": [
    "# now go from wide format to long\n",
    "distributions_long = pd.melt(\n",
    "    distributions,\n",
    "    id_vars = ['class_size'],\n",
    "    value_vars = ['actual', 'observed'],\n",
    "    value_name = 'probability',\n",
    "    var_name = 'distribution'\n",
    ")\n",
    "distributions_long"
   ]
  },
  {
   "cell_type": "markdown",
   "metadata": {},
   "source": [
    "The following graph shows the difference between the actual and observed distributions."
   ]
  },
  {
   "cell_type": "code",
   "execution_count": null,
   "metadata": {},
   "outputs": [],
   "source": [
    "p = sns.barplot(\n",
    "    data=distributions_long,\n",
    "    x = 'class_size',\n",
    "    y = 'probability',\n",
    "    hue = 'distribution'\n",
    ")\n",
    "p.set(\n",
    "    xlabel = 'Class size',\n",
    "    title = 'Comparing actual and observed (biased) distributions'\n",
    ");"
   ]
  },
  {
   "cell_type": "markdown",
   "metadata": {},
   "source": [
    "Here is another way you could plot the two distributions"
   ]
  },
  {
   "cell_type": "code",
   "execution_count": null,
   "metadata": {},
   "outputs": [],
   "source": [
    "g = sns.catplot(\n",
    "    x='class_size',\n",
    "    y='probability',\n",
    "    row='distribution',\n",
    "    data=distributions_long,\n",
    "    kind ='bar',\n",
    "    color = 'royalblue',\n",
    "    height=4,\n",
    "    # width is twice the height\n",
    "    aspect=2\n",
    ");\n",
    "# g.set_axis_labels('Class size');\n",
    "g.set(xlabel='Class size');"
   ]
  },
  {
   "cell_type": "markdown",
   "metadata": {},
   "source": [
    "Another way to make the data frame"
   ]
  },
  {
   "cell_type": "code",
   "execution_count": null,
   "metadata": {},
   "outputs": [],
   "source": [
    "class_sizes  = d.keys()\n",
    "distributions = pd.DataFrame(dict(\n",
    "    class_size = itertools.chain(class_sizes, class_sizes),\n",
    "    probability = itertools.chain(pmf.series.values, biased_pmf.series.values),\n",
    "    distribution = pd.Categorical(itertools.chain(\n",
    "        np.repeat('Actual', len(class_sizes)),\n",
    "        np.repeat('Observed', len(class_sizes))\n",
    "    ))\n",
    "))\n",
    "distributions"
   ]
  },
  {
   "cell_type": "markdown",
   "metadata": {},
   "source": [
    "We can make this a function"
   ]
  },
  {
   "cell_type": "code",
   "execution_count": null,
   "metadata": {},
   "outputs": [],
   "source": [
    "def create_paired_distributions(\n",
    "    class_labels: List[int],\n",
    "    group1: np.array,\n",
    "    group2: np.array,\n",
    "    group_labels: Tuple[str, str],\n",
    "    class_label: str\n",
    ") -> pd.DataFrame:\n",
    "    n = len(class_labels)\n",
    "    return pd.DataFrame({\n",
    "        class_label: itertools.chain(class_labels, class_labels),\n",
    "        'probability': itertools.chain(group1, group2),\n",
    "        'distribution': pd.Categorical(itertools.chain(\n",
    "            np.repeat(group_labels[0], n),\n",
    "            np.repeat(group_labels[1], n)\n",
    "        ))\n",
    "    })\n",
    "    "
   ]
  },
  {
   "cell_type": "markdown",
   "metadata": {},
   "source": [
    "The observed mean is substantially higher than the actual."
   ]
  },
  {
   "cell_type": "code",
   "execution_count": null,
   "metadata": {},
   "outputs": [],
   "source": [
    "print(f'Actual mean: {pmf.mean():0.2f}')\n",
    "print(f'Observed mean: {biased_pmf.mean():0.2f}')"
   ]
  },
  {
   "cell_type": "markdown",
   "metadata": {},
   "source": [
    "If we were only able to collect the biased sample, we could \"unbias\" it by applying the inverse operation."
   ]
  },
  {
   "cell_type": "code",
   "execution_count": null,
   "metadata": {},
   "outputs": [],
   "source": [
    "def unbias_pmf(pmf: PMF) -> PMF:\n",
    "    new_pmf = pmf.copy()\n",
    "\n",
    "    for x, p in pmf.items():\n",
    "        # new_pmf[x] *= 1/x\n",
    "        new_pmf.mult(x, 1/x)\n",
    "        \n",
    "    new_pmf.normalize()\n",
    "    return new_pmf"
   ]
  },
  {
   "cell_type": "markdown",
   "metadata": {},
   "source": [
    "We can unbias the biased PMF:"
   ]
  },
  {
   "cell_type": "code",
   "execution_count": null,
   "metadata": {},
   "outputs": [],
   "source": [
    "unbiased = unbias_pmf(biased_pmf)\n",
    "print(f'Unbiased mean: {unbiased.mean():0.2f}')"
   ]
  },
  {
   "cell_type": "markdown",
   "metadata": {},
   "source": [
    "And plot the two distributions to confirm they are the same."
   ]
  },
  {
   "cell_type": "code",
   "execution_count": null,
   "metadata": {},
   "outputs": [],
   "source": [
    "distributions = create_paired_distributions(\n",
    "    class_sizes,\n",
    "    pmf.series.values,\n",
    "    unbiased.series.values,\n",
    "    ('Actual', 'Unbiased',),\n",
    "    'class_size'\n",
    ")"
   ]
  },
  {
   "cell_type": "code",
   "execution_count": null,
   "metadata": {},
   "outputs": [],
   "source": [
    "p = sns.barplot(\n",
    "    data=distributions,\n",
    "    x = 'class_size',\n",
    "    y = 'probability',\n",
    "    hue = 'distribution'\n",
    ")\n",
    "p.set(\n",
    "    xlabel = 'Class size',\n",
    "    title = 'Comparing actual and unbiased distributions'\n",
    ");"
   ]
  },
  {
   "cell_type": "markdown",
   "metadata": {},
   "source": [
    "## Exercises"
   ]
  },
  {
   "cell_type": "markdown",
   "metadata": {},
   "source": [
    "**Exercise:** Something like the class size paradox appears if you survey children and ask how many children are in their family. Families with many children are more likely to appear in your sample, and families with no children have no chance to be in the sample.\n",
    "\n",
    "Use the NSFG respondent variable `numkdhh` to construct the actual distribution for the number of children under 18 in the respondents' households.\n",
    "\n",
    "Now compute the biased distribution we would see if we surveyed the children and asked them how many children under 18 (including themselves) are in their household.\n",
    "\n",
    "Plot the actual and biased distributions, and compute their means."
   ]
  },
  {
   "cell_type": "code",
   "execution_count": null,
   "metadata": {},
   "outputs": [],
   "source": [
    "resp = nsfg.read_fem_resp()"
   ]
  },
  {
   "cell_type": "code",
   "execution_count": null,
   "metadata": {},
   "outputs": [],
   "source": [
    "pmf = PMF.from_seq(resp.numkdhh)\n",
    "pmf.mean()"
   ]
  },
  {
   "cell_type": "code",
   "execution_count": null,
   "metadata": {},
   "outputs": [],
   "source": [
    "p = sns.histplot(resp.numkdhh, discrete=True, stat='probability')\n",
    "p.set(\n",
    "    xlabel = 'Number of children',\n",
    "    title = 'Number of children under 18 in the respondents houselholds'\n",
    ");"
   ]
  },
  {
   "cell_type": "code",
   "execution_count": null,
   "metadata": {},
   "outputs": [],
   "source": [
    "# Solution\n",
    "\n",
    "biased = bias_pmf(pmf)\n",
    "biased.mean()"
   ]
  },
  {
   "cell_type": "code",
   "execution_count": null,
   "metadata": {},
   "outputs": [],
   "source": [
    "distributions = create_paired_distributions(\n",
    "    pmf.series.index.values,\n",
    "    pmf.series.values,\n",
    "    biased.series.values,\n",
    "    ('Actual', 'Unbiased',),\n",
    "    'number_of_children'\n",
    ")\n",
    "distributions"
   ]
  },
  {
   "cell_type": "code",
   "execution_count": null,
   "metadata": {},
   "outputs": [],
   "source": [
    "p = sns.barplot(\n",
    "    data=distributions,\n",
    "    x = 'number_of_children',\n",
    "    y = 'probability',\n",
    "    hue = 'distribution'\n",
    ")\n",
    "p.set(\n",
    "    xlabel = 'Number of children',\n",
    "    title = 'Comparing actual and biased distributions'\n",
    ");"
   ]
  },
  {
   "cell_type": "markdown",
   "metadata": {},
   "source": [
    "**Exercise:** I started this book with the question, \"Are first babies more likely to be late?\" To address it, I computed the difference in means between groups of babies, but I ignored the possibility that there might be a difference between first babies and others for the same woman.\n",
    "\n",
    "To address this version of the question, select respondents who have at least two live births and compute pairwise differences. Does this formulation of the question yield a different result?\n",
    "\n",
    "Hint: use `nsfg.make_preg_map`:"
   ]
  },
  {
   "cell_type": "code",
   "execution_count": null,
   "metadata": {},
   "outputs": [],
   "source": [
    "live = nsfg.read_live_fem_preg()"
   ]
  },
  {
   "cell_type": "code",
   "execution_count": null,
   "metadata": {},
   "outputs": [],
   "source": [
    "preg_map = nsfg.make_preg_map(live)"
   ]
  },
  {
   "cell_type": "code",
   "execution_count": null,
   "metadata": {},
   "outputs": [],
   "source": [
    "diffs = []\n",
    "\n",
    "for caseid, indices in preg_map.items():\n",
    "    if len(indices) >= 2:\n",
    "        pair = live.loc[indices[0:2]].prglngth\n",
    "        diff = np.diff(pair)[0]\n",
    "        diffs.append(diff)"
   ]
  },
  {
   "cell_type": "code",
   "execution_count": null,
   "metadata": {},
   "outputs": [],
   "source": [
    "PMF.from_seq(diffs).mean()"
   ]
  },
  {
   "cell_type": "markdown",
   "metadata": {},
   "source": [
    "**Exercise:** In most foot races, everyone starts at the same time. If you are a fast runner, you usually pass a lot of people at the beginning of the race, but after a few miles everyone around you is going at the same speed.\n",
    "When I ran a long-distance (209 miles) relay race for the first time, I noticed an odd phenomenon: when I overtook another runner, I was usually much faster, and when another runner overtook me, he was usually much faster.\n",
    "\n",
    "At first I thought that the distribution of speeds might be bimodal; that is, there were many slow runners and many fast runners, but few at my speed.\n",
    "\n",
    "Then I realized that I was the victim of a bias similar to the effect of class size. The race was unusual in two ways: it used a staggered start, so teams started at different times; also, many teams included runners at different levels of ability.\n",
    "\n",
    "As a result, runners were spread out along the course with little relationship between speed and location. When I joined the race, the runners near me were (pretty much) a random sample of the runners in the race.\n",
    "\n",
    "So where does the bias come from? During my time on the course, the chance of overtaking a runner, or being overtaken, is proportional to the difference in our speeds. I am more likely to catch a slow runner, and more likely to be caught by a fast runner. But runners at the same speed are unlikely to see each other.\n",
    "\n",
    "Write a function called `observed_pmf` that takes a `PMF` representing the actual distribution of runners’ speeds, and the speed of a running observer, and returns a new `PMF` representing the distribution of runners’ speeds as seen by the observer.\n",
    "\n",
    "To test your function, you can use the results from the James Joyce Ramble 10K in Dedham MA and converts the pace of each runner to mph.\n",
    "\n",
    "Compute the distribution of speeds you would observe if you ran a relay race at 7 mph with this group of runners."
   ]
  },
  {
   "cell_type": "code",
   "execution_count": null,
   "metadata": {},
   "outputs": [],
   "source": [
    "df = pd.read_feather('data/relay_results.feather')\n",
    "df.head()"
   ]
  },
  {
   "cell_type": "code",
   "execution_count": null,
   "metadata": {},
   "outputs": [],
   "source": [
    "p = sns.histplot(\n",
    "    data=df,\n",
    "    x=\"mph\",\n",
    "    binwidth=0.2,\n",
    "    stat='probability'\n",
    ");\n",
    "p.set(\n",
    "    xlabel = 'Speed (mph)',\n",
    "    title = 'Distribution of race speeds'\n",
    ");"
   ]
  },
  {
   "cell_type": "code",
   "execution_count": null,
   "metadata": {},
   "outputs": [],
   "source": [
    "# pmf = PMF.from_seq(np.round(df.mph, 1))\n",
    "pmf = PMF.from_seq(df.speed)"
   ]
  },
  {
   "cell_type": "code",
   "execution_count": null,
   "metadata": {},
   "outputs": [],
   "source": [
    "p = sns.barplot(\n",
    "    x=pmf.values,\n",
    "    y=pmf.probabilities,\n",
    "    color='royalblue'\n",
    ");\n",
    "p.set_xticklabels(p.get_xticklabels(), rotation=45, horizontalalignment='right')\n",
    "p.set(\n",
    "    xlabel = 'Speed (mph)',\n",
    "    title = 'Distribution of actual speeds'\n",
    ");"
   ]
  },
  {
   "cell_type": "code",
   "execution_count": null,
   "metadata": {},
   "outputs": [],
   "source": [
    "# Solution\n",
    "\n",
    "def observed_pmf(pmf: PMF, speed: float) -> PMF:\n",
    "    \"\"\"Returns a new Pmf representing speeds observed at a given speed.\n",
    "\n",
    "    The chance of observing a runner is proportional to the difference\n",
    "    in speed.\n",
    "\n",
    "    Args:\n",
    "        pmf: distribution of actual speeds\n",
    "        speed: speed of the observing runner\n",
    "\n",
    "    Returns:\n",
    "        Pmf object\n",
    "    \"\"\"\n",
    "    new_pmf = pmf.copy()\n",
    "    for val in new_pmf.values:\n",
    "        diff = abs(val - speed)\n",
    "        new_pmf.mult(val, diff)\n",
    "    new_pmf.normalize()\n",
    "    return new_pmf\n"
   ]
  },
  {
   "cell_type": "code",
   "execution_count": null,
   "metadata": {},
   "outputs": [],
   "source": [
    "biased = observed_pmf(pmf, 7)"
   ]
  },
  {
   "cell_type": "code",
   "execution_count": null,
   "metadata": {},
   "outputs": [],
   "source": [
    "p = sns.barplot(\n",
    "    x=biased.values,\n",
    "    y=biased.probabilities,\n",
    "    color='royalblue'\n",
    ")\n",
    "p.set_xticklabels(p.get_xticklabels(), rotation=45, horizontalalignment='right')\n",
    "p.set(\n",
    "    xlabel = 'Speed (mph)',\n",
    "    title = 'Distribution of observed (biased) speeds'\n",
    ");"
   ]
  }
 ],
 "metadata": {
  "kernelspec": {
   "display_name": "Python 3 (ipykernel)",
   "language": "python",
   "name": "python3"
  },
  "language_info": {
   "codemirror_mode": {
    "name": "ipython",
    "version": 3
   },
   "file_extension": ".py",
   "mimetype": "text/x-python",
   "name": "python",
   "nbconvert_exporter": "python",
   "pygments_lexer": "ipython3",
   "version": "3.9.5"
  }
 },
 "nbformat": 4,
 "nbformat_minor": 4
}
