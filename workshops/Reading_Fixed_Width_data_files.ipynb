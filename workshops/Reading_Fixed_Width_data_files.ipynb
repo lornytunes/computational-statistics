{
 "cells": [
  {
   "cell_type": "markdown",
   "id": "bdb21ca7-a0a2-4093-8f36-936e3e821952",
   "metadata": {},
   "source": [
    "# Reading Fixed width data files"
   ]
  },
  {
   "cell_type": "code",
   "execution_count": null,
   "id": "d490389f-734a-454c-a83e-d242f23daf25",
   "metadata": {},
   "outputs": [],
   "source": [
    "import pandas as pd"
   ]
  },
  {
   "cell_type": "code",
   "execution_count": null,
   "id": "2a1e2505-ff36-47e8-a99a-996df419f611",
   "metadata": {},
   "outputs": [],
   "source": [
    "import sys\n",
    "sys.path.append('../lib')"
   ]
  },
  {
   "cell_type": "code",
   "execution_count": null,
   "id": "ab76ef49-4a82-490a-a619-b0aa8038f4ed",
   "metadata": {},
   "outputs": [],
   "source": [
    "import fwf"
   ]
  },
  {
   "cell_type": "markdown",
   "id": "bd75c363-fe30-476f-92d0-de24317e407c",
   "metadata": {},
   "source": [
    "## Reading Babyboom data\n",
    "\n",
    "On December 18, 1997, 44 babies were born in a hospital in Brisbane, Australia.\n",
    "\n",
    "The time of birth for all 44 babies was reported in the local paper; the complete dataset is in a file called `babyboom.dat`\n",
    "\n",
    "This is another fixed width data file, only this time we don't have to parse the schema from a `.dct` file."
   ]
  },
  {
   "cell_type": "code",
   "execution_count": null,
   "id": "45093257-d424-415f-8fa2-f38b9f3d7a2d",
   "metadata": {},
   "outputs": [],
   "source": [
    "var_info = fwf.read_schema([\n",
    "    ('time', 1, 8, int),\n",
    "    ('sex', 9, 16, int),\n",
    "    ('weight_g', 17, 24, int),\n",
    "    ('minutes', 25, 32, int)\n",
    "])"
   ]
  },
  {
   "cell_type": "code",
   "execution_count": null,
   "id": "383ae1b5-0563-4696-9f0e-7c673fc45d1c",
   "metadata": {},
   "outputs": [],
   "source": [
    "var_info"
   ]
  },
  {
   "cell_type": "markdown",
   "id": "38dc09b3-5fda-45f7-a33b-d58deffd233b",
   "metadata": {},
   "source": [
    "We can now separate the widths, names and types"
   ]
  },
  {
   "cell_type": "code",
   "execution_count": null,
   "id": "5eae5281-a632-4188-a769-66bc165c2e92",
   "metadata": {},
   "outputs": [],
   "source": [
    "[c.width for c in var_info]"
   ]
  },
  {
   "cell_type": "code",
   "execution_count": null,
   "id": "d68eeccb-b8a7-47a7-a028-663a2393f439",
   "metadata": {},
   "outputs": [],
   "source": [
    "df = pd.read_fwf(\n",
    "    '../data/babyboom.dat',\n",
    "    width = [c.width for c in var_info],\n",
    "    names = [c.name for c in var_info],\n",
    "    dtype = dict([(c.name, c.vtype,) for c in var_info]),\n",
    "    skiprows=59\n",
    ")\n",
    "df.head()"
   ]
  },
  {
   "cell_type": "markdown",
   "id": "7b791ff9-e819-44c5-b65b-1053b323ecbf",
   "metadata": {},
   "source": [
    "Or we can use a method in `fwf` that does it for us"
   ]
  },
  {
   "cell_type": "code",
   "execution_count": null,
   "id": "d5a10a54-b30e-4037-865e-dbb8dcd7de69",
   "metadata": {},
   "outputs": [],
   "source": [
    "df = fwf.read_fixed_width(\n",
    "    '../data/babyboom.dat',\n",
    "    var_info,\n",
    "    include_dtypes=True,\n",
    "    skiprows=59\n",
    ")"
   ]
  },
  {
   "cell_type": "code",
   "execution_count": null,
   "id": "8126cb5c-a3b9-4272-a3c0-d0b1d2d2a3d8",
   "metadata": {},
   "outputs": [],
   "source": [
    "df.head()"
   ]
  },
  {
   "cell_type": "markdown",
   "id": "6e35f68f-9c87-4857-a648-268d87f0bd49",
   "metadata": {},
   "source": [
    "The columns are `time`, `sex`, `weight_g`, and `minutes`, where `minutes` is time of birth converted to minutes since midnight."
   ]
  },
  {
   "cell_type": "markdown",
   "id": "1c1979d8-6279-46c3-b4e6-fddd5d5282a6",
   "metadata": {},
   "source": [
    "## BRFSS"
   ]
  },
  {
   "cell_type": "markdown",
   "id": "94356a10-7c00-4246-a50e-745e32acfde6",
   "metadata": {},
   "source": [
    "The National Center for Chronic Disease Prevention and Health Promotion conducts an annual survey as part of the Behavioral Risk Factor Surveillance System (BRFSS).\n",
    "\n",
    "In 2008, they interviewed 414,509 respondents and asked about their demographics, health, and health risks. Among the data they collected are the weights in kilograms of 398,484 respondents."
   ]
  },
  {
   "cell_type": "code",
   "execution_count": null,
   "id": "9d30f019-4926-4b06-a5c4-432c51a3e24d",
   "metadata": {},
   "outputs": [],
   "source": [
    "var_info = fwf.read_schema([\n",
    "    ('age', 101, 102, pd.Int64Dtype()),\n",
    "    ('sex', 143, 143, int),\n",
    "    ('wtyrago', 127, 130, float),\n",
    "    ('finalwt', 799, 808, int),\n",
    "    ('wtkg2', 1254, 1258, float),\n",
    "    ('htm3', 1251, 1253, pd.Int64Dtype()),\n",
    "])"
   ]
  },
  {
   "cell_type": "code",
   "execution_count": null,
   "id": "4cfafa77-f518-4c63-88e7-2e6e8149d6a1",
   "metadata": {},
   "outputs": [],
   "source": [
    "var_info"
   ]
  },
  {
   "cell_type": "code",
   "execution_count": null,
   "id": "f5782dd9-8a28-44f8-a4e3-eb0c92ba32a1",
   "metadata": {},
   "outputs": [],
   "source": [
    "df = fwf.read_fixed_width(\n",
    "    '../data/brfss.dat.gz',\n",
    "    var_info,\n",
    "    include_dtypes=True\n",
    ")"
   ]
  },
  {
   "cell_type": "code",
   "execution_count": null,
   "id": "6c3a782f-5844-4001-b2e7-e58a29df4527",
   "metadata": {},
   "outputs": [],
   "source": [
    "df.head()"
   ]
  },
  {
   "cell_type": "code",
   "execution_count": null,
   "id": "0b24745d-740e-4eec-9ce3-ef97210decfc",
   "metadata": {},
   "outputs": [],
   "source": [
    "df.dtypes"
   ]
  },
  {
   "cell_type": "markdown",
   "id": "0a7a73ba-b4b5-4e64-9f42-ff50e7eec341",
   "metadata": {},
   "source": [
    "Clean height"
   ]
  },
  {
   "cell_type": "code",
   "execution_count": null,
   "id": "0a7df415-c9f3-4480-a338-eb9bcc0d32a8",
   "metadata": {},
   "outputs": [],
   "source": [
    "float('NaN')"
   ]
  },
  {
   "cell_type": "code",
   "execution_count": null,
   "id": "cdcdf8fd-04e8-487d-ad6c-6c0911e0da93",
   "metadata": {},
   "outputs": [],
   "source": [
    "df.htm3.replace([999], pd.NA, inplace=True)"
   ]
  },
  {
   "cell_type": "markdown",
   "id": "12be806f-5ef3-40e8-8e39-7b42601cf668",
   "metadata": {},
   "source": [
    "Clean weight"
   ]
  },
  {
   "cell_type": "code",
   "execution_count": null,
   "id": "d1d4f898-9594-47b9-8b75-665506045823",
   "metadata": {},
   "outputs": [],
   "source": [
    "df.wtkg2.replace([99999], float('NaN'), inplace=True)"
   ]
  },
  {
   "cell_type": "markdown",
   "id": "5ed62084-dad1-4de3-a6ce-dfcf0a346b74",
   "metadata": {},
   "source": [
    "Clean weight one year ago"
   ]
  },
  {
   "cell_type": "code",
   "execution_count": null,
   "id": "0ad1ef2f-9606-4d46-be8b-723ce555a48b",
   "metadata": {},
   "outputs": [],
   "source": [
    "df.wtyrago.replace([7777, 9999], float('NaN'), inplace=True)"
   ]
  },
  {
   "cell_type": "markdown",
   "id": "786b37da-2029-4853-8241-8b457986a25f",
   "metadata": {},
   "source": [
    "Clean age"
   ]
  },
  {
   "cell_type": "code",
   "execution_count": null,
   "id": "5f4b5bc9-7e93-4de1-b532-b5e6536b16b1",
   "metadata": {},
   "outputs": [],
   "source": [
    "df.age.replace([7, 9], pd.NA, inplace=True)"
   ]
  },
  {
   "cell_type": "markdown",
   "id": "7689d303-4c0f-4690-8bcd-769a1ebc9d43",
   "metadata": {},
   "source": [
    "Convert weight to kilograms"
   ]
  },
  {
   "cell_type": "code",
   "execution_count": null,
   "id": "39d26528-f5a3-401d-b9d4-551dd570b8d4",
   "metadata": {},
   "outputs": [],
   "source": [
    "df.wtkg2.value_counts()"
   ]
  },
  {
   "cell_type": "code",
   "execution_count": null,
   "id": "cc200712-c612-4795-b42a-c3089d51407b",
   "metadata": {},
   "outputs": [],
   "source": [
    "df.wtkg2 /= 100"
   ]
  },
  {
   "cell_type": "code",
   "execution_count": null,
   "id": "05265ee8-a2e0-46c0-813b-06022553dd4f",
   "metadata": {},
   "outputs": [],
   "source": [
    "df['wtyrago'] = df.wtyrago.apply(lambda x: x/2.2 if x < 9000 else x-9000)"
   ]
  },
  {
   "cell_type": "code",
   "execution_count": null,
   "id": "307ff8bf-e50f-4eaa-9c55-52550e4ec6ff",
   "metadata": {},
   "outputs": [],
   "source": [
    "df.dtypes"
   ]
  },
  {
   "cell_type": "code",
   "execution_count": null,
   "id": "d80db960-cb83-43e0-853e-0fffbd1e774b",
   "metadata": {},
   "outputs": [],
   "source": [
    "df = df.astype({\n",
    "    'age': pd.Int64Dtype(),\n",
    "    'htm3': pd.Int64Dtype()\n",
    "}).rename(columns={\n",
    "    'htm3': 'height',\n",
    "    'wtkg2': 'weight'\n",
    "})"
   ]
  },
  {
   "cell_type": "code",
   "execution_count": null,
   "id": "8228265c-b39a-445c-8a40-4487e5c78af8",
   "metadata": {},
   "outputs": [],
   "source": [
    "df.to_feather('../data/brfss.feather')"
   ]
  }
 ],
 "metadata": {
  "kernelspec": {
   "display_name": "Python 3 (ipykernel)",
   "language": "python",
   "name": "python3"
  },
  "language_info": {
   "codemirror_mode": {
    "name": "ipython",
    "version": 3
   },
   "file_extension": ".py",
   "mimetype": "text/x-python",
   "name": "python",
   "nbconvert_exporter": "python",
   "pygments_lexer": "ipython3",
   "version": "3.9.5"
  }
 },
 "nbformat": 4,
 "nbformat_minor": 5
}
