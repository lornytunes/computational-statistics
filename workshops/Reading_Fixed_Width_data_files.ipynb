{
 "cells": [
  {
   "cell_type": "markdown",
   "id": "bdb21ca7-a0a2-4093-8f36-936e3e821952",
   "metadata": {},
   "source": [
    "# Reading Fixed width data files"
   ]
  },
  {
   "cell_type": "code",
   "execution_count": 1,
   "id": "d490389f-734a-454c-a83e-d242f23daf25",
   "metadata": {},
   "outputs": [],
   "source": [
    "import pandas as pd"
   ]
  },
  {
   "cell_type": "code",
   "execution_count": 2,
   "id": "2a1e2505-ff36-47e8-a99a-996df419f611",
   "metadata": {},
   "outputs": [],
   "source": [
    "import sys\n",
    "sys.path.append('../lib')"
   ]
  },
  {
   "cell_type": "code",
   "execution_count": 3,
   "id": "ab76ef49-4a82-490a-a619-b0aa8038f4ed",
   "metadata": {},
   "outputs": [],
   "source": [
    "import fwf"
   ]
  },
  {
   "cell_type": "markdown",
   "id": "bd75c363-fe30-476f-92d0-de24317e407c",
   "metadata": {},
   "source": [
    "## Reading Babyboom data\n",
    "\n",
    "On December 18, 1997, 44 babies were born in a hospital in Brisbane, Australia.\n",
    "\n",
    "The time of birth for all 44 babies was reported in the local paper; the complete dataset is in a file called `babyboom.dat`\n",
    "\n",
    "This is another fixed width data file, only this time we don't have to parse the schema from a `.dct` file."
   ]
  },
  {
   "cell_type": "code",
   "execution_count": 4,
   "id": "45093257-d424-415f-8fa2-f38b9f3d7a2d",
   "metadata": {},
   "outputs": [],
   "source": [
    "var_info = fwf.read_schema([\n",
    "    ('time', 1, 8, int),\n",
    "    ('sex', 9, 16, int),\n",
    "    ('weight_g', 17, 24, int),\n",
    "    ('minutes', 25, 32, int)\n",
    "])"
   ]
  },
  {
   "cell_type": "code",
   "execution_count": 5,
   "id": "383ae1b5-0563-4696-9f0e-7c673fc45d1c",
   "metadata": {},
   "outputs": [
    {
     "data": {
      "text/plain": [
       "[Column(start=1, vtype=<class 'int'>, name='time', end=9),\n",
       " Column(start=9, vtype=<class 'int'>, name='sex', end=17),\n",
       " Column(start=17, vtype=<class 'int'>, name='weight_g', end=25),\n",
       " Column(start=25, vtype=<class 'int'>, name='minutes', end=33)]"
      ]
     },
     "execution_count": 5,
     "metadata": {},
     "output_type": "execute_result"
    }
   ],
   "source": [
    "var_info"
   ]
  },
  {
   "cell_type": "markdown",
   "id": "38dc09b3-5fda-45f7-a33b-d58deffd233b",
   "metadata": {},
   "source": [
    "We can now separate the widths, names and types"
   ]
  },
  {
   "cell_type": "code",
   "execution_count": 6,
   "id": "5eae5281-a632-4188-a769-66bc165c2e92",
   "metadata": {},
   "outputs": [
    {
     "data": {
      "text/plain": [
       "[8, 8, 8, 8]"
      ]
     },
     "execution_count": 6,
     "metadata": {},
     "output_type": "execute_result"
    }
   ],
   "source": [
    "[c.width for c in var_info]"
   ]
  },
  {
   "cell_type": "code",
   "execution_count": 7,
   "id": "d68eeccb-b8a7-47a7-a028-663a2393f439",
   "metadata": {},
   "outputs": [
    {
     "data": {
      "text/html": [
       "<div>\n",
       "<style scoped>\n",
       "    .dataframe tbody tr th:only-of-type {\n",
       "        vertical-align: middle;\n",
       "    }\n",
       "\n",
       "    .dataframe tbody tr th {\n",
       "        vertical-align: top;\n",
       "    }\n",
       "\n",
       "    .dataframe thead th {\n",
       "        text-align: right;\n",
       "    }\n",
       "</style>\n",
       "<table border=\"1\" class=\"dataframe\">\n",
       "  <thead>\n",
       "    <tr style=\"text-align: right;\">\n",
       "      <th></th>\n",
       "      <th>time</th>\n",
       "      <th>sex</th>\n",
       "      <th>weight_g</th>\n",
       "      <th>minutes</th>\n",
       "    </tr>\n",
       "  </thead>\n",
       "  <tbody>\n",
       "    <tr>\n",
       "      <th>0</th>\n",
       "      <td>5</td>\n",
       "      <td>1</td>\n",
       "      <td>3837</td>\n",
       "      <td>5</td>\n",
       "    </tr>\n",
       "    <tr>\n",
       "      <th>1</th>\n",
       "      <td>104</td>\n",
       "      <td>1</td>\n",
       "      <td>3334</td>\n",
       "      <td>64</td>\n",
       "    </tr>\n",
       "    <tr>\n",
       "      <th>2</th>\n",
       "      <td>118</td>\n",
       "      <td>2</td>\n",
       "      <td>3554</td>\n",
       "      <td>78</td>\n",
       "    </tr>\n",
       "    <tr>\n",
       "      <th>3</th>\n",
       "      <td>155</td>\n",
       "      <td>2</td>\n",
       "      <td>3838</td>\n",
       "      <td>115</td>\n",
       "    </tr>\n",
       "    <tr>\n",
       "      <th>4</th>\n",
       "      <td>257</td>\n",
       "      <td>2</td>\n",
       "      <td>3625</td>\n",
       "      <td>177</td>\n",
       "    </tr>\n",
       "  </tbody>\n",
       "</table>\n",
       "</div>"
      ],
      "text/plain": [
       "   time  sex  weight_g  minutes\n",
       "0     5    1      3837        5\n",
       "1   104    1      3334       64\n",
       "2   118    2      3554       78\n",
       "3   155    2      3838      115\n",
       "4   257    2      3625      177"
      ]
     },
     "execution_count": 7,
     "metadata": {},
     "output_type": "execute_result"
    }
   ],
   "source": [
    "df = pd.read_fwf(\n",
    "    '../data/babyboom.dat',\n",
    "    width = [c.width for c in var_info],\n",
    "    names = [c.name for c in var_info],\n",
    "    dtype = dict([(c.name, c.vtype,) for c in var_info]),\n",
    "    skiprows=59\n",
    ")\n",
    "df.head()"
   ]
  },
  {
   "cell_type": "markdown",
   "id": "7b791ff9-e819-44c5-b65b-1053b323ecbf",
   "metadata": {},
   "source": [
    "Or we can use a method in `fwf` that does it for us"
   ]
  },
  {
   "cell_type": "code",
   "execution_count": 8,
   "id": "d5a10a54-b30e-4037-865e-dbb8dcd7de69",
   "metadata": {},
   "outputs": [],
   "source": [
    "df = fwf.read_fixed_width(\n",
    "    '../data/babyboom.dat',\n",
    "    var_info,\n",
    "    include_dtypes=True,\n",
    "    skiprows=59\n",
    ")"
   ]
  },
  {
   "cell_type": "code",
   "execution_count": 9,
   "id": "8126cb5c-a3b9-4272-a3c0-d0b1d2d2a3d8",
   "metadata": {},
   "outputs": [
    {
     "data": {
      "text/html": [
       "<div>\n",
       "<style scoped>\n",
       "    .dataframe tbody tr th:only-of-type {\n",
       "        vertical-align: middle;\n",
       "    }\n",
       "\n",
       "    .dataframe tbody tr th {\n",
       "        vertical-align: top;\n",
       "    }\n",
       "\n",
       "    .dataframe thead th {\n",
       "        text-align: right;\n",
       "    }\n",
       "</style>\n",
       "<table border=\"1\" class=\"dataframe\">\n",
       "  <thead>\n",
       "    <tr style=\"text-align: right;\">\n",
       "      <th></th>\n",
       "      <th>time</th>\n",
       "      <th>sex</th>\n",
       "      <th>weight_g</th>\n",
       "      <th>minutes</th>\n",
       "    </tr>\n",
       "  </thead>\n",
       "  <tbody>\n",
       "    <tr>\n",
       "      <th>0</th>\n",
       "      <td>5</td>\n",
       "      <td>1</td>\n",
       "      <td>3837</td>\n",
       "      <td>5</td>\n",
       "    </tr>\n",
       "    <tr>\n",
       "      <th>1</th>\n",
       "      <td>104</td>\n",
       "      <td>1</td>\n",
       "      <td>3334</td>\n",
       "      <td>64</td>\n",
       "    </tr>\n",
       "    <tr>\n",
       "      <th>2</th>\n",
       "      <td>118</td>\n",
       "      <td>2</td>\n",
       "      <td>3554</td>\n",
       "      <td>78</td>\n",
       "    </tr>\n",
       "    <tr>\n",
       "      <th>3</th>\n",
       "      <td>155</td>\n",
       "      <td>2</td>\n",
       "      <td>3838</td>\n",
       "      <td>115</td>\n",
       "    </tr>\n",
       "    <tr>\n",
       "      <th>4</th>\n",
       "      <td>257</td>\n",
       "      <td>2</td>\n",
       "      <td>3625</td>\n",
       "      <td>177</td>\n",
       "    </tr>\n",
       "  </tbody>\n",
       "</table>\n",
       "</div>"
      ],
      "text/plain": [
       "   time  sex  weight_g  minutes\n",
       "0     5    1      3837        5\n",
       "1   104    1      3334       64\n",
       "2   118    2      3554       78\n",
       "3   155    2      3838      115\n",
       "4   257    2      3625      177"
      ]
     },
     "execution_count": 9,
     "metadata": {},
     "output_type": "execute_result"
    }
   ],
   "source": [
    "df.head()"
   ]
  },
  {
   "cell_type": "markdown",
   "id": "6e35f68f-9c87-4857-a648-268d87f0bd49",
   "metadata": {},
   "source": [
    "The columns are `time`, `sex`, `weight_g`, and `minutes`, where `minutes` is time of birth converted to minutes since midnight."
   ]
  },
  {
   "cell_type": "markdown",
   "id": "1c1979d8-6279-46c3-b4e6-fddd5d5282a6",
   "metadata": {},
   "source": [
    "## BRFSS"
   ]
  },
  {
   "cell_type": "markdown",
   "id": "94356a10-7c00-4246-a50e-745e32acfde6",
   "metadata": {},
   "source": [
    "The National Center for Chronic Disease Prevention and Health Promotion conducts an annual survey as part of the Behavioral Risk Factor Surveillance System (BRFSS).\n",
    "\n",
    "In 2008, they interviewed 414,509 respondents and asked about their demographics, health, and health risks. Among the data they collected are the weights in kilograms of 398,484 respondents."
   ]
  },
  {
   "cell_type": "code",
   "execution_count": 10,
   "id": "9d30f019-4926-4b06-a5c4-432c51a3e24d",
   "metadata": {},
   "outputs": [],
   "source": [
    "var_info = fwf.read_schema([\n",
    "    ('age', 101, 102, pd.Int64Dtype()),\n",
    "    ('sex', 143, 143, int),\n",
    "    ('wtyrago', 127, 130, float),\n",
    "    ('finalwt', 799, 808, int),\n",
    "    ('wtkg2', 1254, 1258, float),\n",
    "    ('htm3', 1251, 1253, pd.Int64Dtype()),\n",
    "])"
   ]
  },
  {
   "cell_type": "code",
   "execution_count": 11,
   "id": "4cfafa77-f518-4c63-88e7-2e6e8149d6a1",
   "metadata": {},
   "outputs": [
    {
     "data": {
      "text/plain": [
       "[Column(start=101, vtype=Int64Dtype(), name='age', end=103),\n",
       " Column(start=143, vtype=<class 'int'>, name='sex', end=144),\n",
       " Column(start=127, vtype=<class 'float'>, name='wtyrago', end=131),\n",
       " Column(start=799, vtype=<class 'int'>, name='finalwt', end=809),\n",
       " Column(start=1254, vtype=<class 'float'>, name='wtkg2', end=1259),\n",
       " Column(start=1251, vtype=Int64Dtype(), name='htm3', end=1254)]"
      ]
     },
     "execution_count": 11,
     "metadata": {},
     "output_type": "execute_result"
    }
   ],
   "source": [
    "var_info"
   ]
  },
  {
   "cell_type": "code",
   "execution_count": 12,
   "id": "f5782dd9-8a28-44f8-a4e3-eb0c92ba32a1",
   "metadata": {},
   "outputs": [],
   "source": [
    "df = fwf.read_fixed_width(\n",
    "    '../data/brfss.dat.gz',\n",
    "    var_info,\n",
    "    include_dtypes=True\n",
    ")"
   ]
  },
  {
   "cell_type": "code",
   "execution_count": 13,
   "id": "6c3a782f-5844-4001-b2e7-e58a29df4527",
   "metadata": {},
   "outputs": [
    {
     "data": {
      "text/html": [
       "<div>\n",
       "<style scoped>\n",
       "    .dataframe tbody tr th:only-of-type {\n",
       "        vertical-align: middle;\n",
       "    }\n",
       "\n",
       "    .dataframe tbody tr th {\n",
       "        vertical-align: top;\n",
       "    }\n",
       "\n",
       "    .dataframe thead th {\n",
       "        text-align: right;\n",
       "    }\n",
       "</style>\n",
       "<table border=\"1\" class=\"dataframe\">\n",
       "  <thead>\n",
       "    <tr style=\"text-align: right;\">\n",
       "      <th></th>\n",
       "      <th>age</th>\n",
       "      <th>sex</th>\n",
       "      <th>wtyrago</th>\n",
       "      <th>finalwt</th>\n",
       "      <th>wtkg2</th>\n",
       "      <th>htm3</th>\n",
       "    </tr>\n",
       "  </thead>\n",
       "  <tbody>\n",
       "    <tr>\n",
       "      <th>0</th>\n",
       "      <td>82</td>\n",
       "      <td>2</td>\n",
       "      <td>168.0</td>\n",
       "      <td>185</td>\n",
       "      <td>7091.0</td>\n",
       "      <td>157</td>\n",
       "    </tr>\n",
       "    <tr>\n",
       "      <th>1</th>\n",
       "      <td>65</td>\n",
       "      <td>2</td>\n",
       "      <td>160.0</td>\n",
       "      <td>126</td>\n",
       "      <td>7273.0</td>\n",
       "      <td>163</td>\n",
       "    </tr>\n",
       "    <tr>\n",
       "      <th>2</th>\n",
       "      <td>48</td>\n",
       "      <td>2</td>\n",
       "      <td>NaN</td>\n",
       "      <td>181</td>\n",
       "      <td>99999.0</td>\n",
       "      <td>165</td>\n",
       "    </tr>\n",
       "    <tr>\n",
       "      <th>3</th>\n",
       "      <td>61</td>\n",
       "      <td>1</td>\n",
       "      <td>162.0</td>\n",
       "      <td>517</td>\n",
       "      <td>7364.0</td>\n",
       "      <td>170</td>\n",
       "    </tr>\n",
       "    <tr>\n",
       "      <th>4</th>\n",
       "      <td>26</td>\n",
       "      <td>1</td>\n",
       "      <td>195.0</td>\n",
       "      <td>1252</td>\n",
       "      <td>8864.0</td>\n",
       "      <td>185</td>\n",
       "    </tr>\n",
       "  </tbody>\n",
       "</table>\n",
       "</div>"
      ],
      "text/plain": [
       "   age  sex  wtyrago  finalwt    wtkg2  htm3\n",
       "0   82    2    168.0      185   7091.0   157\n",
       "1   65    2    160.0      126   7273.0   163\n",
       "2   48    2      NaN      181  99999.0   165\n",
       "3   61    1    162.0      517   7364.0   170\n",
       "4   26    1    195.0     1252   8864.0   185"
      ]
     },
     "execution_count": 13,
     "metadata": {},
     "output_type": "execute_result"
    }
   ],
   "source": [
    "df.head()"
   ]
  },
  {
   "cell_type": "code",
   "execution_count": 14,
   "id": "0b24745d-740e-4eec-9ce3-ef97210decfc",
   "metadata": {},
   "outputs": [
    {
     "data": {
      "text/plain": [
       "age          Int64\n",
       "sex          int64\n",
       "wtyrago    float64\n",
       "finalwt      int64\n",
       "wtkg2      float64\n",
       "htm3         Int64\n",
       "dtype: object"
      ]
     },
     "execution_count": 14,
     "metadata": {},
     "output_type": "execute_result"
    }
   ],
   "source": [
    "df.dtypes"
   ]
  },
  {
   "cell_type": "markdown",
   "id": "0a7a73ba-b4b5-4e64-9f42-ff50e7eec341",
   "metadata": {},
   "source": [
    "Clean height"
   ]
  },
  {
   "cell_type": "code",
   "execution_count": 15,
   "id": "0a7df415-c9f3-4480-a338-eb9bcc0d32a8",
   "metadata": {},
   "outputs": [
    {
     "data": {
      "text/plain": [
       "nan"
      ]
     },
     "execution_count": 15,
     "metadata": {},
     "output_type": "execute_result"
    }
   ],
   "source": [
    "float('NaN')"
   ]
  },
  {
   "cell_type": "code",
   "execution_count": 16,
   "id": "cdcdf8fd-04e8-487d-ad6c-6c0911e0da93",
   "metadata": {},
   "outputs": [],
   "source": [
    "df.htm3.replace([999], pd.NA, inplace=True)"
   ]
  },
  {
   "cell_type": "markdown",
   "id": "12be806f-5ef3-40e8-8e39-7b42601cf668",
   "metadata": {},
   "source": [
    "Clean weight"
   ]
  },
  {
   "cell_type": "code",
   "execution_count": 17,
   "id": "d1d4f898-9594-47b9-8b75-665506045823",
   "metadata": {},
   "outputs": [],
   "source": [
    "df.wtkg2.replace([99999], float('NaN'), inplace=True)"
   ]
  },
  {
   "cell_type": "markdown",
   "id": "5ed62084-dad1-4de3-a6ce-dfcf0a346b74",
   "metadata": {},
   "source": [
    "Clean weight one year ago"
   ]
  },
  {
   "cell_type": "code",
   "execution_count": 18,
   "id": "0ad1ef2f-9606-4d46-be8b-723ce555a48b",
   "metadata": {},
   "outputs": [],
   "source": [
    "df.wtyrago.replace([7777, 9999], float('NaN'), inplace=True)"
   ]
  },
  {
   "cell_type": "markdown",
   "id": "786b37da-2029-4853-8241-8b457986a25f",
   "metadata": {},
   "source": [
    "Clean age"
   ]
  },
  {
   "cell_type": "code",
   "execution_count": 19,
   "id": "5f4b5bc9-7e93-4de1-b532-b5e6536b16b1",
   "metadata": {},
   "outputs": [],
   "source": [
    "df.age.replace([7, 9], pd.NA, inplace=True)"
   ]
  },
  {
   "cell_type": "markdown",
   "id": "7689d303-4c0f-4690-8bcd-769a1ebc9d43",
   "metadata": {},
   "source": [
    "Convert weight to kilograms"
   ]
  },
  {
   "cell_type": "code",
   "execution_count": 20,
   "id": "39d26528-f5a3-401d-b9d4-551dd570b8d4",
   "metadata": {},
   "outputs": [
    {
     "data": {
      "text/plain": [
       "6818.0     19634\n",
       "9091.0     19517\n",
       "7273.0     19197\n",
       "8182.0     19084\n",
       "7727.0     16085\n",
       "           ...  \n",
       "8800.0         1\n",
       "11100.0        1\n",
       "18455.0        1\n",
       "4600.0         1\n",
       "24300.0        1\n",
       "Name: wtkg2, Length: 473, dtype: int64"
      ]
     },
     "execution_count": 20,
     "metadata": {},
     "output_type": "execute_result"
    }
   ],
   "source": [
    "df.wtkg2.value_counts()"
   ]
  },
  {
   "cell_type": "code",
   "execution_count": 21,
   "id": "cc200712-c612-4795-b42a-c3089d51407b",
   "metadata": {},
   "outputs": [],
   "source": [
    "df.wtkg2 /= 100"
   ]
  },
  {
   "cell_type": "code",
   "execution_count": 22,
   "id": "05265ee8-a2e0-46c0-813b-06022553dd4f",
   "metadata": {},
   "outputs": [],
   "source": [
    "df['wtyrago'] = df.wtyrago.apply(lambda x: x/2.2 if x < 9000 else x-9000)"
   ]
  },
  {
   "cell_type": "code",
   "execution_count": 23,
   "id": "307ff8bf-e50f-4eaa-9c55-52550e4ec6ff",
   "metadata": {},
   "outputs": [
    {
     "data": {
      "text/plain": [
       "age         object\n",
       "sex          int64\n",
       "wtyrago    float64\n",
       "finalwt      int64\n",
       "wtkg2      float64\n",
       "htm3        object\n",
       "dtype: object"
      ]
     },
     "execution_count": 23,
     "metadata": {},
     "output_type": "execute_result"
    }
   ],
   "source": [
    "df.dtypes"
   ]
  },
  {
   "cell_type": "code",
   "execution_count": 24,
   "id": "d80db960-cb83-43e0-853e-0fffbd1e774b",
   "metadata": {},
   "outputs": [],
   "source": [
    "df = df.astype({\n",
    "    'age': pd.Int64Dtype(),\n",
    "    'htm3': pd.Int64Dtype()\n",
    "}).rename(columns={\n",
    "    'htm3': 'height',\n",
    "    'wtkg2': 'weight'\n",
    "})"
   ]
  },
  {
   "cell_type": "code",
   "execution_count": 25,
   "id": "8228265c-b39a-445c-8a40-4487e5c78af8",
   "metadata": {},
   "outputs": [],
   "source": [
    "df.to_feather('../data/brfss.feather')"
   ]
  }
 ],
 "metadata": {
  "kernelspec": {
   "display_name": "Python 3 (ipykernel)",
   "language": "python",
   "name": "python3"
  },
  "language_info": {
   "codemirror_mode": {
    "name": "ipython",
    "version": 3
   },
   "file_extension": ".py",
   "mimetype": "text/x-python",
   "name": "python",
   "nbconvert_exporter": "python",
   "pygments_lexer": "ipython3",
   "version": "3.9.5"
  }
 },
 "nbformat": 4,
 "nbformat_minor": 5
}
