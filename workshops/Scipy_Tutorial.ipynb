{
 "cells": [
  {
   "cell_type": "markdown",
   "id": "fb7f048f-183a-4e3b-b331-5337f571bf6f",
   "metadata": {},
   "source": [
    "# Scipy Tutorial"
   ]
  },
  {
   "cell_type": "code",
   "execution_count": null,
   "id": "6a2147db-f3e7-41ba-a182-fa04c9a63a76",
   "metadata": {},
   "outputs": [],
   "source": [
    "import functools\n",
    "import numpy as np\n",
    "import scipy as sp\n",
    "\n",
    "import matplotlib.pyplot as plt\n",
    "import seaborn as sns"
   ]
  },
  {
   "cell_type": "code",
   "execution_count": null,
   "id": "c6081b80-4fa3-42b1-93c9-c44a552096be",
   "metadata": {},
   "outputs": [],
   "source": [
    "sns.set_theme()"
   ]
  },
  {
   "cell_type": "code",
   "execution_count": null,
   "id": "b9529b69-09f3-4e33-b23f-f436c2188c81",
   "metadata": {},
   "outputs": [],
   "source": [
    "r2 = functools.partial(np.round, decimals=2)"
   ]
  },
  {
   "cell_type": "markdown",
   "id": "215f2307-cc45-47ba-9061-7d9576d64213",
   "metadata": {},
   "source": [
    "## Optimization"
   ]
  },
  {
   "cell_type": "code",
   "execution_count": null,
   "id": "dc2ea1bf-895c-41b5-8018-f42a06860fcb",
   "metadata": {},
   "outputs": [],
   "source": [
    "from scipy.optimize import minimize"
   ]
  },
  {
   "cell_type": "markdown",
   "id": "01ebd4ae-65e1-4d8b-8ae6-666b84deb93a",
   "metadata": {},
   "source": [
    "Minimize $f(x) = (x-3)^2$"
   ]
  },
  {
   "cell_type": "code",
   "execution_count": null,
   "id": "89a54239-8099-4c41-ba9b-04e492bc66c5",
   "metadata": {},
   "outputs": [],
   "source": [
    "def f(x):\n",
    "    return (x-3)**2"
   ]
  },
  {
   "cell_type": "code",
   "execution_count": null,
   "id": "51060ab3-379f-4584-ad08-f54d769ebb31",
   "metadata": {},
   "outputs": [],
   "source": [
    "res = minimize(f, 2)"
   ]
  },
  {
   "cell_type": "code",
   "execution_count": null,
   "id": "a8c5a3d5-6cc5-4c6e-8f9f-9308aaac1916",
   "metadata": {},
   "outputs": [],
   "source": [
    "print(res)"
   ]
  },
  {
   "cell_type": "code",
   "execution_count": null,
   "id": "ebe06afc-0a5b-493b-9b2d-5ac377dcb8f2",
   "metadata": {},
   "outputs": [],
   "source": [
    "r2(res.x.item())"
   ]
  },
  {
   "cell_type": "raw",
   "id": "b95a9689-7f53-4656-affd-20c7e01af88b",
   "metadata": {},
   "source": [
    "load(rjplot)$\n",
    "fx:(x-3)^2;\n",
    "plot_f(fx,[-1, 7])$"
   ]
  },
  {
   "cell_type": "markdown",
   "id": "7b73a98f-7ccd-4ab7-993a-c718b4c39b3f",
   "metadata": {},
   "source": [
    "## Interpolation"
   ]
  },
  {
   "cell_type": "code",
   "execution_count": null,
   "id": "cbefa1a6-dc2b-4fba-8fc1-4df93929d26b",
   "metadata": {},
   "outputs": [],
   "source": [
    "from scipy.interpolate import interp1d"
   ]
  },
  {
   "cell_type": "code",
   "execution_count": null,
   "id": "a703e36d-622e-4a54-be4c-f884a13a0457",
   "metadata": {},
   "outputs": [],
   "source": [
    "# say we only have 10 points\n",
    "x = np.linspace(0, 10, 10)\n",
    "y = x ** 2 * np.sin(x)\n",
    "plt.scatter(x, y);"
   ]
  },
  {
   "cell_type": "code",
   "execution_count": null,
   "id": "60f78e8e-1efd-41c1-a179-2e6cc48082eb",
   "metadata": {},
   "outputs": [],
   "source": [
    "# values inbetween\n",
    "f_linear = interp1d(x, y, kind='linear')"
   ]
  },
  {
   "cell_type": "code",
   "execution_count": null,
   "id": "19a33129-5275-41c5-b8d2-44179a95e360",
   "metadata": {},
   "outputs": [],
   "source": [
    "x_dense = np.linspace(0, 10, 100)\n",
    "y_dense = f_linear(x_dense)\n",
    "plt.plot(x_dense, y_dense);"
   ]
  },
  {
   "cell_type": "code",
   "execution_count": null,
   "id": "375de891-fefc-4a83-b5b5-071044deef93",
   "metadata": {},
   "outputs": [],
   "source": [
    "# cubic\n",
    "f_cubic = interp1d(x, y, kind='cubic')\n",
    "plt.plot(x_dense, f_cubic(x_dense), '--');"
   ]
  },
  {
   "cell_type": "code",
   "execution_count": null,
   "id": "957fa755-b36f-49b7-8725-e94a5c1733e7",
   "metadata": {},
   "outputs": [],
   "source": [
    "# together\n",
    "plt.scatter(x, y);\n",
    "# g-\n",
    "plt.plot(\n",
    "    x_dense,\n",
    "    f_linear(x_dense),\n",
    "    color='green',\n",
    "    linestyle='solid',\n",
    "    label='linear'\n",
    ");\n",
    "plt.plot(\n",
    "    x_dense,\n",
    "    f_cubic(x_dense),\n",
    "    color='red',\n",
    "    linestyle='dashed',\n",
    "    label='cubic'\n",
    ");\n",
    "plt.legend();"
   ]
  }
 ],
 "metadata": {
  "kernelspec": {
   "display_name": "Python 3 (ipykernel)",
   "language": "python",
   "name": "python3"
  },
  "language_info": {
   "codemirror_mode": {
    "name": "ipython",
    "version": 3
   },
   "file_extension": ".py",
   "mimetype": "text/x-python",
   "name": "python",
   "nbconvert_exporter": "python",
   "pygments_lexer": "ipython3",
   "version": "3.9.5"
  }
 },
 "nbformat": 4,
 "nbformat_minor": 5
}
