{
 "cells": [
  {
   "cell_type": "markdown",
   "id": "c8f4629e-13f7-487d-beca-aa994a657ef4",
   "metadata": {},
   "source": [
    "# Reading Household income data"
   ]
  },
  {
   "cell_type": "code",
   "execution_count": null,
   "id": "ae7de294-9800-4d78-9cbd-12006d197c79",
   "metadata": {},
   "outputs": [],
   "source": [
    "from typing import Tuple"
   ]
  },
  {
   "cell_type": "code",
   "execution_count": null,
   "id": "23d3ec66-8bca-499f-9e21-5a822bd47044",
   "metadata": {},
   "outputs": [],
   "source": [
    "import numpy as np\n",
    "import pandas as pd"
   ]
  },
  {
   "cell_type": "markdown",
   "id": "be810363-551c-48c4-88d1-d3ff6a68c46f",
   "metadata": {},
   "source": [
    "The distribution of income is famously skewed to the right. In this exercise, we’ll measure how strong that skew is.\n",
    "The Current Population Survey (CPS) is a joint effort of the Bureau of Labor Statistics and the Census Bureau to study income and related variables. Data collected in 2013 is available from http://www.census.gov/hhes/www/cpstables/032013/hhinc/toc.htm.\n",
    "\n",
    "I downloaded `hinc06.xls`, which is an Excel spreadsheet with information about household income, and converted it to `hinc06.csv`, a CSV file you will find in the repository for this book. You will also find `hinc2.py`, which reads this file and transforms the data.\n",
    "\n",
    "The dataset is in the form of a series of income ranges and the number of respondents who fell in each range.\n",
    "\n",
    "The lowest range includes respondents who reported annual household income Under \\$5000.\n",
    "\n",
    "The highest range includes respondents who made \\$250,000 or more.\n",
    "\n",
    "To estimate mean and other statistics from these data, we have to make some assumptions about the lower and upper bounds, and how the values are distributed in each range. `hinc2.py` provides `InterpolateSample`, which shows one way to model this data. It takes a `DataFrame` with a column, `income`, that contains the upper bound of each range, and `freq`, which contains the number of respondents in each frame.\n",
    "\n",
    "It also takes `log_upper`, which is an assumed upper bound on the highest range, expressed in `log10` dollars. The default value, `log_upper=6.0` represents the assumption that the largest income among the respondents is $10^6$, or one million dollars.\n",
    "\n",
    "`InterpolateSample` generates a pseudo-sample; that is, a sample of household incomes that yields the same number of respondents in each range as the actual data. It assumes that incomes in each range are equally spaced on a `log10` scale."
   ]
  },
  {
   "cell_type": "code",
   "execution_count": null,
   "id": "ea8ba6cd-731d-4f8a-b922-9f540ade8478",
   "metadata": {},
   "outputs": [],
   "source": [
    "df = pd.read_csv('../data/hinc06.csv', header=None, skiprows=9)"
   ]
  },
  {
   "cell_type": "markdown",
   "id": "7c7e53d2-468c-4b23-bf6a-5e3f1830817f",
   "metadata": {},
   "source": [
    "The income level and the number of respondents are the first two columns"
   ]
  },
  {
   "cell_type": "code",
   "execution_count": null,
   "id": "b213999b-254b-4c60-918a-dd966200c7a5",
   "metadata": {},
   "outputs": [],
   "source": [
    "cols = df[[0, 1]].rename(columns={0: 'income', 1: 'freq'})"
   ]
  },
  {
   "cell_type": "code",
   "execution_count": null,
   "id": "9da1a103-32db-46c4-8e57-26d4d09f49c4",
   "metadata": {},
   "outputs": [],
   "source": [
    "cols.head()"
   ]
  },
  {
   "cell_type": "code",
   "execution_count": null,
   "id": "41b00731-39b9-477b-af64-c510407dce43",
   "metadata": {},
   "outputs": [],
   "source": [
    "cols.dtypes"
   ]
  },
  {
   "cell_type": "markdown",
   "id": "54502b7e-5932-4c2d-a046-f18898ddc930",
   "metadata": {},
   "source": [
    "The counts are easy to clean"
   ]
  },
  {
   "cell_type": "code",
   "execution_count": null,
   "id": "d935ad26-9cb8-4200-b949-78f6b5dad61c",
   "metadata": {},
   "outputs": [],
   "source": [
    "cols['freq'] = cols.freq.apply(lambda s: s.replace(',', '')).astype(np.uint64)"
   ]
  },
  {
   "cell_type": "code",
   "execution_count": null,
   "id": "975ee55a-c3fd-4c2e-add6-ec90ecad96a3",
   "metadata": {},
   "outputs": [],
   "source": [
    "cols.dtypes"
   ]
  },
  {
   "cell_type": "markdown",
   "id": "3f99b26c-5902-4aec-801d-bfc05cdf5d01",
   "metadata": {},
   "source": [
    "Getting the upper and lower values from the category will take a little more work"
   ]
  },
  {
   "cell_type": "code",
   "execution_count": null,
   "id": "cf22e125-2061-4ea1-b6f2-a2b2784d2905",
   "metadata": {},
   "outputs": [],
   "source": [
    "def extract_amount(s: str) -> int:\n",
    "    \"\"\"Converts dollar amounts to integers.\"\"\"\n",
    "    s = s.lstrip('$').replace(',', '').lower()\n",
    "    if s == 'under':\n",
    "        return 0\n",
    "    if s == 'over':\n",
    "        return pd.NA\n",
    "    return int(s)"
   ]
  },
  {
   "cell_type": "code",
   "execution_count": null,
   "id": "aee14113-74b0-4e3f-a94c-7cd1928c415b",
   "metadata": {},
   "outputs": [],
   "source": [
    "def extract_bounds(label: str) -> Tuple[int, int]:\n",
    "    t = label.split()\n",
    "    return extract_amount(t[0]), extract_amount(t[-1])"
   ]
  },
  {
   "cell_type": "code",
   "execution_count": null,
   "id": "9ce4c70c-2438-4da5-b3bf-73ab97c6f24b",
   "metadata": {},
   "outputs": [],
   "source": [
    "extract_bounds('$5,000 to  $9,999')"
   ]
  },
  {
   "cell_type": "code",
   "execution_count": null,
   "id": "c138b2cc-25fb-4d81-b88e-6cdc81e82bdb",
   "metadata": {},
   "outputs": [],
   "source": [
    "extract_bounds('Under $5,000')"
   ]
  },
  {
   "cell_type": "code",
   "execution_count": null,
   "id": "91244510-e96d-4ce1-9a83-98e81669d72d",
   "metadata": {},
   "outputs": [],
   "source": [
    "# create an array of tuples\n",
    "bounds = [extract_bounds(label) for label in cols.income.values]"
   ]
  },
  {
   "cell_type": "code",
   "execution_count": null,
   "id": "f5e22888-4cf1-4a12-ba59-174e5b2c33cc",
   "metadata": {},
   "outputs": [],
   "source": [
    "# we want the high values and the frequencies\n",
    "df = pd.DataFrame(dict(\n",
    "    income = [item[1] for item in bounds],\n",
    "    freq = cols.freq.values\n",
    ")).astype({'income': pd.UInt64Dtype()})\n",
    "df.head()"
   ]
  },
  {
   "cell_type": "code",
   "execution_count": null,
   "id": "f5696173-03f1-43b9-8555-cef339aabdde",
   "metadata": {},
   "outputs": [],
   "source": [
    "# correct the first value\n",
    "df.iloc[0, 0] -= 1"
   ]
  },
  {
   "cell_type": "markdown",
   "id": "b870c166-c090-42be-af51-8b5193a48ada",
   "metadata": {},
   "source": [
    "Add a cumulative sum"
   ]
  },
  {
   "cell_type": "code",
   "execution_count": null,
   "id": "17f453fa-952c-4215-8aa1-ca44f75c6c64",
   "metadata": {},
   "outputs": [],
   "source": [
    "df['cumsum'] = df.freq.cumsum()"
   ]
  },
  {
   "cell_type": "code",
   "execution_count": null,
   "id": "eaa0d57a-e476-411d-a080-281a10ef7d24",
   "metadata": {},
   "outputs": [],
   "source": [
    "df.dtypes"
   ]
  },
  {
   "cell_type": "markdown",
   "id": "6b7e34a7-2913-4adb-b9aa-6bc78023c093",
   "metadata": {},
   "source": [
    "normalize the cumulative freqs"
   ]
  },
  {
   "cell_type": "code",
   "execution_count": null,
   "id": "c08e984c-de9b-4daa-9bd9-62180dafc350",
   "metadata": {},
   "outputs": [],
   "source": [
    "total = df['cumsum'][len(df)-1]"
   ]
  },
  {
   "cell_type": "code",
   "execution_count": null,
   "id": "d9c81a39-b5fd-4a6d-b9d2-0e5b6d86bac4",
   "metadata": {},
   "outputs": [],
   "source": [
    "df['ps'] = df['cumsum'] / total"
   ]
  },
  {
   "cell_type": "code",
   "execution_count": null,
   "id": "1348576d-2c8d-48c9-849f-c0eae7bf2033",
   "metadata": {},
   "outputs": [],
   "source": [
    "df.head()"
   ]
  },
  {
   "cell_type": "code",
   "execution_count": null,
   "id": "a5296694-2e51-4802-a0fb-0573d37816e7",
   "metadata": {},
   "outputs": [],
   "source": [
    "df.to_feather('../data/household_incomes.feather')"
   ]
  }
 ],
 "metadata": {
  "kernelspec": {
   "display_name": "Python 3 (ipykernel)",
   "language": "python",
   "name": "python3"
  },
  "language_info": {
   "codemirror_mode": {
    "name": "ipython",
    "version": 3
   },
   "file_extension": ".py",
   "mimetype": "text/x-python",
   "name": "python",
   "nbconvert_exporter": "python",
   "pygments_lexer": "ipython3",
   "version": "3.9.5"
  }
 },
 "nbformat": 4,
 "nbformat_minor": 5
}
