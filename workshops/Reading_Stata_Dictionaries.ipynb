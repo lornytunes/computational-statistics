{
 "cells": [
  {
   "cell_type": "markdown",
   "id": "d922f2bf-460b-4718-a04a-fc3e300f6e35",
   "metadata": {},
   "source": [
    "# Reading Stata Dictionaries"
   ]
  },
  {
   "cell_type": "code",
   "execution_count": null,
   "id": "5ed9f674-62ff-4761-ad78-216376553cdb",
   "metadata": {
    "tags": []
   },
   "outputs": [],
   "source": [
    "import re\n",
    "from typing import List, Tuple\n",
    "from dataclasses import dataclass, field"
   ]
  },
  {
   "cell_type": "code",
   "execution_count": null,
   "id": "7a32745b-cf10-4eb8-8a93-ca8f0a74678e",
   "metadata": {},
   "outputs": [],
   "source": [
    "import pandas as pd"
   ]
  },
  {
   "cell_type": "markdown",
   "id": "e47cdfba-7ff5-4c28-a306-06b5aaffec40",
   "metadata": {},
   "source": [
    "Take a look at the data"
   ]
  },
  {
   "cell_type": "markdown",
   "id": "9bddf83e-f610-4e4c-941f-198d4e35c6c6",
   "metadata": {},
   "source": [
    "We need to read in the information about the schema from a collection of lines that typically look like this:\n",
    "    \n",
    "    _column(1)     str12   caseid  %12s  \"RESPONDENT ID NUMBER\"\n",
    "    _column(13)    byte    rscrinf  %1f  \"WHETHER R IS SCREENER INFORMANT\"\n",
    "    "
   ]
  },
  {
   "cell_type": "markdown",
   "id": "72280da0-4cef-4cfd-b9c1-a0b5abd39d8e",
   "metadata": {},
   "source": [
    "Each line contains 5 pieces of information:\n",
    "\n",
    "- Where the column starts in the fixed width file (columns 1 and 13 in this case)\n",
    "- The type of data (strings of 12 characters and bytes)\n",
    "- The name of the column\n",
    "- A more compact description of the data type as a format string\n",
    "- A description of the column"
   ]
  },
  {
   "cell_type": "markdown",
   "id": "cc61fdc0-3431-4931-a60c-fa91f2337990",
   "metadata": {},
   "source": [
    "The need to extract this information from lines of this type, whilst ignoring others"
   ]
  },
  {
   "cell_type": "markdown",
   "id": "5560e68c-69cf-498c-bb20-3f5e2b9cdcd5",
   "metadata": {},
   "source": [
    "First off, we need to identify the lines we're interested in - i.e those with `_column([start])` in them and at the same time capture the actual start value in the bracketed portion"
   ]
  },
  {
   "cell_type": "code",
   "execution_count": null,
   "id": "b3bbd741-75dc-4cf7-b227-6804459244ee",
   "metadata": {},
   "outputs": [],
   "source": [
    "COLUMN_IDENTIFIER = re.compile(r'_column\\(([\\d]+)\\)')"
   ]
  },
  {
   "cell_type": "code",
   "execution_count": null,
   "id": "1bfe7567-7718-4847-ac4a-b80d872a063a",
   "metadata": {},
   "outputs": [],
   "source": [
    "line = '    _column(13)    byte    rscrinf   %1f  \"WHETHER R IS SCREENER INFORMANT\"'"
   ]
  },
  {
   "cell_type": "markdown",
   "id": "2328c6ee-7adc-4618-a799-529ae385b77f",
   "metadata": {},
   "source": [
    "We are only interested in part of the string so we need to use `search` rather than `match`"
   ]
  },
  {
   "cell_type": "code",
   "execution_count": null,
   "id": "7eb70b87-2dc4-4bfe-a617-aa8a6f9d5882",
   "metadata": {},
   "outputs": [],
   "source": [
    "m = COLUMN_IDENTIFIER.search(line)"
   ]
  },
  {
   "cell_type": "code",
   "execution_count": null,
   "id": "d629e685-948b-4dae-99bd-95e0f6b0f995",
   "metadata": {},
   "outputs": [],
   "source": [
    "m.groups()"
   ]
  },
  {
   "cell_type": "markdown",
   "id": "19096630-1d56-414b-8ab7-eb45dc21b394",
   "metadata": {},
   "source": [
    "And we want the numerical value in the single group"
   ]
  },
  {
   "cell_type": "code",
   "execution_count": null,
   "id": "0e0c88d9-2de1-4163-b013-5ef252caebd7",
   "metadata": {},
   "outputs": [],
   "source": [
    "width = int(m.groups()[0])"
   ]
  },
  {
   "cell_type": "markdown",
   "id": "21a34960-171d-4d5e-8092-61c13bd41c07",
   "metadata": {},
   "source": [
    "And use this information to work out where the rest of the string starts after the match"
   ]
  },
  {
   "cell_type": "code",
   "execution_count": null,
   "id": "5426e06b-d932-46d9-bd43-f7cc55a67c45",
   "metadata": {},
   "outputs": [],
   "source": [
    "# start and end positions of the first matching group\n",
    "m.span(0)\n",
    "_, start = m.span(0)"
   ]
  },
  {
   "cell_type": "markdown",
   "id": "782694b6-3640-403d-9e26-8e9eb0c1aad7",
   "metadata": {},
   "source": [
    "Next we need to extract the quoted long description"
   ]
  },
  {
   "cell_type": "code",
   "execution_count": null,
   "id": "b96effa3-88e4-4ccf-b74d-b84493240ff5",
   "metadata": {},
   "outputs": [],
   "source": [
    "QUOTED_VALUE = re.compile(r'\"([^\"]+)\"')"
   ]
  },
  {
   "cell_type": "code",
   "execution_count": null,
   "id": "22abbd2a-ebde-4709-8992-8ebd61ad322d",
   "metadata": {},
   "outputs": [],
   "source": [
    "m = QUOTED_VALUE.search(line)"
   ]
  },
  {
   "cell_type": "code",
   "execution_count": null,
   "id": "f5567121-4445-4570-a360-bb010a0618bb",
   "metadata": {},
   "outputs": [],
   "source": [
    "description = m.groups()[0]"
   ]
  },
  {
   "cell_type": "markdown",
   "id": "5b45fef5-0ac6-4cef-ad74-f1fc6ef52430",
   "metadata": {},
   "source": [
    "An find out the position in the string *before* the match"
   ]
  },
  {
   "cell_type": "code",
   "execution_count": null,
   "id": "a4146ada-6483-4db3-bab2-404d1df8c8aa",
   "metadata": {},
   "outputs": [],
   "source": [
    "end, _ = m.span(0)"
   ]
  },
  {
   "cell_type": "markdown",
   "id": "94015859-8832-499c-b1b0-29bbe8620d86",
   "metadata": {},
   "source": [
    "Next we need to extract the rest of the information from the part of the string between the two matches"
   ]
  },
  {
   "cell_type": "code",
   "execution_count": null,
   "id": "60dbf39b-e2ba-4deb-b2ba-577e7f668f00",
   "metadata": {},
   "outputs": [],
   "source": [
    "vtype, name, fstring = line[start:end].split()\n",
    "print(f'Type: {vtype}, Name: {name}, Format: {fstring}')"
   ]
  },
  {
   "cell_type": "markdown",
   "id": "c1b59a7a-3b15-478e-a7c8-5103d04cc92f",
   "metadata": {},
   "source": [
    "Next we need to map stata vtypes to python types"
   ]
  },
  {
   "cell_type": "code",
   "execution_count": null,
   "id": "cab99fdf-97c3-4429-81f8-262db3957f21",
   "metadata": {},
   "outputs": [],
   "source": [
    "TYPE_MAP = dict(\n",
    "    byte=int,\n",
    "    int=int,\n",
    "    long=int,\n",
    "    float=float, \n",
    "    double=float,\n",
    "    numeric=float\n",
    ")"
   ]
  },
  {
   "cell_type": "code",
   "execution_count": null,
   "id": "8f7d1da8-8b2c-472f-9b8c-8b09d49d5d08",
   "metadata": {},
   "outputs": [],
   "source": [
    "# map vtype to python type\n",
    "vtype = TYPE_MAP.get(vtype, str)"
   ]
  },
  {
   "cell_type": "markdown",
   "id": "b5ba1ed8-a36c-408c-a57e-d33dd70ff929",
   "metadata": {},
   "source": [
    "Now we need a data class to contain these related field"
   ]
  },
  {
   "cell_type": "code",
   "execution_count": null,
   "id": "54ea1d5d-fa1c-4b0e-bc40-064b8a8c5186",
   "metadata": {},
   "outputs": [],
   "source": [
    "@dataclass\n",
    "class Column:\n",
    "    # start position\n",
    "    start: int\n",
    "    # end position - we don't know this at first\n",
    "    end: int = field(default=0, init=False)\n",
    "    # type of data\n",
    "    vtype: type\n",
    "    # name of the column\n",
    "    name: str\n",
    "    fstring: str\n",
    "    description: str = field(repr=False)\n",
    "        \n",
    "    def col_spec(self, start_index=0) -> Tuple[int, int]:\n",
    "        '''\n",
    "        Returns the start and end positions, with possible correction for zero or one based start\n",
    "        '''\n",
    "        return (self.start - start_index, self.end - start_index)"
   ]
  },
  {
   "cell_type": "markdown",
   "id": "95383ecb-a15f-493e-9a8f-2ca84a8e1320",
   "metadata": {},
   "source": [
    "And a method that extracts a column instance from a line"
   ]
  },
  {
   "cell_type": "code",
   "execution_count": null,
   "id": "dad1be55-91fb-434e-80e3-234ab7d96e11",
   "metadata": {},
   "outputs": [],
   "source": [
    "def read_column(line: str) -> Column:\n",
    "    column_match = COLUMN_IDENTIFIER.search(line)\n",
    "    description_match = QUOTED_VALUE.search(line)\n",
    "    # the end of the match is the start of the line we want\n",
    "    _, s_start = column_match.span(0)\n",
    "    # the start of the description match is the end of the portion of the rest of the line\n",
    "    s_end, _ = description_match.span(0)\n",
    "    # get the captured values\n",
    "    position = int(column_match.groups()[0])\n",
    "    description = description_match.groups()[0]\n",
    "    # get the three remaining values\n",
    "    vtype, name, fstring = line[s_start:s_end].split()\n",
    "    # return them\n",
    "    return Column(position, TYPE_MAP.get(vtype, str), name, fstring, description)\n",
    "    "
   ]
  },
  {
   "cell_type": "code",
   "execution_count": null,
   "id": "ed6f07a5-8d33-4b1b-973e-24c087808d09",
   "metadata": {},
   "outputs": [],
   "source": [
    "col = read_column(line)\n",
    "print(col)"
   ]
  },
  {
   "cell_type": "markdown",
   "id": "e6dab0bd-4184-47d6-a000-2ebb0d4bca2f",
   "metadata": {},
   "source": [
    "Now we can read in a stata schema, given a filepath"
   ]
  },
  {
   "cell_type": "code",
   "execution_count": null,
   "id": "9c1b74e1-f893-4239-b301-9b9acb41bd96",
   "metadata": {},
   "outputs": [],
   "source": [
    "def read_stata_dictionary(filepath) -> List[Column]:\n",
    "    columns = []\n",
    "    # record both starting position of each column\n",
    "    with open(filepath) as fp:\n",
    "        for line in fp:\n",
    "            if '_column' not in line:\n",
    "                # doesn't contain any data\n",
    "                continue\n",
    "            columns.append(read_column(line))\n",
    "    # work out the end positions. Start with all columns except the first\n",
    "    for i in range(1, len(columns)):\n",
    "        # [start, end), e.g [1, 13],[13, 14]..\n",
    "        columns[i-1].end = columns[i].start\n",
    "        \n",
    "    return columns"
   ]
  },
  {
   "cell_type": "code",
   "execution_count": null,
   "id": "cd50eddc-189e-47b3-8bc1-94a06d68c6a2",
   "metadata": {},
   "outputs": [],
   "source": [
    "columns = read_stata_dictionary('../data/2002FemResp.dct')"
   ]
  },
  {
   "cell_type": "code",
   "execution_count": null,
   "id": "d38ee3e0-1650-43f1-bb69-4e7dffdee0c7",
   "metadata": {},
   "outputs": [],
   "source": [
    "print(f'{len(columns)} Columns')"
   ]
  },
  {
   "cell_type": "code",
   "execution_count": null,
   "id": "7b141863-ea2e-4a1d-b724-83828797bcf7",
   "metadata": {},
   "outputs": [],
   "source": [
    "for column in columns[:5]:\n",
    "    print(column)\n",
    "print('...')\n",
    "for column in columns[-5:]:\n",
    "    print(column)"
   ]
  },
  {
   "cell_type": "markdown",
   "id": "1bf6432b-50c0-4dc3-87cb-2f39956cf6e6",
   "metadata": {},
   "source": [
    "We can now try reading in a fixed with file using [pandas](https://pandas.pydata.org/pandas-docs/stable/reference/api/pandas.read_fwf.html)"
   ]
  },
  {
   "cell_type": "code",
   "execution_count": null,
   "id": "64c46c09-e10a-47c2-b7b8-e45879c93574",
   "metadata": {},
   "outputs": [],
   "source": [
    "# counting starts from 0, so we will need to extract 1 from the (start, end) positions\n",
    "index_base=1\n",
    "col_specs = [c.col_spec(index_base) for c in columns]\n",
    "col_names = [c.name for c in columns]"
   ]
  },
  {
   "cell_type": "code",
   "execution_count": null,
   "id": "d67c087b-b0a6-44df-8852-e54ddc5f09b2",
   "metadata": {},
   "outputs": [],
   "source": [
    "df = pd.read_fwf(\n",
    "    '../data/2002FemResp.dat.gz',\n",
    "    colspecs=col_specs,\n",
    "    names=col_names,\n",
    "    compression='gzip',\n",
    "    nrows=100\n",
    ")"
   ]
  },
  {
   "cell_type": "code",
   "execution_count": null,
   "id": "8f6f8a02-dd5f-4d9f-ab67-c18ff0a21966",
   "metadata": {},
   "outputs": [],
   "source": [
    "# column names\n",
    "df.columns"
   ]
  },
  {
   "cell_type": "code",
   "execution_count": null,
   "id": "91b378dc-b69b-4e91-8f0b-835e838b3806",
   "metadata": {},
   "outputs": [],
   "source": [
    "df.dtypes"
   ]
  },
  {
   "cell_type": "code",
   "execution_count": null,
   "id": "1701af7e-a280-41fd-885f-5627b44f8723",
   "metadata": {},
   "outputs": [],
   "source": [
    "df.head()"
   ]
  },
  {
   "cell_type": "markdown",
   "id": "278dc40e-d596-457b-b27d-1e6b7004e502",
   "metadata": {},
   "source": [
    "Lets encapulate this in a data reading method"
   ]
  },
  {
   "cell_type": "code",
   "execution_count": null,
   "id": "2224a7a9-da9b-4d08-9429-5596da27307f",
   "metadata": {},
   "outputs": [],
   "source": [
    "def read_fixed_width(dct_file: str, data_file: str, nrows=None) -> pd.DataFrame:\n",
    "    # options to pass to read_fwf\n",
    "    options = {'nrows': nrows}\n",
    "    # is it compressed\n",
    "    if data_file.endswith('.gz'):\n",
    "        options['compression'] = 'gzip'\n",
    "    columns = read_stata_dictionary(dct_file)\n",
    "    # zero based indexing\n",
    "    index_base=1\n",
    "    col_specs = [c.col_spec(index_base) for c in columns]\n",
    "    col_names = [c.name for c in columns]\n",
    "    return pd.read_fwf(\n",
    "        data_file,\n",
    "        colspecs=col_specs,\n",
    "        names=col_names,\n",
    "        **options\n",
    "    )"
   ]
  },
  {
   "cell_type": "code",
   "execution_count": null,
   "id": "e44ff910-ae36-42b2-90ce-ac124d64d2be",
   "metadata": {},
   "outputs": [],
   "source": [
    "df = read_fixed_width(\n",
    "    '../data/2002FemResp.dct',\n",
    "    '../data/2002FemResp.dat.gz',\n",
    "    nrows=100\n",
    ")"
   ]
  },
  {
   "cell_type": "code",
   "execution_count": null,
   "id": "01c40b6c-9a87-480f-afc0-6326db177621",
   "metadata": {},
   "outputs": [],
   "source": [
    "df.head()"
   ]
  },
  {
   "cell_type": "markdown",
   "id": "c999de08-e46d-4fd9-ba56-26b8de7ef804",
   "metadata": {},
   "source": [
    "Lets put this in its own dedicated module"
   ]
  },
  {
   "cell_type": "code",
   "execution_count": null,
   "id": "1438c64b-ab27-436f-84cb-6149b7f8da17",
   "metadata": {},
   "outputs": [],
   "source": [
    "import sys\n",
    "sys.path.append('../lib')"
   ]
  },
  {
   "cell_type": "code",
   "execution_count": null,
   "id": "8149b090-5f52-454b-bde2-73aca4bee802",
   "metadata": {},
   "outputs": [],
   "source": [
    "import fwf"
   ]
  },
  {
   "cell_type": "code",
   "execution_count": null,
   "id": "27a1433d-0a6d-4f0c-b60a-762c39972d2e",
   "metadata": {},
   "outputs": [],
   "source": [
    "df = fwf.read_fixed_width(\n",
    "    '../data/2002FemResp.dct',\n",
    "    '../data/2002FemResp.dat.gz'\n",
    ")"
   ]
  },
  {
   "cell_type": "code",
   "execution_count": null,
   "id": "231383b8-dc0f-4348-b707-2ba558e1445c",
   "metadata": {},
   "outputs": [],
   "source": [
    "df.head()"
   ]
  },
  {
   "cell_type": "code",
   "execution_count": null,
   "id": "733905c4-a53e-451c-981a-a4e5b2c40f91",
   "metadata": {},
   "outputs": [],
   "source": [
    "df.to_feather('../data/2002FemResp.feather')"
   ]
  }
 ],
 "metadata": {
  "kernelspec": {
   "display_name": "Python 3 (ipykernel)",
   "language": "python",
   "name": "python3"
  },
  "language_info": {
   "codemirror_mode": {
    "name": "ipython",
    "version": 3
   },
   "file_extension": ".py",
   "mimetype": "text/x-python",
   "name": "python",
   "nbconvert_exporter": "python",
   "pygments_lexer": "ipython3",
   "version": "3.9.5"
  }
 },
 "nbformat": 4,
 "nbformat_minor": 5
}
