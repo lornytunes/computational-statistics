{
 "cells": [
  {
   "cell_type": "markdown",
   "id": "03142fb0-ede1-43f8-84c7-9f31ff20a765",
   "metadata": {},
   "source": [
    "# Exploring Distributions with Scipy"
   ]
  },
  {
   "cell_type": "code",
   "execution_count": null,
   "id": "8b64df2a-a93f-472a-b1ba-414fa3b5f1ab",
   "metadata": {},
   "outputs": [],
   "source": [
    "import itertools\n",
    "from functools import partial\n",
    "\n",
    "import numpy as np\n",
    "import pandas as pd\n",
    "\n",
    "from scipy import stats\n",
    "from scipy.special import gamma"
   ]
  },
  {
   "cell_type": "code",
   "execution_count": null,
   "id": "c4761576-12c4-4244-8532-94542f70ebad",
   "metadata": {},
   "outputs": [],
   "source": [
    "from matplotlib import pyplot as plt\n",
    "from IPython.core.pylabtools import figsize\n",
    "import seaborn as sns"
   ]
  },
  {
   "cell_type": "code",
   "execution_count": null,
   "id": "dd563d29-bec3-407c-baf7-99fd3b24f7ae",
   "metadata": {},
   "outputs": [],
   "source": [
    "# some colours\n",
    "LIGHT_BLUE = '#348ABD'\n",
    "PURPLE = '#A60628'\n",
    "DARK_GREEN = '#467821'\n",
    "colours = [LIGHT_BLUE, PURPLE, DARK_GREEN]\n",
    "\n",
    "sns.set_theme()"
   ]
  },
  {
   "cell_type": "code",
   "execution_count": null,
   "id": "5c8838ad-de95-4133-874f-c05c13b080af",
   "metadata": {},
   "outputs": [],
   "source": [
    "figsize(11, 6)"
   ]
  },
  {
   "cell_type": "code",
   "execution_count": null,
   "id": "c42026e3-1253-450c-806b-ac01e6b8e70f",
   "metadata": {},
   "outputs": [],
   "source": [
    "r2 = partial(np.round, decimals=2)\n",
    "r4 = partial(np.round, decimals=3)"
   ]
  },
  {
   "cell_type": "markdown",
   "id": "3d1a7c5c-e929-4c24-92f2-514d1b8e1471",
   "metadata": {},
   "source": [
    "## Poisson\n",
    "\n",
    "The Poisson distribution represents the number of events occurring over a specific time period, given that several conditions hold:\n",
    "\n",
    "- An event either occurs or does not, that is, there are no half-events.\n",
    "- The average number of events per the time period being considered is known.\n",
    "- An event should have the same probability of occurring at any point in the time period. For example, it should not be more likely to occur at the start of a day than at the end of a day.\n",
    "- Each event is independent.\n",
    "\n",
    "Any number of events could occur during the time period being considered.\n",
    "\n",
    "These conditions need not hold perfectly for the Poisson distribution to be a good model, but they need to hold at least approximately. For instance, while it is technically true that the number of people doing some task over a given time period does not satisfy the last condition (as there are a finite number of people on the planet), for all practical purposes the condition holds.\n",
    "\n",
    "The Poisson distribution is described by a single parameter $\\lambda$. This value represents:\n",
    "\n",
    "- the average number of events over a given time period\n",
    "- the variance for number of events over a given time period\n",
    "\n",
    "The pdf is defined as:\n",
    "\n",
    "$$\n",
    "P(k) = \\frac{\\lambda^k e^{-\\lambda}}{k!}\n",
    "$$\n",
    "\n",
    "$P(k)$ describes the probability of observing _k_ events within a given time period, where &lambda; is the average number of events that occur in that same time period.\n",
    "\n",
    "&lambda; is called a parameter of the distribution, and it controls the distribution's shape. For the Poisson distribution, &lambda; can be any positive number. By increasing &lambda;, we add more probability to larger values, and conversely by decreasing &lambda; we add more probability to smaller values. One can describe &lambda; as the intensity of the Poisson distribution.\n",
    "\n",
    "One useful property of the Poisson distribution is that its expected value is equal to its parameter: $E[Z|\\lambda] = \\lambda$\n",
    "\n",
    "The list of applications of the Poisson distribution is very long, but here are just a few:\n",
    "\n",
    "- The number of customers who call to complain about a service problem per month\n",
    "- The number of visitors to a website per minute\n",
    "- The number of arrivals of at a car wash per hour\n"
   ]
  },
  {
   "cell_type": "code",
   "execution_count": null,
   "id": "fee58768-854d-4689-9171-43ebcf50f96e",
   "metadata": {},
   "outputs": [],
   "source": [
    "# samples - counts between 0 and 15\n",
    "x = np.arange(16)\n",
    "# constrasting values for lambda\n",
    "params = [1.5, 4.25, 10]\n",
    "samples = [stats.poisson.pmf(x, l) for l in params]"
   ]
  },
  {
   "cell_type": "code",
   "execution_count": null,
   "id": "0510e304-4cf3-4458-8bc0-d7cee2639e81",
   "metadata": {},
   "outputs": [],
   "source": [
    "colnames = [f'p={p}' for p in params]\n",
    "colnames"
   ]
  },
  {
   "cell_type": "code",
   "execution_count": null,
   "id": "5d7744f6-898b-4c81-84f7-facbdcbdf0bf",
   "metadata": {},
   "outputs": [],
   "source": [
    "df = pd.DataFrame(\n",
    "    dict(itertools.chain([('x', x)], (zip(colnames, samples))))\n",
    ").melt(\n",
    "    id_vars = 'x',\n",
    "    value_vars = colnames,\n",
    "    var_name = 'lambda',\n",
    "    value_name = 'k'\n",
    ")\n",
    "df.head()"
   ]
  },
  {
   "cell_type": "code",
   "execution_count": null,
   "id": "5b77f947-066f-4c46-a38e-181735e0acd2",
   "metadata": {},
   "outputs": [],
   "source": [
    "p = sns.barplot(\n",
    "    data = df,\n",
    "    x = 'x',\n",
    "    y = 'k',\n",
    "    hue = 'lambda',\n",
    "    dodge = False,\n",
    "    saturation = 1\n",
    ");\n",
    "p.set(\n",
    "    xlabel = '$k',\n",
    "    ylabel = '$p(k)',\n",
    "    title = 'Probability mass function of a Poisson random variable; differing $\\lambda$ value'\n",
    ");\n",
    "p.get_legend().set_title('$\\lambda');"
   ]
  },
  {
   "cell_type": "code",
   "execution_count": null,
   "id": "d0786f10-971b-4dd4-b1f5-ccf6481bfb07",
   "metadata": {},
   "outputs": [],
   "source": [
    "# plot\n",
    "x = np.arange(16)\n",
    "# two parameters for lamda\n",
    "params = [1.5, 4.25, 10]\n",
    "\n",
    "for i in range(len(params)):\n",
    "    plt.bar(\n",
    "        x,\n",
    "        stats.poisson.pmf(x, params[i]),\n",
    "        color=colours[i],\n",
    "        label=f\"$\\lambda = {params[i]:.1f}$\",\n",
    "        alpha=0.60,\n",
    "        edgecolor=colours[i],\n",
    "        lw=\"1\"\n",
    "    )\n",
    "# labels and titles\n",
    "plt.xticks(x + 0.2, x)\n",
    "plt.legend()\n",
    "plt.ylabel(\"probability of $k$\")\n",
    "plt.xlabel(\"$k$\")\n",
    "plt.title(\"Probability mass function of a Poisson random variable; differing $\\lambda$ values\");"
   ]
  },
  {
   "cell_type": "markdown",
   "id": "8f9cadbf-4af0-4124-b62d-455718e978f8",
   "metadata": {},
   "source": [
    "### Examples"
   ]
  },
  {
   "cell_type": "markdown",
   "id": "3b54ab21-6115-4d73-9dd4-07cbc26e3dc1",
   "metadata": {},
   "source": [
    "1. Which of the following situations is described well by a Poisson distribution?\n",
    "\n",
    "- The number of cars traveling along a road in a given day\n",
    "- The number of games one team wins against another team in a single day\n",
    "- The number of cars traveling along a road in a given hour\n",
    "- The number of players on a baseball team that get sick in a given week"
   ]
  },
  {
   "cell_type": "markdown",
   "id": "6ac67163-74ce-47f0-98ca-17bf28511326",
   "metadata": {},
   "source": [
    "Correct answer: The number of cars traveling along a road in a given hour\n",
    "\n",
    "The number of cars traveling along a road in a given hour is well described by a Poisson distribution, as\n",
    "\n",
    "- the number of cars is practically unbounded,\n",
    "- the probability of a car driving along the road at the start of the hour is approximately the same as the probability of a car driving along the road at the end of the hour, and\n",
    "- each car has a roughly independent choice of whether to drive along the road.\n",
    "\n",
    "The number of cars traveling along the road in a given day is not Poisson distributed, as certain times (\"rush hours\") are likely to be more populated than others. The number of players on a baseball team that get sick in a given week is bounded above by the number of players on the team, so it cannot be Poisson distributed. Additionally, the event of getting sick is likely not independent for each player, since teammates can infect each other. Finally, the number of games one team wins against another in a single day is not Poisson distributed, as the games are not independent of each other -- the outcome of one can affect the games that follow."
   ]
  },
  {
   "cell_type": "markdown",
   "id": "b5f840ce-232f-4d35-88dc-36ea9b8cab75",
   "metadata": {},
   "source": [
    "2. A person knows that on average, they receive 9 letters in the mail per week. What is the probability (rounded to the nearest hundredth) that, in a given week, the person receives exactly 9 letters?"
   ]
  },
  {
   "cell_type": "markdown",
   "id": "5f31a63c-26f9-48f3-8128-5450952ea6b3",
   "metadata": {},
   "source": [
    "The number of letters that this person receives in a week meets the requirements for a Poisson distribution.\n",
    "\n",
    "- The event of getting a letter either occurs or does not.\n",
    "- We know that the average number of letters in the mail per week is 9.\n",
    "- The probability of receiving a letter is the same throughout the week (since mail is not delivered on Sundays, we will not consider Sunday as a part of the week).\n",
    "- Each piece of mail received is independent of the others. For example, getting a letter from a pen pal and a credit card bill are not related.\n",
    "- There is no limit to the amount of mail that can be received in a week.\n",
    "\n",
    "Since the number of letters follows a Poisson distribution, we can use the given formula, with $k=9$ and $\\lambda=9$"
   ]
  },
  {
   "cell_type": "code",
   "execution_count": null,
   "id": "55c4acf1-1baf-47dc-a927-9de7ea228d51",
   "metadata": {},
   "outputs": [],
   "source": [
    "# k = 9, lambda = 9\n",
    "p_dist = stats.poisson(9)\n",
    "r2(p_dist.pmf(9))"
   ]
  },
  {
   "cell_type": "code",
   "execution_count": null,
   "id": "5bd97d3e-582f-4297-a708-480e085a275e",
   "metadata": {},
   "outputs": [],
   "source": [
    "x = np.arange(0, 20)\n",
    "plt.bar(\n",
    "    x,\n",
    "    p_dist.pmf(x),\n",
    "    align='center',\n",
    "    label=\"$\\lambda = 9$\",\n",
    "    alpha=0.6\n",
    ");\n",
    "plt.xticks(x);\n",
    "plt.ylabel(\"probability of $k$\");\n",
    "plt.xlabel(\"$k$\");\n",
    "plt.title('$pois(\\lambda=9)$');"
   ]
  },
  {
   "cell_type": "markdown",
   "id": "8aee83c1-ed86-4f73-b3ce-b5326514b327",
   "metadata": {},
   "source": [
    "2. A person knows that they average 9 letters in the mail per week. What is the standard deviation in the number of letters the person receives in a given week?"
   ]
  },
  {
   "cell_type": "markdown",
   "id": "dd39e716-94cd-4008-a012-d7f7173e3de5",
   "metadata": {},
   "source": [
    "The average number of letters per week is 9, so $\\lambda=9$\n",
    "\n",
    "The variance for the Poisson distribution is also &lambda;. Thus, the standard deviation in the number of letters per week is $\\sqrt{9} = 3$"
   ]
  },
  {
   "cell_type": "code",
   "execution_count": null,
   "id": "cc93f008-50f5-4314-9ba9-35b912524ab5",
   "metadata": {},
   "outputs": [],
   "source": [
    "p_dist.std()"
   ]
  },
  {
   "cell_type": "markdown",
   "id": "1d798c43-722d-4460-b7c3-ba4b6afc314d",
   "metadata": {
    "tags": []
   },
   "source": [
    "3. A person keeps track of the number of letters in the mail they receive per week for a year."
   ]
  },
  {
   "cell_type": "code",
   "execution_count": null,
   "id": "12723afd-5fc9-4b79-a23d-9ab883770b68",
   "metadata": {},
   "outputs": [],
   "source": [
    "letters = np.array([3, 4, 5, 6, 7, 8, 9, 10, 11])\n",
    "frequency = np.array([3, 5, 7, 8, 8, 6, 6, 5, 4])"
   ]
  },
  {
   "cell_type": "code",
   "execution_count": null,
   "id": "67b7c7e1-cc2a-4896-a9a6-76831894c299",
   "metadata": {},
   "outputs": [],
   "source": [
    "pd.DataFrame(dict(letters=letters, frequency=frequency))"
   ]
  },
  {
   "cell_type": "markdown",
   "id": "e28f70ea-b6e0-4f12-b861-399b2bce7b3f",
   "metadata": {},
   "source": [
    "What is the (approximate) probability that they receive more than 10 letters in a given week the following year, assuming it follows a Poisson distribution?"
   ]
  },
  {
   "cell_type": "code",
   "execution_count": null,
   "id": "1bec0f21-4872-4548-b290-3d90cddc38c2",
   "metadata": {},
   "outputs": [],
   "source": [
    "# total letters divided by 52 weeks gives number of letters per week\n",
    "total_letters = letters.dot(frequency)\n",
    "lambda_ = total_letters // 52\n",
    "print(f'Total: {total_letters}: lambda: {lambda_}')"
   ]
  },
  {
   "cell_type": "markdown",
   "id": "cbb92049-dba7-4862-a08f-df37c6ad8bc7",
   "metadata": {},
   "source": [
    "We want to find the probability that this person receives more than 10 letters in a week. This is equal to:\n",
    "\n",
    "$$\n",
    "P_x(11) + P_x(12) + P_x(13) + \\ldots\n",
    "$$\n",
    "\n",
    "giving the infinite sum\n",
    "\n",
    "$$\n",
    "\\sum_{k=11}^{\\inf}{P_x(k)}\n",
    "$$"
   ]
  },
  {
   "cell_type": "markdown",
   "id": "239c4d26-162e-4642-9602-f4c9d7504b7f",
   "metadata": {},
   "source": [
    "In maxima"
   ]
  },
  {
   "cell_type": "raw",
   "id": "b25acb2f-3d92-4575-bb7b-4289b90a211a",
   "metadata": {},
   "source": [
    "fk:7^k/k!;\n",
    "sk:sum(fk*exp(-7), k, 13, inf);\n",
    "cf:sum(fk, k, 1, 10);\n",
    "sk:exp(-7) * sum(fk, k, 1, inf) - cf;"
   ]
  },
  {
   "cell_type": "markdown",
   "id": "eabc5483-c00d-4c99-8052-ffcd64a067a2",
   "metadata": {},
   "source": [
    "Given the following power series\n",
    "\n",
    "$$\n",
    "e^x = \\sum_{k=0}^{\\inf}{x^k/k!}\n",
    "$$"
   ]
  },
  {
   "cell_type": "raw",
   "id": "1b1b5698-1364-4ddc-a2dc-a6eb2e2c8327",
   "metadata": {},
   "source": [
    "eq:exp(-7) * (exp(7) - cf);\n",
    "ev(eq,numer);"
   ]
  },
  {
   "cell_type": "markdown",
   "id": "df5c5c82-95bb-4cc5-aa12-50c763b334a1",
   "metadata": {},
   "source": [
    "This is about a 10% chance that this person receives more than 10 letters in a given week."
   ]
  },
  {
   "cell_type": "code",
   "execution_count": null,
   "id": "b0f8f8c2-6dad-4aa4-83f8-3f51eac2935a",
   "metadata": {},
   "outputs": [],
   "source": [
    "p_dist = stats.poisson(lambda_)\n",
    "# everything to the right of 0-10\n",
    "r4(1 - p_dist.cdf(10))"
   ]
  },
  {
   "cell_type": "markdown",
   "id": "4bed2061-c76d-434e-8bdf-5788887ec733",
   "metadata": {},
   "source": [
    "3. A batch of cookie dough makes 100 cookies. What is the smallest number of chocolate chips that should be added to the dough so that, when thoroughly mixed and sliced into 100 cookies, the probability that a cookie contains zero chocolate chips is less than 1%?"
   ]
  },
  {
   "cell_type": "markdown",
   "id": "3355c027-e799-471c-9dd3-39f186fccdaf",
   "metadata": {},
   "source": [
    "Since the chocolate chips are thoroughly mixed into the dough, the number of chocolate chips in each cookie is approximately Poisson distributed. Let &lambda; be the average number of chocolate chips in each cookie after we add the chocolate chips.\n",
    "\n",
    "We want &lambda; such that $P_x(0) \\lt 0.01$ and since\n",
    "\n",
    "$$\n",
    "P_x(0) = \\frac{\\lambda^0 e^{-\\lambda}}{0!} = e^{-\\lambda}\n",
    "$$\n",
    "\n",
    "then we want $e^{-\\lambda} \\lt 0.01$"
   ]
  },
  {
   "cell_type": "raw",
   "id": "7c63d634-5592-42ba-acac-47163a219c4a",
   "metadata": {},
   "source": [
    "eq:exp(-x) = 1/100;\n",
    "eq:logex(eq);\n",
    "eq:divthru(-1, eq);\n",
    "ev(eq, numer);"
   ]
  },
  {
   "cell_type": "markdown",
   "id": "79b3ab06-ff8f-4b8e-993e-0403939def57",
   "metadata": {},
   "source": [
    "Since $e^{-x}$ is a decreasing function we have $e^{-\\lambda} < 0.01$ when $\\lambda > 4.605$\n",
    "\n",
    "This batch makes 100 cookies, so we need to add at least $100 \\cdot 4.605 = 460.5$ chocolate chips. And because we add whole chocolate chips, we must round up to 461 to ensure the probability of a cookie with zero chocolate chips is less than 1%."
   ]
  },
  {
   "cell_type": "markdown",
   "id": "f8464180-4f26-4aca-9633-c2cd7a82b92a",
   "metadata": {},
   "source": [
    "4. An emergency room averages 3 patients per hour. Assuming each patient takes the full hour to treat, what is the fewest number of doctors that should be on call so there is at least a 90% chance of not having more patients than doctors during a given hour?"
   ]
  },
  {
   "cell_type": "markdown",
   "id": "5985ca68-a854-43ca-834a-e8312c1c6a54",
   "metadata": {},
   "source": [
    "If there are $X=k$ patients in an hour, the emergency room needs at least k doctors. So we want to find the number of patients k so that $P(X \\le k) \\ge 0.9$"
   ]
  },
  {
   "cell_type": "code",
   "execution_count": null,
   "id": "b5339598-a412-4ddb-8eab-c4bf07d81ad2",
   "metadata": {},
   "outputs": [],
   "source": [
    "p_dist = stats.poisson(3)\n",
    "p_dist.ppf(0.9)"
   ]
  },
  {
   "cell_type": "markdown",
   "id": "983d0c03-9595-467d-b571-cc16ad2e50a7",
   "metadata": {},
   "source": [
    "So if the emergency room has 5 doctors on call, there is at least a 90% chance of having at least as many doctors as patients."
   ]
  },
  {
   "cell_type": "markdown",
   "id": "5e8d5717-1c10-4be2-ba92-bbc17c6f2c0f",
   "metadata": {},
   "source": [
    "## Binomial\n",
    "\n",
    "The binomial distribution describes a sequence of identical, independent Bernoulli trials. That is, each trial has the same probability of success, and the results of one trial do not affect any of the following trials.\n",
    "\n",
    "For instance, if a fair coin is flipped 100 times, the number of heads can be described by a binomial distribution, as each coin flip can be represented by the same Bernoulli distribution--even if the coin is unfair."
   ]
  },
  {
   "cell_type": "markdown",
   "id": "f8067a98-6bf8-446f-bb37-aa3910c5a580",
   "metadata": {},
   "source": [
    "### Examples"
   ]
  },
  {
   "cell_type": "markdown",
   "id": "5f857a2a-d0cf-43e7-b341-60cb6061aadc",
   "metadata": {},
   "source": [
    "1. A fair coin is flipped 10 times. What is the probability that an even number of heads appear?"
   ]
  },
  {
   "cell_type": "code",
   "execution_count": null,
   "id": "ca23762c-7301-45db-9848-ebe04e80eaef",
   "metadata": {},
   "outputs": [],
   "source": [
    "# 0 - 10\n",
    "n = 10\n",
    "p = 0.5\n",
    "x = np.arange(0, n+1)\n",
    "# flag even as true, odd as false\n",
    "even_numbers = x[x % 2 == 0]\n",
    "b_dist = stats.binom(n, p)\n",
    "r2(b_dist.pmf(even_numbers).sum())"
   ]
  },
  {
   "cell_type": "code",
   "execution_count": null,
   "id": "55094ba5-6291-4f0c-a1b8-a529b1344349",
   "metadata": {},
   "outputs": [],
   "source": [
    "n = 10\n",
    "p = 0.5"
   ]
  },
  {
   "cell_type": "markdown",
   "id": "35d1016d-37bb-40db-a82c-2abb327f3d13",
   "metadata": {},
   "source": [
    "about 1/2"
   ]
  },
  {
   "cell_type": "markdown",
   "id": "d46bebe6-1ecf-4f9c-a416-a4a071b7b5aa",
   "metadata": {},
   "source": [
    "2. A manufacturer knows that 20% of the widgets he produces are defective. If he needs to sell at least 10 (non-defective) widgets, how many times does he need to produce a (possibly defective) widget so that he has at least a 90% chance of meeting his quota?\n",
    "\n",
    "We need to find n so that\n",
    "\n",
    "$$\n",
    "\\sum_{i=10}^{n}{{n \\choose i} (0.8)^i (0.2)^{n-i} \\ge 0.9}\n",
    "$$"
   ]
  },
  {
   "cell_type": "code",
   "execution_count": null,
   "id": "ffd8396d-4b7a-4f56-a77d-72308ef0fee1",
   "metadata": {},
   "outputs": [],
   "source": [
    "def px(n: int, p: float) -> float:\n",
    "    dist = stats.binom(n, p)\n",
    "    return sum([dist.pmf(i) for i in np.arange(10, n+1)])"
   ]
  },
  {
   "cell_type": "code",
   "execution_count": null,
   "id": "4e24b915-4cf8-46de-9ffa-dd1c6de5abb8",
   "metadata": {},
   "outputs": [],
   "source": [
    "# 10 - 15\n",
    "n_vals = np.arange(10, 16)\n",
    "p = 0.8\n",
    "p_vals = [px(n, p) for n in n_vals]\n",
    "pd.DataFrame(dict(n=n_vals, probability=r4(p_vals)))"
   ]
  },
  {
   "cell_type": "markdown",
   "id": "b6e67b4e-4601-47e5-ab1f-853f448a203d",
   "metadata": {},
   "source": [
    "The sum is first greater than 0.9 when $n=15$"
   ]
  },
  {
   "cell_type": "markdown",
   "id": "f02d0cb6-4d40-4666-bb41-74683a5a6855",
   "metadata": {},
   "source": [
    "3. A weighted coin has probability $p=0.10$ of showing heads. What is the expected number of heads resulting from flipping the coin 100 times?"
   ]
  },
  {
   "cell_type": "code",
   "execution_count": null,
   "id": "a6e76be7-1d9c-4da4-b6aa-bda5a1eeaffb",
   "metadata": {},
   "outputs": [],
   "source": [
    "stats.binom(100, 0.1).mean()"
   ]
  },
  {
   "cell_type": "markdown",
   "id": "8fcc7307-2a54-4743-942f-c0a21c9b4bcf",
   "metadata": {},
   "source": [
    "4. A coin is flipped 20 times, and 16 heads are observed. Is this enough to conclude that the coin is biased?"
   ]
  },
  {
   "cell_type": "markdown",
   "id": "e406b01c-5bbe-44e5-90e4-14e5f01ec4ba",
   "metadata": {},
   "source": [
    "If the coin is actually fair, then the probability of heads is $p=0.5$\n",
    "\n",
    "Assuming this is true, we calculate the probability of getting at least 16 heads in 20 flips, which is the sum of the following:"
   ]
  },
  {
   "cell_type": "code",
   "execution_count": null,
   "id": "7ca67714-304b-4cd0-9796-e31984c5471f",
   "metadata": {},
   "outputs": [],
   "source": [
    "b_dist = stats.binom(20, 0.5)\n",
    "r4(b_dist.pmf(np.arange(16, 21)).sum())"
   ]
  },
  {
   "cell_type": "markdown",
   "id": "6ca81a4d-8312-4219-9c22-7241d96f06c1",
   "metadata": {},
   "source": [
    "Because this is less than 1%, we can reject the assumption that the coin is fair at the 99% confidence level, which means we conclude that the coin is biased at the 99% confidence level."
   ]
  },
  {
   "cell_type": "markdown",
   "id": "04517776-8ff9-41bc-92c1-25f4dad94dda",
   "metadata": {},
   "source": [
    "## Exponential\n",
    "\n",
    "The exponential distribution describes the time between events that follow a Poisson distribution. For a random variable to be Poisson distributed, the following conditions must be met (at least approximately):\n",
    "\n",
    "- The average number of events per time period being considered is known.\n",
    "- An event should have the same probability of occurring at any point in the time period. For example, it should not be more likely to occur at the start of a day than at the end of a day.\n",
    "- Each event is independent.\n",
    "- Any number of events could occur during the time period being considered.\n",
    "\n",
    "he probability density function of an exponential random variable $z$ is\n",
    "\n",
    "$$\n",
    "P(z|\\lambda) = \\lambda e^{-\\lambda z}\n",
    "$$\n",
    "\n",
    "Like a Poisson random variable, an exponential random variable can take on only non-negative values. But unlike a Poisson variable, the exponential can take on any non-negative values, including non-integral values such as 4.25 or 5.612401\n",
    "\n",
    "This property makes it a poor choice for count data, which must be an integer, but a great choice for time data, temperature data (measured in Kelvins, of course), or any other precise and positive variable. The graph below shows two probability density functions with different &lambda; values.\n",
    "\n",
    "Given a specific &lambda;, the expected value of an exponential random variable is equal to the inverse of &lambda;, that is:\n",
    "\n",
    "$$\n",
    "E[z|\\lambda]=\\frac{1}{\\lambda}\n",
    "$$"
   ]
  },
  {
   "cell_type": "code",
   "execution_count": null,
   "id": "d91e5c49-3493-4863-8c7e-1b43edfcde24",
   "metadata": {},
   "outputs": [],
   "source": [
    "# candidate values of z\n",
    "x = np.linspace(0, 4, 100)\n",
    "# the exponential distribution\n",
    "expo = stats.expon\n",
    "# sample lambda variabiales\n",
    "lambda_ = [0.5, 1]\n",
    "\n",
    "for l_param, colour in zip(lambda_, colours[:2]):\n",
    "    y=expo.pdf(x, scale=1/l_param)\n",
    "    plt.plot(\n",
    "        x, y,\n",
    "        lw=3,\n",
    "        color=colour,\n",
    "        label=f\"$\\lambda = {l_param:0.3f}$\"\n",
    "    )\n",
    "    plt.fill_between(x, y, color=colour, alpha=.25)\n",
    "\n",
    "plt.legend()\n",
    "plt.ylabel(\"PDF at $z$\")\n",
    "plt.xlabel(\"$z$\")\n",
    "plt.ylim(0,1.2)\n",
    "plt.title(\"Probability density function of an Exponential random variable; differing $\\lambda$\");"
   ]
  },
  {
   "cell_type": "markdown",
   "id": "9190aea4-c265-4801-ab47-0e901848cc65",
   "metadata": {},
   "source": [
    "### Examples"
   ]
  },
  {
   "cell_type": "markdown",
   "id": "c6c444ee-8001-4233-9f08-39fa25dba543",
   "metadata": {},
   "source": [
    "1. Which of the following situations is described well by an exponential distribution?\n",
    "\n",
    "- Rolling a fair die\n",
    "- The heights of students in a school\n",
    "- The number of hairs on a person's head\n",
    "- The time between two flashes of lightning during a storm"
   ]
  },
  {
   "cell_type": "markdown",
   "id": "50b1541d-e5e5-454c-8697-53e20a7cce05",
   "metadata": {},
   "source": [
    "The time between two flashes of lightning during a storm\n",
    "\n",
    "The time between two flashes of lightning describes the time between events in a Poisson process, as the flashes of lightning are well-described by a Poisson distribution. Thus the time between flashes of lightning is exponentially distributed.\n",
    "\n",
    "Heights are the classical example of normally distributed data, so they are not exponentially distributed. Rolling a fair die results in a discrete uniform distribution. Finally, the number of hairs on a person's head is unrelated to a Poisson process, and thus is not described by an exponential distribution (and probably not by any particularly nice distribution in general)."
   ]
  },
  {
   "cell_type": "markdown",
   "id": "90c9eba3-77cb-42a1-9427-b99fe6df08a3",
   "metadata": {},
   "source": [
    "2. The lifetime of a part follows an exponential distribution, and each part lasts an average of 1 year. A manufacturer offers to replace any part that breaks within 3 months. What is the (approximate) probability the manufacturer will have to replace a given part?"
   ]
  },
  {
   "cell_type": "markdown",
   "id": "0d601524-2df2-457c-88bd-f4bba1119011",
   "metadata": {},
   "source": [
    "3 months is a quarter of a year. With $\\lambda=1$, the probability of a part breaking within the first quarter-year is the integral of the PDF from $t = 0$ to $t = 3$"
   ]
  },
  {
   "cell_type": "raw",
   "id": "5ede4464-8248-40ea-aab3-c9ecddf8be28",
   "metadata": {},
   "source": [
    "fe:a*exp(-a*t);\n",
    "ft:fe,a=1;\n",
    "Ft:integrate(ft, t, 0, 1/4);\n",
    "ev(Ft, numer);"
   ]
  },
  {
   "cell_type": "code",
   "execution_count": null,
   "id": "7e15605d-d35c-4bb6-9122-2f2d93f72be6",
   "metadata": {},
   "outputs": [],
   "source": [
    "r2(stats.expon(scale=1).cdf(0.25))"
   ]
  },
  {
   "cell_type": "markdown",
   "id": "7d9c9512-e9d7-47fc-a329-4c6fcb73f83f",
   "metadata": {},
   "source": [
    "3. At a call center, calls come in every 20 minutes on average. What is the (approximate) probability that no calls will come in for a 30 minute period?"
   ]
  },
  {
   "cell_type": "markdown",
   "id": "476cf103-5f8e-4508-93c5-fa5522a6aef8",
   "metadata": {},
   "source": [
    "The time between calls can be represented by an exponential distribution with $\\lambda = 3$, since one call every 20 minutes is 3 calls per hour. The probability that at least half an hour passes between calls is\n",
    "$$\n",
    "\\begin{aligned} \\int_{0.5}^{\\infty}f(t)\\,dt &= \\int_{0.5}^{\\infty}3e^{-3t}\\,dt \\\\ &= -e^{-3t} \\bigg\\rvert_{0.5}^{\\infty} \\\\ &= \\lim_{b \\to \\infty} \\left( -e^{-3b} - -e^{-3(0.5)} \\right) \\\\ &= 0 + e^{-1.5} \\\\ &\\approx 0.223 \\end{aligned}\n",
    "$$\n"
   ]
  },
  {
   "cell_type": "raw",
   "id": "af930093-2019-4071-9d5d-ba5d0e9c0cff",
   "metadata": {},
   "source": [
    "ft:fe,a=3;\n",
    "assume(b>1/2);\n",
    "fb:integrate(ft,t, 1/2, b);\n",
    "fb:expand(fb);\n",
    "fb:limit(fb, b, inf);\n",
    "ev(fb,numer);"
   ]
  },
  {
   "cell_type": "code",
   "execution_count": null,
   "id": "d7360196-7638-4c98-a949-81b600175aea",
   "metadata": {},
   "outputs": [],
   "source": [
    "# everything to the right\n",
    "r2(1-stats.expon(scale=1/3).cdf(0.5))"
   ]
  },
  {
   "cell_type": "markdown",
   "id": "cce30140-3af3-4f2e-8aa5-7e26b27d5245",
   "metadata": {},
   "source": [
    "4. A machine takes an average of 10 minutes to produce a part. How long (approximately, in minutes) should the operator wait to be at least 95% sure that the machine has produced the part?"
   ]
  },
  {
   "cell_type": "markdown",
   "id": "39ec9362-2e37-4fbe-bb5b-ac57055a42eb",
   "metadata": {},
   "source": [
    "The manufacturing time can be represented by an exponential distribution with $\\lambda = 6$, the number of parts produced per hour. The probability that at most nn hours passes before a part is produced is\n",
    "\n",
    "$$\n",
    "\\int_{0}^{n}f(t)\\,dt = \\int_{0}^{n}\\big(6e^{-6t}\\big)\\,dt\n",
    "$$\n"
   ]
  },
  {
   "cell_type": "raw",
   "id": "730e39c1-5299-47b0-869d-d6c47a4b1cc7",
   "metadata": {},
   "source": [
    "ft:fe,a=6;\n",
    "assume(n>0);\n",
    "fn:expand(integrate(ft,t,0,n));"
   ]
  },
  {
   "cell_type": "markdown",
   "id": "36a06cb5-00dd-4662-b2ba-743b0c74db24",
   "metadata": {},
   "source": [
    "We need to find when this is at least 0.95. So we solve:"
   ]
  },
  {
   "cell_type": "raw",
   "id": "0f6bf07f-69d6-40e3-b377-62f74321ee1a",
   "metadata": {},
   "source": [
    "eq:fn=r;\n",
    "eq:-(eq-1);\n",
    "eq:logex(eq);\n",
    "eq:divthru(-6, eq);\n",
    "ev(eq, numer);"
   ]
  },
  {
   "cell_type": "markdown",
   "id": "11c2f199-f4d8-4958-a288-c5e6b87d55d3",
   "metadata": {},
   "source": [
    "The operator should wait at least $0.499(60) = 29.94 \\approx 30$ minutes to be 95% sure that the machine has produced the part."
   ]
  },
  {
   "cell_type": "code",
   "execution_count": null,
   "id": "0d59d354-384a-43ee-863e-d0f8fccb9aea",
   "metadata": {},
   "outputs": [],
   "source": [
    "np.ceil(stats.expon(scale=1/6).ppf(0.95) * 60)"
   ]
  },
  {
   "cell_type": "markdown",
   "id": "13075667-8c9b-4c9f-8b66-bc7a31d9ff21",
   "metadata": {},
   "source": [
    "5. A lottery is hit every 4 months on average. Given that 3 months have already passed since the last jackpot was awarded, what is the (approximate) probability that the jackpot will be awarded within the next 3 months?"
   ]
  },
  {
   "cell_type": "markdown",
   "id": "39dc93c5-cc97-4a21-94a9-0a641bd81f78",
   "metadata": {},
   "source": [
    "The exponential distribution is memoryless, so the fact that the last 3 months have passed without an awarded jackpot is irrelevant. The distribution has $\\lambda = 3$ jackpots per year, so the probability that a jackpot is awarded within the next 3 months, or quarter-year is given by\n",
    "$$\n",
    "\\begin{aligned} \\int_0^{0.25} f(t) \\,dt &= \\int_0^{0.25}3e^{-3t} \\,dt \\\\ &= -e^{-3t} \\bigg\\rvert_0^{0.25} \\\\ &\\approx 0.527 \\end{aligned}\n",
    "$$\n"
   ]
  },
  {
   "cell_type": "code",
   "execution_count": null,
   "id": "397c5786-a1e1-4836-8ad5-2bff32287315",
   "metadata": {},
   "outputs": [],
   "source": [
    "r4(stats.expon(scale=1/3).cdf(0.25))"
   ]
  },
  {
   "cell_type": "markdown",
   "id": "d2932eb4-3a47-46a3-bb3f-7dd3c9bd2c0a",
   "metadata": {},
   "source": [
    "## Gamma\n",
    "\n",
    "The gamma distribution is used to model the length of time before an event occurs. This is in contrast to the exponential distribution from the last quiz, which models the time between events.\n",
    "\n",
    "For instance, the gamma distribution is often used to model waiting times. In particular, an insurance company may use it to model a lifespan, where the \"event\" is death.\n",
    "\n",
    "The gamma distribution is described by two parameters _k_ (the shape parameter) and $\\theta$ (the scale parameter), with the probability density function\n",
    "\n",
    "$$\n",
    "\\large f_X (x)= \\frac{1}{\\Gamma(k)\\theta^k}x^{k-1}e^{-\\frac{x}{\\theta}}\n",
    "$$\n",
    "\n",
    " \n",
    "Here, $\\Gamma(x)$ is the gamma function, which is defined as\n",
    "\n",
    "$$\n",
    "\\Gamma (x)=\\int_0^{\\infty} t^{x-1} e^{-t}\\, dt\n",
    "$$\n",
    "\n",
    "It can be calculated that $E[X] = k\\theta$ and $\\text{Var}[X] = k\\theta^2$ \n",
    "\n",
    "When $k = \\theta = 1$ the resulting gamma distribution is in fact the standard exponential distribution defined by $f_X(x) = e^{-x}$ since $\\Gamma(1) = 1$.\n",
    "\n",
    "The gamma distribution has been used to model the size of insurance claims and the amount of rainfall into a reservoir among other things."
   ]
  },
  {
   "cell_type": "markdown",
   "id": "f2ce056c-6a5c-4655-baf9-202b690f442d",
   "metadata": {},
   "source": [
    "### Examples"
   ]
  },
  {
   "cell_type": "markdown",
   "id": "a195ff39-4d35-4799-b018-b771659f9e69",
   "metadata": {},
   "source": [
    "1. Which of the following situations is described well by a gamma distribution?\n",
    "\n",
    "- Rolling a fair die\n",
    "- The heights of students in a school\n",
    "- The number of hairs on a person's head\n",
    "- The size of raindrops"
   ]
  },
  {
   "cell_type": "markdown",
   "id": "8670e784-416c-418c-ae25-230e01945d13",
   "metadata": {
    "tags": []
   },
   "source": [
    "Correct answer: The size of raindrops\n",
    "\n",
    "The gamma distribution is used to model the time until an event occurs, which can be applied to the size of raindrops (by modelling the time until the drop falls).\n",
    "\n",
    "Heights are the classical example of normally distributed data, so they are not described by a gamma distribution. Rolling a fair die results in a discrete uniform distribution. Finally, the number of hairs on a person's head is unrelated to a Poisson process, and thus is not described by a gamma distribution (and probably not by any particularly nice distribution in general)."
   ]
  },
  {
   "cell_type": "markdown",
   "id": "dfe440a2-34bf-40f6-b497-032265a9b3b4",
   "metadata": {},
   "source": [
    "2. Suppose X follows a gamma distribution where $\\theta = k = 1$. What is $P(x > 0.5)$"
   ]
  },
  {
   "cell_type": "code",
   "execution_count": null,
   "id": "31b674f7-bf0d-499a-8f01-b095e7d1eed9",
   "metadata": {},
   "outputs": [],
   "source": [
    "# scale is 1 by default\n",
    "r4(1 - stats.gamma(1, scale=1).cdf(0.5))"
   ]
  },
  {
   "cell_type": "markdown",
   "id": "d80dca8e-cb61-426f-91e5-719e72bd4a84",
   "metadata": {},
   "source": [
    "## Normal"
   ]
  },
  {
   "cell_type": "markdown",
   "id": "58f7c983-7ab2-4280-9602-ffa782381cb4",
   "metadata": {},
   "source": [
    "1. The ages of the members of an organization containing 10,000 people are normally distributed with mean 27 and standard deviation 7. Approximately how many members of the organization are teenagers (people older than 13 and not yet 20 years old)?"
   ]
  },
  {
   "cell_type": "markdown",
   "id": "a8450778-457a-42c4-bb42-19aa5d472926",
   "metadata": {},
   "source": [
    "The 68-95-99.7 rule gives us the following approximations:"
   ]
  },
  {
   "cell_type": "code",
   "execution_count": null,
   "id": "bc3598c1-a484-461c-82d7-326973500c93",
   "metadata": {},
   "outputs": [],
   "source": [
    "n_dist = stats.norm(loc=27, scale=7)"
   ]
  },
  {
   "cell_type": "code",
   "execution_count": null,
   "id": "eb42b77d-add6-45ff-92dc-ad5ab7ddc41a",
   "metadata": {},
   "outputs": [],
   "source": [
    "def ci(dist: stats.rv_continuous, percentage: float):\n",
    "    dx = (1 - percentage/100) / 2\n",
    "    return dist.ppf((dx, 1-dx))"
   ]
  },
  {
   "cell_type": "code",
   "execution_count": null,
   "id": "7d2415c1-cb98-41b2-b1b6-a99402723b10",
   "metadata": {},
   "outputs": [],
   "source": [
    "ci(n_dist, 68)"
   ]
  },
  {
   "cell_type": "code",
   "execution_count": null,
   "id": "2acc6bef-e872-4049-b1a4-ca3edcbfd5fc",
   "metadata": {},
   "outputs": [],
   "source": [
    "ci(n_dist, 95)"
   ]
  },
  {
   "cell_type": "code",
   "execution_count": null,
   "id": "a53b49c6-4751-49b0-b55f-5f299d3e9a28",
   "metadata": {},
   "outputs": [],
   "source": [
    "ci(n_dist, 99.7)"
   ]
  },
  {
   "cell_type": "markdown",
   "id": "9f095d76-67af-468e-a996-4d7f87c4d1dd",
   "metadata": {},
   "source": [
    "- 68% of the members are between the ages of 20 and 34\n",
    "- 95% are between 13 and 41\n",
    "- 99.7% are between 6 and 48\n",
    "\n",
    "Also, the symmetry of the normal distribution tells us that about half of the data is above the mean, and half below. This symmetry extends to the approximations given above. That is,\n",
    "\n",
    "- 34% of the members are between the ages of 20 and 27, and 34% are between the ages of 27 and 34\n",
    "- 47.5% are between 13 and 27, 47.5% are between 27 and 41\n",
    "- 49.85% are between 6 and 27, 49.85% are between 27 and 48\n"
   ]
  },
  {
   "cell_type": "markdown",
   "id": "f46064ff-31eb-4060-a920-769a9fbbb280",
   "metadata": {},
   "source": [
    "We want to know approximately how many are between 13 and 20, which would be those who are between 13 and 27, but not between 20 and 27. That is, $47.5 - 34 =13.5\\%$ of the members.\n",
    "\n",
    "13.5% of 10000 is 1350 members."
   ]
  },
  {
   "cell_type": "code",
   "execution_count": null,
   "id": "b4a961a4-eb6d-431e-9fae-4490b6d36b85",
   "metadata": {},
   "outputs": [],
   "source": [
    "int(10000 * (n_dist.cdf(20) - n_dist.cdf(13)))"
   ]
  },
  {
   "cell_type": "markdown",
   "id": "ff33d15e-60d6-4ae0-b5de-0b91e65f20ee",
   "metadata": {},
   "source": [
    "2. A stock portfolio averages a 15% return with a 30% standard deviation. What is the approximate probability that the portfolio loses money in a given year, assuming the returns are normally distributed?"
   ]
  },
  {
   "cell_type": "markdown",
   "id": "ce78576f-4dc8-4462-8181-667adc0ea996",
   "metadata": {},
   "source": [
    "The mean of this distribution is 0.15, and the standard deviation is 0.30. The portfolio will lose money if the return is negative, which corresponds to a z-score of -0.5"
   ]
  },
  {
   "cell_type": "code",
   "execution_count": null,
   "id": "847810fe-3ce0-428f-89c3-8f510ff868e3",
   "metadata": {},
   "outputs": [],
   "source": [
    "mu = 0.15\n",
    "s = 0.3\n",
    "z = (0 - mu)/s"
   ]
  },
  {
   "cell_type": "code",
   "execution_count": null,
   "id": "a3bd397b-9b21-41c9-9f45-18ab1f260525",
   "metadata": {},
   "outputs": [],
   "source": [
    "r4(stats.norm.cdf(z))"
   ]
  },
  {
   "cell_type": "code",
   "execution_count": null,
   "id": "8a17dc77-5d81-4f01-bde5-e289c0587eea",
   "metadata": {},
   "outputs": [],
   "source": [
    "n_dist = stats.norm(mu, s)"
   ]
  },
  {
   "cell_type": "code",
   "execution_count": null,
   "id": "bbe31e36-fa33-46e1-bd60-52b2ba93ae8f",
   "metadata": {},
   "outputs": [],
   "source": [
    "x = np.linspace(n_dist.ppf(0.01), n_dist.ppf(0.99), 100)"
   ]
  },
  {
   "cell_type": "code",
   "execution_count": null,
   "id": "95e2cbbb-72ac-4ac2-8fa8-c80dfaec1075",
   "metadata": {},
   "outputs": [],
   "source": [
    "plt.plot(\n",
    "    x,\n",
    "    n_dist.pdf(x)\n",
    ");\n",
    "plt.ylabel(\"PDF at $z$\")\n",
    "plt.xlabel(\"$z$\");\n",
    "plt.title(f'$N(\\mu={mu}, \\sigma={s})$');"
   ]
  },
  {
   "cell_type": "code",
   "execution_count": null,
   "id": "312bfcf7-56a9-46aa-b9ca-81223ea4ac8d",
   "metadata": {},
   "outputs": [],
   "source": [
    "r4(n_dist.cdf(0))"
   ]
  },
  {
   "cell_type": "markdown",
   "id": "121f8554-55cb-4210-9e4f-831b14057a26",
   "metadata": {},
   "source": [
    "so there is approximately a 31% chance of the portfolio losing money."
   ]
  },
  {
   "cell_type": "markdown",
   "id": "0c0c5a3f-00e3-47be-8ffc-6d40afdadd9a",
   "metadata": {},
   "source": [
    "3. A tail risk is defined as an investment that moves more than three standard deviations from the mean of a normal distribution of investment returns. What is the probability a tail risk occurs?\n",
    "\n",
    "Note: In this case, tail risk also includes a good outcome."
   ]
  },
  {
   "cell_type": "markdown",
   "id": "db7dbc21-f7b6-49e4-b7bc-9054c69f0b28",
   "metadata": {},
   "source": [
    "By definition, a tail risk occurs when the z-score is not between -3 and 3. By the empirical rule, roughly 99.7% of the data is between z=−3 and z=3, so roughly 0.3% of the data falls above a z-score of 3 or below a z-score of -3."
   ]
  },
  {
   "cell_type": "code",
   "execution_count": null,
   "id": "de104cca-ac46-4b85-843f-efdde8560a91",
   "metadata": {},
   "outputs": [],
   "source": [
    "ci(stats.norm(), 99.7)"
   ]
  },
  {
   "cell_type": "markdown",
   "id": "b915f1f4-088d-4507-895e-a5b214ac8630",
   "metadata": {},
   "source": [
    "4. The SAT is designed to have approximately normally distributed scores, with a mean of 500 and a standard deviation of 100. What (approximate) score is necessary to be at the 70th percentile of scorers?"
   ]
  },
  {
   "cell_type": "markdown",
   "id": "68a26192-858f-4cbf-96df-6731ae3078e7",
   "metadata": {},
   "source": [
    "For a score to be in the 70th percentile, it means that 70% of the scores are smaller than it.\n",
    "\n",
    "$$\n",
    "\\mu + 0.53 \\sigma = 500 + 0.53(100) = 553\n",
    "$$"
   ]
  },
  {
   "cell_type": "code",
   "execution_count": null,
   "id": "78e4d8db-c274-4342-b626-455e3562441f",
   "metadata": {},
   "outputs": [],
   "source": [
    "z_score = stats.norm().ppf(0.7)"
   ]
  },
  {
   "cell_type": "code",
   "execution_count": null,
   "id": "fd371a6c-2ad3-44ae-82e1-e1da42192b5d",
   "metadata": {},
   "outputs": [],
   "source": [
    "mu = 500\n",
    "s = 100\n",
    "np.ceil(stats.norm(mu, s).ppf(0.7))"
   ]
  },
  {
   "cell_type": "code",
   "execution_count": null,
   "id": "8d95291f-8329-4cd7-9db7-d08047a7ba7c",
   "metadata": {},
   "outputs": [],
   "source": [
    "np.ceil(mu + z_score * s)"
   ]
  },
  {
   "cell_type": "raw",
   "id": "252bee3c-c134-4f13-bb15-72eea1738607",
   "metadata": {},
   "source": [
    "fz:z=(x-u)/s;\n",
    "fx:solve(fz,x);"
   ]
  },
  {
   "cell_type": "markdown",
   "id": "30bf19a7-b169-4e65-b3fa-e191673ff692",
   "metadata": {},
   "source": [
    "5. A portfolio consists of 9 independent stocks, each of which is normally distributed with an average return of &pound;0.15 and a standard deviation of &pound;0.40. What is the average return and standard deviation of the entire portfolio?\n",
    "\n",
    "Note: When combining normal distributions, means and variances are additive."
   ]
  },
  {
   "cell_type": "markdown",
   "id": "6d256a63-740b-41b1-93f2-09a3e43ffcc3",
   "metadata": {},
   "source": [
    "There are 9 stocks each with a mean return of &pound;0.15. so the mean return of the enteire portfolio is"
   ]
  },
  {
   "cell_type": "code",
   "execution_count": null,
   "id": "44ea04c9-a636-44e9-8cc4-7ab137223d7d",
   "metadata": {},
   "outputs": [],
   "source": [
    "n_stocks = 9\n",
    "mean_return = 0.15\n",
    "total_return = n_stocks * mean_return\n",
    "r2(total_return)"
   ]
  },
  {
   "cell_type": "markdown",
   "id": "a6b0ffe6-ed02-4497-b544-e511e80c1655",
   "metadata": {},
   "source": [
    "Each stocks return has a standard deviation of &pound;0.40. The variance of each return is therefore:"
   ]
  },
  {
   "cell_type": "code",
   "execution_count": null,
   "id": "0ec487a3-3132-49e2-be4d-87079b23f5f6",
   "metadata": {},
   "outputs": [],
   "source": [
    "return_std = 0.4\n",
    "total_variance = n_stocks * return_std ** 2\n",
    "r2(total_variance)"
   ]
  },
  {
   "cell_type": "markdown",
   "id": "7cbb3f05-f893-4dff-b2f4-ce1986e154a3",
   "metadata": {},
   "source": [
    "and the standard deviation of the portfolio is therefore"
   ]
  },
  {
   "cell_type": "code",
   "execution_count": null,
   "id": "8ee6c22c-783c-47de-9df3-dee4584994fa",
   "metadata": {},
   "outputs": [],
   "source": [
    "r2(np.sqrt(total_variance))"
   ]
  },
  {
   "cell_type": "markdown",
   "id": "75de3860-94bc-4cde-87f6-4634cb699941",
   "metadata": {},
   "source": [
    "6. A stock currently sells for &pound;30 per share, and the historical daily returns are known to be normally distributed with a mean of 3% and a standard deviation of 1.5%. An investor will exercise a call option on this stock if its price rises above &pound;31. What is the approximate probability that this occurs the next day?"
   ]
  },
  {
   "cell_type": "markdown",
   "id": "edc3de53-5c7b-427f-a838-22cefc3b5004",
   "metadata": {},
   "source": [
    "To increase from &pound;30 to &pound;31 requests at least a 3.33% increase since $\\frac{31-30}{30}=0.03\\bar{3}$\n",
    "\n",
    "Thus we want the probability that a normal variabe with mean 3 and standard deviation 1.5 will be greater then 3.33.\n",
    "\n",
    "This is often done by converting to a z-score:"
   ]
  },
  {
   "cell_type": "code",
   "execution_count": null,
   "id": "d65e5b0c-c1be-44be-939c-b17aa90a70b5",
   "metadata": {},
   "outputs": [],
   "source": [
    "z_score = (3.33-3)/1.5;\n",
    "# greater than\n",
    "r2(1 - stats.norm.cdf(z_score))"
   ]
  },
  {
   "cell_type": "markdown",
   "id": "28aee2d7-5c77-4e6b-9e05-f62e36ff68b9",
   "metadata": {},
   "source": [
    "7. An investor wishes to invest &pound;750. He can either invest all &pound;750 into a single stock that has a mean return of 3% and a standard deviation of x%, or he can invest &pound;30 into each of 25 separate stocks that have a mean return of 3% and a standard deviation of 1.5%. For what value of x are these two options equivalent?\n",
    "\n",
    "Assume that the stock returns are independent."
   ]
  },
  {
   "cell_type": "markdown",
   "id": "0db28352-2332-40cb-a9bc-c09da28088dc",
   "metadata": {},
   "source": [
    "The answer is 0.3%. Lets see why\n",
    "\n",
    "\n",
    "When adding together random variables, means and variances are additive. This can be written as:\n",
    "\n",
    "$$\n",
    "E(X+Y)=E(X)+E(Y)E(X+Y)=E(X)+E(Y)\n",
    "$$\n",
    "\n",
    "$$\n",
    "\\sigma^{2}_{X+Y} = \\sigma^{2}_{X}+\\sigma^{2}_{Y}\n",
    "$$\n",
    "\n",
    "In this scenario, we are adding together the distributions of 25 stocks, and each one has a mean of 33 and a standard deviation of 1.5. So the variance of each stock is $1.5^{2}=2.25$ \n",
    "\n",
    "$$\n",
    "E(X_1+X_2... + ...X_{25}) = 3*25 = 75\n",
    "$$\n",
    "\n",
    "$$\n",
    "\\sigma^{2}_{X_1+X_2... + ...X_{25}} = 2.25*25 = 56.25\n",
    "$$\n",
    "\n",
    "$$\n",
    "\\sigma_{X_1+X_2... + ...X_{25}} = \\sqrt{56.25} = 7.5\n",
    "$$\n",
    "\n",
    "So the portfolio of 25 stocks follows the distribution of $N(75\\%, 7.5\\%)$.\n",
    "\n",
    "Hmmm, but that doesn't seem to make sense. The stocks now have a mean return of 75%!\n",
    "\n",
    "\n",
    "This is a special case where the mean and standard deviation are percentage returns, not a total value. Let's say we have nn stocks that each have a return of 3%. If we add them together, the return of the total investment is still 3%, we just have a bigger investment.\n",
    "\n",
    "each stock is $\\frac{1}{25}$ of the portfolio so if we divide both the mean and variance by 25, we'll have the correct percentage return.\n",
    "\n",
    "$$\n",
    "N(\\frac{75\\%}{25}, \\frac{7.5\\%}{25}) = N(3\\%, 0.3\\%)\n",
    "$$\n",
    "\n",
    "So if the single &pound;750 stock has a mean return of 3% and a standard deviation of 0.3%, the portfolios are equivalent."
   ]
  },
  {
   "cell_type": "markdown",
   "id": "b714c614-8a8c-4bc6-8995-54d6b154d990",
   "metadata": {},
   "source": [
    "8. An investor is choosing between two stocks that are both currently trading at the same share price. The daily returns of the first stock are historically normally distributed with a mean of 3% and a standard deviation of 1.5%. The daily returns of the second stock are historically normally distributed with a mean of 4% and a standard deviation of 2%. What is the approximate probability that, after one day, the second stock outperforms the first stock?"
   ]
  },
  {
   "cell_type": "markdown",
   "id": "d129286c-c4bf-40a2-b897-0b3fc455e787",
   "metadata": {},
   "source": [
    "The return from the first stock minus the return from the second stock is normally distributed with mean -1% and standard deviation $\\sqrt{1.5^2 + 2^2} = 2.5\\%$\n",
    "\n",
    "The probability that the second stock out performs the first is the probability that this random variable is negative,"
   ]
  },
  {
   "cell_type": "code",
   "execution_count": null,
   "id": "9a70f7fc-e534-4ec8-8184-33b0db0174df",
   "metadata": {},
   "outputs": [],
   "source": [
    "r2(stats.norm(-1, 2.5).cdf(0))"
   ]
  },
  {
   "cell_type": "markdown",
   "id": "e9066b00-0b72-42d7-ad47-6411f079a75d",
   "metadata": {},
   "source": [
    "9. An investor wishes to invest &pound;700.\n",
    "\n",
    "There are two independent stocks the investor can choose to invest in, both of which are currently trading at the same share price. The daily returns of the first stock are historically normally distributed with a mean of 3% and a standard deviation of 1.5%. The daily returns of the second stock are historically normally distributed with a mean of 4% and a standard deviation of 2%.\n",
    "\n",
    "How much should the investor choose to invest (in pounds) in the first stock to maximize the probability of having a positive profit over the course of a day?\n",
    "\n",
    "Hint: Find the equation for the z-score of the combined portfolio. Then, find its maximum."
   ]
  },
  {
   "cell_type": "markdown",
   "id": "eebd0dec-f2a2-459d-84f0-bc8983457fb3",
   "metadata": {},
   "source": [
    "Suppose the investor puts x dollars into the first stock and y dollars into the second stock. The combined mean is $.03 x + .04 y$ and the combined variance is $(.015 x)^2 + (.02 y)^2$. This gives a z-score formula of\n",
    "\n",
    "$$\n",
    "\\frac{.03 x + .04 y}{\\sqrt{(.015 x)^2 + (.02 y)^2}}\n",
    "$$\n",
    "\n",
    "Next we turn it into a function of one variable by writing y in terms of x:\n",
    "\n",
    "$$\n",
    "\\frac{.03 x + .04 (700 - x)}{\\sqrt{(.015 x)^2 + (.02 (700 - x))^2}}\n",
    "$$"
   ]
  },
  {
   "cell_type": "code",
   "execution_count": null,
   "id": "e3ca2070-508c-42fb-aba5-adc461179920",
   "metadata": {},
   "outputs": [],
   "source": [
    "def fx(x):\n",
    "    n_z = .03 * x + .04 * (700 - x)\n",
    "    d_z = (0.015 * x) ** 2 + (0.02 * (700 - x)) ** 2\n",
    "    return n_z / np.sqrt(d_z)"
   ]
  },
  {
   "cell_type": "code",
   "execution_count": null,
   "id": "ac30ca78-bd90-4037-8045-567e0f61ccfa",
   "metadata": {},
   "outputs": [],
   "source": [
    "x_vals = np.arange(0, 701)\n",
    "# we are not bothered by the axes argument\n",
    "y_vals = np.apply_over_axes(lambda x, axis: fx(x), x_vals, 0)"
   ]
  },
  {
   "cell_type": "code",
   "execution_count": null,
   "id": "69fdcb91-ac97-4431-806a-70bae3565db8",
   "metadata": {},
   "outputs": [],
   "source": [
    "p = sns.lineplot(\n",
    "    x = x_vals,\n",
    "    y = y_vals\n",
    ");\n",
    "p.set(\n",
    "    ylim=(0, 4)\n",
    ");"
   ]
  },
  {
   "cell_type": "markdown",
   "id": "8151187c-8375-4811-93e9-0318b0b28074",
   "metadata": {},
   "source": [
    "It looks like 400, but to be more precise we can use `optimize`"
   ]
  },
  {
   "cell_type": "code",
   "execution_count": null,
   "id": "65e3fff4-68c7-42ae-bd08-d745ec191b6c",
   "metadata": {},
   "outputs": [],
   "source": [
    "from scipy.optimize import minimize"
   ]
  },
  {
   "cell_type": "code",
   "execution_count": null,
   "id": "def835ea-c74a-472c-be09-a2696af4c696",
   "metadata": {},
   "outputs": [],
   "source": [
    "# we want the maximum, so take the negative\n",
    "# 0 is our initial guess\n",
    "res = minimize(lambda x: -fx(x), 0)"
   ]
  },
  {
   "cell_type": "code",
   "execution_count": null,
   "id": "9054fd9f-e1db-49e5-ac70-676d2955b6b0",
   "metadata": {},
   "outputs": [],
   "source": [
    "r2(res.x.item())"
   ]
  },
  {
   "cell_type": "markdown",
   "id": "6b4232bc-80c8-40c2-aca8-2d4101a2196e",
   "metadata": {},
   "source": [
    "The investor should put &pound;400 into the first stock and &pound;300 into the second stock to maximize the probability of profit."
   ]
  },
  {
   "cell_type": "markdown",
   "id": "a4d0d1e0-ca72-4135-9ae1-18364daa9a0c",
   "metadata": {},
   "source": [
    "10. An investor buys an equal number of shares in two stocks whose returns are both normally distributed with mean 3% and standard deviation 1.5%. What is the approximate probability that the investor makes a profit?\n",
    "\n",
    "Assume that the stock prices are equal, and that the stocks have independent return distributions."
   ]
  },
  {
   "cell_type": "code",
   "execution_count": null,
   "id": "37bbb8c1-4a6d-4c40-9bd8-7bfb736561a4",
   "metadata": {},
   "outputs": [],
   "source": [
    "mu = 3\n",
    "sd = 1.5\n",
    "\n",
    "n_dist = stats.norm(2 * mu, np.sqrt(2 * 1.5**2))"
   ]
  },
  {
   "cell_type": "markdown",
   "id": "bda15b7b-b3ac-497b-8041-757b02e13b9b",
   "metadata": {},
   "source": [
    "The sum of the return from the two stocks is normally distributed with mean 6% and standard deviation 2.12%. The probability that this return is positive is nearly 100%,"
   ]
  },
  {
   "cell_type": "code",
   "execution_count": null,
   "id": "f11f77ee-a6db-48ec-98c7-ef9e07c1e271",
   "metadata": {},
   "outputs": [],
   "source": [
    "n_dist.mean()"
   ]
  },
  {
   "cell_type": "code",
   "execution_count": null,
   "id": "49a18801-ea44-4409-99fc-7509d660b147",
   "metadata": {},
   "outputs": [],
   "source": [
    "n_dist.std()"
   ]
  },
  {
   "cell_type": "code",
   "execution_count": null,
   "id": "912d8296-2d0c-4e2c-bc81-fe4f6a7bdaf7",
   "metadata": {},
   "outputs": [],
   "source": [
    "r4(1 - n_dist.cdf(0))"
   ]
  },
  {
   "cell_type": "markdown",
   "id": "5d20178d-5746-4da4-8acc-11624c1040e0",
   "metadata": {},
   "source": [
    "## Lognormal\n",
    "\n",
    "The log-normal distribution is what you might expect from the name: it describes a random variable whose logarithm is normally distributed. In this quiz, we'll see exactly how they're related when it comes to computations.\n",
    "\n",
    "The log-normal distribution is described by two parameters $\\mu$ and $\\sigma$, the mean and standard deviation (respectively) of the distribution's logarithm. Thus a log-normal variable X can be written as\n",
    "\n",
    "$$\n",
    "X = e^{\\mu + \\sigma Z}\n",
    "$$\n",
    "\n",
    "where Z is a standard normal variable (with mean 0 and standard deviation 1).\n",
    "\n",
    "From the mean and standard deviation of $\\ln X$, we can calculate the expected value and variance of X:\n",
    "\n",
    "$$\n",
    "\\begin{aligned} E[X] &= e^{\\mu + \\frac{\\sigma^2}{2} } \\\\ \\text{Var}[X] &= ( e^{\\sigma^2}-1 )e^{2\\mu + \\sigma^2} \\end{aligned}\n",
    "$$\n",
    "\n",
    "Note that we can also write $\\text{Var}[X] = (e^{\\sigma^2}-1 )\\left( E[X] \\right)^2$\n",
    "\n",
    "The log-normal distribution is helpful in modeling stock prices.\n",
    "\n",
    "It appears in a wide variety of natural phenomena because of its relationship with the normal distribution, and has even been used to model the length of chess games.\n"
   ]
  },
  {
   "cell_type": "markdown",
   "id": "c65c7efb-8420-4e7d-b877-2b94d7b95a87",
   "metadata": {},
   "source": [
    "### Examples"
   ]
  },
  {
   "cell_type": "markdown",
   "id": "ca058d93-80aa-43dc-943e-fd98b3ed7f01",
   "metadata": {},
   "source": [
    "1. Which of the following situations is described well by a log-normal distribution?\n",
    "\n",
    "- The time between two flashes of lightning during a storm\n",
    "- The income level of a random group\n",
    "- The number of hairs on a person's head\n",
    "- The heights of students in a school"
   ]
  },
  {
   "cell_type": "markdown",
   "id": "0dfb0a38-e344-49fb-bf2b-f06bed5f1bb2",
   "metadata": {},
   "source": [
    "answer: The income level of a random group\n",
    "\n",
    "Incomes are classically log-normally distributed.\n",
    "\n",
    "Heights are the classical example of normally distributed data, so they are not log-normally distributed. The time between two flashes of lightning describes the time between events in a Poisson process, as the flashes of lightning are well-described by a Poisson distribution. Thus the time between flashes of lightning is exponentially distributed. Finally, the number of hairs on a person's head is unrelated to a normal distribution, and thus is not described by a log-normal distribution (and probably not by any particularly nice distribution in general)."
   ]
  },
  {
   "cell_type": "markdown",
   "id": "91f81540-197d-4921-bd7d-125ed6fa0a4a",
   "metadata": {},
   "source": [
    "2. If X is a variable such that $\\ln X$ is normally distributed with mean 1 and standard deviation 2, what is the mean of X?"
   ]
  },
  {
   "cell_type": "raw",
   "id": "d4463002-e671-451f-942c-283845c396ba",
   "metadata": {},
   "source": [
    "fe:exp(u+s^2/2);\n",
    "fx:fe,u=1,s=2;\n",
    "ev(fx,numer);"
   ]
  },
  {
   "cell_type": "code",
   "execution_count": null,
   "id": "9228d667-4a9f-45ca-85b5-71d29bd21481",
   "metadata": {},
   "outputs": [],
   "source": [
    "mu = 1\n",
    "sigma = 2\n",
    "l_dist = stats.lognorm(sigma, scale=np.exp(mu))\n",
    "r2(l_dist.mean())"
   ]
  },
  {
   "cell_type": "markdown",
   "id": "e4b2c68a-8d27-44b4-9387-8c58a83ace99",
   "metadata": {},
   "source": [
    "2. If X is a variable such that $\\ln X$ is normally distributed with mean 1 and standard deviation 2, what is the variance of X?"
   ]
  },
  {
   "cell_type": "raw",
   "id": "bea83f3a-5489-4edc-9a05-dd534cdfe4c2",
   "metadata": {},
   "source": [
    "fv:exp(s^2)-1;\n",
    "eq:ev(fv,s=2) * fx^2;\n",
    "eq:expand(eq);\n",
    "ev(eq,numer);"
   ]
  },
  {
   "cell_type": "code",
   "execution_count": null,
   "id": "b1e51abf-7718-4578-95d2-03702bd5dd74",
   "metadata": {},
   "outputs": [],
   "source": [
    "r2(l_dist.var())"
   ]
  },
  {
   "cell_type": "code",
   "execution_count": null,
   "id": "ced27ba9-51e0-46b1-987a-5d1e4eeaecbd",
   "metadata": {},
   "outputs": [],
   "source": [
    "x = np.linspace(l_dist.ppf(0.00), l_dist.ppf(0.99), 100)\n",
    "plt.plot(\n",
    "    x, l_dist.pdf(x)\n",
    ");"
   ]
  },
  {
   "cell_type": "code",
   "execution_count": null,
   "id": "0d5e865c-5694-4e16-af6a-7f32e19fd048",
   "metadata": {},
   "outputs": [],
   "source": [
    "def plot_dist_pdf(dist, lower=0.01, upper=0.99, num_points=100, xlabel=None):\n",
    "    x = np.linspace(dist.ppf(lower), dist.ppf(upper), num_points)\n",
    "    plt.plot(\n",
    "        x, dist.pdf(x)\n",
    "    );\n",
    "    if xlabel:\n",
    "        plt.xlabel(xlabel);\n",
    "    "
   ]
  },
  {
   "cell_type": "code",
   "execution_count": null,
   "id": "1b3f8570-6efe-4d60-b57a-eea8909b3baa",
   "metadata": {},
   "outputs": [],
   "source": [
    "plot_dist_pdf(l_dist, lower=0, upper=0.8)"
   ]
  },
  {
   "cell_type": "code",
   "execution_count": null,
   "id": "f82fdede-124b-42a4-a9a1-fe91b05f63ba",
   "metadata": {},
   "outputs": [],
   "source": [
    "r2(l_dist.median())"
   ]
  },
  {
   "cell_type": "code",
   "execution_count": null,
   "id": "40ebf8b9-80e9-42a9-9f39-be2a0f7062be",
   "metadata": {},
   "outputs": [],
   "source": [
    "l_samples = np.log(l_dist.rvs(1000))"
   ]
  },
  {
   "cell_type": "code",
   "execution_count": null,
   "id": "f2e986c0-4f21-4223-a882-7cc96dd08260",
   "metadata": {},
   "outputs": [],
   "source": [
    "print(f'Mean: {l_samples.mean():0.2f}, Standard Deviation: {l_samples.std():0.2f}')"
   ]
  },
  {
   "cell_type": "markdown",
   "id": "4f90bb0d-e917-47f1-bd76-46e164d1c8e1",
   "metadata": {},
   "source": [
    "3. A stock price is currently &pound;50, and the factor by which the price is multiplied after a year follows a log-normal distribution with $\\mu = 0.1,\\space \\sigma = 0.3$. What is the (approximate) probability that the stock price will be below &pound;50 a year later?"
   ]
  },
  {
   "cell_type": "code",
   "execution_count": null,
   "id": "b7fa594d-5a37-4f7f-a2d8-06d1fd5bfff8",
   "metadata": {},
   "outputs": [],
   "source": [
    "u = 0.1\n",
    "s = 0.3\n",
    "l_dist = stats.lognorm(s, scale=np.exp(u))"
   ]
  },
  {
   "cell_type": "code",
   "execution_count": null,
   "id": "9d15a283-fc76-41ed-8766-9e20234505a7",
   "metadata": {},
   "outputs": [],
   "source": [
    "plot_dist_pdf(l_dist, lower=0, xlabel='price multiplication factor')"
   ]
  },
  {
   "cell_type": "code",
   "execution_count": null,
   "id": "4d801a5c-6cac-414d-9de1-03c995237375",
   "metadata": {},
   "outputs": [],
   "source": [
    "# it has to be less than 1 to reduce the price\n",
    "r2(l_dist.cdf(1))"
   ]
  },
  {
   "cell_type": "markdown",
   "id": "c5099235-be0b-4620-8412-ed1199e20459",
   "metadata": {},
   "source": [
    "Since the factor is log-normal we can express it as $e^{0.1+0.3 Z}$, where Z is the standard normal distribution\n",
    "\n",
    "Then if the stock price one year later is S, we have\n",
    "\n",
    "$$\n",
    "S = 50 \\cdot e^{0.1+0.3 \\text Z}\n",
    "$$\n",
    "\n",
    "and we need to find $P(S < 50)$. This is equivalent to finding $P(e^{0.1+0.3 \\text Z} < 1)$ since we need the multiplying factor to *decrease* the price.\n",
    "\n",
    "Taking logs with is in turn equivalent to finding $P(0.1 + 0.3 Z < 0)$ or $P(Z < -1/3)$"
   ]
  },
  {
   "cell_type": "code",
   "execution_count": null,
   "id": "428114d2-0e86-4083-b819-e30fca2da35d",
   "metadata": {},
   "outputs": [],
   "source": [
    "r2(stats.norm().cdf(-1/3))"
   ]
  },
  {
   "cell_type": "markdown",
   "id": "5983cbab-3cae-4f55-90dc-ad7818f8ccb5",
   "metadata": {},
   "source": [
    "so the probability that the stock falls below &pound;50 is about 37%."
   ]
  },
  {
   "cell_type": "markdown",
   "id": "374ed1a4-994b-47fb-afc1-15beeac632d8",
   "metadata": {},
   "source": [
    "3. A stock price is currently &pound;50, and the factor by which the price is multiplied after a year follows a log-normal distribution with $\\mu = 0.1,\\space \\sigma = 0.3$. What is the (approximate) expected value of the stock after one year"
   ]
  },
  {
   "cell_type": "code",
   "execution_count": null,
   "id": "e5925281-1589-4bd9-b16d-379cec1f5aac",
   "metadata": {},
   "outputs": [],
   "source": [
    "r2(50 * l_dist.mean())"
   ]
  },
  {
   "cell_type": "raw",
   "id": "e27dfdaf-a76b-4444-b43f-0aa3f2c2886f",
   "metadata": {
    "tags": []
   },
   "source": [
    "fx:fe,u=1/10,s=3/10;\n",
    "ev(fx,numer);"
   ]
  },
  {
   "cell_type": "markdown",
   "id": "8fb364f7-6684-42ff-9151-5d688bce4944",
   "metadata": {},
   "source": [
    "4. A stock price is currently &pound;50, and the factor by which the price is multiplied after a year follows a log-normal distribution with $\\mu = 0.1,\\space \\sigma = 0.3$. What is the (approximate) expected value of the stock after 25 years."
   ]
  },
  {
   "cell_type": "markdown",
   "id": "5aa511c3-f949-4b90-970d-aefbc963762a",
   "metadata": {},
   "source": [
    "We found in the last question that the expected multiplying factor for one year later is\n",
    "\n",
    "$$\n",
    "e^{0.1+\\frac{0.3^2}{2}}\n",
    "$$\n",
    "\n",
    "To find the expected price after 25 years, we would multiply by this factor 25 times, or simply multiply the current price by\n",
    "\n",
    "$$\n",
    "(e^{0.1+\\frac{0.3^2}{2}})^{25}\n",
    "$$"
   ]
  },
  {
   "cell_type": "code",
   "execution_count": null,
   "id": "1c9741d9-027c-44d5-90fe-6fbb57d4ef2c",
   "metadata": {},
   "outputs": [],
   "source": [
    "r2(50 * l_dist.mean() ** 25)"
   ]
  },
  {
   "cell_type": "markdown",
   "id": "74d6c78a-5d84-48b6-84bf-79b52f5a4dcd",
   "metadata": {},
   "source": [
    "5. A stock price is currently &pound;50, and the factor by which the price is multiplied after a year follows a log-normal distribution with $\\mu = 0.1,\\space \\sigma = 0.3$. After 25 years what is the probability that the stock price is a least &pound;610"
   ]
  },
  {
   "cell_type": "markdown",
   "id": "1d3bd0d5-fa70-4d18-a1a0-b6b5d9d6a3c7",
   "metadata": {},
   "source": [
    "if the stock price 25 years later is S, we have\n",
    "\n",
    "$$\n",
    "S = 50 \\cdot (e^{0.1+0.3 \\cdot z})^{25}\n",
    "$$\n",
    "\n",
    "we to find $P(S \\ge 610)$ or"
   ]
  },
  {
   "cell_type": "raw",
   "id": "11cfb4b6-7a35-4fe3-8559-50c8ecee2230",
   "metadata": {},
   "source": [
    "fz:exp(u+s*z);\n",
    "eq:50*fz^25 = 610;\n",
    "eq:divthru(50, eq);\n",
    "eq:logex(eq);\n",
    "eq:divthru(25, eq);\n",
    "eq:eq-u;\n",
    "eq:ev(eq,numer);\n",
    "eq:divthru(s, eq);\n",
    "ev(eq, numer);"
   ]
  },
  {
   "cell_type": "code",
   "execution_count": null,
   "id": "acda56c5-4e2a-4404-b884-46902fdbb407",
   "metadata": {},
   "outputs": [],
   "source": [
    "# so z needs to be greater than 0.0002\n",
    "z = 0.0002\n",
    "r2(1-stats.norm().cdf(z))"
   ]
  },
  {
   "cell_type": "markdown",
   "id": "d5c1e61e-5466-4ae3-a859-7f0678d557c0",
   "metadata": {},
   "source": [
    "Since the standard normal distribution is symmetrical about 0, we know $P(Z\\geq 0) = P(Z \\leq 0) = 0.5$.\n",
    "\n",
    "So we can conclude that the probability is about 50%"
   ]
  }
 ],
 "metadata": {
  "kernelspec": {
   "display_name": "Python 3 (ipykernel)",
   "language": "python",
   "name": "python3"
  },
  "language_info": {
   "codemirror_mode": {
    "name": "ipython",
    "version": 3
   },
   "file_extension": ".py",
   "mimetype": "text/x-python",
   "name": "python",
   "nbconvert_exporter": "python",
   "pygments_lexer": "ipython3",
   "version": "3.9.5"
  }
 },
 "nbformat": 4,
 "nbformat_minor": 5
}
