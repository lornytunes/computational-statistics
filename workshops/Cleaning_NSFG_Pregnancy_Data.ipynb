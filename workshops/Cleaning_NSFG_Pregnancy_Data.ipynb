{
 "cells": [
  {
   "cell_type": "markdown",
   "id": "845bc4de-6e97-4c7b-9ab8-00dd88f3ffb9",
   "metadata": {},
   "source": [
    "# NSFG Pregnancy Dataset ETL"
   ]
  },
  {
   "cell_type": "code",
   "execution_count": 1,
   "id": "0fedf4b0-b286-4ddb-a365-cc131e61a93d",
   "metadata": {},
   "outputs": [],
   "source": [
    "from typing import List, DefaultDict\n",
    "from collections import defaultdict\n",
    "import numpy as np\n",
    "import pandas as pd"
   ]
  },
  {
   "cell_type": "code",
   "execution_count": 2,
   "id": "e8235bc3-417b-4109-976a-848ce337c989",
   "metadata": {},
   "outputs": [],
   "source": [
    "import sys\n",
    "sys.path.append('../lib')"
   ]
  },
  {
   "cell_type": "code",
   "execution_count": 3,
   "id": "fdb30ccc-a45e-4714-a1ab-42e0703d0a03",
   "metadata": {},
   "outputs": [],
   "source": [
    "import fwf"
   ]
  },
  {
   "cell_type": "markdown",
   "id": "0e4b6725-3289-4238-856e-bee30b11a38c",
   "metadata": {},
   "source": [
    "Load the data file"
   ]
  },
  {
   "cell_type": "code",
   "execution_count": 4,
   "id": "3a05e3ed-3453-47b6-911a-6081e73a214a",
   "metadata": {},
   "outputs": [],
   "source": [
    "# nrows = 10000\n",
    "df = fwf.read_stata_fixed_width(\n",
    "    '../data/2002FemPreg.dct',\n",
    "    '../data/2002FemPreg.dat.gz'\n",
    ")"
   ]
  },
  {
   "cell_type": "code",
   "execution_count": 5,
   "id": "04d58550-5e19-40fe-b780-d23ffdc9214a",
   "metadata": {},
   "outputs": [
    {
     "data": {
      "text/plain": [
       "(13593, 243)"
      ]
     },
     "execution_count": 5,
     "metadata": {},
     "output_type": "execute_result"
    }
   ],
   "source": [
    "df.shape"
   ]
  },
  {
   "cell_type": "markdown",
   "id": "d3757ce4-a819-418e-b1f6-d5738341b56c",
   "metadata": {},
   "source": [
    "mother's age is encoded in centiyears; convert to years"
   ]
  },
  {
   "cell_type": "code",
   "execution_count": 6,
   "id": "bcfcd1d9-9722-4c97-8e66-fa087de5ba71",
   "metadata": {},
   "outputs": [
    {
     "data": {
      "text/plain": [
       "0        3316.0\n",
       "1        3925.0\n",
       "2        1433.0\n",
       "3        1783.0\n",
       "4        1833.0\n",
       "          ...  \n",
       "13588    1791.0\n",
       "13589    1850.0\n",
       "13590    1975.0\n",
       "13591    2158.0\n",
       "13592    2158.0\n",
       "Name: agepreg, Length: 13593, dtype: float64"
      ]
     },
     "execution_count": 6,
     "metadata": {},
     "output_type": "execute_result"
    }
   ],
   "source": [
    "df.agepreg"
   ]
  },
  {
   "cell_type": "code",
   "execution_count": 7,
   "id": "54462aee-da33-49e7-83ec-1ae2f329ee26",
   "metadata": {},
   "outputs": [],
   "source": [
    "df.agepreg /= 100"
   ]
  },
  {
   "cell_type": "markdown",
   "id": "23f1d566-b92e-497d-ad9d-c4b0c4eb265d",
   "metadata": {},
   "source": [
    "`birthwgt_lb` contains at least one bogus value (51 lbs) replace with NaN"
   ]
  },
  {
   "cell_type": "code",
   "execution_count": 8,
   "id": "47b6892a-9b96-4000-a823-2293c8e90d04",
   "metadata": {},
   "outputs": [
    {
     "data": {
      "text/plain": [
       "60"
      ]
     },
     "execution_count": 8,
     "metadata": {},
     "output_type": "execute_result"
    }
   ],
   "source": [
    "len(df.loc[df.birthwgt_lb > 20, 'birthwgt_lb'])"
   ]
  },
  {
   "cell_type": "code",
   "execution_count": 9,
   "id": "a4349316-e3f7-419e-9759-9709af508493",
   "metadata": {},
   "outputs": [],
   "source": [
    "df.loc[df.birthwgt_lb > 20, 'birthwgt_lb'] = np.nan"
   ]
  },
  {
   "cell_type": "markdown",
   "id": "627dec8a-9615-4f36-82b7-a41672136b1c",
   "metadata": {},
   "source": [
    "replace 'not ascertained', 'refused', 'don't know' with NaN"
   ]
  },
  {
   "cell_type": "code",
   "execution_count": 10,
   "id": "16cf7ef6-7b2e-4f1f-a528-1766994e23e7",
   "metadata": {},
   "outputs": [],
   "source": [
    "na_vals = [97, 98, 99]\n",
    "df.birthwgt_lb.replace(na_vals, np.nan, inplace=True)\n",
    "df.birthwgt_oz.replace(na_vals, np.nan, inplace=True)\n",
    "df.hpagelb.replace(na_vals, np.nan, inplace=True)"
   ]
  },
  {
   "cell_type": "markdown",
   "id": "937fff19-5aaa-4497-b6e3-fadff3871528",
   "metadata": {},
   "source": [
    "The sex of the baby contains some abnormal values"
   ]
  },
  {
   "cell_type": "code",
   "execution_count": 11,
   "id": "2af130a8-e0de-4384-9dba-2496a2d4d8b3",
   "metadata": {},
   "outputs": [
    {
     "data": {
      "text/plain": [
       "1.0    4641\n",
       "2.0    4500\n",
       "7.0       1\n",
       "9.0       2\n",
       "Name: babysex, dtype: int64"
      ]
     },
     "execution_count": 11,
     "metadata": {},
     "output_type": "execute_result"
    }
   ],
   "source": [
    "df.babysex.value_counts().sort_index()"
   ]
  },
  {
   "cell_type": "code",
   "execution_count": 12,
   "id": "90a2bbee-d34b-4357-bf92-de09c8a66682",
   "metadata": {},
   "outputs": [],
   "source": [
    "df.babysex.replace([7, 9], np.nan, inplace=True)"
   ]
  },
  {
   "cell_type": "markdown",
   "id": "5d70e9c8-1d5a-496e-a023-339a68e028b9",
   "metadata": {},
   "source": [
    "same for normal delivery (`nbrnaliv`)"
   ]
  },
  {
   "cell_type": "code",
   "execution_count": 13,
   "id": "f2f9355f-819b-4e5f-9fe1-a07c276d44e8",
   "metadata": {},
   "outputs": [
    {
     "data": {
      "text/plain": [
       "1.0    8981\n",
       "2.0     138\n",
       "3.0      14\n",
       "5.0       6\n",
       "4.0       5\n",
       "9.0       4\n",
       "Name: nbrnaliv, dtype: int64"
      ]
     },
     "execution_count": 13,
     "metadata": {},
     "output_type": "execute_result"
    }
   ],
   "source": [
    "df.nbrnaliv.value_counts()"
   ]
  },
  {
   "cell_type": "code",
   "execution_count": 14,
   "id": "560ef7f7-5fdd-4f53-af35-4db21a2e136d",
   "metadata": {},
   "outputs": [],
   "source": [
    "df.nbrnaliv.replace([9], np.nan, inplace=True)"
   ]
  },
  {
   "cell_type": "markdown",
   "id": "486ef42a-920e-4415-b278-b278780c2610",
   "metadata": {},
   "source": [
    "birthweight is stored in two columns, lbs and oz. convert to a single column in lb"
   ]
  },
  {
   "cell_type": "code",
   "execution_count": 15,
   "id": "88ee0054-5c73-41e9-b1d4-904c07b767ed",
   "metadata": {},
   "outputs": [],
   "source": [
    "df = df.assign(totalwgt_lb = df['birthwgt_lb'] + (df['birthwgt_oz'] / 16))"
   ]
  },
  {
   "cell_type": "code",
   "execution_count": 16,
   "id": "44262e70-c253-46f1-99ad-13fe8e3d8cce",
   "metadata": {},
   "outputs": [
    {
     "data": {
      "text/html": [
       "<div>\n",
       "<style scoped>\n",
       "    .dataframe tbody tr th:only-of-type {\n",
       "        vertical-align: middle;\n",
       "    }\n",
       "\n",
       "    .dataframe tbody tr th {\n",
       "        vertical-align: top;\n",
       "    }\n",
       "\n",
       "    .dataframe thead th {\n",
       "        text-align: right;\n",
       "    }\n",
       "</style>\n",
       "<table border=\"1\" class=\"dataframe\">\n",
       "  <thead>\n",
       "    <tr style=\"text-align: right;\">\n",
       "      <th></th>\n",
       "      <th>caseid</th>\n",
       "      <th>pregordr</th>\n",
       "      <th>howpreg_n</th>\n",
       "      <th>howpreg_p</th>\n",
       "      <th>moscurrp</th>\n",
       "      <th>nowprgdk</th>\n",
       "      <th>pregend1</th>\n",
       "      <th>pregend2</th>\n",
       "      <th>nbrnaliv</th>\n",
       "      <th>multbrth</th>\n",
       "      <th>...</th>\n",
       "      <th>laborfor_i</th>\n",
       "      <th>religion_i</th>\n",
       "      <th>metro_i</th>\n",
       "      <th>basewgt</th>\n",
       "      <th>adj_mod_basewgt</th>\n",
       "      <th>finalwgt</th>\n",
       "      <th>secu_p</th>\n",
       "      <th>sest</th>\n",
       "      <th>cmintvw</th>\n",
       "      <th>totalwgt_lb</th>\n",
       "    </tr>\n",
       "  </thead>\n",
       "  <tbody>\n",
       "    <tr>\n",
       "      <th>0</th>\n",
       "      <td>1</td>\n",
       "      <td>1</td>\n",
       "      <td>NaN</td>\n",
       "      <td>NaN</td>\n",
       "      <td>NaN</td>\n",
       "      <td>NaN</td>\n",
       "      <td>6.0</td>\n",
       "      <td>NaN</td>\n",
       "      <td>1.0</td>\n",
       "      <td>NaN</td>\n",
       "      <td>...</td>\n",
       "      <td>0</td>\n",
       "      <td>0</td>\n",
       "      <td>0</td>\n",
       "      <td>3410.389399</td>\n",
       "      <td>3869.349602</td>\n",
       "      <td>6448.271112</td>\n",
       "      <td>2</td>\n",
       "      <td>9</td>\n",
       "      <td>1231</td>\n",
       "      <td>8.8125</td>\n",
       "    </tr>\n",
       "    <tr>\n",
       "      <th>1</th>\n",
       "      <td>1</td>\n",
       "      <td>2</td>\n",
       "      <td>NaN</td>\n",
       "      <td>NaN</td>\n",
       "      <td>NaN</td>\n",
       "      <td>NaN</td>\n",
       "      <td>6.0</td>\n",
       "      <td>NaN</td>\n",
       "      <td>1.0</td>\n",
       "      <td>NaN</td>\n",
       "      <td>...</td>\n",
       "      <td>0</td>\n",
       "      <td>0</td>\n",
       "      <td>0</td>\n",
       "      <td>3410.389399</td>\n",
       "      <td>3869.349602</td>\n",
       "      <td>6448.271112</td>\n",
       "      <td>2</td>\n",
       "      <td>9</td>\n",
       "      <td>1231</td>\n",
       "      <td>7.8750</td>\n",
       "    </tr>\n",
       "    <tr>\n",
       "      <th>2</th>\n",
       "      <td>2</td>\n",
       "      <td>1</td>\n",
       "      <td>NaN</td>\n",
       "      <td>NaN</td>\n",
       "      <td>NaN</td>\n",
       "      <td>NaN</td>\n",
       "      <td>5.0</td>\n",
       "      <td>NaN</td>\n",
       "      <td>3.0</td>\n",
       "      <td>5.0</td>\n",
       "      <td>...</td>\n",
       "      <td>0</td>\n",
       "      <td>0</td>\n",
       "      <td>0</td>\n",
       "      <td>7226.301740</td>\n",
       "      <td>8567.549110</td>\n",
       "      <td>12999.542264</td>\n",
       "      <td>2</td>\n",
       "      <td>12</td>\n",
       "      <td>1231</td>\n",
       "      <td>9.1250</td>\n",
       "    </tr>\n",
       "    <tr>\n",
       "      <th>3</th>\n",
       "      <td>2</td>\n",
       "      <td>2</td>\n",
       "      <td>NaN</td>\n",
       "      <td>NaN</td>\n",
       "      <td>NaN</td>\n",
       "      <td>NaN</td>\n",
       "      <td>6.0</td>\n",
       "      <td>NaN</td>\n",
       "      <td>1.0</td>\n",
       "      <td>NaN</td>\n",
       "      <td>...</td>\n",
       "      <td>0</td>\n",
       "      <td>0</td>\n",
       "      <td>0</td>\n",
       "      <td>7226.301740</td>\n",
       "      <td>8567.549110</td>\n",
       "      <td>12999.542264</td>\n",
       "      <td>2</td>\n",
       "      <td>12</td>\n",
       "      <td>1231</td>\n",
       "      <td>7.0000</td>\n",
       "    </tr>\n",
       "    <tr>\n",
       "      <th>4</th>\n",
       "      <td>2</td>\n",
       "      <td>3</td>\n",
       "      <td>NaN</td>\n",
       "      <td>NaN</td>\n",
       "      <td>NaN</td>\n",
       "      <td>NaN</td>\n",
       "      <td>6.0</td>\n",
       "      <td>NaN</td>\n",
       "      <td>1.0</td>\n",
       "      <td>NaN</td>\n",
       "      <td>...</td>\n",
       "      <td>0</td>\n",
       "      <td>0</td>\n",
       "      <td>0</td>\n",
       "      <td>7226.301740</td>\n",
       "      <td>8567.549110</td>\n",
       "      <td>12999.542264</td>\n",
       "      <td>2</td>\n",
       "      <td>12</td>\n",
       "      <td>1231</td>\n",
       "      <td>6.1875</td>\n",
       "    </tr>\n",
       "  </tbody>\n",
       "</table>\n",
       "<p>5 rows × 244 columns</p>\n",
       "</div>"
      ],
      "text/plain": [
       "   caseid  pregordr  howpreg_n  howpreg_p  moscurrp  nowprgdk  pregend1  \\\n",
       "0       1         1        NaN        NaN       NaN       NaN       6.0   \n",
       "1       1         2        NaN        NaN       NaN       NaN       6.0   \n",
       "2       2         1        NaN        NaN       NaN       NaN       5.0   \n",
       "3       2         2        NaN        NaN       NaN       NaN       6.0   \n",
       "4       2         3        NaN        NaN       NaN       NaN       6.0   \n",
       "\n",
       "   pregend2  nbrnaliv  multbrth  ...  laborfor_i  religion_i  metro_i  \\\n",
       "0       NaN       1.0       NaN  ...           0           0        0   \n",
       "1       NaN       1.0       NaN  ...           0           0        0   \n",
       "2       NaN       3.0       5.0  ...           0           0        0   \n",
       "3       NaN       1.0       NaN  ...           0           0        0   \n",
       "4       NaN       1.0       NaN  ...           0           0        0   \n",
       "\n",
       "       basewgt  adj_mod_basewgt      finalwgt  secu_p  sest  cmintvw  \\\n",
       "0  3410.389399      3869.349602   6448.271112       2     9     1231   \n",
       "1  3410.389399      3869.349602   6448.271112       2     9     1231   \n",
       "2  7226.301740      8567.549110  12999.542264       2    12     1231   \n",
       "3  7226.301740      8567.549110  12999.542264       2    12     1231   \n",
       "4  7226.301740      8567.549110  12999.542264       2    12     1231   \n",
       "\n",
       "   totalwgt_lb  \n",
       "0       8.8125  \n",
       "1       7.8750  \n",
       "2       9.1250  \n",
       "3       7.0000  \n",
       "4       6.1875  \n",
       "\n",
       "[5 rows x 244 columns]"
      ]
     },
     "execution_count": 16,
     "metadata": {},
     "output_type": "execute_result"
    }
   ],
   "source": [
    "df.head()"
   ]
  },
  {
   "cell_type": "markdown",
   "id": "d4ea9fe0-f882-41c7-8cf2-84a43a706287",
   "metadata": {},
   "source": [
    "Finally convert some more integer columns"
   ]
  },
  {
   "cell_type": "code",
   "execution_count": 17,
   "id": "992f757b-051d-496f-a502-2fe680fd3c01",
   "metadata": {},
   "outputs": [],
   "source": [
    "na_counts = df.apply(lambda col: col.isna().sum()).sort_values(ascending=False)"
   ]
  },
  {
   "cell_type": "code",
   "execution_count": 18,
   "id": "0525dc65-e304-4ae7-aef2-cbcd19a3ea6b",
   "metadata": {},
   "outputs": [
    {
     "data": {
      "text/plain": [
       "(13593, 244)"
      ]
     },
     "execution_count": 18,
     "metadata": {},
     "output_type": "execute_result"
    }
   ],
   "source": [
    "df.shape"
   ]
  },
  {
   "cell_type": "code",
   "execution_count": 19,
   "id": "e0fca098-381c-4ede-b508-fce6e5eb0db6",
   "metadata": {},
   "outputs": [],
   "source": [
    "columns_to_drop = na_counts[na_counts > len(df)//2].index.values"
   ]
  },
  {
   "cell_type": "code",
   "execution_count": 20,
   "id": "04abe80e-ccc2-4991-9418-83f203fbec99",
   "metadata": {},
   "outputs": [],
   "source": [
    "df = df.drop(columns_to_drop, axis=1)"
   ]
  },
  {
   "cell_type": "code",
   "execution_count": 21,
   "id": "a9c7ea70-2c43-4c4d-a782-ccad3748caa9",
   "metadata": {},
   "outputs": [
    {
     "data": {
      "text/plain": [
       "(13593, 119)"
      ]
     },
     "execution_count": 21,
     "metadata": {},
     "output_type": "execute_result"
    }
   ],
   "source": [
    "df.shape"
   ]
  },
  {
   "cell_type": "code",
   "execution_count": 22,
   "id": "0ee6aed6-d3db-41e5-b8ca-995fb4fd212e",
   "metadata": {},
   "outputs": [],
   "source": [
    "na_counts = df.loc[df.outcome == 1].dropna(subset=['birthwgt_lb']).apply(lambda col: col.isna().sum())"
   ]
  },
  {
   "cell_type": "code",
   "execution_count": 23,
   "id": "7a95d712-a783-4835-a81a-6bbf6e9950ed",
   "metadata": {},
   "outputs": [
    {
     "data": {
      "text/plain": [
       "100"
      ]
     },
     "execution_count": 23,
     "metadata": {},
     "output_type": "execute_result"
    }
   ],
   "source": [
    "len(na_counts[na_counts == 0])"
   ]
  },
  {
   "cell_type": "code",
   "execution_count": 24,
   "id": "54870ea0-497c-4601-a1ae-49108000a745",
   "metadata": {},
   "outputs": [],
   "source": [
    "df = df.query('outcome == 1').dropna(subset=['totalwgt_lb'])"
   ]
  },
  {
   "cell_type": "code",
   "execution_count": 25,
   "id": "9b35bc15-738d-4e31-aa0b-74171a1e435d",
   "metadata": {},
   "outputs": [
    {
     "data": {
      "text/plain": [
       "(9038, 119)"
      ]
     },
     "execution_count": 25,
     "metadata": {},
     "output_type": "execute_result"
    }
   ],
   "source": [
    "df.shape"
   ]
  },
  {
   "cell_type": "code",
   "execution_count": 26,
   "id": "f36b4ac4-427d-4f24-9192-0f404c1227b9",
   "metadata": {},
   "outputs": [
    {
     "data": {
      "text/html": [
       "<div>\n",
       "<style scoped>\n",
       "    .dataframe tbody tr th:only-of-type {\n",
       "        vertical-align: middle;\n",
       "    }\n",
       "\n",
       "    .dataframe tbody tr th {\n",
       "        vertical-align: top;\n",
       "    }\n",
       "\n",
       "    .dataframe thead th {\n",
       "        text-align: right;\n",
       "    }\n",
       "</style>\n",
       "<table border=\"1\" class=\"dataframe\">\n",
       "  <thead>\n",
       "    <tr style=\"text-align: right;\">\n",
       "      <th></th>\n",
       "      <th>caseid</th>\n",
       "      <th>pregordr</th>\n",
       "      <th>pregend1</th>\n",
       "      <th>nbrnaliv</th>\n",
       "      <th>prgoutcome</th>\n",
       "      <th>cmprgend</th>\n",
       "      <th>cmprgbeg</th>\n",
       "      <th>gestasun_m</th>\n",
       "      <th>gestasun_w</th>\n",
       "      <th>wksgest</th>\n",
       "      <th>...</th>\n",
       "      <th>laborfor_i</th>\n",
       "      <th>religion_i</th>\n",
       "      <th>metro_i</th>\n",
       "      <th>basewgt</th>\n",
       "      <th>adj_mod_basewgt</th>\n",
       "      <th>finalwgt</th>\n",
       "      <th>secu_p</th>\n",
       "      <th>sest</th>\n",
       "      <th>cmintvw</th>\n",
       "      <th>totalwgt_lb</th>\n",
       "    </tr>\n",
       "  </thead>\n",
       "  <tbody>\n",
       "    <tr>\n",
       "      <th>0</th>\n",
       "      <td>1</td>\n",
       "      <td>1</td>\n",
       "      <td>6.0</td>\n",
       "      <td>1.0</td>\n",
       "      <td>1.0</td>\n",
       "      <td>1093.0</td>\n",
       "      <td>1084.0</td>\n",
       "      <td>9.0</td>\n",
       "      <td>0.0</td>\n",
       "      <td>39.0</td>\n",
       "      <td>...</td>\n",
       "      <td>0</td>\n",
       "      <td>0</td>\n",
       "      <td>0</td>\n",
       "      <td>3410.389399</td>\n",
       "      <td>3869.349602</td>\n",
       "      <td>6448.271112</td>\n",
       "      <td>2</td>\n",
       "      <td>9</td>\n",
       "      <td>1231</td>\n",
       "      <td>8.8125</td>\n",
       "    </tr>\n",
       "    <tr>\n",
       "      <th>1</th>\n",
       "      <td>1</td>\n",
       "      <td>2</td>\n",
       "      <td>6.0</td>\n",
       "      <td>1.0</td>\n",
       "      <td>1.0</td>\n",
       "      <td>1166.0</td>\n",
       "      <td>1157.0</td>\n",
       "      <td>9.0</td>\n",
       "      <td>0.0</td>\n",
       "      <td>39.0</td>\n",
       "      <td>...</td>\n",
       "      <td>0</td>\n",
       "      <td>0</td>\n",
       "      <td>0</td>\n",
       "      <td>3410.389399</td>\n",
       "      <td>3869.349602</td>\n",
       "      <td>6448.271112</td>\n",
       "      <td>2</td>\n",
       "      <td>9</td>\n",
       "      <td>1231</td>\n",
       "      <td>7.8750</td>\n",
       "    </tr>\n",
       "    <tr>\n",
       "      <th>2</th>\n",
       "      <td>2</td>\n",
       "      <td>1</td>\n",
       "      <td>5.0</td>\n",
       "      <td>3.0</td>\n",
       "      <td>1.0</td>\n",
       "      <td>1156.0</td>\n",
       "      <td>1147.0</td>\n",
       "      <td>0.0</td>\n",
       "      <td>39.0</td>\n",
       "      <td>39.0</td>\n",
       "      <td>...</td>\n",
       "      <td>0</td>\n",
       "      <td>0</td>\n",
       "      <td>0</td>\n",
       "      <td>7226.301740</td>\n",
       "      <td>8567.549110</td>\n",
       "      <td>12999.542264</td>\n",
       "      <td>2</td>\n",
       "      <td>12</td>\n",
       "      <td>1231</td>\n",
       "      <td>9.1250</td>\n",
       "    </tr>\n",
       "    <tr>\n",
       "      <th>3</th>\n",
       "      <td>2</td>\n",
       "      <td>2</td>\n",
       "      <td>6.0</td>\n",
       "      <td>1.0</td>\n",
       "      <td>1.0</td>\n",
       "      <td>1198.0</td>\n",
       "      <td>1189.0</td>\n",
       "      <td>0.0</td>\n",
       "      <td>39.0</td>\n",
       "      <td>39.0</td>\n",
       "      <td>...</td>\n",
       "      <td>0</td>\n",
       "      <td>0</td>\n",
       "      <td>0</td>\n",
       "      <td>7226.301740</td>\n",
       "      <td>8567.549110</td>\n",
       "      <td>12999.542264</td>\n",
       "      <td>2</td>\n",
       "      <td>12</td>\n",
       "      <td>1231</td>\n",
       "      <td>7.0000</td>\n",
       "    </tr>\n",
       "    <tr>\n",
       "      <th>4</th>\n",
       "      <td>2</td>\n",
       "      <td>3</td>\n",
       "      <td>6.0</td>\n",
       "      <td>1.0</td>\n",
       "      <td>1.0</td>\n",
       "      <td>1204.0</td>\n",
       "      <td>1195.0</td>\n",
       "      <td>0.0</td>\n",
       "      <td>39.0</td>\n",
       "      <td>39.0</td>\n",
       "      <td>...</td>\n",
       "      <td>0</td>\n",
       "      <td>0</td>\n",
       "      <td>0</td>\n",
       "      <td>7226.301740</td>\n",
       "      <td>8567.549110</td>\n",
       "      <td>12999.542264</td>\n",
       "      <td>2</td>\n",
       "      <td>12</td>\n",
       "      <td>1231</td>\n",
       "      <td>6.1875</td>\n",
       "    </tr>\n",
       "  </tbody>\n",
       "</table>\n",
       "<p>5 rows × 119 columns</p>\n",
       "</div>"
      ],
      "text/plain": [
       "   caseid  pregordr  pregend1  nbrnaliv  prgoutcome  cmprgend  cmprgbeg  \\\n",
       "0       1         1       6.0       1.0         1.0    1093.0    1084.0   \n",
       "1       1         2       6.0       1.0         1.0    1166.0    1157.0   \n",
       "2       2         1       5.0       3.0         1.0    1156.0    1147.0   \n",
       "3       2         2       6.0       1.0         1.0    1198.0    1189.0   \n",
       "4       2         3       6.0       1.0         1.0    1204.0    1195.0   \n",
       "\n",
       "   gestasun_m  gestasun_w  wksgest  ...  laborfor_i  religion_i  metro_i  \\\n",
       "0         9.0         0.0     39.0  ...           0           0        0   \n",
       "1         9.0         0.0     39.0  ...           0           0        0   \n",
       "2         0.0        39.0     39.0  ...           0           0        0   \n",
       "3         0.0        39.0     39.0  ...           0           0        0   \n",
       "4         0.0        39.0     39.0  ...           0           0        0   \n",
       "\n",
       "       basewgt  adj_mod_basewgt      finalwgt  secu_p  sest  cmintvw  \\\n",
       "0  3410.389399      3869.349602   6448.271112       2     9     1231   \n",
       "1  3410.389399      3869.349602   6448.271112       2     9     1231   \n",
       "2  7226.301740      8567.549110  12999.542264       2    12     1231   \n",
       "3  7226.301740      8567.549110  12999.542264       2    12     1231   \n",
       "4  7226.301740      8567.549110  12999.542264       2    12     1231   \n",
       "\n",
       "   totalwgt_lb  \n",
       "0       8.8125  \n",
       "1       7.8750  \n",
       "2       9.1250  \n",
       "3       7.0000  \n",
       "4       6.1875  \n",
       "\n",
       "[5 rows x 119 columns]"
      ]
     },
     "execution_count": 26,
     "metadata": {},
     "output_type": "execute_result"
    }
   ],
   "source": [
    "df.head()"
   ]
  },
  {
   "cell_type": "markdown",
   "id": "1ed9a6a5-08c3-49ec-9a31-0389a17dbb35",
   "metadata": {},
   "source": [
    "Convert indicator columns to integers"
   ]
  },
  {
   "cell_type": "code",
   "execution_count": 27,
   "id": "c691d6ff-2427-4a28-85a3-e6d70eb8e3e2",
   "metadata": {},
   "outputs": [],
   "source": [
    "i_cols = [col for col in df.columns if col.endswith('_i')]"
   ]
  },
  {
   "cell_type": "code",
   "execution_count": 28,
   "id": "228a2a79-24a5-434a-8f07-00a490282e35",
   "metadata": {},
   "outputs": [],
   "source": [
    "df = df.astype(dict([(col, int) for col in i_cols]))"
   ]
  },
  {
   "cell_type": "code",
   "execution_count": 29,
   "id": "6f026326-dfe4-438e-85e4-d4c0da04c0ce",
   "metadata": {},
   "outputs": [
    {
     "data": {
      "text/plain": [
       "0    8539\n",
       "1     499\n",
       "Name: poverty_i, dtype: int64"
      ]
     },
     "execution_count": 29,
     "metadata": {},
     "output_type": "execute_result"
    }
   ],
   "source": [
    "df.poverty_i.value_counts()"
   ]
  },
  {
   "cell_type": "code",
   "execution_count": 31,
   "id": "ab57391b-8625-4147-b5f1-8ebc03b2aa7b",
   "metadata": {},
   "outputs": [],
   "source": [
    "df = df.astype({\n",
    "    'pregend1': int,\n",
    "    'nbrnaliv': int,\n",
    "    'prgoutcome': int,\n",
    "    'gestasun_m': int,\n",
    "    'gestasun_w': int,\n",
    "    'babysex': int,\n",
    "    'birthwgt_lb': int,\n",
    "    'birthord': int,\n",
    "})"
   ]
  },
  {
   "cell_type": "code",
   "execution_count": 32,
   "id": "2aa16127-bb5c-4aec-bceb-7ef10f6c4517",
   "metadata": {},
   "outputs": [
    {
     "name": "stderr",
     "output_type": "stream",
     "text": [
      "/tmp/ipykernel_38518/2520965587.py:1: PerformanceWarning: DataFrame is highly fragmented.  This is usually the result of calling `frame.insert` many times, which has poor performance.  Consider joining all columns at once using pd.concat(axis=1) instead.  To get a de-fragmented frame, use `newframe = frame.copy()`\n",
      "  df['birthcat'] = pd.Categorical(np.where(df.birthord==1, 'firsts', 'others'))\n"
     ]
    }
   ],
   "source": [
    "df['birthcat'] = pd.Categorical(np.where(df.birthord==1, 'firsts', 'others'))"
   ]
  },
  {
   "cell_type": "code",
   "execution_count": 33,
   "id": "9f8042d7-4bbb-4ea0-ae59-b7493783b983",
   "metadata": {},
   "outputs": [],
   "source": [
    "df = df.reset_index()"
   ]
  },
  {
   "cell_type": "code",
   "execution_count": 34,
   "id": "2945de89-e1de-47e6-97a3-eac7efb660db",
   "metadata": {},
   "outputs": [],
   "source": [
    "# save in a format that preserves the data types\n",
    "df.to_feather('../data/live_births.feather')"
   ]
  },
  {
   "cell_type": "code",
   "execution_count": null,
   "id": "1c2d1168-c1fa-4428-a8f6-ee321581a9c1",
   "metadata": {},
   "outputs": [],
   "source": [
    "df = pd.read_feather('../data/2002FemPreg.feather')"
   ]
  },
  {
   "cell_type": "markdown",
   "id": "856d36bd-5611-42f3-844c-cbefceaf50f8",
   "metadata": {},
   "source": [
    "Check data"
   ]
  },
  {
   "cell_type": "code",
   "execution_count": null,
   "id": "d87f8c89-5813-4a5a-b1c1-f27ecf1433da",
   "metadata": {
    "tags": []
   },
   "outputs": [],
   "source": [
    "assert len(df) == 13593\n",
    "assert df.caseid[13592] == 12571\n",
    "assert df.pregordr.value_counts()[1] == 5033\n",
    "assert df.nbrnaliv.value_counts()[1] == 8981\n",
    "assert df.babysex.value_counts()[1] == 4641\n",
    "assert df.birthwgt_lb.value_counts()[7] == 3049\n",
    "assert df.birthwgt_oz.value_counts()[0] == 1037\n",
    "\n",
    "\n",
    "assert df.prglngth.value_counts()[39] == 4744\n",
    "assert df.outcome.value_counts()[1] == 9148\n",
    "assert df.birthord.value_counts()[1] == 4413\n",
    "assert df.agepreg.value_counts()[22.75] == 100\n",
    "assert df.totalwgt_lb.value_counts()[7.5] == 302"
   ]
  },
  {
   "cell_type": "code",
   "execution_count": null,
   "id": "04c1d613-a90b-45df-9947-27ee175cca1e",
   "metadata": {},
   "outputs": [],
   "source": [
    "weights = df.finalwgt.value_counts()\n",
    "key = max(weights.keys())\n",
    "assert df.finalwgt.value_counts()[key] == 6"
   ]
  },
  {
   "cell_type": "markdown",
   "id": "8dae24ea-76c6-4ec9-b32c-69cf39552f16",
   "metadata": {},
   "source": [
    "## Interpretation\n",
    "\n",
    "To work with data effectively, you have to think on two levels at the same time: the level of statistics and the level of context.\n",
    "\n",
    "As an example, let’s look at the sequence of outcomes for a few respondents. Because of the way the data files are organized, we have to do some processing to collect the pregnancy data for each respondent. Here’s a function that does that:\n",
    "\n",
    "validate that the pregnum column in `resp` matches the number of entries in `preg`"
   ]
  },
  {
   "cell_type": "code",
   "execution_count": null,
   "id": "597cfcae-d33a-4cfd-9f08-2bb2cdd62508",
   "metadata": {},
   "outputs": [],
   "source": [
    "def make_preg_map(df: pd.DataFrame) -> DefaultDict[int, List[int]]:\n",
    "    \"\"\"\n",
    "    Make a map from caseid to list of preg indices.\n",
    "\n",
    "    df: DataFrame\n",
    "\n",
    "    returns: dict that maps from caseid to list of indices into `preg`\n",
    "    \"\"\"\n",
    "    d = defaultdict(list)\n",
    "    for index, caseid in df.caseid.iteritems():\n",
    "        d[caseid].append(index)\n",
    "    return d"
   ]
  },
  {
   "cell_type": "code",
   "execution_count": null,
   "id": "26deadc4-e5eb-4b5f-b176-f9340f6d8493",
   "metadata": {},
   "outputs": [],
   "source": [
    "preg_map = make_preg_map(df)"
   ]
  },
  {
   "cell_type": "code",
   "execution_count": null,
   "id": "88305b62-aea9-4008-8826-796154e194a5",
   "metadata": {},
   "outputs": [],
   "source": [
    "# case id 23 appears in lines 21 and 22\n",
    "preg_map[23]"
   ]
  },
  {
   "cell_type": "code",
   "execution_count": null,
   "id": "dc36007d-5e9b-429f-bc15-9ebb86f75a8a",
   "metadata": {},
   "outputs": [],
   "source": [
    "df.loc[preg_map[23], 'caseid']"
   ]
  },
  {
   "cell_type": "markdown",
   "id": "4d2accbb-97f0-44c3-b369-04a93a839700",
   "metadata": {},
   "source": [
    "Load the responses"
   ]
  },
  {
   "cell_type": "code",
   "execution_count": null,
   "id": "11ef2f76-3d1f-4ad8-8adb-6f3517be0196",
   "metadata": {},
   "outputs": [],
   "source": [
    "import nsfg"
   ]
  },
  {
   "cell_type": "code",
   "execution_count": null,
   "id": "e6455ee0-ebec-4947-8632-68e1f1a1cca4",
   "metadata": {},
   "outputs": [],
   "source": [
    "resp = nsfg.read_fem_resp('../data')"
   ]
  },
  {
   "cell_type": "code",
   "execution_count": null,
   "id": "aeb4a094-2554-4e4f-8d7b-4c11ed761b17",
   "metadata": {},
   "outputs": [],
   "source": [
    "assert(len(resp) == 7643)\n",
    "assert(resp.pregnum.value_counts()[1] == 1267)"
   ]
  },
  {
   "cell_type": "code",
   "execution_count": null,
   "id": "902786dc-713c-4a51-8eb9-8c112b8e62b6",
   "metadata": {},
   "outputs": [],
   "source": [
    "def validate_preg_num(resp: pd.DataFrame, preg: pd.DataFrame) -> bool:\n",
    "    \"\"\"Validate pregnum in the respondent file.\n",
    "\n",
    "    resp: respondent DataFrame\n",
    "    preg: pregnancy DataFrame\n",
    "    \"\"\"\n",
    "    # make the map from caseid to list of pregnancy indices\n",
    "    preg_map = make_preg_map(preg)\n",
    "    \n",
    "    # iterate through the respondent pregnum series\n",
    "    for index, pregnum in resp.pregnum.iteritems():\n",
    "        caseid = resp.caseid[index]\n",
    "        indices = preg_map[caseid]\n",
    "\n",
    "        # check that pregnum from the respondent file equals\n",
    "        # the number of records in the pregnancy file\n",
    "        if len(indices) != pregnum:\n",
    "            print(caseid, len(indices), pregnum)\n",
    "            return False\n",
    "\n",
    "    return True"
   ]
  },
  {
   "cell_type": "code",
   "execution_count": null,
   "id": "ed66c46a-6b92-4101-a3ae-89099412994e",
   "metadata": {},
   "outputs": [],
   "source": [
    "validate_preg_num(resp, df)"
   ]
  }
 ],
 "metadata": {
  "kernelspec": {
   "display_name": "Python 3 (ipykernel)",
   "language": "python",
   "name": "python3"
  },
  "language_info": {
   "codemirror_mode": {
    "name": "ipython",
    "version": 3
   },
   "file_extension": ".py",
   "mimetype": "text/x-python",
   "name": "python",
   "nbconvert_exporter": "python",
   "pygments_lexer": "ipython3",
   "version": "3.9.5"
  }
 },
 "nbformat": 4,
 "nbformat_minor": 5
}
