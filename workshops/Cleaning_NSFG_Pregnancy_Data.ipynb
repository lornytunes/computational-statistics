{
 "cells": [
  {
   "cell_type": "markdown",
   "id": "845bc4de-6e97-4c7b-9ab8-00dd88f3ffb9",
   "metadata": {},
   "source": [
    "# NSFG Pregnancy Dataset ETL"
   ]
  },
  {
   "cell_type": "code",
   "execution_count": null,
   "id": "0fedf4b0-b286-4ddb-a365-cc131e61a93d",
   "metadata": {},
   "outputs": [],
   "source": [
    "from typing import List, DefaultDict\n",
    "from collections import defaultdict\n",
    "import numpy as np\n",
    "import pandas as pd"
   ]
  },
  {
   "cell_type": "code",
   "execution_count": null,
   "id": "1fda0582-80e9-4462-af9f-bee4a73d0e2b",
   "metadata": {},
   "outputs": [],
   "source": [
    "%load_ext autoreload"
   ]
  },
  {
   "cell_type": "code",
   "execution_count": null,
   "id": "e8235bc3-417b-4109-976a-848ce337c989",
   "metadata": {},
   "outputs": [],
   "source": [
    "import sys\n",
    "sys.path.append('../lib')"
   ]
  },
  {
   "cell_type": "code",
   "execution_count": null,
   "id": "fdb30ccc-a45e-4714-a1ab-42e0703d0a03",
   "metadata": {},
   "outputs": [],
   "source": [
    "import fwf"
   ]
  },
  {
   "cell_type": "markdown",
   "id": "0e4b6725-3289-4238-856e-bee30b11a38c",
   "metadata": {},
   "source": [
    "Load the data file"
   ]
  },
  {
   "cell_type": "code",
   "execution_count": null,
   "id": "3a05e3ed-3453-47b6-911a-6081e73a214a",
   "metadata": {},
   "outputs": [],
   "source": [
    "# nrows = 10000\n",
    "df = fwf.read_fixed_width(\n",
    "    '../data/2002FemPreg.dct',\n",
    "    '../data/2002FemPreg.dat.gz'\n",
    ")"
   ]
  },
  {
   "cell_type": "code",
   "execution_count": null,
   "id": "04d58550-5e19-40fe-b780-d23ffdc9214a",
   "metadata": {},
   "outputs": [],
   "source": [
    "df.shape"
   ]
  },
  {
   "cell_type": "markdown",
   "id": "d3757ce4-a819-418e-b1f6-d5738341b56c",
   "metadata": {},
   "source": [
    "mother's age is encoded in centiyears; convert to years"
   ]
  },
  {
   "cell_type": "code",
   "execution_count": null,
   "id": "bcfcd1d9-9722-4c97-8e66-fa087de5ba71",
   "metadata": {},
   "outputs": [],
   "source": [
    "df.agepreg"
   ]
  },
  {
   "cell_type": "code",
   "execution_count": null,
   "id": "54462aee-da33-49e7-83ec-1ae2f329ee26",
   "metadata": {},
   "outputs": [],
   "source": [
    "df.agepreg /= 100"
   ]
  },
  {
   "cell_type": "markdown",
   "id": "23f1d566-b92e-497d-ad9d-c4b0c4eb265d",
   "metadata": {},
   "source": [
    "`birthwgt_lb` contains at least one bogus value (51 lbs) replace with NaN"
   ]
  },
  {
   "cell_type": "code",
   "execution_count": null,
   "id": "47b6892a-9b96-4000-a823-2293c8e90d04",
   "metadata": {},
   "outputs": [],
   "source": [
    "df.loc[df.birthwgt_lb > 20, 'birthwgt_lb']"
   ]
  },
  {
   "cell_type": "code",
   "execution_count": null,
   "id": "a4349316-e3f7-419e-9759-9709af508493",
   "metadata": {},
   "outputs": [],
   "source": [
    "df.loc[df.birthwgt_lb > 20, 'birthwgt_lb'] = np.nan"
   ]
  },
  {
   "cell_type": "markdown",
   "id": "627dec8a-9615-4f36-82b7-a41672136b1c",
   "metadata": {},
   "source": [
    "replace 'not ascertained', 'refused', 'don't know' with NaN"
   ]
  },
  {
   "cell_type": "code",
   "execution_count": null,
   "id": "16cf7ef6-7b2e-4f1f-a528-1766994e23e7",
   "metadata": {},
   "outputs": [],
   "source": [
    "na_vals = [97, 98, 99]\n",
    "df.birthwgt_lb.replace(na_vals, np.nan, inplace=True)\n",
    "df.birthwgt_oz.replace(na_vals, np.nan, inplace=True)\n",
    "df.hpagelb.replace(na_vals, np.nan, inplace=True)"
   ]
  },
  {
   "cell_type": "markdown",
   "id": "937fff19-5aaa-4497-b6e3-fadff3871528",
   "metadata": {},
   "source": [
    "The sex of the baby contains some abnormal values"
   ]
  },
  {
   "cell_type": "code",
   "execution_count": null,
   "id": "2af130a8-e0de-4384-9dba-2496a2d4d8b3",
   "metadata": {},
   "outputs": [],
   "source": [
    "df.babysex.value_counts().sort_index()"
   ]
  },
  {
   "cell_type": "code",
   "execution_count": null,
   "id": "90a2bbee-d34b-4357-bf92-de09c8a66682",
   "metadata": {},
   "outputs": [],
   "source": [
    "df.babysex.replace([7, 9], np.nan, inplace=True)"
   ]
  },
  {
   "cell_type": "markdown",
   "id": "5d70e9c8-1d5a-496e-a023-339a68e028b9",
   "metadata": {},
   "source": [
    "same for normal delivery (`nbrnaliv`)"
   ]
  },
  {
   "cell_type": "code",
   "execution_count": null,
   "id": "f2f9355f-819b-4e5f-9fe1-a07c276d44e8",
   "metadata": {},
   "outputs": [],
   "source": [
    "df.nbrnaliv.value_counts()"
   ]
  },
  {
   "cell_type": "code",
   "execution_count": null,
   "id": "560ef7f7-5fdd-4f53-af35-4db21a2e136d",
   "metadata": {},
   "outputs": [],
   "source": [
    "df.nbrnaliv.replace([9], np.nan, inplace=True)"
   ]
  },
  {
   "cell_type": "markdown",
   "id": "a0f914d2-0eb4-456f-a74b-3b296b550065",
   "metadata": {},
   "source": [
    "Lets make them 8 bit integers"
   ]
  },
  {
   "cell_type": "code",
   "execution_count": null,
   "id": "4c7c72c3-b2ae-4d78-b346-b9491f5771da",
   "metadata": {},
   "outputs": [],
   "source": [
    "df = df.astype({\n",
    "    'nbrnaliv': pd.Int8Dtype(),\n",
    "    'babysex': pd.Int8Dtype()\n",
    "})"
   ]
  },
  {
   "cell_type": "markdown",
   "id": "486ef42a-920e-4415-b278-b278780c2610",
   "metadata": {},
   "source": [
    "birthweight is stored in two columns, lbs and oz. convert to a single column in lb"
   ]
  },
  {
   "cell_type": "code",
   "execution_count": null,
   "id": "88ee0054-5c73-41e9-b1d4-904c07b767ed",
   "metadata": {},
   "outputs": [],
   "source": [
    "df = df.assign(totalwgt_lb = df['birthwgt_lb'] + (df['birthwgt_oz'] / 16))"
   ]
  },
  {
   "cell_type": "code",
   "execution_count": null,
   "id": "44262e70-c253-46f1-99ad-13fe8e3d8cce",
   "metadata": {},
   "outputs": [],
   "source": [
    "df.head()"
   ]
  },
  {
   "cell_type": "code",
   "execution_count": null,
   "id": "a12d3bb2-0b86-4d09-bfd5-4a937774b53f",
   "metadata": {},
   "outputs": [],
   "source": [
    "df.multbrth.value_counts()"
   ]
  },
  {
   "cell_type": "markdown",
   "id": "d4ea9fe0-f882-41c7-8cf2-84a43a706287",
   "metadata": {},
   "source": [
    "Finally convert some more integer columns"
   ]
  },
  {
   "cell_type": "code",
   "execution_count": null,
   "id": "992f757b-051d-496f-a502-2fe680fd3c01",
   "metadata": {},
   "outputs": [],
   "source": [
    "df.multbrth"
   ]
  },
  {
   "cell_type": "code",
   "execution_count": null,
   "id": "ce7da1e8-b1f0-425f-a2cb-75f118a6ff9f",
   "metadata": {},
   "outputs": [],
   "source": [
    "df.multbrth.astype(pd.Int8Dtype())"
   ]
  },
  {
   "cell_type": "code",
   "execution_count": null,
   "id": "ab57391b-8625-4147-b5f1-8ebc03b2aa7b",
   "metadata": {},
   "outputs": [],
   "source": [
    "df = df.astype({\n",
    "    'pregend1': pd.Int8Dtype(),\n",
    "    'pregend2': pd.Int8Dtype(),\n",
    "    'moscurrp': pd.Int8Dtype(),\n",
    "    'howpreg_n': pd.Int32Dtype(),\n",
    "    'howpreg_p': pd.Int32Dtype(),\n",
    "    'nowprgdk': pd.Int32Dtype(),\n",
    "    'multbrth': pd.Int8Dtype(),\n",
    "    'birthwgt_lb': pd.Int32Dtype(),\n",
    "    'birthwgt_oz': pd.Int32Dtype(),\n",
    "    'birthord': pd.Int32Dtype()\n",
    "})"
   ]
  },
  {
   "cell_type": "code",
   "execution_count": null,
   "id": "2945de89-e1de-47e6-97a3-eac7efb660db",
   "metadata": {},
   "outputs": [],
   "source": [
    "# save in a format that preserves the data types\n",
    "df.to_feather('../data/2002FemPreg.feather')"
   ]
  },
  {
   "cell_type": "code",
   "execution_count": null,
   "id": "1c2d1168-c1fa-4428-a8f6-ee321581a9c1",
   "metadata": {},
   "outputs": [],
   "source": [
    "df = pd.read_feather('../data/2002FemPreg.feather')"
   ]
  },
  {
   "cell_type": "markdown",
   "id": "856d36bd-5611-42f3-844c-cbefceaf50f8",
   "metadata": {},
   "source": [
    "Check data"
   ]
  },
  {
   "cell_type": "code",
   "execution_count": null,
   "id": "d87f8c89-5813-4a5a-b1c1-f27ecf1433da",
   "metadata": {
    "tags": []
   },
   "outputs": [],
   "source": [
    "assert len(df) == 13593\n",
    "assert df.caseid[13592] == 12571\n",
    "assert df.pregordr.value_counts()[1] == 5033\n",
    "assert df.nbrnaliv.value_counts()[1] == 8981\n",
    "assert df.babysex.value_counts()[1] == 4641\n",
    "assert df.birthwgt_lb.value_counts()[7] == 3049\n",
    "assert df.birthwgt_oz.value_counts()[0] == 1037\n",
    "\n",
    "\n",
    "assert df.prglngth.value_counts()[39] == 4744\n",
    "assert df.outcome.value_counts()[1] == 9148\n",
    "assert df.birthord.value_counts()[1] == 4413\n",
    "assert df.agepreg.value_counts()[22.75] == 100\n",
    "assert df.totalwgt_lb.value_counts()[7.5] == 302"
   ]
  },
  {
   "cell_type": "code",
   "execution_count": null,
   "id": "04c1d613-a90b-45df-9947-27ee175cca1e",
   "metadata": {},
   "outputs": [],
   "source": [
    "weights = df.finalwgt.value_counts()\n",
    "key = max(weights.keys())\n",
    "assert df.finalwgt.value_counts()[key] == 6"
   ]
  },
  {
   "cell_type": "markdown",
   "id": "8dae24ea-76c6-4ec9-b32c-69cf39552f16",
   "metadata": {},
   "source": [
    "## Interpretation\n",
    "\n",
    "To work with data effectively, you have to think on two levels at the same time: the level of statistics and the level of context.\n",
    "\n",
    "As an example, let’s look at the sequence of outcomes for a few respondents. Because of the way the data files are organized, we have to do some processing to collect the pregnancy data for each respondent. Here’s a function that does that:\n",
    "\n",
    "validate that the pregnum column in `resp` matches the number of entries in `preg`"
   ]
  },
  {
   "cell_type": "code",
   "execution_count": null,
   "id": "597cfcae-d33a-4cfd-9f08-2bb2cdd62508",
   "metadata": {},
   "outputs": [],
   "source": [
    "def make_preg_map(df: pd.DataFrame) -> DefaultDict[int, List[int]]:\n",
    "    \"\"\"\n",
    "    Make a map from caseid to list of preg indices.\n",
    "\n",
    "    df: DataFrame\n",
    "\n",
    "    returns: dict that maps from caseid to list of indices into `preg`\n",
    "    \"\"\"\n",
    "    d = defaultdict(list)\n",
    "    for index, caseid in df.caseid.iteritems():\n",
    "        d[caseid].append(index)\n",
    "    return d"
   ]
  },
  {
   "cell_type": "code",
   "execution_count": null,
   "id": "26deadc4-e5eb-4b5f-b176-f9340f6d8493",
   "metadata": {},
   "outputs": [],
   "source": [
    "preg_map = make_preg_map(df)"
   ]
  },
  {
   "cell_type": "code",
   "execution_count": null,
   "id": "88305b62-aea9-4008-8826-796154e194a5",
   "metadata": {},
   "outputs": [],
   "source": [
    "# case id 23 appears in lines 21 and 22\n",
    "preg_map[23]"
   ]
  },
  {
   "cell_type": "code",
   "execution_count": null,
   "id": "dc36007d-5e9b-429f-bc15-9ebb86f75a8a",
   "metadata": {},
   "outputs": [],
   "source": [
    "df.loc[preg_map[23], 'caseid']"
   ]
  },
  {
   "cell_type": "markdown",
   "id": "4d2accbb-97f0-44c3-b369-04a93a839700",
   "metadata": {},
   "source": [
    "Load the responses"
   ]
  },
  {
   "cell_type": "code",
   "execution_count": null,
   "id": "11ef2f76-3d1f-4ad8-8adb-6f3517be0196",
   "metadata": {},
   "outputs": [],
   "source": [
    "import nsfg"
   ]
  },
  {
   "cell_type": "code",
   "execution_count": null,
   "id": "e6455ee0-ebec-4947-8632-68e1f1a1cca4",
   "metadata": {},
   "outputs": [],
   "source": [
    "resp = nsfg.read_fem_resp('../data')"
   ]
  },
  {
   "cell_type": "code",
   "execution_count": null,
   "id": "aeb4a094-2554-4e4f-8d7b-4c11ed761b17",
   "metadata": {},
   "outputs": [],
   "source": [
    "assert(len(resp) == 7643)\n",
    "assert(resp.pregnum.value_counts()[1] == 1267)"
   ]
  },
  {
   "cell_type": "code",
   "execution_count": null,
   "id": "902786dc-713c-4a51-8eb9-8c112b8e62b6",
   "metadata": {},
   "outputs": [],
   "source": [
    "def validate_preg_num(resp: pd.DataFrame, preg: pd.DataFrame) -> bool:\n",
    "    \"\"\"Validate pregnum in the respondent file.\n",
    "\n",
    "    resp: respondent DataFrame\n",
    "    preg: pregnancy DataFrame\n",
    "    \"\"\"\n",
    "    # make the map from caseid to list of pregnancy indices\n",
    "    preg_map = make_preg_map(preg)\n",
    "    \n",
    "    # iterate through the respondent pregnum series\n",
    "    for index, pregnum in resp.pregnum.iteritems():\n",
    "        caseid = resp.caseid[index]\n",
    "        indices = preg_map[caseid]\n",
    "\n",
    "        # check that pregnum from the respondent file equals\n",
    "        # the number of records in the pregnancy file\n",
    "        if len(indices) != pregnum:\n",
    "            print(caseid, len(indices), pregnum)\n",
    "            return False\n",
    "\n",
    "    return True"
   ]
  },
  {
   "cell_type": "code",
   "execution_count": null,
   "id": "ed66c46a-6b92-4101-a3ae-89099412994e",
   "metadata": {},
   "outputs": [],
   "source": [
    "validate_preg_num(resp, df)"
   ]
  }
 ],
 "metadata": {
  "kernelspec": {
   "display_name": "Python 3 (ipykernel)",
   "language": "python",
   "name": "python3"
  },
  "language_info": {
   "codemirror_mode": {
    "name": "ipython",
    "version": 3
   },
   "file_extension": ".py",
   "mimetype": "text/x-python",
   "name": "python",
   "nbconvert_exporter": "python",
   "pygments_lexer": "ipython3",
   "version": "3.9.5"
  }
 },
 "nbformat": 4,
 "nbformat_minor": 5
}
