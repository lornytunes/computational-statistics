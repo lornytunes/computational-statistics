{
 "cells": [
  {
   "cell_type": "markdown",
   "id": "e1b80b22-62b5-46a8-84ed-054944174913",
   "metadata": {},
   "source": [
    "# Reading Relay Data"
   ]
  },
  {
   "cell_type": "code",
   "execution_count": null,
   "id": "40039ff6-55c7-4693-b5fd-0f7984598d7a",
   "metadata": {},
   "outputs": [],
   "source": [
    "import re\n",
    "from dataclasses import dataclass\n",
    "from typing import List\n",
    "from operator import attrgetter\n",
    "import numpy as np\n",
    "import pandas as pd"
   ]
  },
  {
   "cell_type": "markdown",
   "id": "37144580-a5b8-4db3-af3a-ff2e67c711bb",
   "metadata": {},
   "source": [
    "This workshop reads the results from the *James Joyce Ramble 10K* in *Dedham MA* and converts the pace of each\n",
    "runner to mph."
   ]
  },
  {
   "cell_type": "markdown",
   "id": "e6388ee4-3b77-4680-bec5-dc533eacae43",
   "metadata": {},
   "source": [
    "We want to read in lines that look like this:\n",
    "     \n",
    "     1601 169/171  M5059 1:17:17 1:16:51  12:22 James Katides 57 M   633 Quincy MA"
   ]
  },
  {
   "cell_type": "markdown",
   "id": "eb187475-3900-45ac-ab3c-137798cc2e7f",
   "metadata": {},
   "source": [
    "Each line contains the following information:\n",
    "\n",
    "- Place\n",
    "- Div/Tot\n",
    "- Div\n",
    "- Guntime\n",
    "- Nettime\n",
    "- Pace\n",
    "- Name\n",
    "- Ag\n",
    "- S\n",
    "- Race#\n",
    "- City/state"
   ]
  },
  {
   "cell_type": "code",
   "execution_count": null,
   "id": "60097bcf-3317-4cd7-af2a-ae5e26a83792",
   "metadata": {},
   "outputs": [],
   "source": [
    "line = ' 1601 169/171  M5059 1:17:17 1:16:51  12:22 James Katides          57 M   633 Quincy MA'"
   ]
  },
  {
   "cell_type": "markdown",
   "id": "29c9c468-0a30-43b0-8cfb-1f81f5503c8c",
   "metadata": {},
   "source": [
    "We need a way of identifying data lines - i.e those that start with a integer place number surrounded by whitespace"
   ]
  },
  {
   "cell_type": "code",
   "execution_count": null,
   "id": "c529a655-f75b-4d97-a1a9-60c08178fe8a",
   "metadata": {},
   "outputs": [],
   "source": [
    "DATA_LINE_IDENTIFIER = re.compile(r'^\\s+\\d+\\s+')"
   ]
  },
  {
   "cell_type": "code",
   "execution_count": null,
   "id": "f16af6e4-2d99-4492-abd5-2aad10361431",
   "metadata": {},
   "outputs": [],
   "source": [
    "DATA_LINE_IDENTIFIER.match(line)"
   ]
  },
  {
   "cell_type": "markdown",
   "id": "cd6362fa-fa66-4e48-ae13-a4569370af94",
   "metadata": {},
   "source": [
    "We don't want to match non-data lines like this:"
   ]
  },
  {
   "cell_type": "code",
   "execution_count": null,
   "id": "eb87bc53-106a-4388-80de-d12583d045a7",
   "metadata": {},
   "outputs": [],
   "source": [
    "header = '              27th Anniversary Edition James Joyce Ramble 10K'"
   ]
  },
  {
   "cell_type": "code",
   "execution_count": null,
   "id": "237d18dd-a224-40bf-91d5-96823f2e3ad9",
   "metadata": {},
   "outputs": [],
   "source": [
    "assert DATA_LINE_IDENTIFIER.match(header) is None"
   ]
  },
  {
   "cell_type": "markdown",
   "id": "aa36e9a4-ce0d-49ff-9677-6443451b104f",
   "metadata": {},
   "source": [
    "We want to get the first six pieces of information"
   ]
  },
  {
   "cell_type": "code",
   "execution_count": null,
   "id": "380848a6-46cf-4349-b64e-6a61cf474123",
   "metadata": {},
   "outputs": [],
   "source": [
    "parts = line.split()"
   ]
  },
  {
   "cell_type": "markdown",
   "id": "c6f92cc0-c63a-4923-902a-bbd3cb349ee6",
   "metadata": {},
   "source": [
    "The second item needs to be in the form of `Div/Tot`:"
   ]
  },
  {
   "cell_type": "code",
   "execution_count": null,
   "id": "663ed9fa-0818-47e0-b6be-eab93539730b",
   "metadata": {},
   "outputs": [],
   "source": [
    "parts[1]"
   ]
  },
  {
   "cell_type": "code",
   "execution_count": null,
   "id": "456c6485-887c-488b-8b02-90176437f1c8",
   "metadata": {},
   "outputs": [],
   "source": [
    "assert '/' in parts[1]"
   ]
  },
  {
   "cell_type": "markdown",
   "id": "137420a7-ca15-40b8-b6e4-cd06d31fc2d4",
   "metadata": {},
   "source": [
    "Those that don't have this didn't finish the race, so can be discounted"
   ]
  },
  {
   "cell_type": "code",
   "execution_count": null,
   "id": "351fc97b-dabe-4a2e-8b9e-9f3d18c8d33b",
   "metadata": {},
   "outputs": [],
   "source": [
    "non_finisher = '   55                  40:37   40:28   6:31 Mark Healey               M  1496 Dover MA'"
   ]
  },
  {
   "cell_type": "code",
   "execution_count": null,
   "id": "f557f723-ca2d-4e0f-b581-0e27034b24f0",
   "metadata": {},
   "outputs": [],
   "source": [
    "parts = non_finisher.split()\n",
    "parts[1]"
   ]
  },
  {
   "cell_type": "code",
   "execution_count": null,
   "id": "cd878b10-83e6-4eae-9731-5385c3356a70",
   "metadata": {},
   "outputs": [],
   "source": [
    "assert '/' not in parts[1]"
   ]
  },
  {
   "cell_type": "code",
   "execution_count": null,
   "id": "9fb01461-530d-4fb4-a72a-f15f8df6d0b6",
   "metadata": {},
   "outputs": [],
   "source": [
    "# just check the first two parts\n",
    "parts = non_finisher.split(maxsplit=2)"
   ]
  },
  {
   "cell_type": "code",
   "execution_count": null,
   "id": "cfc3824e-a077-481e-9dda-6d0da53eb77a",
   "metadata": {},
   "outputs": [],
   "source": [
    "parts[1]"
   ]
  },
  {
   "cell_type": "code",
   "execution_count": null,
   "id": "b186fc09-8783-4733-817e-0fea0a3140c9",
   "metadata": {},
   "outputs": [],
   "source": [
    "parts = line.split(maxsplit=2)"
   ]
  },
  {
   "cell_type": "code",
   "execution_count": null,
   "id": "9e720366-0d59-4d88-9a8d-3252bfa1b1e0",
   "metadata": {},
   "outputs": [],
   "source": [
    "parts[1]"
   ]
  },
  {
   "cell_type": "code",
   "execution_count": null,
   "id": "f06ad145-2532-470e-8207-f4b2d12e6cbf",
   "metadata": {},
   "outputs": [],
   "source": [
    "# take a look at the first 4 items\n",
    "parts = line.split(maxsplit=4)"
   ]
  },
  {
   "cell_type": "code",
   "execution_count": null,
   "id": "e48b94a0-a635-4e10-a342-f499726c4e00",
   "metadata": {},
   "outputs": [],
   "source": [
    "# the third item should be a time\n",
    "parts[3]"
   ]
  },
  {
   "cell_type": "markdown",
   "id": "83a3fe5d-8e10-40b0-93ac-a33b7757140f",
   "metadata": {},
   "source": [
    "So now we have a way of identifying valid lines and skipping invalid lines"
   ]
  },
  {
   "cell_type": "code",
   "execution_count": null,
   "id": "0539e677-db90-497a-8af7-542a36c652e9",
   "metadata": {},
   "outputs": [],
   "source": [
    "datafile = '../data/relay_results.txt'\n",
    "num_processed = 0\n",
    "num_skipped = 0\n",
    "with open(datafile, 'r') as fp:\n",
    "    for line in fp:\n",
    "        if DATA_LINE_IDENTIFIER.match(line) is None:\n",
    "            num_skipped += 1\n",
    "            continue\n",
    "        parts = line.split(maxsplit=4)\n",
    "        # there should be 5 items - the ones we split on plus the rest\n",
    "        if len(parts) < 5:\n",
    "            num_skipped += 1\n",
    "            continue\n",
    "        # the second item must be div/tot\n",
    "        if '/' not in parts[1]:\n",
    "            num_skipped += 1\n",
    "            continue\n",
    "        # the fourth item must be a time\n",
    "        if ':' not in parts[3]:\n",
    "            num_skipped += 1\n",
    "            continue\n",
    "        # now we have a valid line\n",
    "        num_processed += 1\n",
    "            \n",
    "print(f'Processed: {num_processed}, Skipped: {num_skipped}')"
   ]
  },
  {
   "cell_type": "markdown",
   "id": "fdddf409-76a8-4eb6-ac13-f0a6bbcd78db",
   "metadata": {},
   "source": [
    "Now we can focus on processing an individual line"
   ]
  },
  {
   "cell_type": "code",
   "execution_count": null,
   "id": "77b842ba-4406-49d7-b9a9-2271ea99009b",
   "metadata": {},
   "outputs": [],
   "source": [
    "line = ' 1601 169/171  M5059 1:17:17 1:16:51  12:22 James Katides          57 M   633 Quincy MA'"
   ]
  },
  {
   "cell_type": "code",
   "execution_count": null,
   "id": "6d19dbb1-bf7b-49ed-b197-51f2ba27773b",
   "metadata": {},
   "outputs": [],
   "source": [
    "place, divtot, div, gun, net, pace = line.split()[0:6]"
   ]
  },
  {
   "cell_type": "markdown",
   "id": "747608b8-e839-4d1e-91fa-16f8971bd3db",
   "metadata": {},
   "source": [
    "place is an integer"
   ]
  },
  {
   "cell_type": "code",
   "execution_count": null,
   "id": "910f0bdd-d844-4148-9c87-a8789bb3f3f6",
   "metadata": {},
   "outputs": [],
   "source": [
    "int(place)"
   ]
  },
  {
   "cell_type": "markdown",
   "id": "6aa92953-6084-4356-b18a-a44492dfbec9",
   "metadata": {},
   "source": [
    "gun, net and pace are times. We need a routine that converts strings to time instances"
   ]
  },
  {
   "cell_type": "code",
   "execution_count": null,
   "id": "b1763827-762a-4628-9d33-3b9118165998",
   "metadata": {},
   "outputs": [],
   "source": [
    "print(f'Gun: {gun}, Net: {net}, Pace: {pace}')"
   ]
  },
  {
   "cell_type": "markdown",
   "id": "d7a5a4d7-5fff-4228-be0c-9953cbee7671",
   "metadata": {},
   "source": [
    "Lets collect the hour, minute and second components together, and add a parse routine that creates and instance from a string representation"
   ]
  },
  {
   "cell_type": "code",
   "execution_count": null,
   "id": "f5ebf484-e080-4ebb-a471-c4bd89b8443c",
   "metadata": {},
   "outputs": [],
   "source": [
    "@dataclass\n",
    "class Time:\n",
    "    \n",
    "    @classmethod\n",
    "    def parse(cls, s: str):\n",
    "        parts = [int(c) for c in s.split(':')]\n",
    "        if len(parts) == 2:\n",
    "            # hour component is zero\n",
    "            return cls(0, *parts)\n",
    "        return cls(*parts)\n",
    "    \n",
    "    hour: int\n",
    "    minute: int\n",
    "    second: int\n",
    "        \n",
    "    @property\n",
    "    def seconds(self) -> int:\n",
    "        return sum((\n",
    "            self.hour * 3600,\n",
    "            self.minute * 60,\n",
    "            self.second\n",
    "        ))"
   ]
  },
  {
   "cell_type": "code",
   "execution_count": null,
   "id": "37571e14-5c8d-4b1f-a4bb-14c3b0e5a044",
   "metadata": {},
   "outputs": [],
   "source": [
    "for t in ('6:18', '59:20', '1:00:04'):\n",
    "    print(Time.parse(t))"
   ]
  },
  {
   "cell_type": "markdown",
   "id": "c7bd3bd2-7cec-4b92-abf7-7ab2e4a39918",
   "metadata": {},
   "source": [
    "We also need to check for any time fields with invalid characters such as `59:20*'"
   ]
  },
  {
   "cell_type": "code",
   "execution_count": null,
   "id": "45e9ec37-b490-4b98-b609-4417e65eb8bb",
   "metadata": {},
   "outputs": [],
   "source": [
    "t = '59:20*'\n",
    "# replace any characters that are not digits or colons with the empty string\n",
    "re.sub(r'[^\\d:]', '', t)"
   ]
  },
  {
   "cell_type": "code",
   "execution_count": null,
   "id": "d9fe6653-c4d1-424f-82cc-e093fed7ca1d",
   "metadata": {},
   "outputs": [],
   "source": [
    "def clean_time_str(s: str) -> str:\n",
    "    return re.sub(r'[^\\d:]', '', s)"
   ]
  },
  {
   "cell_type": "code",
   "execution_count": null,
   "id": "d4f5b9e1-bcfd-4170-9d71-5770d704d1c0",
   "metadata": {},
   "outputs": [],
   "source": [
    "for t in ('6:18', '59:20', '1:00:04', '56:15*'):\n",
    "    print(Time.parse(clean_time_str(t)))"
   ]
  },
  {
   "cell_type": "markdown",
   "id": "53c89fbe-b3a6-4ae1-a91c-c710040cf770",
   "metadata": {},
   "source": [
    "For now we will just extract the place and times. Create a dataclass to contain the data extracted for each line"
   ]
  },
  {
   "cell_type": "code",
   "execution_count": null,
   "id": "df4fe1e4-ba4b-4070-aaeb-5c4a5d8a2b2a",
   "metadata": {},
   "outputs": [],
   "source": [
    "@dataclass\n",
    "class Record:\n",
    "    \n",
    "    place: int\n",
    "    gun: Time\n",
    "    net: Time\n",
    "    pace: Time"
   ]
  },
  {
   "cell_type": "markdown",
   "id": "7b67d695-6e40-46d9-9e9a-cec62f58c824",
   "metadata": {},
   "source": [
    "Now we can define a `read_record` that extracts the race info and returns it as a `Record`"
   ]
  },
  {
   "cell_type": "code",
   "execution_count": null,
   "id": "e9115614-8586-46be-bcc6-f50a40499194",
   "metadata": {},
   "outputs": [],
   "source": [
    "def read_record(line: str) -> Record:\n",
    "    place, divtot, div, gun, net, pace = line.split()[0:6]\n",
    "    return Record(\n",
    "        int(place),\n",
    "        Time.parse(clean_time_str(gun)),\n",
    "        Time.parse(clean_time_str(net)),\n",
    "        Time.parse(clean_time_str(pace))\n",
    "    )"
   ]
  },
  {
   "cell_type": "code",
   "execution_count": null,
   "id": "bbeb7295-df05-4d47-8ad5-0c9ec89375dc",
   "metadata": {},
   "outputs": [],
   "source": [
    "read_record(line)"
   ]
  },
  {
   "cell_type": "markdown",
   "id": "d9055362-6adf-4d67-a6a1-a24530708a2f",
   "metadata": {},
   "source": [
    "Finally we can parse the data file as a list of Records:"
   ]
  },
  {
   "cell_type": "code",
   "execution_count": null,
   "id": "b741eeba-eb19-413a-b1d1-43cd49f7a21f",
   "metadata": {},
   "outputs": [],
   "source": [
    "def read_records(filename: str) -> List[Record]:\n",
    "    records = []\n",
    "    with open(filename, 'r') as fp:\n",
    "        for line in fp:\n",
    "            # does the line contain data?\n",
    "            if DATA_LINE_IDENTIFIER.match(line) is None:\n",
    "                continue\n",
    "            parts = line.split(maxsplit=4)\n",
    "            # there should be 5 items - the ones we split on plus the rest\n",
    "            if len(parts) < 5:\n",
    "                continue\n",
    "            # the second item must be div/tot\n",
    "            if '/' not in parts[1]:\n",
    "                continue\n",
    "            # the fourth item must be a time\n",
    "            if ':' not in parts[3]:\n",
    "                continue\n",
    "            # now we have a valid line - parse out the data\n",
    "            records.append(read_record(line))\n",
    "    # sort by place\n",
    "    records.sort(key=attrgetter('place'))\n",
    "    return records"
   ]
  },
  {
   "cell_type": "code",
   "execution_count": null,
   "id": "72630e2e-9f60-412f-9165-696afa4565f9",
   "metadata": {},
   "outputs": [],
   "source": [
    "records = read_records(datafile)"
   ]
  },
  {
   "cell_type": "code",
   "execution_count": null,
   "id": "45ec5686-81cc-40e7-8742-c1a5ce65aea4",
   "metadata": {},
   "outputs": [],
   "source": [
    "# first and list\n",
    "print(records[0])\n",
    "print(records[-1])"
   ]
  },
  {
   "cell_type": "markdown",
   "id": "6fb483b0-2ef7-40fc-ba20-331b01575883",
   "metadata": {},
   "source": [
    "Finally we need to convert the pace (average time to run each mile) into a speed in mph. We can enhance our `Time` class to return the total in terms of seconds"
   ]
  },
  {
   "cell_type": "code",
   "execution_count": null,
   "id": "271ad573-5c9f-43b2-9e1c-78dca80d2ca0",
   "metadata": {},
   "outputs": [],
   "source": [
    "def to_mph(t: Time) -> float:\n",
    "    '''\n",
    "    Converts seconds per mile to miles per hour\n",
    "    '''\n",
    "    # multiply the total number of hours by 3600 to convert to seconds\n",
    "    # speed is distance/time, i.e 3600/[number of seconds]\n",
    "    return 3600 / t.seconds"
   ]
  },
  {
   "cell_type": "code",
   "execution_count": null,
   "id": "4d2d1de9-33d0-480e-9f3b-6f53840350a8",
   "metadata": {},
   "outputs": [],
   "source": [
    "records = read_records(datafile)"
   ]
  },
  {
   "cell_type": "code",
   "execution_count": null,
   "id": "45d4421a-98fa-4143-961a-b46c652aa172",
   "metadata": {},
   "outputs": [],
   "source": [
    "print(f'First: {to_mph(records[0].pace):0.2f} mph, Last: {to_mph(records[-1].pace):0.2f} mph')"
   ]
  },
  {
   "cell_type": "markdown",
   "id": "08d0b307-3e5d-49bd-b425-2ce506eed090",
   "metadata": {},
   "source": [
    "So we have speeds between 3 and 12 mph - we can bin these into 100 categories"
   ]
  },
  {
   "cell_type": "code",
   "execution_count": null,
   "id": "faaae2de-8bc8-44c7-b0c2-488ff5de2f35",
   "metadata": {},
   "outputs": [],
   "source": [
    "# collect speeds\n",
    "speeds = np.array([to_mph(record.pace) for record in records])\n",
    "# highest and lowest\n",
    "hi, low = (speeds[0], speeds[-1])\n",
    "hi, low = 12, 3\n",
    "# and the range\n",
    "dt = hi - low\n",
    "print(f'Hi: {hi}, Low: {low}, Range: {dt}')"
   ]
  },
  {
   "cell_type": "code",
   "execution_count": null,
   "id": "3b8ed730-dc74-4ffb-b339-dcfd2b1182bf",
   "metadata": {},
   "outputs": [],
   "source": [
    "# the number of bins\n",
    "n = 100"
   ]
  },
  {
   "cell_type": "code",
   "execution_count": null,
   "id": "8c02ba13-65fd-4921-a732-cbf194740a3d",
   "metadata": {},
   "outputs": [],
   "source": [
    "# express speeds in units of dt, and then expressed as a value between 0 and the bin size\n",
    "binvals = ((speeds - low) / dt) * n\n",
    "binvals"
   ]
  },
  {
   "cell_type": "code",
   "execution_count": null,
   "id": "7784e21b-f615-4a75-84b1-32b05be5b664",
   "metadata": {},
   "outputs": [],
   "source": [
    "# round down and put new values back in terms of their original speed\n",
    "binvals = np.round(binvals) * dt / n + low"
   ]
  },
  {
   "cell_type": "code",
   "execution_count": null,
   "id": "8509e7dc-1f59-4587-84dc-7f62c71e6926",
   "metadata": {},
   "outputs": [],
   "source": [
    "pd.Series(binvals).value_counts().sort_values()"
   ]
  },
  {
   "cell_type": "markdown",
   "id": "3d92f531-a35b-4465-adc3-e2a7bbe22833",
   "metadata": {},
   "source": [
    "Here is a better way of binning the data"
   ]
  },
  {
   "cell_type": "code",
   "execution_count": null,
   "id": "ad1baa58-746a-4d04-b142-3fcdd1eb9fec",
   "metadata": {},
   "outputs": [],
   "source": [
    "def bin_float(value: float, binsize=0.5):\n",
    "    floor = np.floor(value)\n",
    "    ds = value - floor\n",
    "    # want to round to one of these discrete values\n",
    "    vals = np.arange(0, 1+binsize, binsize)\n",
    "    # how much does the fractional part differ from each of our rounded values\n",
    "    diffs = np.abs(vals - (value - floor))\n",
    "    # we want the closest\n",
    "    return floor + vals[np.argmin(diffs)]"
   ]
  },
  {
   "cell_type": "markdown",
   "id": "3f9665c3-a3d7-4277-bfa9-3106fb6b021b",
   "metadata": {},
   "source": [
    "And save the results for later analysis"
   ]
  },
  {
   "cell_type": "code",
   "execution_count": null,
   "id": "93ab6989-55ae-4f58-aae1-5a3cecbdf9b4",
   "metadata": {},
   "outputs": [],
   "source": [
    "df = pd.DataFrame(dict(\n",
    "    place=np.array([r.place for r in records], dtype=np.uint32),\n",
    "    mph=speeds,\n",
    "    speed=[bin_float(speed, 0.25) for speed in speeds]\n",
    "))\n",
    "df.head(n=10)"
   ]
  },
  {
   "cell_type": "code",
   "execution_count": null,
   "id": "525fe23c-fc71-4dc5-b499-b4a1817440a3",
   "metadata": {},
   "outputs": [],
   "source": [
    "df.to_feather('../data/relay_results.feather')"
   ]
  }
 ],
 "metadata": {
  "kernelspec": {
   "display_name": "Python 3 (ipykernel)",
   "language": "python",
   "name": "python3"
  },
  "language_info": {
   "codemirror_mode": {
    "name": "ipython",
    "version": 3
   },
   "file_extension": ".py",
   "mimetype": "text/x-python",
   "name": "python",
   "nbconvert_exporter": "python",
   "pygments_lexer": "ipython3",
   "version": "3.9.5"
  }
 },
 "nbformat": 4,
 "nbformat_minor": 5
}
