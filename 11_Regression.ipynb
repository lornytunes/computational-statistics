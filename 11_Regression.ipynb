{
 "cells": [
  {
   "cell_type": "markdown",
   "metadata": {},
   "source": [
    "# Regression"
   ]
  },
  {
   "cell_type": "code",
   "execution_count": 1,
   "metadata": {},
   "outputs": [],
   "source": [
    "import re\n",
    "from functools import partial\n",
    "from typing import List, Tuple"
   ]
  },
  {
   "cell_type": "code",
   "execution_count": 2,
   "metadata": {},
   "outputs": [],
   "source": [
    "import sys\n",
    "sys.path.append('lib')"
   ]
  },
  {
   "cell_type": "code",
   "execution_count": 3,
   "metadata": {},
   "outputs": [],
   "source": [
    "import numpy as np\n",
    "import pandas as pd\n",
    "import statsmodels.formula.api as smf\n",
    "import patsy"
   ]
  },
  {
   "cell_type": "code",
   "execution_count": 4,
   "metadata": {},
   "outputs": [],
   "source": [
    "import nsfg\n",
    "import fwf"
   ]
  },
  {
   "cell_type": "code",
   "execution_count": 5,
   "metadata": {},
   "outputs": [],
   "source": [
    "import matplotlib.pyplot as plt\n",
    "import seaborn as sns"
   ]
  },
  {
   "cell_type": "code",
   "execution_count": 6,
   "metadata": {},
   "outputs": [],
   "source": [
    "from IPython.core.pylabtools import figsize\n",
    "sns.set_theme()\n",
    "figsize(11, 5)"
   ]
  },
  {
   "cell_type": "code",
   "execution_count": 7,
   "metadata": {},
   "outputs": [],
   "source": [
    "r4 = partial(np.round, decimals=4)"
   ]
  },
  {
   "cell_type": "markdown",
   "metadata": {},
   "source": [
    "## StatsModels\n",
    "\n",
    "Let's load up the NSFG data again."
   ]
  },
  {
   "cell_type": "code",
   "execution_count": 8,
   "metadata": {},
   "outputs": [],
   "source": [
    "live = nsfg.read_live_fem_preg()"
   ]
  },
  {
   "cell_type": "code",
   "execution_count": 9,
   "metadata": {},
   "outputs": [
    {
     "data": {
      "text/plain": [
       "totalwgt_lb    0\n",
       "agepreg        0\n",
       "dtype: int64"
      ]
     },
     "execution_count": 9,
     "metadata": {},
     "output_type": "execute_result"
    }
   ],
   "source": [
    "live.loc[:, ['totalwgt_lb', 'agepreg']].apply(lambda col: col.isna().sum())"
   ]
  },
  {
   "cell_type": "markdown",
   "metadata": {},
   "source": [
    "Here's birth weight as a function of mother's age (which we saw in the previous chapter)."
   ]
  },
  {
   "cell_type": "code",
   "execution_count": 10,
   "metadata": {},
   "outputs": [
    {
     "data": {
      "text/html": [
       "<table class=\"simpletable\">\n",
       "<caption>OLS Regression Results</caption>\n",
       "<tr>\n",
       "  <th>Dep. Variable:</th>       <td>totalwgt_lb</td>   <th>  R-squared:         </th> <td>   0.005</td> \n",
       "</tr>\n",
       "<tr>\n",
       "  <th>Model:</th>                   <td>OLS</td>       <th>  Adj. R-squared:    </th> <td>   0.005</td> \n",
       "</tr>\n",
       "<tr>\n",
       "  <th>Method:</th>             <td>Least Squares</td>  <th>  F-statistic:       </th> <td>   43.02</td> \n",
       "</tr>\n",
       "<tr>\n",
       "  <th>Date:</th>             <td>Fri, 21 Jan 2022</td> <th>  Prob (F-statistic):</th> <td>5.72e-11</td> \n",
       "</tr>\n",
       "<tr>\n",
       "  <th>Time:</th>                 <td>23:48:32</td>     <th>  Log-Likelihood:    </th> <td> -15897.</td> \n",
       "</tr>\n",
       "<tr>\n",
       "  <th>No. Observations:</th>      <td>  9038</td>      <th>  AIC:               </th> <td>3.180e+04</td>\n",
       "</tr>\n",
       "<tr>\n",
       "  <th>Df Residuals:</th>          <td>  9036</td>      <th>  BIC:               </th> <td>3.181e+04</td>\n",
       "</tr>\n",
       "<tr>\n",
       "  <th>Df Model:</th>              <td>     1</td>      <th>                     </th>     <td> </td>    \n",
       "</tr>\n",
       "<tr>\n",
       "  <th>Covariance Type:</th>      <td>nonrobust</td>    <th>                     </th>     <td> </td>    \n",
       "</tr>\n",
       "</table>\n",
       "<table class=\"simpletable\">\n",
       "<tr>\n",
       "      <td></td>         <th>coef</th>     <th>std err</th>      <th>t</th>      <th>P>|t|</th>  <th>[0.025</th>    <th>0.975]</th>  \n",
       "</tr>\n",
       "<tr>\n",
       "  <th>Intercept</th> <td>    6.8304</td> <td>    0.068</td> <td>  100.470</td> <td> 0.000</td> <td>    6.697</td> <td>    6.964</td>\n",
       "</tr>\n",
       "<tr>\n",
       "  <th>agepreg</th>   <td>    0.0175</td> <td>    0.003</td> <td>    6.559</td> <td> 0.000</td> <td>    0.012</td> <td>    0.023</td>\n",
       "</tr>\n",
       "</table>\n",
       "<table class=\"simpletable\">\n",
       "<tr>\n",
       "  <th>Omnibus:</th>       <td>1024.052</td> <th>  Durbin-Watson:     </th> <td>   1.618</td>\n",
       "</tr>\n",
       "<tr>\n",
       "  <th>Prob(Omnibus):</th>  <td> 0.000</td>  <th>  Jarque-Bera (JB):  </th> <td>3081.833</td>\n",
       "</tr>\n",
       "<tr>\n",
       "  <th>Skew:</th>           <td>-0.601</td>  <th>  Prob(JB):          </th> <td>    0.00</td>\n",
       "</tr>\n",
       "<tr>\n",
       "  <th>Kurtosis:</th>       <td> 5.596</td>  <th>  Cond. No.          </th> <td>    118.</td>\n",
       "</tr>\n",
       "</table><br/><br/>Notes:<br/>[1] Standard Errors assume that the covariance matrix of the errors is correctly specified."
      ],
      "text/plain": [
       "<class 'statsmodels.iolib.summary.Summary'>\n",
       "\"\"\"\n",
       "                            OLS Regression Results                            \n",
       "==============================================================================\n",
       "Dep. Variable:            totalwgt_lb   R-squared:                       0.005\n",
       "Model:                            OLS   Adj. R-squared:                  0.005\n",
       "Method:                 Least Squares   F-statistic:                     43.02\n",
       "Date:                Fri, 21 Jan 2022   Prob (F-statistic):           5.72e-11\n",
       "Time:                        23:48:32   Log-Likelihood:                -15897.\n",
       "No. Observations:                9038   AIC:                         3.180e+04\n",
       "Df Residuals:                    9036   BIC:                         3.181e+04\n",
       "Df Model:                           1                                         \n",
       "Covariance Type:            nonrobust                                         \n",
       "==============================================================================\n",
       "                 coef    std err          t      P>|t|      [0.025      0.975]\n",
       "------------------------------------------------------------------------------\n",
       "Intercept      6.8304      0.068    100.470      0.000       6.697       6.964\n",
       "agepreg        0.0175      0.003      6.559      0.000       0.012       0.023\n",
       "==============================================================================\n",
       "Omnibus:                     1024.052   Durbin-Watson:                   1.618\n",
       "Prob(Omnibus):                  0.000   Jarque-Bera (JB):             3081.833\n",
       "Skew:                          -0.601   Prob(JB):                         0.00\n",
       "Kurtosis:                       5.596   Cond. No.                         118.\n",
       "==============================================================================\n",
       "\n",
       "Notes:\n",
       "[1] Standard Errors assume that the covariance matrix of the errors is correctly specified.\n",
       "\"\"\""
      ]
     },
     "execution_count": 10,
     "metadata": {},
     "output_type": "execute_result"
    }
   ],
   "source": [
    "model = smf.ols('totalwgt_lb ~ agepreg', data=live)\n",
    "results = model.fit()\n",
    "results.summary()"
   ]
  },
  {
   "cell_type": "markdown",
   "metadata": {},
   "source": [
    "We can extract the parameters, and the p-value of the slope estimate."
   ]
  },
  {
   "cell_type": "code",
   "execution_count": 89,
   "metadata": {},
   "outputs": [],
   "source": [
    "def summarize_results(results):\n",
    "    \"\"\"Prints the most important parts of linear regression results:\n",
    "\n",
    "    results: RegressionResults object\n",
    "    \"\"\"\n",
    "    for name, param in results.params.items():\n",
    "        pvalue = results.pvalues[name]\n",
    "        print(f'{name:26}: {param:0.4f}: {pvalue:0.4f}')\n",
    "    try:\n",
    "        print(f'R^2      : {results.rsquared:0.4f}')\n",
    "        print(f'Std(ys)  : {results.model.endog.std():0.4f}')\n",
    "        print(f'Std(res) : {results.resid.std():0.4f}')\n",
    "    except AttributeError:\n",
    "        print(f'R^2      : {results.prsquared:0.4f}')"
   ]
  },
  {
   "cell_type": "code",
   "execution_count": 12,
   "metadata": {},
   "outputs": [
    {
     "name": "stdout",
     "output_type": "stream",
     "text": [
      "Intercept           : 6.8304    0.0000\n",
      "agepreg             : 0.0175    0.0000\n",
      "R^2      : 0.0047\n",
      "Std(ys)  : 1.4082\n",
      "Std(res) : 1.4050\n"
     ]
    }
   ],
   "source": [
    "summarize_results(results)"
   ]
  },
  {
   "cell_type": "code",
   "execution_count": 13,
   "metadata": {},
   "outputs": [
    {
     "data": {
      "text/plain": [
       "array([6.8304, 0.0175, 0.    ])"
      ]
     },
     "execution_count": 13,
     "metadata": {},
     "output_type": "execute_result"
    }
   ],
   "source": [
    "inter = results.params['Intercept']\n",
    "slope = results.params['agepreg']\n",
    "slope_pvalue = results.pvalues['agepreg']\n",
    "r4((inter, slope, slope_pvalue))"
   ]
  },
  {
   "cell_type": "markdown",
   "metadata": {},
   "source": [
    "And the coefficient of determination."
   ]
  },
  {
   "cell_type": "code",
   "execution_count": 14,
   "metadata": {},
   "outputs": [
    {
     "data": {
      "text/plain": [
       "0.0047"
      ]
     },
     "execution_count": 14,
     "metadata": {},
     "output_type": "execute_result"
    }
   ],
   "source": [
    "r4(results.rsquared)"
   ]
  },
  {
   "cell_type": "markdown",
   "metadata": {},
   "source": [
    "The `std` of the dependent variable and the residuals"
   ]
  },
  {
   "cell_type": "code",
   "execution_count": 15,
   "metadata": {},
   "outputs": [
    {
     "data": {
      "text/plain": [
       "1.4083"
      ]
     },
     "execution_count": 15,
     "metadata": {},
     "output_type": "execute_result"
    }
   ],
   "source": [
    "r4(live.totalwgt_lb.std())"
   ]
  },
  {
   "cell_type": "code",
   "execution_count": 16,
   "metadata": {},
   "outputs": [
    {
     "data": {
      "text/plain": [
       "1.405"
      ]
     },
     "execution_count": 16,
     "metadata": {},
     "output_type": "execute_result"
    }
   ],
   "source": [
    "r4(results.resid.std())"
   ]
  },
  {
   "cell_type": "markdown",
   "metadata": {},
   "source": [
    "`std(ys)` is the standard deviation of the dependent variable, which is the RMSE if you have to guess birth weights without the benefit of any explanatory variables. `std(res)` is the standard deviation of the residuals, which is the RMSE if your guesses are informed by the mother’s age. As we have already seen, knowing the mother’s age provides no substantial improvement to the predictions."
   ]
  },
  {
   "cell_type": "markdown",
   "metadata": {},
   "source": [
    "## Multiple regression\n",
    "\n",
    "In [Chapter 4](04_Cumulative_Distribution_Functions.ipynb) we saw that first babies tend to be lighter than others, and this effect is statistically significant. But it is a strange result because there is no obvious mechanism that would cause first babies to be lighter. So we might wonder whether this relationship is spurious.\n",
    "\n",
    "In fact, there is a possible explanation for this effect. We have seen that birth weight depends on mother’s age, and we might expect that mothers of first babies are younger than others.\n",
    "\n",
    "With a few calculations we can check whether this explanation is plausible. Then we’ll use multiple regression to investigate more carefully. First, let’s see how big the difference in weight is:"
   ]
  },
  {
   "cell_type": "code",
   "execution_count": 17,
   "metadata": {},
   "outputs": [],
   "source": [
    "results = smf.ols('totalwgt_lb ~ agepreg', data=live).fit()\n",
    "slope = results.params['agepreg']"
   ]
  },
  {
   "cell_type": "code",
   "execution_count": 18,
   "metadata": {},
   "outputs": [
    {
     "data": {
      "text/html": [
       "<div>\n",
       "<style scoped>\n",
       "    .dataframe tbody tr th:only-of-type {\n",
       "        vertical-align: middle;\n",
       "    }\n",
       "\n",
       "    .dataframe tbody tr th {\n",
       "        vertical-align: top;\n",
       "    }\n",
       "\n",
       "    .dataframe thead th {\n",
       "        text-align: right;\n",
       "    }\n",
       "</style>\n",
       "<table border=\"1\" class=\"dataframe\">\n",
       "  <thead>\n",
       "    <tr style=\"text-align: right;\">\n",
       "      <th></th>\n",
       "      <th>totalwgt_lb</th>\n",
       "      <th>agepreg</th>\n",
       "    </tr>\n",
       "    <tr>\n",
       "      <th>birthcat</th>\n",
       "      <th></th>\n",
       "      <th></th>\n",
       "    </tr>\n",
       "  </thead>\n",
       "  <tbody>\n",
       "    <tr>\n",
       "      <th>firsts</th>\n",
       "      <td>7.201094</td>\n",
       "      <td>23.095343</td>\n",
       "    </tr>\n",
       "    <tr>\n",
       "      <th>others</th>\n",
       "      <td>7.325856</td>\n",
       "      <td>26.654064</td>\n",
       "    </tr>\n",
       "  </tbody>\n",
       "</table>\n",
       "</div>"
      ],
      "text/plain": [
       "          totalwgt_lb    agepreg\n",
       "birthcat                        \n",
       "firsts       7.201094  23.095343\n",
       "others       7.325856  26.654064"
      ]
     },
     "execution_count": 18,
     "metadata": {},
     "output_type": "execute_result"
    }
   ],
   "source": [
    "live.loc[:, ['birthcat', 'totalwgt_lb', 'agepreg']].groupby('birthcat').mean()"
   ]
  },
  {
   "cell_type": "code",
   "execution_count": 19,
   "metadata": {},
   "outputs": [
    {
     "data": {
      "text/plain": [
       "0.1248"
      ]
     },
     "execution_count": 19,
     "metadata": {},
     "output_type": "execute_result"
    }
   ],
   "source": [
    "diff_weight = np.diff(live.groupby('birthcat')['totalwgt_lb'].mean()).item()\n",
    "r4(diff_weight)"
   ]
  },
  {
   "cell_type": "markdown",
   "metadata": {},
   "source": [
    "First babies are 0.125 lbs lighter, or 2 ounces. And the difference in ages:"
   ]
  },
  {
   "cell_type": "code",
   "execution_count": 20,
   "metadata": {},
   "outputs": [
    {
     "data": {
      "text/plain": [
       "3.5587"
      ]
     },
     "execution_count": 20,
     "metadata": {},
     "output_type": "execute_result"
    }
   ],
   "source": [
    "diff_age = np.diff(live.groupby('birthcat')['agepreg'].mean()).item()\n",
    "r4(diff_age)"
   ]
  },
  {
   "cell_type": "markdown",
   "metadata": {},
   "source": [
    "The mothers of first babies are 3.59 years younger. Running the linear model again, we get the change in birth weight as a function of age:\n",
    "\n",
    "The slope is 0.0175 pounds per year. If we multiply the slope by the difference in ages, we get the expected difference in birth weight for first babies and others, due to mother’s age:"
   ]
  },
  {
   "cell_type": "code",
   "execution_count": 21,
   "metadata": {},
   "outputs": [
    {
     "data": {
      "text/plain": [
       "0.0621"
      ]
     },
     "execution_count": 21,
     "metadata": {},
     "output_type": "execute_result"
    }
   ],
   "source": [
    "r4(slope * diff_age)"
   ]
  },
  {
   "cell_type": "markdown",
   "metadata": {},
   "source": [
    "The result is 0.063, just about half of the observed difference. So we conclude, tentatively, that the observed difference in birth weight can be partly explained by the difference in mother’s age.\n",
    "\n",
    "Using multiple regression, we can explore these relationships more systematically."
   ]
  },
  {
   "cell_type": "code",
   "execution_count": 22,
   "metadata": {},
   "outputs": [
    {
     "name": "stdout",
     "output_type": "stream",
     "text": [
      "Intercept           : 7.3259    0.0000\n",
      "isfirst[T.True]     : -0.1248    0.0000\n",
      "R^2      : 0.0020\n",
      "Std(ys)  : 1.4082\n",
      "Std(res) : 1.4069\n"
     ]
    }
   ],
   "source": [
    "live['isfirst'] = live.birthcat == 'firsts' \n",
    "results = smf.ols('totalwgt_lb ~ isfirst', data=live).fit()\n",
    "summarize_results(results)"
   ]
  },
  {
   "cell_type": "markdown",
   "metadata": {},
   "source": [
    "Because `isfirst` is a boolean, ols treats it as a categorical variable, which means that the values fall into categories, like True and False, and should not be treated as numbers. The estimated parameter is the effect on birth weight when isfirst is true, so the result, -0.125 lbs, is the difference in birth weight between first babies and others.\n",
    "\n",
    "The slope and the intercept are statistically significant, which means that they were unlikely to occur by chance, but the the $R^2$ value for this model is small, which means that `isfirst` doesn’t account for a substantial part of the variation in birth weight.\n",
    "\n",
    "The results are similar with agepreg:"
   ]
  },
  {
   "cell_type": "code",
   "execution_count": 23,
   "metadata": {},
   "outputs": [
    {
     "name": "stdout",
     "output_type": "stream",
     "text": [
      "Intercept           : 6.8304    0.0000\n",
      "agepreg             : 0.0175    0.0000\n",
      "R^2      : 0.0047\n",
      "Std(ys)  : 1.4082\n",
      "Std(res) : 1.4050\n"
     ]
    }
   ],
   "source": [
    "results = smf.ols('totalwgt_lb ~ agepreg', data=live).fit()\n",
    "summarize_results(results)"
   ]
  },
  {
   "cell_type": "markdown",
   "metadata": {},
   "source": [
    "Again, the parameters are statistically significant, but $R^2$ is low.\n",
    "\n",
    "These models confirm results we have already seen. But now we can fit a single model that includes both variables"
   ]
  },
  {
   "cell_type": "code",
   "execution_count": 24,
   "metadata": {},
   "outputs": [
    {
     "name": "stdout",
     "output_type": "stream",
     "text": [
      "Intercept           : 6.9142    0.0000\n",
      "isfirst[T.True]     : -0.0698    0.0253\n",
      "agepreg             : 0.0154    0.0000\n",
      "R^2      : 0.0053\n",
      "Std(ys)  : 1.4082\n",
      "Std(res) : 1.4046\n"
     ]
    }
   ],
   "source": [
    "results = smf.ols('totalwgt_lb ~ isfirst + agepreg', data=live).fit()\n",
    "summarize_results(results)"
   ]
  },
  {
   "cell_type": "markdown",
   "metadata": {},
   "source": [
    "As expected, when we control for mother's age, the apparent difference due to `isfirst` is cut in half."
   ]
  },
  {
   "cell_type": "markdown",
   "metadata": {},
   "source": [
    "## Nonlinear relationships\n",
    "\n",
    "Remembering that the contribution of agepreg might be nonlinear, we might consider adding a variable to capture more of this relationship. One option is to create a column, `agepreg2`, that contains the squares of the ages:"
   ]
  },
  {
   "cell_type": "code",
   "execution_count": 25,
   "metadata": {},
   "outputs": [
    {
     "name": "stdout",
     "output_type": "stream",
     "text": [
      "Intercept           : 5.6923    0.0000\n",
      "isfirst[T.True]     : -0.0504    0.1091\n",
      "agepreg             : 0.1124    0.0000\n",
      "agepreg2            : -0.0018    0.0000\n",
      "R^2      : 0.0075\n",
      "Std(ys)  : 1.4082\n",
      "Std(res) : 1.4030\n"
     ]
    }
   ],
   "source": [
    "live['agepreg2'] = live.agepreg**2\n",
    "results = smf.ols('totalwgt_lb ~ isfirst + agepreg + agepreg2', data=live).fit()\n",
    "summarize_results(results)"
   ]
  },
  {
   "cell_type": "markdown",
   "metadata": {},
   "source": [
    "Now by estimating parameters for agepreg and agepreg2, we are effectively fitting a parabola\n",
    "\n",
    "The parameter of `agepreg2` is negative, so the parabola curves downward, which is consistent with the shape of the lines in chapter 10. The quadratic model of `agepreg` accounts for more of the variability in birth weight; the parameter for isfirst is smaller in this model, and no longer statistically significant.\n",
    "\n",
    "Using computed variables like `agepreg2` is a common way to fit polynomials and other functions to data. This process is still considered linear regression, because the dependent variable is a linear function of the explanatory variables, regardless of whether some variables are nonlinear functions of others."
   ]
  },
  {
   "cell_type": "markdown",
   "metadata": {},
   "source": [
    "When we do that, the apparent effect of `isfirst` gets even smaller, and is no longer statistically significant.\n",
    "\n",
    "These results suggest that the apparent difference in weight between first babies and others might be explained by difference in mothers' ages, at least in part.\n",
    "\n",
    "In this example, mother’s age acts as a control variable; including agepreg in the model “controls for” the difference in age between first-time mothers and others, making it possible to isolate the effect (if any) of isfirst."
   ]
  },
  {
   "cell_type": "markdown",
   "metadata": {},
   "source": [
    "## Data Mining\n",
    "\n",
    "Now suppose that you really want to win the pool. What could you do to improve your chances? Well, the NSFG dataset includes 244 variables about each pregnancy and another 3087 variables about each respondent. Maybe some of those variables have predictive power. To find out which ones are most useful, why not try them all?\n",
    "\n",
    "Testing the variables in the pregnancy table is easy, but in order to use the variables in the respondent table, we have to match up each pregnancy with a respondent. In theory we could iterate through the rows of the pregnancy table, use the caseid to find the corresponding respondent, and copy the values from the correspondent table into the pregnancy table. But that would be slow.\n",
    "\n",
    "We can use `join` to combine variables from the preganancy and respondent tables."
   ]
  },
  {
   "cell_type": "code",
   "execution_count": 26,
   "metadata": {},
   "outputs": [],
   "source": [
    "live.query('prglngth > 30', inplace=True)"
   ]
  },
  {
   "cell_type": "code",
   "execution_count": 27,
   "metadata": {},
   "outputs": [],
   "source": [
    "resp = nsfg.read_fem_resp().set_index('caseid')"
   ]
  },
  {
   "cell_type": "code",
   "execution_count": 28,
   "metadata": {},
   "outputs": [],
   "source": [
    "# suffix appended to overlapping columns in the right table\n",
    "join = live.join(resp, on='caseid', rsuffix='_r')"
   ]
  },
  {
   "cell_type": "markdown",
   "metadata": {},
   "source": [
    "And we can search for variables with explanatory power.\n",
    "\n",
    "Because we don't clean most of the variables, we are probably missing some good ones."
   ]
  },
  {
   "cell_type": "code",
   "execution_count": 29,
   "metadata": {},
   "outputs": [],
   "source": [
    "def go_mining(df: pd.DataFrame):\n",
    "    \"\"\"Searches for variables that predict birth weight.\n",
    "\n",
    "    df: DataFrame of pregnancy records\n",
    "\n",
    "    returns: list of (rsquared, variable name) pairs\n",
    "    \"\"\"\n",
    "    variables = []\n",
    "    for name in df.columns:\n",
    "        try:\n",
    "            # check that the explanatory variable has some variability\n",
    "            if df[name].var() < 1e-7:\n",
    "                continue\n",
    "            formula = 'totalwgt_lb ~ agepreg + ' + name\n",
    "            model = smf.ols(formula, data=df)\n",
    "            # reject models that use less than half of the data\n",
    "            if model.nobs < len(df)/2:\n",
    "                continue\n",
    "            results = model.fit()\n",
    "            variables.append((round(results.rsquared, 4), name))\n",
    "        except (ValueError, TypeError, patsy.PatsyError) as e:\n",
    "            continue\n",
    "    return variables"
   ]
  },
  {
   "cell_type": "markdown",
   "metadata": {},
   "source": [
    "For each variable we construct a model, compute $R^2$ , and append the results to a list. The models all include agepreg, since we already know that it has some predictive power.\n",
    "\n",
    "I check that each explanatory variable has some variability; otherwise the results of the regression are unreliable. I also check the number of observations for each model. Variables that contain a large number of nans are not good candidates for prediction.\n",
    "\n",
    "For most of these variables, we haven’t done any cleaning. Some of them are encoded in ways that don’t work very well for linear regression. As a result, we might overlook some variables that would be useful if they were cleaned properly. But maybe we will find some good candidates."
   ]
  },
  {
   "cell_type": "code",
   "execution_count": 30,
   "metadata": {},
   "outputs": [],
   "source": [
    "variables = go_mining(join)"
   ]
  },
  {
   "cell_type": "code",
   "execution_count": 31,
   "metadata": {},
   "outputs": [],
   "source": [
    "variables.sort(reverse=True)"
   ]
  },
  {
   "cell_type": "code",
   "execution_count": 32,
   "metadata": {},
   "outputs": [
    {
     "data": {
      "text/plain": [
       "[(1.0, 'totalwgt_lb'),\n",
       " (0.9498, 'birthwgt_lb'),\n",
       " (0.3008, 'lbw1'),\n",
       " (0.1301, 'prglngth'),\n",
       " (0.1234, 'wksgest'),\n",
       " (0.102, 'agecon'),\n",
       " (0.0271, 'mosgest'),\n",
       " (0.0186, 'babysex'),\n",
       " (0.0162, 'race_r'),\n",
       " (0.0162, 'race'),\n",
       " (0.016, 'nbrnaliv'),\n",
       " (0.014, 'paydu'),\n",
       " (0.0134, 'rmarout03'),\n",
       " (0.0131, 'birthwgt_oz'),\n",
       " (0.0125, 'anynurse'),\n",
       " (0.0122, 'bfeedwks'),\n",
       " (0.0119, 'totincr'),\n",
       " (0.0118, 'marout03'),\n",
       " (0.0118, 'marcon03'),\n",
       " (0.0114, 'rmarout6'),\n",
       " (0.0114, 'rmarout01'),\n",
       " (0.0114, 'cebow'),\n",
       " (0.0113, 'marout01'),\n",
       " (0.0112, 'hisprace_r'),\n",
       " (0.0112, 'hisprace'),\n",
       " (0.011, 'mar1diss'),\n",
       " (0.0106, 'fmarcon5'),\n",
       " (0.0105, 'rmarout02'),\n",
       " (0.0105, 'marcon02'),\n",
       " (0.0105, 'fmarout5')]"
      ]
     },
     "execution_count": 32,
     "metadata": {},
     "output_type": "execute_result"
    }
   ],
   "source": [
    "variables[:30]"
   ]
  },
  {
   "cell_type": "markdown",
   "metadata": {},
   "source": [
    "The following functions report the variables with the highest values of $R^2$."
   ]
  },
  {
   "cell_type": "code",
   "execution_count": 33,
   "metadata": {},
   "outputs": [],
   "source": [
    "def read_variables():\n",
    "    vars = fwf.read_stata_dictionary('data/2002FemPreg.dct')\n",
    "    vars.extend(fwf.read_stata_dictionary('data/2002FemResp.dct'))\n",
    "    return vars"
   ]
  },
  {
   "cell_type": "markdown",
   "metadata": {},
   "source": [
    "Some of the variables that do well are not useful for prediction because they are not known ahead of time."
   ]
  },
  {
   "cell_type": "markdown",
   "metadata": {},
   "source": [
    "Combining the variables that seem to have the most explanatory power."
   ]
  },
  {
   "cell_type": "code",
   "execution_count": 34,
   "metadata": {},
   "outputs": [
    {
     "name": "stdout",
     "output_type": "stream",
     "text": [
      "Intercept           : 6.6303    0.0000\n",
      "C(race)[T.2]        : 0.3570    0.0000\n",
      "C(race)[T.3]        : 0.2665    0.0000\n",
      "babysex == 1[T.True]: 0.2952    0.0000\n",
      "nbrnaliv > 1[T.True]: -1.3783    0.0000\n",
      "paydu == 1[T.True]  : 0.1196    0.0001\n",
      "agepreg             : 0.0074    0.0035\n",
      "totincr             : 0.0122    0.0019\n",
      "R^2      : 0.0600\n",
      "Std(ys)  : 1.2711\n",
      "Std(res) : 1.2325\n"
     ]
    }
   ],
   "source": [
    "# try adding lbw1\n",
    "formula = ('totalwgt_lb ~ agepreg + C(race) + babysex==1 + '\n",
    "               'nbrnaliv>1 + paydu==1 + totincr')\n",
    "results = smf.ols(formula, data=join).fit()\n",
    "summarize_results(results)"
   ]
  },
  {
   "cell_type": "markdown",
   "metadata": {},
   "source": [
    "## Logistic regression\n",
    "\n",
    "As an example of logistic regression, suppose a friend of yours is pregnant and you want to predict whether the baby is a boy or a girl. You could use data from the NSFG to find factors that affect the “sex ratio”, which is conventionally defined to be the probability of having a boy.\n",
    "\n",
    "Example: suppose we are trying to predict `y` using explanatory variables `x1` and `x2`."
   ]
  },
  {
   "cell_type": "code",
   "execution_count": 35,
   "metadata": {},
   "outputs": [],
   "source": [
    "y = np.array([0, 1, 0, 1])\n",
    "# think of these as feature column vectors\n",
    "x1 = np.array([0, 0, 0, 1])\n",
    "x2 = np.array([0, 1, 1, 1])"
   ]
  },
  {
   "cell_type": "markdown",
   "metadata": {},
   "source": [
    "According to the logit model the log odds for the $i$th element of $y$ is\n",
    "\n",
    "$\\log o = \\beta_0 + \\beta_1 x_1 + \\beta_2 x_2 $\n",
    "\n",
    "So let's start with an arbitrary guess about the elements of $\\beta$:\n",
    "\n"
   ]
  },
  {
   "cell_type": "code",
   "execution_count": 36,
   "metadata": {},
   "outputs": [],
   "source": [
    "beta = [-1.5, 2.8, 1.1]"
   ]
  },
  {
   "cell_type": "markdown",
   "metadata": {},
   "source": [
    "Plugging in the model, we get log odds."
   ]
  },
  {
   "cell_type": "code",
   "execution_count": 37,
   "metadata": {},
   "outputs": [
    {
     "data": {
      "text/plain": [
       "array([-1.5, -0.4, -0.4,  2.4])"
      ]
     },
     "execution_count": 37,
     "metadata": {},
     "output_type": "execute_result"
    }
   ],
   "source": [
    "log_o = beta[0] + beta[1] * x1 + beta[2] * x2\n",
    "log_o"
   ]
  },
  {
   "cell_type": "markdown",
   "metadata": {},
   "source": [
    "Which we can convert to odds."
   ]
  },
  {
   "cell_type": "code",
   "execution_count": 38,
   "metadata": {},
   "outputs": [
    {
     "data": {
      "text/plain": [
       "array([ 0.22313016,  0.67032005,  0.67032005, 11.02317638])"
      ]
     },
     "execution_count": 38,
     "metadata": {},
     "output_type": "execute_result"
    }
   ],
   "source": [
    "o = np.exp(log_o)\n",
    "o"
   ]
  },
  {
   "cell_type": "markdown",
   "metadata": {},
   "source": [
    "And then convert to probabilities."
   ]
  },
  {
   "cell_type": "code",
   "execution_count": 39,
   "metadata": {},
   "outputs": [
    {
     "data": {
      "text/plain": [
       "array([0.18242552, 0.40131234, 0.40131234, 0.9168273 ])"
      ]
     },
     "execution_count": 39,
     "metadata": {},
     "output_type": "execute_result"
    }
   ],
   "source": [
    "p = o / (o+1)\n",
    "p"
   ]
  },
  {
   "cell_type": "markdown",
   "metadata": {},
   "source": [
    "The likelihoods of the actual outcomes are $p$ where $y$ is 1 and $1-p$ where $y$ is 0. "
   ]
  },
  {
   "cell_type": "code",
   "execution_count": 40,
   "metadata": {},
   "outputs": [
    {
     "data": {
      "text/plain": [
       "array([0.81757448, 0.40131234, 0.59868766, 0.9168273 ])"
      ]
     },
     "execution_count": 40,
     "metadata": {},
     "output_type": "execute_result"
    }
   ],
   "source": [
    "likes = np.where(y, p, 1-p)\n",
    "likes"
   ]
  },
  {
   "cell_type": "markdown",
   "metadata": {},
   "source": [
    "The likelihood of $y$ given $\\beta$ is the product of `likes`:"
   ]
  },
  {
   "cell_type": "code",
   "execution_count": 41,
   "metadata": {},
   "outputs": [
    {
     "data": {
      "text/plain": [
       "0.1800933529673034"
      ]
     },
     "execution_count": 41,
     "metadata": {},
     "output_type": "execute_result"
    }
   ],
   "source": [
    "like = np.prod(likes)\n",
    "like"
   ]
  },
  {
   "cell_type": "markdown",
   "metadata": {},
   "source": [
    "Logistic regression works by searching for the values in $\\beta$ that maximize `like`.\n",
    "\n",
    "Here's an example using variables in the NSFG respondent file to predict whether a baby will be a boy or a girl."
   ]
  },
  {
   "cell_type": "code",
   "execution_count": 42,
   "metadata": {},
   "outputs": [],
   "source": [
    "live['boy'] = (live.babysex==1).astype(int)"
   ]
  },
  {
   "cell_type": "markdown",
   "metadata": {},
   "source": [
    "The mother's age seems to have a small effect."
   ]
  },
  {
   "cell_type": "code",
   "execution_count": 43,
   "metadata": {},
   "outputs": [
    {
     "name": "stdout",
     "output_type": "stream",
     "text": [
      "Optimization terminated successfully.\n",
      "         Current function value: 0.693022\n",
      "         Iterations 3\n",
      "Intercept           : 0.0067    0.9457\n",
      "agepreg             : 0.0010    0.7984\n",
      "R^2      : 0.0000\n"
     ]
    }
   ],
   "source": [
    "model = smf.logit('boy ~ agepreg', data=live)\n",
    "results = model.fit()\n",
    "summarize_results(results)"
   ]
  },
  {
   "cell_type": "markdown",
   "metadata": {},
   "source": [
    "The parameter of `agepreg` is positive, which suggests that older mothers are more likely to have boys, but the p-value is 0.798, which means that the apparent effect could easily be due to chance."
   ]
  },
  {
   "cell_type": "markdown",
   "metadata": {},
   "source": [
    "here’s a model that includes several factors believed to be associated with sex ratio:"
   ]
  },
  {
   "cell_type": "code",
   "execution_count": 69,
   "metadata": {},
   "outputs": [
    {
     "name": "stdout",
     "output_type": "stream",
     "text": [
      "Optimization terminated successfully.\n",
      "         Current function value: 0.692916\n",
      "         Iterations 3\n",
      "Intercept                 : -0.0333    0.7504\n",
      "C(race)[T.2]              : -0.0257    0.6163\n",
      "C(race)[T.3]              : -0.0069    0.9348\n",
      "agepreg                   : -0.0035    0.5288\n",
      "hpagelb                   : 0.0052    0.2205\n",
      "birthord                  : 0.0113    0.6102\n",
      "R^2      : 0.0002\n"
     ]
    }
   ],
   "source": [
    "formula = 'boy ~ agepreg + hpagelb + birthord + C(race)'\n",
    "model = smf.logit(formula, data=live)\n",
    "results = model.fit()\n",
    "summarize_results(results)"
   ]
  },
  {
   "cell_type": "markdown",
   "metadata": {},
   "source": [
    "Along with mother’s age, this model includes father’s age at birth (`hpagelb`), birth order (`birthord`), and `race` as a categorical variable.\n",
    "\n",
    "None of the estimated parameters are statistically significant. The pseudo-$R^2$ value is a little higher, but that could be due to chance.\n"
   ]
  },
  {
   "cell_type": "markdown",
   "metadata": {},
   "source": [
    "## Accuracy"
   ]
  },
  {
   "cell_type": "markdown",
   "metadata": {},
   "source": [
    "To make a prediction, we have to extract the exogenous and endogenous variables."
   ]
  },
  {
   "cell_type": "code",
   "execution_count": 45,
   "metadata": {},
   "outputs": [
    {
     "data": {
      "text/plain": [
       "'boy'"
      ]
     },
     "execution_count": 45,
     "metadata": {},
     "output_type": "execute_result"
    }
   ],
   "source": [
    "# dependent variable, or response variable\n",
    "model.endog_names"
   ]
  },
  {
   "cell_type": "code",
   "execution_count": 46,
   "metadata": {},
   "outputs": [
    {
     "data": {
      "text/plain": [
       "['Intercept', 'C(race)[T.2]', 'C(race)[T.3]', 'agepreg', 'hpagelb', 'birthord']"
      ]
     },
     "execution_count": 46,
     "metadata": {},
     "output_type": "execute_result"
    }
   ],
   "source": [
    "# predictors\n",
    "model.exog_names"
   ]
  },
  {
   "cell_type": "markdown",
   "metadata": {},
   "source": [
    "The baseline prediction strategy is to guess \"boy\".  In that case, we're right almost 51% of the time."
   ]
  },
  {
   "cell_type": "code",
   "execution_count": 51,
   "metadata": {},
   "outputs": [
    {
     "data": {
      "text/plain": [
       "0.5069"
      ]
     },
     "execution_count": 51,
     "metadata": {},
     "output_type": "execute_result"
    }
   ],
   "source": [
    "actual = model.endog\n",
    "baseline = actual.mean()\n",
    "r4(baseline)"
   ]
  },
  {
   "cell_type": "markdown",
   "metadata": {},
   "source": [
    "Since actual is encoded in binary integers, the mean is the fraction of boys, which is 0.507.\n",
    "\n",
    "If we use the previous model, we can compute the number of predictions we get right."
   ]
  },
  {
   "cell_type": "code",
   "execution_count": 52,
   "metadata": {},
   "outputs": [
    {
     "data": {
      "text/plain": [
       "(3625.0, 832.0)"
      ]
     },
     "execution_count": 52,
     "metadata": {},
     "output_type": "execute_result"
    }
   ],
   "source": [
    "predict = (results.predict() >= 0.5)\n",
    "# multiply by actual yields 1 if we predict a boy and get it right, otherwise 0\n",
    "true_pos = predict * actual\n",
    "true_neg = (1 - predict) * (1 - actual)\n",
    "sum(true_pos), sum(true_neg)"
   ]
  },
  {
   "cell_type": "markdown",
   "metadata": {},
   "source": [
    "And the accuracy, which is slightly higher than the baseline."
   ]
  },
  {
   "cell_type": "code",
   "execution_count": 53,
   "metadata": {},
   "outputs": [
    {
     "data": {
      "text/plain": [
       "0.5131"
      ]
     },
     "execution_count": 53,
     "metadata": {},
     "output_type": "execute_result"
    }
   ],
   "source": [
    "acc = (sum(true_pos) + sum(true_neg)) / len(actual)\n",
    "r4(acc)"
   ]
  },
  {
   "cell_type": "markdown",
   "metadata": {},
   "source": [
    "The result is 0.513, slightly better than the baseline, 0.507. But, you should not take this result too seriously. We used the same data to build and test the model, so the model may not have predictive power on new data."
   ]
  },
  {
   "cell_type": "markdown",
   "metadata": {},
   "source": [
    "To make a prediction for an individual, we have to get their information into a `DataFrame`."
   ]
  },
  {
   "cell_type": "code",
   "execution_count": 54,
   "metadata": {},
   "outputs": [
    {
     "data": {
      "text/plain": [
       "0    0.513876\n",
       "dtype: float64"
      ]
     },
     "execution_count": 54,
     "metadata": {},
     "output_type": "execute_result"
    }
   ],
   "source": [
    "columns = ['agepreg', 'hpagelb', 'birthord', 'race']\n",
    "new = pd.DataFrame([[35, 39, 3, 2]], columns=columns)\n",
    "y = results.predict(new)\n",
    "y"
   ]
  },
  {
   "cell_type": "markdown",
   "metadata": {},
   "source": [
    "This person has a 51% chance of having a boy (according to the model)."
   ]
  },
  {
   "cell_type": "markdown",
   "metadata": {},
   "source": [
    "## Exercises"
   ]
  },
  {
   "cell_type": "markdown",
   "metadata": {},
   "source": [
    "**Exercise:** Suppose one of your co-workers is expecting a baby and you are participating in an office pool to predict the date of birth. Assuming that bets are placed during the 30th week of pregnancy, what variables could you use to make the best prediction? You should limit yourself to variables that are known before the birth, and likely to be available to the people in the pool."
   ]
  },
  {
   "cell_type": "markdown",
   "metadata": {},
   "source": [
    "The following are the only variables I found that have a statistically significant effect on pregnancy length."
   ]
  },
  {
   "cell_type": "code",
   "execution_count": 57,
   "metadata": {},
   "outputs": [
    {
     "name": "stdout",
     "output_type": "stream",
     "text": [
      "Intercept                 : 38.7617    0.0000\n",
      "birthord == 1[T.True]     : 0.1089    0.0071\n",
      "race == 2[T.True]         : 0.1394    0.0010\n",
      "nbrnaliv > 1[T.True]      : -1.5099    0.0000\n",
      "R^2      : 0.0117\n",
      "Std(ys)  : 1.9027\n",
      "Std(res) : 1.8916\n"
     ]
    }
   ],
   "source": [
    "model = smf.ols('prglngth ~ birthord==1 + race==2 + nbrnaliv>1', data=live)\n",
    "results = model.fit()\n",
    "summarize_results(results)"
   ]
  },
  {
   "cell_type": "markdown",
   "metadata": {},
   "source": [
    "**Exercise:** The Trivers-Willard hypothesis suggests that for many mammals the sex ratio depends on “maternal condition”; that is, factors like the mother’s age, size, health, and social status. See https://en.wikipedia.org/wiki/Trivers-Willard_hypothesis\n",
    "\n",
    "Some studies have shown this effect among humans, but results are mixed. In this chapter we tested some variables related to these factors, but didn’t find any with a statistically significant effect on sex ratio.\n",
    "\n",
    "As an exercise, use a data mining approach to test the other variables in the pregnancy and respondent files. Can you find any factors with a substantial effect?"
   ]
  },
  {
   "cell_type": "code",
   "execution_count": null,
   "metadata": {},
   "outputs": [],
   "source": [
    "join['boy'] = (join.babysex==1).astype(int)"
   ]
  },
  {
   "cell_type": "code",
   "execution_count": 64,
   "metadata": {},
   "outputs": [],
   "source": [
    "def go_mining(df):\n",
    "    \"\"\"Searches for variables that predict birth weight.\n",
    "\n",
    "    df: DataFrame of pregnancy records\n",
    "\n",
    "    returns: list of (rsquared, variable name) pairs\n",
    "    \"\"\"\n",
    "    \n",
    "    variables = []\n",
    "    for name in df.columns:\n",
    "        try:\n",
    "            if df[name].var() < 1e-7:\n",
    "                continue\n",
    "\n",
    "            formula='boy ~ agepreg + ' + name\n",
    "            model = smf.logit(formula, data=df);\n",
    "            nobs = len(model.endog)\n",
    "            if nobs < len(df)/2:\n",
    "                continue\n",
    "            results = model.fit();\n",
    "            variables.append((results.prsquared, name))\n",
    "        except:\n",
    "            continue\n",
    "    return variables"
   ]
  },
  {
   "cell_type": "code",
   "execution_count": null,
   "metadata": {},
   "outputs": [],
   "source": [
    "# Solution\n",
    "\n",
    "#Here are the 30 variables that yield the highest pseudo-R^2 values.\n",
    "\n",
    "variables = go_mining(join)"
   ]
  },
  {
   "cell_type": "code",
   "execution_count": 74,
   "metadata": {},
   "outputs": [
    {
     "name": "stdout",
     "output_type": "stream",
     "text": [
      "totalwgt_lb         : 0.00970\n",
      "birthwgt_lb         : 0.00953\n",
      "lbw1                : 0.00116\n",
      "constat3            : 0.00105\n",
      "fmarout5            : 0.00102\n",
      "infever             : 0.00094\n",
      "rmarout6            : 0.00094\n",
      "nplaced             : 0.00084\n",
      "pmarpreg            : 0.00082\n",
      "coh1dur             : 0.00076\n",
      "outcom02            : 0.00075\n",
      "usefstp             : 0.00072\n",
      "marout03            : 0.00067\n",
      "agepreg_i           : 0.00065\n",
      "splstwk1            : 0.00064\n",
      "abort12             : 0.00064\n",
      "rmarout03           : 0.00062\n",
      "nummult34           : 0.00060\n",
      "hlpmc               : 0.00059\n",
      "mar1con1_i          : 0.00059\n",
      "anymschp            : 0.00058\n",
      "brnout_r            : 0.00057\n",
      "brnout              : 0.00057\n",
      "nummult41           : 0.00057\n",
      "educmom             : 0.00056\n",
      "fmarcon5            : 0.00056\n",
      "numfirsm1           : 0.00055\n",
      "agecon_i            : 0.00055\n",
      "p1yhsage            : 0.00055\n",
      "nummult17           : 0.00052\n"
     ]
    }
   ],
   "source": [
    "variables.sort(reverse=True)\n",
    "for rsq, name in variables[:30]:\n",
    "    print(f'{name:20}: {rsq:0.5f}')"
   ]
  },
  {
   "cell_type": "code",
   "execution_count": 75,
   "metadata": {},
   "outputs": [
    {
     "name": "stdout",
     "output_type": "stream",
     "text": [
      "Optimization terminated successfully.\n",
      "         Current function value: 0.691703\n",
      "         Iterations 4\n",
      "Intercept                 : -0.1936    0.1032\n",
      "fmarout5 == 5[T.True]     : 0.1695    0.0006\n",
      "infever == 1[T.True]      : 0.2369    0.0003\n",
      "agepreg                   : 0.0053    0.2242\n",
      "R^2      : 0.0019\n"
     ]
    }
   ],
   "source": [
    "# Solution\n",
    "\n",
    "# Eliminating variables that are not known during pregnancy and \n",
    "# others that are fishy for various reasons, here's the best model I could find:\n",
    "\n",
    "formula='boy ~ agepreg + fmarout5==5 + infever==1'\n",
    "model = smf.logit(formula, data=join)\n",
    "results = model.fit()\n",
    "summarize_results(results)"
   ]
  },
  {
   "cell_type": "markdown",
   "metadata": {},
   "source": [
    "**Exercise:** If the quantity you want to predict is a count, you can use Poisson regression, which is implemented in StatsModels with a function called `poisson`. It works the same way as `ols` and `logit`. As an exercise, let’s use it to predict how many children a woman has born; in the NSFG dataset, this variable is called `numbabes`.\n",
    "\n",
    "Suppose you meet a woman who is 35 years old, black, and a college graduate whose annual household income exceeds $75,000. How many children would you predict she has born?"
   ]
  },
  {
   "cell_type": "code",
   "execution_count": 76,
   "metadata": {},
   "outputs": [],
   "source": [
    "# Solution\n",
    "\n",
    "# I used a nonlinear model of age.\n",
    "\n",
    "join.numbabes.replace([97], np.nan, inplace=True)\n",
    "join['age2'] = join.age_r**2"
   ]
  },
  {
   "cell_type": "code",
   "execution_count": 77,
   "metadata": {},
   "outputs": [
    {
     "name": "stdout",
     "output_type": "stream",
     "text": [
      "Optimization terminated successfully.\n",
      "         Current function value: 1.674288\n",
      "         Iterations 7\n",
      "Intercept                 : -1.0374    0.0000\n",
      "C(race)[T.2]              : -0.1385    0.0000\n",
      "C(race)[T.3]              : -0.1000    0.0001\n",
      "age_r                     : 0.1557    0.0000\n",
      "age2                      : -0.0020    0.0000\n",
      "totincr                   : -0.0185    0.0000\n",
      "educat                    : -0.0468    0.0000\n",
      "R^2      : 0.0362\n"
     ]
    }
   ],
   "source": [
    "# Solution\n",
    "\n",
    "formula='numbabes ~ age_r + age2 + age3 + C(race) + totincr + educat'\n",
    "formula='numbabes ~ age_r + age2 + C(race) + totincr + educat'\n",
    "model = smf.poisson(formula, data=join)\n",
    "results = model.fit()\n",
    "summarize_results(results)"
   ]
  },
  {
   "cell_type": "markdown",
   "metadata": {},
   "source": [
    "Now we can predict the number of children for a woman who is 35 years old, black, and a college\n",
    "graduate whose annual household income exceeds $75,000"
   ]
  },
  {
   "cell_type": "code",
   "execution_count": 78,
   "metadata": {},
   "outputs": [
    {
     "data": {
      "text/plain": [
       "0    2.496388\n",
       "dtype: float64"
      ]
     },
     "execution_count": 78,
     "metadata": {},
     "output_type": "execute_result"
    }
   ],
   "source": [
    "# Solution\n",
    "\n",
    "columns = ['age_r', 'age2', 'age3', 'race', 'totincr', 'educat']\n",
    "new = pd.DataFrame([[35, 35**2, 35**3, 1, 14, 16]], columns=columns)\n",
    "results.predict(new)"
   ]
  },
  {
   "cell_type": "markdown",
   "metadata": {},
   "source": [
    "**Exercise:** If the quantity you want to predict is categorical, you can use multinomial logistic regression, which is implemented in StatsModels with a function called `mnlogit`. As an exercise, let’s use it to guess whether a woman is married, cohabitating, widowed, divorced, separated, or never married; in the NSFG dataset, marital status is encoded in a variable called `rmarital`.\n",
    "\n",
    "Suppose you meet a woman who is 25 years old, white, and a high school graduate whose annual household income is about $45,000. What is the probability that she is married, cohabitating, etc?"
   ]
  },
  {
   "cell_type": "code",
   "execution_count": 88,
   "metadata": {},
   "outputs": [
    {
     "name": "stdout",
     "output_type": "stream",
     "text": [
      "stuff                      :\n"
     ]
    }
   ],
   "source": [
    "name = 'stuff'\n",
    "print(f'{name:26} :')"
   ]
  },
  {
   "cell_type": "code",
   "execution_count": 94,
   "metadata": {},
   "outputs": [
    {
     "name": "stdout",
     "output_type": "stream",
     "text": [
      "Optimization terminated successfully.\n",
      "         Current function value: 1.079016\n",
      "         Iterations 8\n"
     ]
    },
    {
     "data": {
      "text/html": [
       "<table class=\"simpletable\">\n",
       "<caption>MNLogit Regression Results</caption>\n",
       "<tr>\n",
       "  <th>Dep. Variable:</th>       <td>rmarital</td>     <th>  No. Observations:  </th>  <td>  8781</td> \n",
       "</tr>\n",
       "<tr>\n",
       "  <th>Model:</th>                <td>MNLogit</td>     <th>  Df Residuals:      </th>  <td>  8746</td> \n",
       "</tr>\n",
       "<tr>\n",
       "  <th>Method:</th>                 <td>MLE</td>       <th>  Df Model:          </th>  <td>    30</td> \n",
       "</tr>\n",
       "<tr>\n",
       "  <th>Date:</th>            <td>Sat, 22 Jan 2022</td> <th>  Pseudo R-squ.:     </th>  <td>0.1699</td> \n",
       "</tr>\n",
       "<tr>\n",
       "  <th>Time:</th>                <td>00:19:09</td>     <th>  Log-Likelihood:    </th> <td> -9474.8</td>\n",
       "</tr>\n",
       "<tr>\n",
       "  <th>converged:</th>             <td>True</td>       <th>  LL-Null:           </th> <td> -11414.</td>\n",
       "</tr>\n",
       "<tr>\n",
       "  <th>Covariance Type:</th>     <td>nonrobust</td>    <th>  LLR p-value:       </th>  <td> 0.000</td> \n",
       "</tr>\n",
       "</table>\n",
       "<table class=\"simpletable\">\n",
       "<tr>\n",
       "   <th>rmarital=2</th>     <th>coef</th>     <th>std err</th>      <th>z</th>      <th>P>|z|</th>  <th>[0.025</th>    <th>0.975]</th>  \n",
       "</tr>\n",
       "<tr>\n",
       "  <th>Intercept</th>    <td>    9.0728</td> <td>    0.811</td> <td>   11.191</td> <td> 0.000</td> <td>    7.484</td> <td>   10.662</td>\n",
       "</tr>\n",
       "<tr>\n",
       "  <th>C(race)[T.2]</th> <td>   -0.9328</td> <td>    0.089</td> <td>  -10.447</td> <td> 0.000</td> <td>   -1.108</td> <td>   -0.758</td>\n",
       "</tr>\n",
       "<tr>\n",
       "  <th>C(race)[T.3]</th> <td>   -0.6251</td> <td>    0.138</td> <td>   -4.538</td> <td> 0.000</td> <td>   -0.895</td> <td>   -0.355</td>\n",
       "</tr>\n",
       "<tr>\n",
       "  <th>age_r</th>        <td>   -0.3616</td> <td>    0.051</td> <td>   -7.065</td> <td> 0.000</td> <td>   -0.462</td> <td>   -0.261</td>\n",
       "</tr>\n",
       "<tr>\n",
       "  <th>age2</th>         <td>    0.0048</td> <td>    0.001</td> <td>    5.993</td> <td> 0.000</td> <td>    0.003</td> <td>    0.006</td>\n",
       "</tr>\n",
       "<tr>\n",
       "  <th>totincr</th>      <td>   -0.1290</td> <td>    0.012</td> <td>  -11.063</td> <td> 0.000</td> <td>   -0.152</td> <td>   -0.106</td>\n",
       "</tr>\n",
       "<tr>\n",
       "  <th>educat</th>       <td>   -0.2020</td> <td>    0.019</td> <td>  -10.636</td> <td> 0.000</td> <td>   -0.239</td> <td>   -0.165</td>\n",
       "</tr>\n",
       "<tr>\n",
       "   <th>rmarital=3</th>     <th>coef</th>     <th>std err</th>      <th>z</th>      <th>P>|z|</th>  <th>[0.025</th>    <th>0.975]</th>  \n",
       "</tr>\n",
       "<tr>\n",
       "  <th>Intercept</th>    <td>    3.2123</td> <td>    3.025</td> <td>    1.062</td> <td> 0.288</td> <td>   -2.717</td> <td>    9.142</td>\n",
       "</tr>\n",
       "<tr>\n",
       "  <th>C(race)[T.2]</th> <td>   -0.3721</td> <td>    0.243</td> <td>   -1.534</td> <td> 0.125</td> <td>   -0.848</td> <td>    0.103</td>\n",
       "</tr>\n",
       "<tr>\n",
       "  <th>C(race)[T.3]</th> <td>    0.1692</td> <td>    0.341</td> <td>    0.496</td> <td> 0.620</td> <td>   -0.500</td> <td>    0.838</td>\n",
       "</tr>\n",
       "<tr>\n",
       "  <th>age_r</th>        <td>   -0.3362</td> <td>    0.177</td> <td>   -1.900</td> <td> 0.057</td> <td>   -0.683</td> <td>    0.011</td>\n",
       "</tr>\n",
       "<tr>\n",
       "  <th>age2</th>         <td>    0.0067</td> <td>    0.003</td> <td>    2.638</td> <td> 0.008</td> <td>    0.002</td> <td>    0.012</td>\n",
       "</tr>\n",
       "<tr>\n",
       "  <th>totincr</th>      <td>   -0.3249</td> <td>    0.032</td> <td>  -10.060</td> <td> 0.000</td> <td>   -0.388</td> <td>   -0.262</td>\n",
       "</tr>\n",
       "<tr>\n",
       "  <th>educat</th>       <td>   -0.1036</td> <td>    0.049</td> <td>   -2.113</td> <td> 0.035</td> <td>   -0.200</td> <td>   -0.008</td>\n",
       "</tr>\n",
       "<tr>\n",
       "   <th>rmarital=4</th>     <th>coef</th>     <th>std err</th>      <th>z</th>      <th>P>|z|</th>  <th>[0.025</th>    <th>0.975]</th>  \n",
       "</tr>\n",
       "<tr>\n",
       "  <th>Intercept</th>    <td>   -3.4092</td> <td>    1.208</td> <td>   -2.822</td> <td> 0.005</td> <td>   -5.777</td> <td>   -1.041</td>\n",
       "</tr>\n",
       "<tr>\n",
       "  <th>C(race)[T.2]</th> <td>   -0.3069</td> <td>    0.094</td> <td>   -3.261</td> <td> 0.001</td> <td>   -0.491</td> <td>   -0.122</td>\n",
       "</tr>\n",
       "<tr>\n",
       "  <th>C(race)[T.3]</th> <td>   -0.8989</td> <td>    0.182</td> <td>   -4.951</td> <td> 0.000</td> <td>   -1.255</td> <td>   -0.543</td>\n",
       "</tr>\n",
       "<tr>\n",
       "  <th>age_r</th>        <td>    0.1089</td> <td>    0.071</td> <td>    1.529</td> <td> 0.126</td> <td>   -0.031</td> <td>    0.248</td>\n",
       "</tr>\n",
       "<tr>\n",
       "  <th>age2</th>         <td>   -0.0006</td> <td>    0.001</td> <td>   -0.616</td> <td> 0.538</td> <td>   -0.003</td> <td>    0.001</td>\n",
       "</tr>\n",
       "<tr>\n",
       "  <th>totincr</th>      <td>   -0.2289</td> <td>    0.012</td> <td>  -19.522</td> <td> 0.000</td> <td>   -0.252</td> <td>   -0.206</td>\n",
       "</tr>\n",
       "<tr>\n",
       "  <th>educat</th>       <td>    0.0677</td> <td>    0.017</td> <td>    3.998</td> <td> 0.000</td> <td>    0.035</td> <td>    0.101</td>\n",
       "</tr>\n",
       "<tr>\n",
       "   <th>rmarital=5</th>     <th>coef</th>     <th>std err</th>      <th>z</th>      <th>P>|z|</th>  <th>[0.025</th>    <th>0.975]</th>  \n",
       "</tr>\n",
       "<tr>\n",
       "  <th>Intercept</th>    <td>   -2.8398</td> <td>    1.320</td> <td>   -2.152</td> <td> 0.031</td> <td>   -5.427</td> <td>   -0.253</td>\n",
       "</tr>\n",
       "<tr>\n",
       "  <th>C(race)[T.2]</th> <td>   -1.0473</td> <td>    0.105</td> <td>   -9.981</td> <td> 0.000</td> <td>   -1.253</td> <td>   -0.842</td>\n",
       "</tr>\n",
       "<tr>\n",
       "  <th>C(race)[T.3]</th> <td>   -0.5774</td> <td>    0.159</td> <td>   -3.641</td> <td> 0.000</td> <td>   -0.888</td> <td>   -0.267</td>\n",
       "</tr>\n",
       "<tr>\n",
       "  <th>age_r</th>        <td>    0.2374</td> <td>    0.080</td> <td>    2.957</td> <td> 0.003</td> <td>    0.080</td> <td>    0.395</td>\n",
       "</tr>\n",
       "<tr>\n",
       "  <th>age2</th>         <td>   -0.0035</td> <td>    0.001</td> <td>   -2.895</td> <td> 0.004</td> <td>   -0.006</td> <td>   -0.001</td>\n",
       "</tr>\n",
       "<tr>\n",
       "  <th>totincr</th>      <td>   -0.2956</td> <td>    0.015</td> <td>  -20.012</td> <td> 0.000</td> <td>   -0.325</td> <td>   -0.267</td>\n",
       "</tr>\n",
       "<tr>\n",
       "  <th>educat</th>       <td>   -0.0168</td> <td>    0.022</td> <td>   -0.771</td> <td> 0.441</td> <td>   -0.060</td> <td>    0.026</td>\n",
       "</tr>\n",
       "<tr>\n",
       "   <th>rmarital=6</th>     <th>coef</th>     <th>std err</th>      <th>z</th>      <th>P>|z|</th>  <th>[0.025</th>    <th>0.975]</th>  \n",
       "</tr>\n",
       "<tr>\n",
       "  <th>Intercept</th>    <td>    7.9580</td> <td>    0.820</td> <td>    9.702</td> <td> 0.000</td> <td>    6.350</td> <td>    9.566</td>\n",
       "</tr>\n",
       "<tr>\n",
       "  <th>C(race)[T.2]</th> <td>   -2.1845</td> <td>    0.081</td> <td>  -27.052</td> <td> 0.000</td> <td>   -2.343</td> <td>   -2.026</td>\n",
       "</tr>\n",
       "<tr>\n",
       "  <th>C(race)[T.3]</th> <td>   -1.9520</td> <td>    0.139</td> <td>  -14.054</td> <td> 0.000</td> <td>   -2.224</td> <td>   -1.680</td>\n",
       "</tr>\n",
       "<tr>\n",
       "  <th>age_r</th>        <td>   -0.2042</td> <td>    0.052</td> <td>   -3.931</td> <td> 0.000</td> <td>   -0.306</td> <td>   -0.102</td>\n",
       "</tr>\n",
       "<tr>\n",
       "  <th>age2</th>         <td>    0.0017</td> <td>    0.001</td> <td>    2.134</td> <td> 0.033</td> <td>    0.000</td> <td>    0.003</td>\n",
       "</tr>\n",
       "<tr>\n",
       "  <th>totincr</th>      <td>   -0.2936</td> <td>    0.012</td> <td>  -25.098</td> <td> 0.000</td> <td>   -0.317</td> <td>   -0.271</td>\n",
       "</tr>\n",
       "<tr>\n",
       "  <th>educat</th>       <td>   -0.0771</td> <td>    0.018</td> <td>   -4.292</td> <td> 0.000</td> <td>   -0.112</td> <td>   -0.042</td>\n",
       "</tr>\n",
       "</table>"
      ],
      "text/plain": [
       "<class 'statsmodels.iolib.summary.Summary'>\n",
       "\"\"\"\n",
       "                          MNLogit Regression Results                          \n",
       "==============================================================================\n",
       "Dep. Variable:               rmarital   No. Observations:                 8781\n",
       "Model:                        MNLogit   Df Residuals:                     8746\n",
       "Method:                           MLE   Df Model:                           30\n",
       "Date:                Sat, 22 Jan 2022   Pseudo R-squ.:                  0.1699\n",
       "Time:                        00:19:09   Log-Likelihood:                -9474.8\n",
       "converged:                       True   LL-Null:                       -11414.\n",
       "Covariance Type:            nonrobust   LLR p-value:                     0.000\n",
       "================================================================================\n",
       "  rmarital=2       coef    std err          z      P>|z|      [0.025      0.975]\n",
       "--------------------------------------------------------------------------------\n",
       "Intercept        9.0728      0.811     11.191      0.000       7.484      10.662\n",
       "C(race)[T.2]    -0.9328      0.089    -10.447      0.000      -1.108      -0.758\n",
       "C(race)[T.3]    -0.6251      0.138     -4.538      0.000      -0.895      -0.355\n",
       "age_r           -0.3616      0.051     -7.065      0.000      -0.462      -0.261\n",
       "age2             0.0048      0.001      5.993      0.000       0.003       0.006\n",
       "totincr         -0.1290      0.012    -11.063      0.000      -0.152      -0.106\n",
       "educat          -0.2020      0.019    -10.636      0.000      -0.239      -0.165\n",
       "--------------------------------------------------------------------------------\n",
       "  rmarital=3       coef    std err          z      P>|z|      [0.025      0.975]\n",
       "--------------------------------------------------------------------------------\n",
       "Intercept        3.2123      3.025      1.062      0.288      -2.717       9.142\n",
       "C(race)[T.2]    -0.3721      0.243     -1.534      0.125      -0.848       0.103\n",
       "C(race)[T.3]     0.1692      0.341      0.496      0.620      -0.500       0.838\n",
       "age_r           -0.3362      0.177     -1.900      0.057      -0.683       0.011\n",
       "age2             0.0067      0.003      2.638      0.008       0.002       0.012\n",
       "totincr         -0.3249      0.032    -10.060      0.000      -0.388      -0.262\n",
       "educat          -0.1036      0.049     -2.113      0.035      -0.200      -0.008\n",
       "--------------------------------------------------------------------------------\n",
       "  rmarital=4       coef    std err          z      P>|z|      [0.025      0.975]\n",
       "--------------------------------------------------------------------------------\n",
       "Intercept       -3.4092      1.208     -2.822      0.005      -5.777      -1.041\n",
       "C(race)[T.2]    -0.3069      0.094     -3.261      0.001      -0.491      -0.122\n",
       "C(race)[T.3]    -0.8989      0.182     -4.951      0.000      -1.255      -0.543\n",
       "age_r            0.1089      0.071      1.529      0.126      -0.031       0.248\n",
       "age2            -0.0006      0.001     -0.616      0.538      -0.003       0.001\n",
       "totincr         -0.2289      0.012    -19.522      0.000      -0.252      -0.206\n",
       "educat           0.0677      0.017      3.998      0.000       0.035       0.101\n",
       "--------------------------------------------------------------------------------\n",
       "  rmarital=5       coef    std err          z      P>|z|      [0.025      0.975]\n",
       "--------------------------------------------------------------------------------\n",
       "Intercept       -2.8398      1.320     -2.152      0.031      -5.427      -0.253\n",
       "C(race)[T.2]    -1.0473      0.105     -9.981      0.000      -1.253      -0.842\n",
       "C(race)[T.3]    -0.5774      0.159     -3.641      0.000      -0.888      -0.267\n",
       "age_r            0.2374      0.080      2.957      0.003       0.080       0.395\n",
       "age2            -0.0035      0.001     -2.895      0.004      -0.006      -0.001\n",
       "totincr         -0.2956      0.015    -20.012      0.000      -0.325      -0.267\n",
       "educat          -0.0168      0.022     -0.771      0.441      -0.060       0.026\n",
       "--------------------------------------------------------------------------------\n",
       "  rmarital=6       coef    std err          z      P>|z|      [0.025      0.975]\n",
       "--------------------------------------------------------------------------------\n",
       "Intercept        7.9580      0.820      9.702      0.000       6.350       9.566\n",
       "C(race)[T.2]    -2.1845      0.081    -27.052      0.000      -2.343      -2.026\n",
       "C(race)[T.3]    -1.9520      0.139    -14.054      0.000      -2.224      -1.680\n",
       "age_r           -0.2042      0.052     -3.931      0.000      -0.306      -0.102\n",
       "age2             0.0017      0.001      2.134      0.033       0.000       0.003\n",
       "totincr         -0.2936      0.012    -25.098      0.000      -0.317      -0.271\n",
       "educat          -0.0771      0.018     -4.292      0.000      -0.112      -0.042\n",
       "================================================================================\n",
       "\"\"\""
      ]
     },
     "execution_count": 94,
     "metadata": {},
     "output_type": "execute_result"
    }
   ],
   "source": [
    "# Solution\n",
    "\n",
    "# Here's the best model I could find.\n",
    "\n",
    "formula='rmarital ~ age_r + age2 + C(race) + totincr + educat'\n",
    "model = smf.mnlogit(formula, data=join)\n",
    "results = model.fit()\n",
    "results.summary()"
   ]
  },
  {
   "cell_type": "markdown",
   "metadata": {},
   "source": [
    "Make a prediction for a woman who is 25 years old, white, and a high\n",
    "school graduate whose annual household income is about $45,000."
   ]
  },
  {
   "cell_type": "code",
   "execution_count": null,
   "metadata": {},
   "outputs": [],
   "source": [
    "# Solution\n",
    "\n",
    "# This person has a 75% chance of being currently married, \n",
    "# a 13% chance of being \"not married but living with opposite \n",
    "# sex partner\", etc.\n",
    "\n",
    "columns = ['age_r', 'age2', 'race', 'totincr', 'educat']\n",
    "new = pd.DataFrame([[25, 25**2, 2, 11, 12]], columns=columns)\n",
    "results.predict(new)"
   ]
  }
 ],
 "metadata": {
  "kernelspec": {
   "display_name": "Python 3 (ipykernel)",
   "language": "python",
   "name": "python3"
  },
  "language_info": {
   "codemirror_mode": {
    "name": "ipython",
    "version": 3
   },
   "file_extension": ".py",
   "mimetype": "text/x-python",
   "name": "python",
   "nbconvert_exporter": "python",
   "pygments_lexer": "ipython3",
   "version": "3.9.5"
  }
 },
 "nbformat": 4,
 "nbformat_minor": 4
}
