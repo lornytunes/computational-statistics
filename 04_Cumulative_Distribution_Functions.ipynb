{
 "cells": [
  {
   "cell_type": "markdown",
   "metadata": {},
   "source": [
    "# Cumulative distribution functions"
   ]
  },
  {
   "cell_type": "code",
   "execution_count": null,
   "metadata": {},
   "outputs": [],
   "source": [
    "import sys\n",
    "sys.path.append('lib')"
   ]
  },
  {
   "cell_type": "code",
   "execution_count": null,
   "metadata": {},
   "outputs": [],
   "source": [
    "from typing import List, Tuple\n",
    "from collections import Counter\n",
    "import bisect"
   ]
  },
  {
   "cell_type": "code",
   "execution_count": null,
   "metadata": {},
   "outputs": [],
   "source": [
    "import numpy as np\n",
    "import pandas as pd\n",
    "\n",
    "import nsfg"
   ]
  },
  {
   "cell_type": "code",
   "execution_count": null,
   "metadata": {},
   "outputs": [],
   "source": [
    "import seaborn as sns\n",
    "from IPython.core.pylabtools import figsize\n",
    "sns.set_theme()\n",
    "figsize(10, 6)"
   ]
  },
  {
   "cell_type": "markdown",
   "metadata": {},
   "source": [
    "## The limits of PMFs"
   ]
  },
  {
   "cell_type": "code",
   "execution_count": null,
   "metadata": {},
   "outputs": [],
   "source": [
    "live = nsfg.read_live_fem_preg()"
   ]
  },
  {
   "cell_type": "code",
   "execution_count": null,
   "metadata": {},
   "outputs": [],
   "source": [
    "live.birthcat.value_counts().sort_index()"
   ]
  },
  {
   "cell_type": "markdown",
   "metadata": {},
   "source": [
    "Remove the na values from `totalwgt_lb`"
   ]
  },
  {
   "cell_type": "code",
   "execution_count": null,
   "metadata": {},
   "outputs": [],
   "source": [
    "live[live.totalwgt_lb.notna()].birthcat.value_counts().sort_index()"
   ]
  },
  {
   "cell_type": "code",
   "execution_count": null,
   "metadata": {},
   "outputs": [],
   "source": [
    "# lets remove them\n",
    "live.dropna(subset=('totalwgt_lb',), inplace=True)"
   ]
  },
  {
   "cell_type": "code",
   "execution_count": null,
   "metadata": {},
   "outputs": [],
   "source": [
    "live.birthcat.value_counts().sort_index()"
   ]
  },
  {
   "cell_type": "markdown",
   "metadata": {},
   "source": [
    "And compute the distribution of birth weight for first babies and others."
   ]
  },
  {
   "cell_type": "code",
   "execution_count": null,
   "metadata": {},
   "outputs": [],
   "source": [
    "p = sns.histplot(\n",
    "    data=live,\n",
    "    x='totalwgt_lb',\n",
    "    binwidth=0.2,\n",
    "    stat='probability',\n",
    "    hue='birthcat',\n",
    "    multiple='dodge'\n",
    ")\n",
    "p.set(\n",
    "    xlabel = 'Weight (lbs)',\n",
    "    title = 'Distribution of birth weights for first born babies and others'\n",
    ");\n",
    "p.get_legend().set_title('Birth category');"
   ]
  },
  {
   "cell_type": "markdown",
   "metadata": {},
   "source": [
    "We can plot the PMFs on the same scale, but it is hard to see if there is a difference.\n",
    "\n",
    "This problems can be mitigated by binning the data; that is, dividing the range of values into non-overlapping intervals and counting the number of values in each bin. Binning can be useful, but it is tricky to get the size of the bins right. If they are big enough to smooth out noise, they might also smooth out useful information."
   ]
  },
  {
   "cell_type": "markdown",
   "metadata": {},
   "source": [
    "## Percentiles\n",
    "\n",
    "`percentile_rank` computes the fraction of `scores` less than or equal to `your_score`."
   ]
  },
  {
   "cell_type": "code",
   "execution_count": null,
   "metadata": {},
   "outputs": [],
   "source": [
    "def percentile_rank(scores: List[int], your_score: int) -> int:\n",
    "    '''\n",
    "    Returns the percentage of values less than or equal to you score\n",
    "    '''\n",
    "    count = 0\n",
    "    for score in scores:\n",
    "        if score <= your_score:\n",
    "            count += 1\n",
    "    percentile_rank = 100 * count / len(scores)\n",
    "    return percentile_rank"
   ]
  },
  {
   "cell_type": "markdown",
   "metadata": {},
   "source": [
    "If this is the list of scores."
   ]
  },
  {
   "cell_type": "code",
   "execution_count": null,
   "metadata": {},
   "outputs": [],
   "source": [
    "t = [55, 66, 77, 88, 99]"
   ]
  },
  {
   "cell_type": "markdown",
   "metadata": {},
   "source": [
    "And you got the 88, your percentile rank is 80."
   ]
  },
  {
   "cell_type": "code",
   "execution_count": null,
   "metadata": {},
   "outputs": [],
   "source": [
    "percentile_rank(t, 88)"
   ]
  },
  {
   "cell_type": "markdown",
   "metadata": {},
   "source": [
    "`percentile` takes a percentile rank and computes the corresponding percentile. "
   ]
  },
  {
   "cell_type": "code",
   "execution_count": null,
   "metadata": {},
   "outputs": [],
   "source": [
    "def percentile(scores, rank):\n",
    "    scores.sort()\n",
    "    for score in scores:\n",
    "        if percentile_rank(scores, score) >= rank:\n",
    "            return score"
   ]
  },
  {
   "cell_type": "markdown",
   "metadata": {},
   "source": [
    "The median is the 50th percentile, which is 77."
   ]
  },
  {
   "cell_type": "code",
   "execution_count": null,
   "metadata": {},
   "outputs": [],
   "source": [
    "percentile(t, 50)"
   ]
  },
  {
   "cell_type": "markdown",
   "metadata": {},
   "source": [
    "Here's a more efficient way to compute percentiles."
   ]
  },
  {
   "cell_type": "code",
   "execution_count": null,
   "metadata": {},
   "outputs": [],
   "source": [
    "def percentile(scores, rank):\n",
    "    scores.sort()\n",
    "    index = rank * (len(scores)-1) // 100\n",
    "    return scores[index]"
   ]
  },
  {
   "cell_type": "markdown",
   "metadata": {},
   "source": [
    "Let's hope we get the same answer."
   ]
  },
  {
   "cell_type": "code",
   "execution_count": null,
   "metadata": {},
   "outputs": [],
   "source": [
    "percentile(t, 50)"
   ]
  },
  {
   "cell_type": "markdown",
   "metadata": {},
   "source": [
    "However, `percentile` should not be sorting the scores - its inefficient and qualifies as a side effect. Instead it should be up to the client to keep maintain its scores in sorted order"
   ]
  },
  {
   "cell_type": "code",
   "execution_count": null,
   "metadata": {},
   "outputs": [],
   "source": [
    "def percentile(scores, rank):\n",
    "    index = rank * (len(scores)-1) // 100\n",
    "    return scores[index]"
   ]
  },
  {
   "cell_type": "code",
   "execution_count": null,
   "metadata": {},
   "outputs": [],
   "source": [
    "t.sort()"
   ]
  },
  {
   "cell_type": "code",
   "execution_count": null,
   "metadata": {},
   "outputs": [],
   "source": [
    "percentile(t, 50)"
   ]
  },
  {
   "cell_type": "markdown",
   "metadata": {},
   "source": [
    "The Cumulative Distribution Function (CDF) is almost the same as `percentile_rank`.  The only difference is that the result is 0-1 instead of 0-100."
   ]
  },
  {
   "cell_type": "code",
   "execution_count": null,
   "metadata": {},
   "outputs": [],
   "source": [
    "def eval_cdf(sample: List[int], x: int) -> float:\n",
    "    count = 0.0\n",
    "    for value in sample:\n",
    "        if value <= x:\n",
    "            count += 1\n",
    "\n",
    "    prob = count / len(sample)\n",
    "    return prob"
   ]
  },
  {
   "cell_type": "markdown",
   "metadata": {},
   "source": [
    "In this list"
   ]
  },
  {
   "cell_type": "code",
   "execution_count": null,
   "metadata": {},
   "outputs": [],
   "source": [
    "t = [1, 2, 2, 3, 5]"
   ]
  },
  {
   "cell_type": "markdown",
   "metadata": {},
   "source": [
    "We can evaluate the CDF for various values:"
   ]
  },
  {
   "cell_type": "code",
   "execution_count": null,
   "metadata": {},
   "outputs": [],
   "source": [
    "values = range(0, 6)\n",
    "for value in values:\n",
    "    print(f'cdf({value}) = {eval_cdf(t, value)}')"
   ]
  },
  {
   "cell_type": "markdown",
   "metadata": {},
   "source": [
    "Here's an example using real data, the distribution of pregnancy length for live births."
   ]
  },
  {
   "cell_type": "code",
   "execution_count": null,
   "metadata": {},
   "outputs": [],
   "source": [
    "p = sns.ecdfplot(\n",
    "    data=live,\n",
    "    x='totalwgt_lb'\n",
    ")\n",
    "p.set(\n",
    "    xlabel = 'Weight (in lbs)'\n",
    ");"
   ]
  },
  {
   "cell_type": "code",
   "execution_count": null,
   "metadata": {},
   "outputs": [],
   "source": [
    "p = sns.ecdfplot(\n",
    "    data=live,\n",
    "    x='totalwgt_lb',\n",
    "    hue='birthcat'\n",
    ")\n",
    "p.set(\n",
    "    xlabel = 'Birth weight (in lbs)'\n",
    ");\n",
    "p.get_legend().set_title('Birth category');"
   ]
  },
  {
   "cell_type": "markdown",
   "metadata": {},
   "source": [
    "## Implementation"
   ]
  },
  {
   "cell_type": "markdown",
   "metadata": {},
   "source": [
    "Any empirical CDF implementation has to be able to answer two queries:\n",
    "\n",
    "- `percentile`: given a value x, what percentage of distribution is at or below x\n",
    "- `quantile`: given a percentage p, return a value x such that p % of the distribution is at or below x\n",
    "\n",
    "Lets use are simple array of numbers to illustrate this"
   ]
  },
  {
   "cell_type": "code",
   "execution_count": null,
   "metadata": {},
   "outputs": [],
   "source": [
    "t"
   ]
  },
  {
   "cell_type": "markdown",
   "metadata": {},
   "source": [
    "The key to implementating this is to have the values in sorted order and the probabilities are the cumulative values of the normalized frequencies.\n",
    "\n",
    "We will use the aggregation functionality of the `Counter` class to compute our values and frequencies"
   ]
  },
  {
   "cell_type": "code",
   "execution_count": null,
   "metadata": {},
   "outputs": [],
   "source": [
    "counter = Counter(t)\n",
    "counter"
   ]
  },
  {
   "cell_type": "markdown",
   "metadata": {},
   "source": [
    "return as a list of tuples sorted by value (not frequency)"
   ]
  },
  {
   "cell_type": "code",
   "execution_count": null,
   "metadata": {},
   "outputs": [],
   "source": [
    "sorted(counter.items())"
   ]
  },
  {
   "cell_type": "markdown",
   "metadata": {},
   "source": [
    "split into separate lists of values and frequencies"
   ]
  },
  {
   "cell_type": "code",
   "execution_count": null,
   "metadata": {},
   "outputs": [],
   "source": [
    "values, freqs = zip(*sorted(Counter(t).items()))\n",
    "print(f'Values: {values}, Frequencies: {freqs}')"
   ]
  },
  {
   "cell_type": "markdown",
   "metadata": {},
   "source": [
    "Take the cumulative sum of frequencies"
   ]
  },
  {
   "cell_type": "code",
   "execution_count": null,
   "metadata": {},
   "outputs": [],
   "source": [
    "probs = np.cumsum(freqs, dtype=np.float64)\n",
    "print(probs)"
   ]
  },
  {
   "cell_type": "markdown",
   "metadata": {},
   "source": [
    "And normalize them so they are expressed as a proportion of the largest value"
   ]
  },
  {
   "cell_type": "code",
   "execution_count": null,
   "metadata": {},
   "outputs": [],
   "source": [
    "probs /= probs[-1]"
   ]
  },
  {
   "cell_type": "code",
   "execution_count": null,
   "metadata": {},
   "outputs": [],
   "source": [
    "list(zip(values, np.round(probs, 2)))"
   ]
  },
  {
   "cell_type": "markdown",
   "metadata": {},
   "source": [
    "So you can see that 80% (or 4/5) of `t` is less than or equal to 3, and conversely 3 is the value that is equal to or larger than 80% of `t`\n",
    "\n",
    "Now because are values are in sorted order we can use bisection to find the position of any given value and use that index to find the corresponding probablity"
   ]
  },
  {
   "cell_type": "code",
   "execution_count": null,
   "metadata": {},
   "outputs": [],
   "source": [
    "# bisect returns the position after its index value, so subtract 1\n",
    "for x in values:\n",
    "    idx = bisect.bisect(values, x)\n",
    "    print(f'{x} -> Pos: {idx}, Prob: {probs[idx - 1]}')"
   ]
  },
  {
   "cell_type": "markdown",
   "metadata": {},
   "source": [
    "If the value doesn't exist `bisect` returns the index of the value immediately before it"
   ]
  },
  {
   "cell_type": "code",
   "execution_count": null,
   "metadata": {},
   "outputs": [],
   "source": [
    "for x in (4, 6):\n",
    "    idx = bisect.bisect(values, x)\n",
    "    print(f'{x} -> Pos: {idx}, Prob: {probs[idx - 1]}')"
   ]
  },
  {
   "cell_type": "markdown",
   "metadata": {},
   "source": [
    "We use `bisect_left` for mapping probabilities back to values, which returns the index of where to"
   ]
  },
  {
   "cell_type": "code",
   "execution_count": null,
   "metadata": {},
   "outputs": [],
   "source": [
    "bisect.bisect_left(probs, 0.1)"
   ]
  },
  {
   "cell_type": "code",
   "execution_count": null,
   "metadata": {},
   "outputs": [],
   "source": [
    "for p in np.linspace(0.1, 1, 10):\n",
    "    idx = bisect.bisect_left(probs, p)\n",
    "    print(f'{p:0.2f} -> Pos: {idx}, Val: {values[idx]}')"
   ]
  },
  {
   "cell_type": "markdown",
   "metadata": {},
   "source": [
    "To vectorize these operations we can use `np.searchsorted`"
   ]
  },
  {
   "cell_type": "code",
   "execution_count": null,
   "metadata": {},
   "outputs": [],
   "source": [
    "indices = np.searchsorted(values, [1, 2, 3], side='right')\n",
    "probs[indices]"
   ]
  },
  {
   "cell_type": "markdown",
   "metadata": {},
   "source": [
    "We can now create our initial implementation"
   ]
  },
  {
   "cell_type": "code",
   "execution_count": null,
   "metadata": {},
   "outputs": [],
   "source": [
    "type(probs)"
   ]
  },
  {
   "cell_type": "code",
   "execution_count": null,
   "metadata": {},
   "outputs": [],
   "source": [
    "class Cdf:\n",
    "    \n",
    "    @classmethod\n",
    "    def from_hist(cls, values, freqs):\n",
    "        # convert frequencies to probabilities\n",
    "        probs = np.cumsum(freqs, dtype=np.float64)\n",
    "        # and normalize\n",
    "        probs /= probs[-1]\n",
    "        # call constructor\n",
    "        return cls(np.asarray(values), probs)\n",
    "    \n",
    "    @classmethod\n",
    "    def from_seq(cls, x):\n",
    "        # x may contain duplicates\n",
    "        values, freqs = zip(*sorted(Counter(x).items()))\n",
    "        return cls.from_hist(values, freqs)\n",
    "    \n",
    "    def __init__(self, xs: np.ndarray, ps: np.ndarray):\n",
    "        # values\n",
    "        self.xs = xs\n",
    "        # cumulative probabilities\n",
    "        self.ps = ps\n",
    "        \n",
    "    \n",
    "    def prob(self, x) -> float:\n",
    "        \"\"\"\n",
    "        Returns CDF(x), the probability that corresponds to value x.\n",
    "\n",
    "        Args:\n",
    "            x: number\n",
    "\n",
    "        Returns:\n",
    "            float probability\n",
    "        \"\"\"\n",
    "        if x < self.xs[0]:\n",
    "            return 0\n",
    "        # find x in our values\n",
    "        index = bisect.bisect(self.xs, x)\n",
    "        # return the corresponding probability\n",
    "        return self.ps[index-1]\n",
    "    \n",
    "    def probs(self, xs: np.array) -> np.array:\n",
    "        \"\"\"\n",
    "        Gets probabilities for a sequence of values.\n",
    "\n",
    "        xs: any sequence that can be converted to NumPy array\n",
    "\n",
    "        returns: NumPy array of cumulative probabilities\n",
    "        \"\"\"\n",
    "        index = np.searchsorted(self.xs, xs, side='right')\n",
    "        ps = self.ps[index-1]\n",
    "        # anything less than our smallest value is zero\n",
    "        ps[xs < self.xs[0]] = 0\n",
    "        return ps\n",
    "    \n",
    "    def value(self, p: np.float64):\n",
    "        \"\"\"\n",
    "        Returns InverseCDF(p), the value that corresponds to probability p.\n",
    "\n",
    "        Args:\n",
    "            p: number in the range [0, 1]\n",
    "\n",
    "        Returns:\n",
    "            number value\n",
    "        \"\"\"\n",
    "        if p < 0 or p > 1:\n",
    "            raise ValueError('Probability p must be in range [0, 1]')\n",
    "\n",
    "        index = bisect.bisect_left(self.ps, p)\n",
    "        return self.xs[index]\n",
    "    \n",
    "    def values(self, ps) -> np.array:\n",
    "        \"\"\"\n",
    "        Returns InverseCDF(p), the value that corresponds to probability p.\n",
    "\n",
    "        Args:\n",
    "            ps: NumPy array of numbers in the range [0, 1]\n",
    "\n",
    "        Returns:\n",
    "            NumPy array of values\n",
    "        \"\"\"\n",
    "\n",
    "        ps = np.asarray(ps)\n",
    "        \n",
    "        if np.any(ps < 0) or np.any(ps > 1):\n",
    "            raise ValueError('Probability p must be in range [0, 1]')\n",
    "\n",
    "        indices = np.searchsorted(self.ps, ps, side='left')\n",
    "        return self.xs[indices]\n",
    "    \n",
    "    def percentile(self, p: np.int64) -> np.number:\n",
    "        \"\"\"\n",
    "        Returns the value that corresponds to percentile p (between 0 and 100).\n",
    "\n",
    "        Args:\n",
    "            p: number in the range [0, 100]\n",
    "\n",
    "        Returns:\n",
    "            number value\n",
    "        \"\"\"\n",
    "        return self.value(p / 100)\n",
    "    \n",
    "    def rank(self, x) -> np.number:\n",
    "        \"\"\"\n",
    "        Returns the percentile rank of the value x.\n",
    "\n",
    "        x: potential value in the CDF\n",
    "\n",
    "        returns: percentile rank in the range 0 to 100\n",
    "        \"\"\"\n",
    "        return self.prob(x) * 100\n",
    "    \n",
    "    def sample(self, n: int):\n",
    "        \"\"\"\n",
    "        Returns a list of n values chosen at random from the cdf.\n",
    "        \n",
    "        n: int length of the sample\n",
    "        returns: NumPy array\n",
    "        \"\"\"\n",
    "        \n",
    "        # n values between 0 and 1\n",
    "        ps = np.random.random(n)\n",
    "        # get the values they correspond to\n",
    "        return self.values(ps)\n",
    "    \n",
    "    def mean(self) -> float:\n",
    "        \"\"\"\n",
    "        Computes the mean of a CDF.\n",
    "        \n",
    "        sum(x * diff(p))\n",
    "\n",
    "        Returns:\n",
    "            float mean\n",
    "        \"\"\"\n",
    "        old_p = 0\n",
    "        total = 0\n",
    "        for x, new_p in zip(self.xs, self.ps):\n",
    "            # compute dp\n",
    "            p = new_p - old_p\n",
    "            total += p * x\n",
    "            old_p = new_p\n",
    "        return total\n",
    "    \n",
    "    def ci(self, percentage=90) -> Tuple[float, float]:\n",
    "        \"\"\"Computes the central credible interval.\n",
    "\n",
    "        If percentage=90, computes the 90% CI.\n",
    "\n",
    "        Args:\n",
    "            percentage: float between 0 and 100\n",
    "\n",
    "        Returns:\n",
    "            sequence of two floats, low and high\n",
    "        \"\"\"\n",
    "        prob = (1 - percentage / 100) / 2\n",
    "        return self.value(prob), self.value(1 - prob)\n",
    "    \n",
    "    def items(self):\n",
    "        \"\"\"\n",
    "        Returns a sorted sequence of (value, probability) pairs.\n",
    "        \"\"\"\n",
    "        a = self.ps\n",
    "        # shift probabilities one place to the right\n",
    "        # e.g [0, 0.1, 0.2, 0.3] becomes [0.3, 0, 0.1, 0.2]\n",
    "        b = np.roll(a, 1)\n",
    "        b[0] = 0\n",
    "        return zip(self.xs, a-b)\n",
    "    \n",
    "    @property\n",
    "    def series(self) -> pd.Series:\n",
    "        '''\n",
    "        Return our value and cumulative probabilities as a pandas series\n",
    "        '''\n",
    "        return pd.Series(data=self.ps, index=self.xs)\n",
    "    \n",
    "    def copy(self):\n",
    "        return self.__class__(self.xs.copy(), self.ps.copy())\n",
    "    \n",
    "    def compliment(self):\n",
    "        '''\n",
    "        Returns 1-CDF\n",
    "        '''\n",
    "        return self.__class__(self.xs.copy(), 1-self.ps)\n",
    "    \n",
    "    def as_dataframe(self) -> pd.DataFrame:\n",
    "        return pd.DataFrame(dict(\n",
    "            x=self.xs,\n",
    "            p=self.ps\n",
    "        ))\n",
    "    \n",
    "    def __len__(self):\n",
    "        return len(self.xs)"
   ]
  },
  {
   "cell_type": "code",
   "execution_count": null,
   "metadata": {},
   "outputs": [],
   "source": [
    "cdf = Cdf.from_seq(live.prglngth)"
   ]
  },
  {
   "cell_type": "markdown",
   "metadata": {},
   "source": [
    "`Cdf` provides `Prob`, which evaluates the CDF; that is, it computes the fraction of values less than or equal to the given value.  For example, 94% of pregnancy lengths are less than or equal to 41."
   ]
  },
  {
   "cell_type": "code",
   "execution_count": null,
   "metadata": {},
   "outputs": [],
   "source": [
    "live.prglngth.mean()"
   ]
  },
  {
   "cell_type": "markdown",
   "metadata": {},
   "source": [
    "`Value` evaluates the inverse CDF; given a fraction, it computes the corresponding value.  For example, the median is the value that corresponds to 0.5."
   ]
  },
  {
   "cell_type": "code",
   "execution_count": null,
   "metadata": {},
   "outputs": [],
   "source": [
    "cdf.value(0.5)"
   ]
  },
  {
   "cell_type": "markdown",
   "metadata": {},
   "source": [
    "In general, CDFs are a good way to visualize distributions.  They are not as noisy as PMFs, and if you plot several CDFs on the same axes, any differences between them are apparent."
   ]
  },
  {
   "cell_type": "code",
   "execution_count": null,
   "metadata": {},
   "outputs": [],
   "source": [
    "p = sns.lineplot(\n",
    "    x=cdf.xs,\n",
    "    y=cdf.ps,\n",
    "    drawstyle='steps-post'\n",
    ");\n",
    "p.set(\n",
    "    xlabel = 'Pregancy length (weeks)'\n",
    ");"
   ]
  },
  {
   "cell_type": "markdown",
   "metadata": {},
   "source": [
    "Lets look at the birth weights"
   ]
  },
  {
   "cell_type": "code",
   "execution_count": null,
   "metadata": {},
   "outputs": [],
   "source": [
    "cdf = Cdf.from_seq(live.totalwgt_lb)"
   ]
  },
  {
   "cell_type": "markdown",
   "metadata": {},
   "source": [
    "Again, the median is the 50th percentile."
   ]
  },
  {
   "cell_type": "code",
   "execution_count": null,
   "metadata": {},
   "outputs": [],
   "source": [
    "cdf.percentile(50)"
   ]
  },
  {
   "cell_type": "markdown",
   "metadata": {},
   "source": [
    "The interquartile range is the interval from the 25th to 75th percentile."
   ]
  },
  {
   "cell_type": "code",
   "execution_count": null,
   "metadata": {},
   "outputs": [],
   "source": [
    "(cdf.percentile(25), cdf.percentile(75))"
   ]
  },
  {
   "cell_type": "markdown",
   "metadata": {},
   "source": [
    "We can use the CDF to look up the percentile rank of a particular value.  For example, my daughter was 8.2 pounds at birth, which is near the 77th percentile."
   ]
  },
  {
   "cell_type": "code",
   "execution_count": null,
   "metadata": {},
   "outputs": [],
   "source": [
    "cdf.rank(8.2)"
   ]
  },
  {
   "cell_type": "markdown",
   "metadata": {},
   "source": [
    "If we draw a random sample from the observed weights and map each weigh to its percentile rank."
   ]
  },
  {
   "cell_type": "code",
   "execution_count": null,
   "metadata": {},
   "outputs": [],
   "source": [
    "sample = np.random.choice(live.totalwgt_lb, 100, replace=True)\n",
    "ranks = [cdf.rank(x) for x in sample]"
   ]
  },
  {
   "cell_type": "markdown",
   "metadata": {},
   "source": [
    "The resulting list of ranks should be approximately uniform from 0-1."
   ]
  },
  {
   "cell_type": "code",
   "execution_count": null,
   "metadata": {},
   "outputs": [],
   "source": [
    "rank_cdf = Cdf.from_seq(ranks)"
   ]
  },
  {
   "cell_type": "code",
   "execution_count": null,
   "metadata": {},
   "outputs": [],
   "source": [
    "p = sns.lineplot(\n",
    "    x = rank_cdf.xs,\n",
    "    y = rank_cdf.ps,\n",
    "    drawstyle='steps-post'\n",
    ")\n",
    "p.set(\n",
    "    xlabel = 'Percentile rank',\n",
    "    ylabel = 'CDF'\n",
    ");"
   ]
  },
  {
   "cell_type": "markdown",
   "metadata": {},
   "source": [
    "That observation is the basis of `Cdf.sample`, which generates a random sample from a Cdf."
   ]
  },
  {
   "cell_type": "code",
   "execution_count": null,
   "metadata": {},
   "outputs": [],
   "source": [
    "resample = Cdf.from_seq(cdf.sample(1000))"
   ]
  },
  {
   "cell_type": "code",
   "execution_count": null,
   "metadata": {},
   "outputs": [],
   "source": [
    "resample.as_dataframe()"
   ]
  },
  {
   "cell_type": "markdown",
   "metadata": {},
   "source": [
    "Compare this with the original"
   ]
  },
  {
   "cell_type": "code",
   "execution_count": null,
   "metadata": {},
   "outputs": [],
   "source": [
    "weights = np.linspace(0, 16, len(cdf))\n",
    "df = pd.DataFrame({\n",
    "    'weight': weights,\n",
    "    'source': cdf.probs(weights),\n",
    "    'sampled': resample.probs(weights)\n",
    "})"
   ]
  },
  {
   "cell_type": "code",
   "execution_count": null,
   "metadata": {},
   "outputs": [],
   "source": [
    "df"
   ]
  },
  {
   "cell_type": "code",
   "execution_count": null,
   "metadata": {},
   "outputs": [],
   "source": [
    "df_long = df.melt(\n",
    "    id_vars = 'weight',\n",
    "    value_vars = ['source', 'sampled'],\n",
    "    value_name = 'probability',\n",
    "    var_name = 'cdf'\n",
    ")\n",
    "df_long"
   ]
  },
  {
   "cell_type": "code",
   "execution_count": null,
   "metadata": {},
   "outputs": [],
   "source": [
    "p = sns.lineplot(\n",
    "    data=df_long,\n",
    "    x='weight',\n",
    "    y='probability',\n",
    "    hue='cdf'\n",
    ")\n",
    "p.set(\n",
    "    xlabel = 'Pregancy length (in weeks)',\n",
    "    ylabel = 'CDF'\n",
    ");"
   ]
  },
  {
   "cell_type": "markdown",
   "metadata": {},
   "source": [
    "This confirms that the random sample has the same distribution as the original data."
   ]
  },
  {
   "cell_type": "markdown",
   "metadata": {},
   "source": [
    "## Complimentary CDF"
   ]
  },
  {
   "cell_type": "markdown",
   "metadata": {},
   "source": [
    "## Exercises"
   ]
  },
  {
   "cell_type": "markdown",
   "metadata": {},
   "source": [
    "**Exercise:** How much did you weigh at birth? Using the NSFG data (all live births), compute the distribution of birth weights and use it to find your percentile rank. If you were a first baby, find your percentile rank in the distribution for first babies. Otherwise use the distribution for others. If you are in the 90th percentile or higher, call your mother back and apologize."
   ]
  },
  {
   "cell_type": "code",
   "execution_count": null,
   "metadata": {},
   "outputs": [],
   "source": [
    "# Solution goes here\n",
    "first_cdf = Cdf.from_seq(live.totalwgt_lb[live.birthcat == 'firsts'])"
   ]
  },
  {
   "cell_type": "code",
   "execution_count": null,
   "metadata": {},
   "outputs": [],
   "source": [
    "first_cdf.rank(9)"
   ]
  },
  {
   "cell_type": "code",
   "execution_count": null,
   "metadata": {},
   "outputs": [],
   "source": [
    "other_cdf = Cdf.from_seq(live.totalwgt_lb[live.birthcat == 'others'])"
   ]
  },
  {
   "cell_type": "code",
   "execution_count": null,
   "metadata": {},
   "outputs": [],
   "source": [
    "other_cdf.rank(9)"
   ]
  },
  {
   "cell_type": "markdown",
   "metadata": {},
   "source": [
    "**Exercise:** The numbers generated by `numpy.random.random` are supposed to be uniform between 0 and 1; that is, every value in the range should have the same probability.\n",
    "\n",
    "Generate 1000 numbers from `numpy.random.random` and plot their PMF.  What goes wrong?\n",
    "\n",
    "Now plot the CDF. Is the distribution uniform?"
   ]
  },
  {
   "cell_type": "code",
   "execution_count": null,
   "metadata": {},
   "outputs": [],
   "source": [
    "# Solution goes here\n",
    "t = np.random.random(1000)"
   ]
  },
  {
   "cell_type": "code",
   "execution_count": null,
   "metadata": {},
   "outputs": [],
   "source": [
    "# the pmf would be a mess\n",
    "p = sns.histplot(\n",
    "    t,\n",
    "    binwidth=0.01\n",
    ");"
   ]
  },
  {
   "cell_type": "code",
   "execution_count": null,
   "metadata": {},
   "outputs": [],
   "source": [
    "# Solution goes here\n",
    "cdf = Cdf.from_seq(t)"
   ]
  },
  {
   "cell_type": "code",
   "execution_count": null,
   "metadata": {},
   "outputs": [],
   "source": [
    "p = sns.lineplot(\n",
    "    x=cdf.xs,\n",
    "    y=cdf.ps,\n",
    "    drawstyle='steps-post'\n",
    ")\n",
    "p.set(\n",
    "    xlabel = 'U(x)',\n",
    "    ylabel = 'cdf(x)'\n",
    ");"
   ]
  }
 ],
 "metadata": {
  "kernelspec": {
   "display_name": "Python 3 (ipykernel)",
   "language": "python",
   "name": "python3"
  },
  "language_info": {
   "codemirror_mode": {
    "name": "ipython",
    "version": 3
   },
   "file_extension": ".py",
   "mimetype": "text/x-python",
   "name": "python",
   "nbconvert_exporter": "python",
   "pygments_lexer": "ipython3",
   "version": "3.9.5"
  }
 },
 "nbformat": 4,
 "nbformat_minor": 4
}
